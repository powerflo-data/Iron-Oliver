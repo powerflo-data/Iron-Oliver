{
 "cells": [
  {
   "cell_type": "code",
   "execution_count": 124,
   "metadata": {},
   "outputs": [],
   "source": [
    "# Lab 3.08 Prediction Category of a movie"
   ]
  },
  {
   "cell_type": "code",
   "execution_count": 125,
   "metadata": {},
   "outputs": [
    {
     "name": "stdout",
     "output_type": "stream",
     "text": [
      "········\n"
     ]
    }
   ],
   "source": [
    "import pymysql\n",
    "from sqlalchemy import create_engine\n",
    "import pandas as pd\n",
    "import getpass  # To get the password without showing the input\n",
    "password = getpass.getpass()"
   ]
  },
  {
   "cell_type": "code",
   "execution_count": 126,
   "metadata": {},
   "outputs": [],
   "source": [
    "import pandas as pd\n",
    "import numpy as np\n",
    "import matplotlib.pyplot as plt\n",
    "import seaborn as sns\n",
    "pd.set_option('display.max_columns', None)\n",
    "import math\n",
    "import warnings\n",
    "warnings.filterwarnings('ignore')\n",
    "from sklearn import linear_model\n",
    "from sklearn.metrics import mean_squared_error, r2_score\n",
    "from sklearn.model_selection import train_test_split\n",
    "from scipy import stats"
   ]
  },
  {
   "cell_type": "code",
   "execution_count": 127,
   "metadata": {},
   "outputs": [],
   "source": [
    "connection_string = 'mysql+pymysql://root:' + password + '@localhost/sakila'\n",
    "\n",
    "# query = '''select t.type, t.operation, t.amount as t_amount, t.balance, t.k_symbol, l.amount as l_amount, l.duration, l.payments, l.status\n",
    "# from trans t\n",
    "# right join loan l\n",
    "# on t.account_id = l.account_id;'''\n",
    "query_cat = 'select * from category where category_id < 5'\n",
    "query_filmcat = 'select * from film_category where category_id < 5'\n",
    "query_film = '''select * from film f\n",
    "                join film_category fc\n",
    "                on fc.film_id = f.film_id and fc.category_id < 5'''"
   ]
  },
  {
   "cell_type": "code",
   "execution_count": 128,
   "metadata": {},
   "outputs": [
    {
     "data": {
      "text/html": [
       "<div>\n",
       "<style scoped>\n",
       "    .dataframe tbody tr th:only-of-type {\n",
       "        vertical-align: middle;\n",
       "    }\n",
       "\n",
       "    .dataframe tbody tr th {\n",
       "        vertical-align: top;\n",
       "    }\n",
       "\n",
       "    .dataframe thead th {\n",
       "        text-align: right;\n",
       "    }\n",
       "</style>\n",
       "<table border=\"1\" class=\"dataframe\">\n",
       "  <thead>\n",
       "    <tr style=\"text-align: right;\">\n",
       "      <th></th>\n",
       "      <th>category_id</th>\n",
       "      <th>name</th>\n",
       "      <th>last_update</th>\n",
       "    </tr>\n",
       "  </thead>\n",
       "  <tbody>\n",
       "    <tr>\n",
       "      <th>0</th>\n",
       "      <td>1</td>\n",
       "      <td>Action</td>\n",
       "      <td>2006-02-15 04:46:27</td>\n",
       "    </tr>\n",
       "    <tr>\n",
       "      <th>1</th>\n",
       "      <td>2</td>\n",
       "      <td>Animation</td>\n",
       "      <td>2006-02-15 04:46:27</td>\n",
       "    </tr>\n",
       "    <tr>\n",
       "      <th>2</th>\n",
       "      <td>3</td>\n",
       "      <td>Children</td>\n",
       "      <td>2006-02-15 04:46:27</td>\n",
       "    </tr>\n",
       "    <tr>\n",
       "      <th>3</th>\n",
       "      <td>4</td>\n",
       "      <td>Classics</td>\n",
       "      <td>2006-02-15 04:46:27</td>\n",
       "    </tr>\n",
       "  </tbody>\n",
       "</table>\n",
       "</div>"
      ],
      "text/plain": [
       "   category_id       name         last_update\n",
       "0            1     Action 2006-02-15 04:46:27\n",
       "1            2  Animation 2006-02-15 04:46:27\n",
       "2            3   Children 2006-02-15 04:46:27\n",
       "3            4   Classics 2006-02-15 04:46:27"
      ]
     },
     "execution_count": 128,
     "metadata": {},
     "output_type": "execute_result"
    }
   ],
   "source": [
    "data_category = pd.read_sql(query_cat,connection_string)\n",
    "data_category.head()"
   ]
  },
  {
   "cell_type": "code",
   "execution_count": 129,
   "metadata": {},
   "outputs": [
    {
     "data": {
      "text/html": [
       "<div>\n",
       "<style scoped>\n",
       "    .dataframe tbody tr th:only-of-type {\n",
       "        vertical-align: middle;\n",
       "    }\n",
       "\n",
       "    .dataframe tbody tr th {\n",
       "        vertical-align: top;\n",
       "    }\n",
       "\n",
       "    .dataframe thead th {\n",
       "        text-align: right;\n",
       "    }\n",
       "</style>\n",
       "<table border=\"1\" class=\"dataframe\">\n",
       "  <thead>\n",
       "    <tr style=\"text-align: right;\">\n",
       "      <th></th>\n",
       "      <th>film_id</th>\n",
       "      <th>category_id</th>\n",
       "      <th>last_update</th>\n",
       "    </tr>\n",
       "  </thead>\n",
       "  <tbody>\n",
       "    <tr>\n",
       "      <th>0</th>\n",
       "      <td>19</td>\n",
       "      <td>1</td>\n",
       "      <td>2006-02-15 05:07:09</td>\n",
       "    </tr>\n",
       "    <tr>\n",
       "      <th>1</th>\n",
       "      <td>21</td>\n",
       "      <td>1</td>\n",
       "      <td>2006-02-15 05:07:09</td>\n",
       "    </tr>\n",
       "    <tr>\n",
       "      <th>2</th>\n",
       "      <td>29</td>\n",
       "      <td>1</td>\n",
       "      <td>2006-02-15 05:07:09</td>\n",
       "    </tr>\n",
       "    <tr>\n",
       "      <th>3</th>\n",
       "      <td>38</td>\n",
       "      <td>1</td>\n",
       "      <td>2006-02-15 05:07:09</td>\n",
       "    </tr>\n",
       "    <tr>\n",
       "      <th>4</th>\n",
       "      <td>56</td>\n",
       "      <td>1</td>\n",
       "      <td>2006-02-15 05:07:09</td>\n",
       "    </tr>\n",
       "  </tbody>\n",
       "</table>\n",
       "</div>"
      ],
      "text/plain": [
       "   film_id  category_id         last_update\n",
       "0       19            1 2006-02-15 05:07:09\n",
       "1       21            1 2006-02-15 05:07:09\n",
       "2       29            1 2006-02-15 05:07:09\n",
       "3       38            1 2006-02-15 05:07:09\n",
       "4       56            1 2006-02-15 05:07:09"
      ]
     },
     "execution_count": 129,
     "metadata": {},
     "output_type": "execute_result"
    }
   ],
   "source": [
    "data_filmcategory = pd.read_sql(query_filmcat,connection_string)\n",
    "data_filmcategory.head()"
   ]
  },
  {
   "cell_type": "code",
   "execution_count": 130,
   "metadata": {},
   "outputs": [
    {
     "data": {
      "text/plain": [
       "(247, 3)"
      ]
     },
     "execution_count": 130,
     "metadata": {},
     "output_type": "execute_result"
    }
   ],
   "source": [
    "data_filmcategory.shape"
   ]
  },
  {
   "cell_type": "code",
   "execution_count": 217,
   "metadata": {},
   "outputs": [
    {
     "data": {
      "text/plain": [
       "(247, 16)"
      ]
     },
     "execution_count": 217,
     "metadata": {},
     "output_type": "execute_result"
    }
   ],
   "source": [
    "data_film= pd.read_sql(query_film,connection_string)\n",
    "data_film.shape"
   ]
  },
  {
   "cell_type": "code",
   "execution_count": 218,
   "metadata": {},
   "outputs": [
    {
     "data": {
      "text/html": [
       "<div>\n",
       "<style scoped>\n",
       "    .dataframe tbody tr th:only-of-type {\n",
       "        vertical-align: middle;\n",
       "    }\n",
       "\n",
       "    .dataframe tbody tr th {\n",
       "        vertical-align: top;\n",
       "    }\n",
       "\n",
       "    .dataframe thead th {\n",
       "        text-align: right;\n",
       "    }\n",
       "</style>\n",
       "<table border=\"1\" class=\"dataframe\">\n",
       "  <thead>\n",
       "    <tr style=\"text-align: right;\">\n",
       "      <th></th>\n",
       "      <th>film_id</th>\n",
       "      <th>title</th>\n",
       "      <th>description</th>\n",
       "      <th>release_year</th>\n",
       "      <th>language_id</th>\n",
       "      <th>original_language_id</th>\n",
       "      <th>rental_duration</th>\n",
       "      <th>rental_rate</th>\n",
       "      <th>length</th>\n",
       "      <th>replacement_cost</th>\n",
       "      <th>rating</th>\n",
       "      <th>special_features</th>\n",
       "      <th>last_update</th>\n",
       "      <th>film_id</th>\n",
       "      <th>category_id</th>\n",
       "      <th>last_update</th>\n",
       "    </tr>\n",
       "  </thead>\n",
       "  <tbody>\n",
       "    <tr>\n",
       "      <th>0</th>\n",
       "      <td>19</td>\n",
       "      <td>AMADEUS HOLY</td>\n",
       "      <td>A Emotional Display of a Pioneer And a Technic...</td>\n",
       "      <td>2006</td>\n",
       "      <td>1</td>\n",
       "      <td>None</td>\n",
       "      <td>6</td>\n",
       "      <td>0.99</td>\n",
       "      <td>113</td>\n",
       "      <td>20.99</td>\n",
       "      <td>PG</td>\n",
       "      <td>Commentaries,Deleted Scenes,Behind the Scenes</td>\n",
       "      <td>2006-02-15 05:03:42</td>\n",
       "      <td>19</td>\n",
       "      <td>1</td>\n",
       "      <td>2006-02-15 05:07:09</td>\n",
       "    </tr>\n",
       "    <tr>\n",
       "      <th>1</th>\n",
       "      <td>21</td>\n",
       "      <td>AMERICAN CIRCUS</td>\n",
       "      <td>A Insightful Drama of a Girl And a Astronaut w...</td>\n",
       "      <td>2006</td>\n",
       "      <td>1</td>\n",
       "      <td>None</td>\n",
       "      <td>3</td>\n",
       "      <td>4.99</td>\n",
       "      <td>129</td>\n",
       "      <td>17.99</td>\n",
       "      <td>R</td>\n",
       "      <td>Commentaries,Behind the Scenes</td>\n",
       "      <td>2006-02-15 05:03:42</td>\n",
       "      <td>21</td>\n",
       "      <td>1</td>\n",
       "      <td>2006-02-15 05:07:09</td>\n",
       "    </tr>\n",
       "    <tr>\n",
       "      <th>2</th>\n",
       "      <td>29</td>\n",
       "      <td>ANTITRUST TOMATOES</td>\n",
       "      <td>A Fateful Yarn of a Womanizer And a Feminist w...</td>\n",
       "      <td>2006</td>\n",
       "      <td>1</td>\n",
       "      <td>None</td>\n",
       "      <td>5</td>\n",
       "      <td>2.99</td>\n",
       "      <td>168</td>\n",
       "      <td>11.99</td>\n",
       "      <td>NC-17</td>\n",
       "      <td>Trailers,Commentaries,Deleted Scenes</td>\n",
       "      <td>2006-02-15 05:03:42</td>\n",
       "      <td>29</td>\n",
       "      <td>1</td>\n",
       "      <td>2006-02-15 05:07:09</td>\n",
       "    </tr>\n",
       "    <tr>\n",
       "      <th>3</th>\n",
       "      <td>38</td>\n",
       "      <td>ARK RIDGEMONT</td>\n",
       "      <td>A Beautiful Yarn of a Pioneer And a Monkey who...</td>\n",
       "      <td>2006</td>\n",
       "      <td>1</td>\n",
       "      <td>None</td>\n",
       "      <td>6</td>\n",
       "      <td>0.99</td>\n",
       "      <td>68</td>\n",
       "      <td>25.99</td>\n",
       "      <td>NC-17</td>\n",
       "      <td>Trailers,Commentaries,Deleted Scenes,Behind th...</td>\n",
       "      <td>2006-02-15 05:03:42</td>\n",
       "      <td>38</td>\n",
       "      <td>1</td>\n",
       "      <td>2006-02-15 05:07:09</td>\n",
       "    </tr>\n",
       "    <tr>\n",
       "      <th>4</th>\n",
       "      <td>56</td>\n",
       "      <td>BAREFOOT MANCHURIAN</td>\n",
       "      <td>A Intrepid Story of a Cat And a Student who mu...</td>\n",
       "      <td>2006</td>\n",
       "      <td>1</td>\n",
       "      <td>None</td>\n",
       "      <td>6</td>\n",
       "      <td>2.99</td>\n",
       "      <td>129</td>\n",
       "      <td>15.99</td>\n",
       "      <td>G</td>\n",
       "      <td>Trailers,Commentaries</td>\n",
       "      <td>2006-02-15 05:03:42</td>\n",
       "      <td>56</td>\n",
       "      <td>1</td>\n",
       "      <td>2006-02-15 05:07:09</td>\n",
       "    </tr>\n",
       "    <tr>\n",
       "      <th>5</th>\n",
       "      <td>67</td>\n",
       "      <td>BERETS AGENT</td>\n",
       "      <td>A Taut Saga of a Crocodile And a Boy who must ...</td>\n",
       "      <td>2006</td>\n",
       "      <td>1</td>\n",
       "      <td>None</td>\n",
       "      <td>5</td>\n",
       "      <td>2.99</td>\n",
       "      <td>77</td>\n",
       "      <td>24.99</td>\n",
       "      <td>PG-13</td>\n",
       "      <td>Deleted Scenes</td>\n",
       "      <td>2006-02-15 05:03:42</td>\n",
       "      <td>67</td>\n",
       "      <td>1</td>\n",
       "      <td>2006-02-15 05:07:09</td>\n",
       "    </tr>\n",
       "    <tr>\n",
       "      <th>6</th>\n",
       "      <td>97</td>\n",
       "      <td>BRIDE INTRIGUE</td>\n",
       "      <td>A Epic Tale of a Robot And a Monkey who must V...</td>\n",
       "      <td>2006</td>\n",
       "      <td>1</td>\n",
       "      <td>None</td>\n",
       "      <td>7</td>\n",
       "      <td>0.99</td>\n",
       "      <td>56</td>\n",
       "      <td>24.99</td>\n",
       "      <td>G</td>\n",
       "      <td>Trailers,Commentaries,Behind the Scenes</td>\n",
       "      <td>2006-02-15 05:03:42</td>\n",
       "      <td>97</td>\n",
       "      <td>1</td>\n",
       "      <td>2006-02-15 05:07:09</td>\n",
       "    </tr>\n",
       "    <tr>\n",
       "      <th>7</th>\n",
       "      <td>105</td>\n",
       "      <td>BULL SHAWSHANK</td>\n",
       "      <td>A Fanciful Drama of a Moose And a Squirrel who...</td>\n",
       "      <td>2006</td>\n",
       "      <td>1</td>\n",
       "      <td>None</td>\n",
       "      <td>6</td>\n",
       "      <td>0.99</td>\n",
       "      <td>125</td>\n",
       "      <td>21.99</td>\n",
       "      <td>NC-17</td>\n",
       "      <td>Deleted Scenes</td>\n",
       "      <td>2006-02-15 05:03:42</td>\n",
       "      <td>105</td>\n",
       "      <td>1</td>\n",
       "      <td>2006-02-15 05:07:09</td>\n",
       "    </tr>\n",
       "    <tr>\n",
       "      <th>8</th>\n",
       "      <td>111</td>\n",
       "      <td>CADDYSHACK JEDI</td>\n",
       "      <td>A Awe-Inspiring Epistle of a Woman And a Madma...</td>\n",
       "      <td>2006</td>\n",
       "      <td>1</td>\n",
       "      <td>None</td>\n",
       "      <td>3</td>\n",
       "      <td>0.99</td>\n",
       "      <td>52</td>\n",
       "      <td>17.99</td>\n",
       "      <td>NC-17</td>\n",
       "      <td>Commentaries,Deleted Scenes</td>\n",
       "      <td>2006-02-15 05:03:42</td>\n",
       "      <td>111</td>\n",
       "      <td>1</td>\n",
       "      <td>2006-02-15 05:07:09</td>\n",
       "    </tr>\n",
       "    <tr>\n",
       "      <th>9</th>\n",
       "      <td>115</td>\n",
       "      <td>CAMPUS REMEMBER</td>\n",
       "      <td>A Astounding Drama of a Crocodile And a Mad Co...</td>\n",
       "      <td>2006</td>\n",
       "      <td>1</td>\n",
       "      <td>None</td>\n",
       "      <td>5</td>\n",
       "      <td>2.99</td>\n",
       "      <td>167</td>\n",
       "      <td>27.99</td>\n",
       "      <td>R</td>\n",
       "      <td>Behind the Scenes</td>\n",
       "      <td>2006-02-15 05:03:42</td>\n",
       "      <td>115</td>\n",
       "      <td>1</td>\n",
       "      <td>2006-02-15 05:07:09</td>\n",
       "    </tr>\n",
       "  </tbody>\n",
       "</table>\n",
       "</div>"
      ],
      "text/plain": [
       "   film_id                title  \\\n",
       "0       19         AMADEUS HOLY   \n",
       "1       21      AMERICAN CIRCUS   \n",
       "2       29   ANTITRUST TOMATOES   \n",
       "3       38        ARK RIDGEMONT   \n",
       "4       56  BAREFOOT MANCHURIAN   \n",
       "5       67         BERETS AGENT   \n",
       "6       97       BRIDE INTRIGUE   \n",
       "7      105       BULL SHAWSHANK   \n",
       "8      111      CADDYSHACK JEDI   \n",
       "9      115      CAMPUS REMEMBER   \n",
       "\n",
       "                                         description  release_year  \\\n",
       "0  A Emotional Display of a Pioneer And a Technic...          2006   \n",
       "1  A Insightful Drama of a Girl And a Astronaut w...          2006   \n",
       "2  A Fateful Yarn of a Womanizer And a Feminist w...          2006   \n",
       "3  A Beautiful Yarn of a Pioneer And a Monkey who...          2006   \n",
       "4  A Intrepid Story of a Cat And a Student who mu...          2006   \n",
       "5  A Taut Saga of a Crocodile And a Boy who must ...          2006   \n",
       "6  A Epic Tale of a Robot And a Monkey who must V...          2006   \n",
       "7  A Fanciful Drama of a Moose And a Squirrel who...          2006   \n",
       "8  A Awe-Inspiring Epistle of a Woman And a Madma...          2006   \n",
       "9  A Astounding Drama of a Crocodile And a Mad Co...          2006   \n",
       "\n",
       "   language_id original_language_id  rental_duration  rental_rate  length  \\\n",
       "0            1                 None                6         0.99     113   \n",
       "1            1                 None                3         4.99     129   \n",
       "2            1                 None                5         2.99     168   \n",
       "3            1                 None                6         0.99      68   \n",
       "4            1                 None                6         2.99     129   \n",
       "5            1                 None                5         2.99      77   \n",
       "6            1                 None                7         0.99      56   \n",
       "7            1                 None                6         0.99     125   \n",
       "8            1                 None                3         0.99      52   \n",
       "9            1                 None                5         2.99     167   \n",
       "\n",
       "   replacement_cost rating                                   special_features  \\\n",
       "0             20.99     PG      Commentaries,Deleted Scenes,Behind the Scenes   \n",
       "1             17.99      R                     Commentaries,Behind the Scenes   \n",
       "2             11.99  NC-17               Trailers,Commentaries,Deleted Scenes   \n",
       "3             25.99  NC-17  Trailers,Commentaries,Deleted Scenes,Behind th...   \n",
       "4             15.99      G                              Trailers,Commentaries   \n",
       "5             24.99  PG-13                                     Deleted Scenes   \n",
       "6             24.99      G            Trailers,Commentaries,Behind the Scenes   \n",
       "7             21.99  NC-17                                     Deleted Scenes   \n",
       "8             17.99  NC-17                        Commentaries,Deleted Scenes   \n",
       "9             27.99      R                                  Behind the Scenes   \n",
       "\n",
       "          last_update  film_id  category_id         last_update  \n",
       "0 2006-02-15 05:03:42       19            1 2006-02-15 05:07:09  \n",
       "1 2006-02-15 05:03:42       21            1 2006-02-15 05:07:09  \n",
       "2 2006-02-15 05:03:42       29            1 2006-02-15 05:07:09  \n",
       "3 2006-02-15 05:03:42       38            1 2006-02-15 05:07:09  \n",
       "4 2006-02-15 05:03:42       56            1 2006-02-15 05:07:09  \n",
       "5 2006-02-15 05:03:42       67            1 2006-02-15 05:07:09  \n",
       "6 2006-02-15 05:03:42       97            1 2006-02-15 05:07:09  \n",
       "7 2006-02-15 05:03:42      105            1 2006-02-15 05:07:09  \n",
       "8 2006-02-15 05:03:42      111            1 2006-02-15 05:07:09  \n",
       "9 2006-02-15 05:03:42      115            1 2006-02-15 05:07:09  "
      ]
     },
     "execution_count": 218,
     "metadata": {},
     "output_type": "execute_result"
    }
   ],
   "source": [
    "data_film.head(10)"
   ]
  },
  {
   "cell_type": "code",
   "execution_count": 219,
   "metadata": {},
   "outputs": [
    {
     "data": {
      "text/plain": [
       "Trailers,Commentaries,Behind the Scenes                   24\n",
       "Trailers,Behind the Scenes                                21\n",
       "Deleted Scenes                                            19\n",
       "Commentaries,Behind the Scenes                            19\n",
       "Deleted Scenes,Behind the Scenes                          18\n",
       "Trailers,Deleted Scenes                                   18\n",
       "Trailers                                                  17\n",
       "Trailers,Commentaries                                     16\n",
       "Behind the Scenes                                         16\n",
       "Trailers,Commentaries,Deleted Scenes,Behind the Scenes    15\n",
       "Trailers,Deleted Scenes,Behind the Scenes                 14\n",
       "Commentaries                                              13\n",
       "Trailers,Commentaries,Deleted Scenes                      13\n",
       "Commentaries,Deleted Scenes                               12\n",
       "Commentaries,Deleted Scenes,Behind the Scenes             12\n",
       "Name: special_features, dtype: int64"
      ]
     },
     "execution_count": 219,
     "metadata": {},
     "output_type": "execute_result"
    }
   ],
   "source": [
    "data_film.special_features.value_counts()"
   ]
  },
  {
   "cell_type": "code",
   "execution_count": 220,
   "metadata": {},
   "outputs": [],
   "source": [
    "#list_special_features = ['Trailers','Commentaries','Behind the Scenes','Deleted Scenes',]\n",
    "#data_film['Trailers'] = data_film['special_features'].isin(['Trailers'])\n",
    "data_film['Trailers'] = data_film['special_features'].str.contains('Trailers')"
   ]
  },
  {
   "cell_type": "code",
   "execution_count": 221,
   "metadata": {},
   "outputs": [],
   "source": [
    "data_film['Commentaries'] = data_film['special_features'].str.contains('Commentaries')"
   ]
  },
  {
   "cell_type": "code",
   "execution_count": 222,
   "metadata": {},
   "outputs": [],
   "source": [
    "data_film['Behind the Scenes'] = data_film['special_features'].str.contains('Behind the Scenes')"
   ]
  },
  {
   "cell_type": "code",
   "execution_count": 223,
   "metadata": {},
   "outputs": [],
   "source": [
    "data_film['Deleted Scenes'] = data_film['special_features'].str.contains('Deleted Scenes')"
   ]
  },
  {
   "cell_type": "code",
   "execution_count": 224,
   "metadata": {},
   "outputs": [
    {
     "data": {
      "text/html": [
       "<div>\n",
       "<style scoped>\n",
       "    .dataframe tbody tr th:only-of-type {\n",
       "        vertical-align: middle;\n",
       "    }\n",
       "\n",
       "    .dataframe tbody tr th {\n",
       "        vertical-align: top;\n",
       "    }\n",
       "\n",
       "    .dataframe thead th {\n",
       "        text-align: right;\n",
       "    }\n",
       "</style>\n",
       "<table border=\"1\" class=\"dataframe\">\n",
       "  <thead>\n",
       "    <tr style=\"text-align: right;\">\n",
       "      <th></th>\n",
       "      <th>film_id</th>\n",
       "      <th>title</th>\n",
       "      <th>description</th>\n",
       "      <th>release_year</th>\n",
       "      <th>language_id</th>\n",
       "      <th>original_language_id</th>\n",
       "      <th>rental_duration</th>\n",
       "      <th>rental_rate</th>\n",
       "      <th>length</th>\n",
       "      <th>replacement_cost</th>\n",
       "      <th>rating</th>\n",
       "      <th>special_features</th>\n",
       "      <th>last_update</th>\n",
       "      <th>film_id</th>\n",
       "      <th>category_id</th>\n",
       "      <th>last_update</th>\n",
       "      <th>Trailers</th>\n",
       "      <th>Commentaries</th>\n",
       "      <th>Behind the Scenes</th>\n",
       "      <th>Deleted Scenes</th>\n",
       "    </tr>\n",
       "  </thead>\n",
       "  <tbody>\n",
       "    <tr>\n",
       "      <th>0</th>\n",
       "      <td>19</td>\n",
       "      <td>AMADEUS HOLY</td>\n",
       "      <td>A Emotional Display of a Pioneer And a Technic...</td>\n",
       "      <td>2006</td>\n",
       "      <td>1</td>\n",
       "      <td>None</td>\n",
       "      <td>6</td>\n",
       "      <td>0.99</td>\n",
       "      <td>113</td>\n",
       "      <td>20.99</td>\n",
       "      <td>PG</td>\n",
       "      <td>Commentaries,Deleted Scenes,Behind the Scenes</td>\n",
       "      <td>2006-02-15 05:03:42</td>\n",
       "      <td>19</td>\n",
       "      <td>1</td>\n",
       "      <td>2006-02-15 05:07:09</td>\n",
       "      <td>False</td>\n",
       "      <td>True</td>\n",
       "      <td>True</td>\n",
       "      <td>True</td>\n",
       "    </tr>\n",
       "    <tr>\n",
       "      <th>1</th>\n",
       "      <td>21</td>\n",
       "      <td>AMERICAN CIRCUS</td>\n",
       "      <td>A Insightful Drama of a Girl And a Astronaut w...</td>\n",
       "      <td>2006</td>\n",
       "      <td>1</td>\n",
       "      <td>None</td>\n",
       "      <td>3</td>\n",
       "      <td>4.99</td>\n",
       "      <td>129</td>\n",
       "      <td>17.99</td>\n",
       "      <td>R</td>\n",
       "      <td>Commentaries,Behind the Scenes</td>\n",
       "      <td>2006-02-15 05:03:42</td>\n",
       "      <td>21</td>\n",
       "      <td>1</td>\n",
       "      <td>2006-02-15 05:07:09</td>\n",
       "      <td>False</td>\n",
       "      <td>True</td>\n",
       "      <td>True</td>\n",
       "      <td>False</td>\n",
       "    </tr>\n",
       "    <tr>\n",
       "      <th>2</th>\n",
       "      <td>29</td>\n",
       "      <td>ANTITRUST TOMATOES</td>\n",
       "      <td>A Fateful Yarn of a Womanizer And a Feminist w...</td>\n",
       "      <td>2006</td>\n",
       "      <td>1</td>\n",
       "      <td>None</td>\n",
       "      <td>5</td>\n",
       "      <td>2.99</td>\n",
       "      <td>168</td>\n",
       "      <td>11.99</td>\n",
       "      <td>NC-17</td>\n",
       "      <td>Trailers,Commentaries,Deleted Scenes</td>\n",
       "      <td>2006-02-15 05:03:42</td>\n",
       "      <td>29</td>\n",
       "      <td>1</td>\n",
       "      <td>2006-02-15 05:07:09</td>\n",
       "      <td>True</td>\n",
       "      <td>True</td>\n",
       "      <td>False</td>\n",
       "      <td>True</td>\n",
       "    </tr>\n",
       "    <tr>\n",
       "      <th>3</th>\n",
       "      <td>38</td>\n",
       "      <td>ARK RIDGEMONT</td>\n",
       "      <td>A Beautiful Yarn of a Pioneer And a Monkey who...</td>\n",
       "      <td>2006</td>\n",
       "      <td>1</td>\n",
       "      <td>None</td>\n",
       "      <td>6</td>\n",
       "      <td>0.99</td>\n",
       "      <td>68</td>\n",
       "      <td>25.99</td>\n",
       "      <td>NC-17</td>\n",
       "      <td>Trailers,Commentaries,Deleted Scenes,Behind th...</td>\n",
       "      <td>2006-02-15 05:03:42</td>\n",
       "      <td>38</td>\n",
       "      <td>1</td>\n",
       "      <td>2006-02-15 05:07:09</td>\n",
       "      <td>True</td>\n",
       "      <td>True</td>\n",
       "      <td>True</td>\n",
       "      <td>True</td>\n",
       "    </tr>\n",
       "    <tr>\n",
       "      <th>4</th>\n",
       "      <td>56</td>\n",
       "      <td>BAREFOOT MANCHURIAN</td>\n",
       "      <td>A Intrepid Story of a Cat And a Student who mu...</td>\n",
       "      <td>2006</td>\n",
       "      <td>1</td>\n",
       "      <td>None</td>\n",
       "      <td>6</td>\n",
       "      <td>2.99</td>\n",
       "      <td>129</td>\n",
       "      <td>15.99</td>\n",
       "      <td>G</td>\n",
       "      <td>Trailers,Commentaries</td>\n",
       "      <td>2006-02-15 05:03:42</td>\n",
       "      <td>56</td>\n",
       "      <td>1</td>\n",
       "      <td>2006-02-15 05:07:09</td>\n",
       "      <td>True</td>\n",
       "      <td>True</td>\n",
       "      <td>False</td>\n",
       "      <td>False</td>\n",
       "    </tr>\n",
       "  </tbody>\n",
       "</table>\n",
       "</div>"
      ],
      "text/plain": [
       "   film_id                title  \\\n",
       "0       19         AMADEUS HOLY   \n",
       "1       21      AMERICAN CIRCUS   \n",
       "2       29   ANTITRUST TOMATOES   \n",
       "3       38        ARK RIDGEMONT   \n",
       "4       56  BAREFOOT MANCHURIAN   \n",
       "\n",
       "                                         description  release_year  \\\n",
       "0  A Emotional Display of a Pioneer And a Technic...          2006   \n",
       "1  A Insightful Drama of a Girl And a Astronaut w...          2006   \n",
       "2  A Fateful Yarn of a Womanizer And a Feminist w...          2006   \n",
       "3  A Beautiful Yarn of a Pioneer And a Monkey who...          2006   \n",
       "4  A Intrepid Story of a Cat And a Student who mu...          2006   \n",
       "\n",
       "   language_id original_language_id  rental_duration  rental_rate  length  \\\n",
       "0            1                 None                6         0.99     113   \n",
       "1            1                 None                3         4.99     129   \n",
       "2            1                 None                5         2.99     168   \n",
       "3            1                 None                6         0.99      68   \n",
       "4            1                 None                6         2.99     129   \n",
       "\n",
       "   replacement_cost rating                                   special_features  \\\n",
       "0             20.99     PG      Commentaries,Deleted Scenes,Behind the Scenes   \n",
       "1             17.99      R                     Commentaries,Behind the Scenes   \n",
       "2             11.99  NC-17               Trailers,Commentaries,Deleted Scenes   \n",
       "3             25.99  NC-17  Trailers,Commentaries,Deleted Scenes,Behind th...   \n",
       "4             15.99      G                              Trailers,Commentaries   \n",
       "\n",
       "          last_update  film_id  category_id         last_update  Trailers  \\\n",
       "0 2006-02-15 05:03:42       19            1 2006-02-15 05:07:09     False   \n",
       "1 2006-02-15 05:03:42       21            1 2006-02-15 05:07:09     False   \n",
       "2 2006-02-15 05:03:42       29            1 2006-02-15 05:07:09      True   \n",
       "3 2006-02-15 05:03:42       38            1 2006-02-15 05:07:09      True   \n",
       "4 2006-02-15 05:03:42       56            1 2006-02-15 05:07:09      True   \n",
       "\n",
       "   Commentaries  Behind the Scenes  Deleted Scenes  \n",
       "0          True               True            True  \n",
       "1          True               True           False  \n",
       "2          True              False            True  \n",
       "3          True               True            True  \n",
       "4          True              False           False  "
      ]
     },
     "execution_count": 224,
     "metadata": {},
     "output_type": "execute_result"
    }
   ],
   "source": [
    "data_film.head()"
   ]
  },
  {
   "cell_type": "code",
   "execution_count": 225,
   "metadata": {},
   "outputs": [
    {
     "data": {
      "text/plain": [
       "array(['PG', 'R', 'NC-17', 'G', 'PG-13'], dtype=object)"
      ]
     },
     "execution_count": 225,
     "metadata": {},
     "output_type": "execute_result"
    }
   ],
   "source": [
    "data_film.rating.unique()"
   ]
  },
  {
   "cell_type": "code",
   "execution_count": 226,
   "metadata": {},
   "outputs": [],
   "source": [
    "data_film = data_film.drop(['special_features','last_update','film_id','description','release_year','title'], axis = 1)"
   ]
  },
  {
   "cell_type": "code",
   "execution_count": 227,
   "metadata": {},
   "outputs": [
    {
     "data": {
      "text/html": [
       "<div>\n",
       "<style scoped>\n",
       "    .dataframe tbody tr th:only-of-type {\n",
       "        vertical-align: middle;\n",
       "    }\n",
       "\n",
       "    .dataframe tbody tr th {\n",
       "        vertical-align: top;\n",
       "    }\n",
       "\n",
       "    .dataframe thead th {\n",
       "        text-align: right;\n",
       "    }\n",
       "</style>\n",
       "<table border=\"1\" class=\"dataframe\">\n",
       "  <thead>\n",
       "    <tr style=\"text-align: right;\">\n",
       "      <th></th>\n",
       "      <th>language_id</th>\n",
       "      <th>original_language_id</th>\n",
       "      <th>rental_duration</th>\n",
       "      <th>rental_rate</th>\n",
       "      <th>length</th>\n",
       "      <th>replacement_cost</th>\n",
       "      <th>rating</th>\n",
       "      <th>category_id</th>\n",
       "      <th>Trailers</th>\n",
       "      <th>Commentaries</th>\n",
       "      <th>Behind the Scenes</th>\n",
       "      <th>Deleted Scenes</th>\n",
       "    </tr>\n",
       "  </thead>\n",
       "  <tbody>\n",
       "    <tr>\n",
       "      <th>0</th>\n",
       "      <td>1</td>\n",
       "      <td>None</td>\n",
       "      <td>6</td>\n",
       "      <td>0.99</td>\n",
       "      <td>113</td>\n",
       "      <td>20.99</td>\n",
       "      <td>PG</td>\n",
       "      <td>1</td>\n",
       "      <td>False</td>\n",
       "      <td>True</td>\n",
       "      <td>True</td>\n",
       "      <td>True</td>\n",
       "    </tr>\n",
       "    <tr>\n",
       "      <th>1</th>\n",
       "      <td>1</td>\n",
       "      <td>None</td>\n",
       "      <td>3</td>\n",
       "      <td>4.99</td>\n",
       "      <td>129</td>\n",
       "      <td>17.99</td>\n",
       "      <td>R</td>\n",
       "      <td>1</td>\n",
       "      <td>False</td>\n",
       "      <td>True</td>\n",
       "      <td>True</td>\n",
       "      <td>False</td>\n",
       "    </tr>\n",
       "    <tr>\n",
       "      <th>2</th>\n",
       "      <td>1</td>\n",
       "      <td>None</td>\n",
       "      <td>5</td>\n",
       "      <td>2.99</td>\n",
       "      <td>168</td>\n",
       "      <td>11.99</td>\n",
       "      <td>NC-17</td>\n",
       "      <td>1</td>\n",
       "      <td>True</td>\n",
       "      <td>True</td>\n",
       "      <td>False</td>\n",
       "      <td>True</td>\n",
       "    </tr>\n",
       "    <tr>\n",
       "      <th>3</th>\n",
       "      <td>1</td>\n",
       "      <td>None</td>\n",
       "      <td>6</td>\n",
       "      <td>0.99</td>\n",
       "      <td>68</td>\n",
       "      <td>25.99</td>\n",
       "      <td>NC-17</td>\n",
       "      <td>1</td>\n",
       "      <td>True</td>\n",
       "      <td>True</td>\n",
       "      <td>True</td>\n",
       "      <td>True</td>\n",
       "    </tr>\n",
       "    <tr>\n",
       "      <th>4</th>\n",
       "      <td>1</td>\n",
       "      <td>None</td>\n",
       "      <td>6</td>\n",
       "      <td>2.99</td>\n",
       "      <td>129</td>\n",
       "      <td>15.99</td>\n",
       "      <td>G</td>\n",
       "      <td>1</td>\n",
       "      <td>True</td>\n",
       "      <td>True</td>\n",
       "      <td>False</td>\n",
       "      <td>False</td>\n",
       "    </tr>\n",
       "  </tbody>\n",
       "</table>\n",
       "</div>"
      ],
      "text/plain": [
       "   language_id original_language_id  rental_duration  rental_rate  length  \\\n",
       "0            1                 None                6         0.99     113   \n",
       "1            1                 None                3         4.99     129   \n",
       "2            1                 None                5         2.99     168   \n",
       "3            1                 None                6         0.99      68   \n",
       "4            1                 None                6         2.99     129   \n",
       "\n",
       "   replacement_cost rating  category_id  Trailers  Commentaries  \\\n",
       "0             20.99     PG            1     False          True   \n",
       "1             17.99      R            1     False          True   \n",
       "2             11.99  NC-17            1      True          True   \n",
       "3             25.99  NC-17            1      True          True   \n",
       "4             15.99      G            1      True          True   \n",
       "\n",
       "   Behind the Scenes  Deleted Scenes  \n",
       "0               True            True  \n",
       "1               True           False  \n",
       "2              False            True  \n",
       "3               True            True  \n",
       "4              False           False  "
      ]
     },
     "execution_count": 227,
     "metadata": {},
     "output_type": "execute_result"
    }
   ],
   "source": [
    "data_film.head()"
   ]
  },
  {
   "cell_type": "code",
   "execution_count": 228,
   "metadata": {},
   "outputs": [],
   "source": [
    "data_film = data_film.drop(['original_language_id','language_id'], axis = 1)"
   ]
  },
  {
   "cell_type": "code",
   "execution_count": 229,
   "metadata": {},
   "outputs": [
    {
     "data": {
      "text/html": [
       "<div>\n",
       "<style scoped>\n",
       "    .dataframe tbody tr th:only-of-type {\n",
       "        vertical-align: middle;\n",
       "    }\n",
       "\n",
       "    .dataframe tbody tr th {\n",
       "        vertical-align: top;\n",
       "    }\n",
       "\n",
       "    .dataframe thead th {\n",
       "        text-align: right;\n",
       "    }\n",
       "</style>\n",
       "<table border=\"1\" class=\"dataframe\">\n",
       "  <thead>\n",
       "    <tr style=\"text-align: right;\">\n",
       "      <th></th>\n",
       "      <th>rental_duration</th>\n",
       "      <th>rental_rate</th>\n",
       "      <th>length</th>\n",
       "      <th>replacement_cost</th>\n",
       "      <th>rating</th>\n",
       "      <th>category_id</th>\n",
       "      <th>Trailers</th>\n",
       "      <th>Commentaries</th>\n",
       "      <th>Behind the Scenes</th>\n",
       "      <th>Deleted Scenes</th>\n",
       "    </tr>\n",
       "  </thead>\n",
       "  <tbody>\n",
       "    <tr>\n",
       "      <th>0</th>\n",
       "      <td>6</td>\n",
       "      <td>0.99</td>\n",
       "      <td>113</td>\n",
       "      <td>20.99</td>\n",
       "      <td>PG</td>\n",
       "      <td>1</td>\n",
       "      <td>False</td>\n",
       "      <td>True</td>\n",
       "      <td>True</td>\n",
       "      <td>True</td>\n",
       "    </tr>\n",
       "    <tr>\n",
       "      <th>1</th>\n",
       "      <td>3</td>\n",
       "      <td>4.99</td>\n",
       "      <td>129</td>\n",
       "      <td>17.99</td>\n",
       "      <td>R</td>\n",
       "      <td>1</td>\n",
       "      <td>False</td>\n",
       "      <td>True</td>\n",
       "      <td>True</td>\n",
       "      <td>False</td>\n",
       "    </tr>\n",
       "    <tr>\n",
       "      <th>2</th>\n",
       "      <td>5</td>\n",
       "      <td>2.99</td>\n",
       "      <td>168</td>\n",
       "      <td>11.99</td>\n",
       "      <td>NC-17</td>\n",
       "      <td>1</td>\n",
       "      <td>True</td>\n",
       "      <td>True</td>\n",
       "      <td>False</td>\n",
       "      <td>True</td>\n",
       "    </tr>\n",
       "    <tr>\n",
       "      <th>3</th>\n",
       "      <td>6</td>\n",
       "      <td>0.99</td>\n",
       "      <td>68</td>\n",
       "      <td>25.99</td>\n",
       "      <td>NC-17</td>\n",
       "      <td>1</td>\n",
       "      <td>True</td>\n",
       "      <td>True</td>\n",
       "      <td>True</td>\n",
       "      <td>True</td>\n",
       "    </tr>\n",
       "    <tr>\n",
       "      <th>4</th>\n",
       "      <td>6</td>\n",
       "      <td>2.99</td>\n",
       "      <td>129</td>\n",
       "      <td>15.99</td>\n",
       "      <td>G</td>\n",
       "      <td>1</td>\n",
       "      <td>True</td>\n",
       "      <td>True</td>\n",
       "      <td>False</td>\n",
       "      <td>False</td>\n",
       "    </tr>\n",
       "  </tbody>\n",
       "</table>\n",
       "</div>"
      ],
      "text/plain": [
       "   rental_duration  rental_rate  length  replacement_cost rating  category_id  \\\n",
       "0                6         0.99     113             20.99     PG            1   \n",
       "1                3         4.99     129             17.99      R            1   \n",
       "2                5         2.99     168             11.99  NC-17            1   \n",
       "3                6         0.99      68             25.99  NC-17            1   \n",
       "4                6         2.99     129             15.99      G            1   \n",
       "\n",
       "   Trailers  Commentaries  Behind the Scenes  Deleted Scenes  \n",
       "0     False          True               True            True  \n",
       "1     False          True               True           False  \n",
       "2      True          True              False            True  \n",
       "3      True          True               True            True  \n",
       "4      True          True              False           False  "
      ]
     },
     "execution_count": 229,
     "metadata": {},
     "output_type": "execute_result"
    }
   ],
   "source": [
    "data_film.head()"
   ]
  },
  {
   "cell_type": "code",
   "execution_count": 230,
   "metadata": {},
   "outputs": [
    {
     "data": {
      "text/html": [
       "<div>\n",
       "<style scoped>\n",
       "    .dataframe tbody tr th:only-of-type {\n",
       "        vertical-align: middle;\n",
       "    }\n",
       "\n",
       "    .dataframe tbody tr th {\n",
       "        vertical-align: top;\n",
       "    }\n",
       "\n",
       "    .dataframe thead th {\n",
       "        text-align: right;\n",
       "    }\n",
       "</style>\n",
       "<table border=\"1\" class=\"dataframe\">\n",
       "  <thead>\n",
       "    <tr style=\"text-align: right;\">\n",
       "      <th></th>\n",
       "      <th>rating</th>\n",
       "    </tr>\n",
       "  </thead>\n",
       "  <tbody>\n",
       "    <tr>\n",
       "      <th>0</th>\n",
       "      <td>PG</td>\n",
       "    </tr>\n",
       "    <tr>\n",
       "      <th>1</th>\n",
       "      <td>R</td>\n",
       "    </tr>\n",
       "    <tr>\n",
       "      <th>2</th>\n",
       "      <td>NC-17</td>\n",
       "    </tr>\n",
       "    <tr>\n",
       "      <th>3</th>\n",
       "      <td>NC-17</td>\n",
       "    </tr>\n",
       "    <tr>\n",
       "      <th>4</th>\n",
       "      <td>G</td>\n",
       "    </tr>\n",
       "    <tr>\n",
       "      <th>...</th>\n",
       "      <td>...</td>\n",
       "    </tr>\n",
       "    <tr>\n",
       "      <th>242</th>\n",
       "      <td>NC-17</td>\n",
       "    </tr>\n",
       "    <tr>\n",
       "      <th>243</th>\n",
       "      <td>PG</td>\n",
       "    </tr>\n",
       "    <tr>\n",
       "      <th>244</th>\n",
       "      <td>PG-13</td>\n",
       "    </tr>\n",
       "    <tr>\n",
       "      <th>245</th>\n",
       "      <td>PG</td>\n",
       "    </tr>\n",
       "    <tr>\n",
       "      <th>246</th>\n",
       "      <td>NC-17</td>\n",
       "    </tr>\n",
       "  </tbody>\n",
       "</table>\n",
       "<p>247 rows × 1 columns</p>\n",
       "</div>"
      ],
      "text/plain": [
       "    rating\n",
       "0       PG\n",
       "1        R\n",
       "2    NC-17\n",
       "3    NC-17\n",
       "4        G\n",
       "..     ...\n",
       "242  NC-17\n",
       "243     PG\n",
       "244  PG-13\n",
       "245     PG\n",
       "246  NC-17\n",
       "\n",
       "[247 rows x 1 columns]"
      ]
     },
     "execution_count": 230,
     "metadata": {},
     "output_type": "execute_result"
    }
   ],
   "source": [
    "data_film.select_dtypes(include=np.object)"
   ]
  },
  {
   "cell_type": "code",
   "execution_count": 231,
   "metadata": {},
   "outputs": [
    {
     "data": {
      "text/html": [
       "<div>\n",
       "<style scoped>\n",
       "    .dataframe tbody tr th:only-of-type {\n",
       "        vertical-align: middle;\n",
       "    }\n",
       "\n",
       "    .dataframe tbody tr th {\n",
       "        vertical-align: top;\n",
       "    }\n",
       "\n",
       "    .dataframe thead th {\n",
       "        text-align: right;\n",
       "    }\n",
       "</style>\n",
       "<table border=\"1\" class=\"dataframe\">\n",
       "  <thead>\n",
       "    <tr style=\"text-align: right;\">\n",
       "      <th></th>\n",
       "      <th>rental_duration</th>\n",
       "      <th>rental_rate</th>\n",
       "      <th>length</th>\n",
       "      <th>replacement_cost</th>\n",
       "      <th>category_id</th>\n",
       "    </tr>\n",
       "  </thead>\n",
       "  <tbody>\n",
       "    <tr>\n",
       "      <th>0</th>\n",
       "      <td>6</td>\n",
       "      <td>0.99</td>\n",
       "      <td>113</td>\n",
       "      <td>20.99</td>\n",
       "      <td>1</td>\n",
       "    </tr>\n",
       "    <tr>\n",
       "      <th>1</th>\n",
       "      <td>3</td>\n",
       "      <td>4.99</td>\n",
       "      <td>129</td>\n",
       "      <td>17.99</td>\n",
       "      <td>1</td>\n",
       "    </tr>\n",
       "    <tr>\n",
       "      <th>2</th>\n",
       "      <td>5</td>\n",
       "      <td>2.99</td>\n",
       "      <td>168</td>\n",
       "      <td>11.99</td>\n",
       "      <td>1</td>\n",
       "    </tr>\n",
       "    <tr>\n",
       "      <th>3</th>\n",
       "      <td>6</td>\n",
       "      <td>0.99</td>\n",
       "      <td>68</td>\n",
       "      <td>25.99</td>\n",
       "      <td>1</td>\n",
       "    </tr>\n",
       "    <tr>\n",
       "      <th>4</th>\n",
       "      <td>6</td>\n",
       "      <td>2.99</td>\n",
       "      <td>129</td>\n",
       "      <td>15.99</td>\n",
       "      <td>1</td>\n",
       "    </tr>\n",
       "    <tr>\n",
       "      <th>...</th>\n",
       "      <td>...</td>\n",
       "      <td>...</td>\n",
       "      <td>...</td>\n",
       "      <td>...</td>\n",
       "      <td>...</td>\n",
       "    </tr>\n",
       "    <tr>\n",
       "      <th>242</th>\n",
       "      <td>7</td>\n",
       "      <td>0.99</td>\n",
       "      <td>144</td>\n",
       "      <td>14.99</td>\n",
       "      <td>4</td>\n",
       "    </tr>\n",
       "    <tr>\n",
       "      <th>243</th>\n",
       "      <td>7</td>\n",
       "      <td>4.99</td>\n",
       "      <td>132</td>\n",
       "      <td>12.99</td>\n",
       "      <td>4</td>\n",
       "    </tr>\n",
       "    <tr>\n",
       "      <th>244</th>\n",
       "      <td>6</td>\n",
       "      <td>0.99</td>\n",
       "      <td>78</td>\n",
       "      <td>28.99</td>\n",
       "      <td>4</td>\n",
       "    </tr>\n",
       "    <tr>\n",
       "      <th>245</th>\n",
       "      <td>7</td>\n",
       "      <td>2.99</td>\n",
       "      <td>85</td>\n",
       "      <td>18.99</td>\n",
       "      <td>4</td>\n",
       "    </tr>\n",
       "    <tr>\n",
       "      <th>246</th>\n",
       "      <td>7</td>\n",
       "      <td>0.99</td>\n",
       "      <td>52</td>\n",
       "      <td>11.99</td>\n",
       "      <td>4</td>\n",
       "    </tr>\n",
       "  </tbody>\n",
       "</table>\n",
       "<p>247 rows × 5 columns</p>\n",
       "</div>"
      ],
      "text/plain": [
       "     rental_duration  rental_rate  length  replacement_cost  category_id\n",
       "0                  6         0.99     113             20.99            1\n",
       "1                  3         4.99     129             17.99            1\n",
       "2                  5         2.99     168             11.99            1\n",
       "3                  6         0.99      68             25.99            1\n",
       "4                  6         2.99     129             15.99            1\n",
       "..               ...          ...     ...               ...          ...\n",
       "242                7         0.99     144             14.99            4\n",
       "243                7         4.99     132             12.99            4\n",
       "244                6         0.99      78             28.99            4\n",
       "245                7         2.99      85             18.99            4\n",
       "246                7         0.99      52             11.99            4\n",
       "\n",
       "[247 rows x 5 columns]"
      ]
     },
     "execution_count": 231,
     "metadata": {},
     "output_type": "execute_result"
    }
   ],
   "source": [
    "data_film.select_dtypes(include=np.number)"
   ]
  },
  {
   "cell_type": "code",
   "execution_count": 232,
   "metadata": {},
   "outputs": [
    {
     "data": {
      "text/plain": [
       "rental_duration        int64\n",
       "rental_rate          float64\n",
       "length                 int64\n",
       "replacement_cost     float64\n",
       "rating                object\n",
       "category_id            int64\n",
       "Trailers                bool\n",
       "Commentaries            bool\n",
       "Behind the Scenes       bool\n",
       "Deleted Scenes          bool\n",
       "dtype: object"
      ]
     },
     "execution_count": 232,
     "metadata": {},
     "output_type": "execute_result"
    }
   ],
   "source": [
    "data_film.dtypes"
   ]
  },
  {
   "cell_type": "code",
   "execution_count": 233,
   "metadata": {},
   "outputs": [],
   "source": [
    "data_film['Trailers'] = data_film['Trailers'].astype('int64')\n",
    "data_film['Behind the Scenes'] = data_film['Behind the Scenes'].astype('int64')\n",
    "data_film['Deleted Scenes'] = data_film['Deleted Scenes'].astype('int64')\n",
    "data_film['Commentaries'] = data_film['Commentaries'].astype('int64')"
   ]
  },
  {
   "cell_type": "code",
   "execution_count": 234,
   "metadata": {},
   "outputs": [
    {
     "data": {
      "text/plain": [
       "rental_duration        int64\n",
       "rental_rate          float64\n",
       "length                 int64\n",
       "replacement_cost     float64\n",
       "rating                object\n",
       "category_id            int64\n",
       "Trailers               int64\n",
       "Commentaries           int64\n",
       "Behind the Scenes      int64\n",
       "Deleted Scenes         int64\n",
       "dtype: object"
      ]
     },
     "execution_count": 234,
     "metadata": {},
     "output_type": "execute_result"
    }
   ],
   "source": [
    "data_film.dtypes"
   ]
  },
  {
   "cell_type": "code",
   "execution_count": 235,
   "metadata": {},
   "outputs": [
    {
     "name": "stdout",
     "output_type": "stream",
     "text": [
      "rental_duration      0\n",
      "rental_rate          0\n",
      "length               0\n",
      "replacement_cost     0\n",
      "rating               0\n",
      "category_id          0\n",
      "Trailers             0\n",
      "Commentaries         0\n",
      "Behind the Scenes    0\n",
      "Deleted Scenes       0\n",
      "dtype: int64\n"
     ]
    }
   ],
   "source": [
    "print(data_film.isna().sum())"
   ]
  },
  {
   "cell_type": "code",
   "execution_count": 236,
   "metadata": {},
   "outputs": [
    {
     "data": {
      "image/png": "[encoded data removed]",
      "text/plain": [
       "<Figure size 432x288 with 1 Axes>"
      ]
     },
     "metadata": {
      "needs_background": "light"
     },
     "output_type": "display_data"
    },
    {
     "data": {
      "image/png": "[encoded data removed]",
      "text/plain": [
       "<Figure size 432x288 with 1 Axes>"
      ]
     },
     "metadata": {
      "needs_background": "light"
     },
     "output_type": "display_data"
    },
    {
     "data": {
      "image/png": "[encoded data removed]",
      "text/plain": [
       "<Figure size 432x288 with 1 Axes>"
      ]
     },
     "metadata": {
      "needs_background": "light"
     },
     "output_type": "display_data"
    },
    {
     "data": {
      "image/png": "[encoded data removed]",
      "text/plain": [
       "<Figure size 432x288 with 1 Axes>"
      ]
     },
     "metadata": {
      "needs_background": "light"
     },
     "output_type": "display_data"
    },
    {
     "data": {
      "image/png": "[encoded data removed]",
      "text/plain": [
       "<Figure size 432x288 with 1 Axes>"
      ]
     },
     "metadata": {
      "needs_background": "light"
     },
     "output_type": "display_data"
    },
    {
     "data": {
      "image/png": "[encoded data removed]",
      "text/plain": [
       "<Figure size 432x288 with 1 Axes>"
      ]
     },
     "metadata": {
      "needs_background": "light"
     },
     "output_type": "display_data"
    },
    {
     "data": {
      "image/png": "[encoded data removed]",
      "text/plain": [
       "<Figure size 432x288 with 1 Axes>"
      ]
     },
     "metadata": {
      "needs_background": "light"
     },
     "output_type": "display_data"
    },
    {
     "data": {
      "image/png": "[encoded data removed]",
      "text/plain": [
       "<Figure size 432x288 with 1 Axes>"
      ]
     },
     "metadata": {
      "needs_background": "light"
     },
     "output_type": "display_data"
    },
    {
     "data": {
      "image/png": "[encoded data removed]",
      "text/plain": [
       "<Figure size 432x288 with 1 Axes>"
      ]
     },
     "metadata": {
      "needs_background": "light"
     },
     "output_type": "display_data"
    }
   ],
   "source": [
    "for val in data_film.select_dtypes(include=np.number).columns:\n",
    "    sns.distplot(data_film[val], bins=20)\n",
    "    plt.show()"
   ]
  },
  {
   "cell_type": "code",
   "execution_count": 237,
   "metadata": {},
   "outputs": [
    {
     "data": {
      "image/png": "[encoded data removed]",
      "text/plain": [
       "<Figure size 432x288 with 1 Axes>"
      ]
     },
     "metadata": {
      "needs_background": "light"
     },
     "output_type": "display_data"
    }
   ],
   "source": [
    "sns.countplot(x=\"rating\", data=data_film)\n",
    "plt.show()"
   ]
  },
  {
   "cell_type": "code",
   "execution_count": 238,
   "metadata": {},
   "outputs": [],
   "source": [
    "data_film['rental_rate'] = data_film['rental_rate'].astype('object')"
   ]
  },
  {
   "cell_type": "code",
   "execution_count": 239,
   "metadata": {},
   "outputs": [
    {
     "data": {
      "text/plain": [
       "rental_duration        int64\n",
       "rental_rate           object\n",
       "length                 int64\n",
       "replacement_cost     float64\n",
       "rating                object\n",
       "category_id            int64\n",
       "Trailers               int64\n",
       "Commentaries           int64\n",
       "Behind the Scenes      int64\n",
       "Deleted Scenes         int64\n",
       "dtype: object"
      ]
     },
     "execution_count": 239,
     "metadata": {},
     "output_type": "execute_result"
    }
   ],
   "source": [
    "data_film.dtypes"
   ]
  },
  {
   "cell_type": "code",
   "execution_count": 240,
   "metadata": {},
   "outputs": [],
   "source": [
    "data_film['rental_duration'] = data_film['rental_duration'].astype('object')"
   ]
  },
  {
   "cell_type": "code",
   "execution_count": 241,
   "metadata": {},
   "outputs": [
    {
     "data": {
      "text/plain": [
       "rental_duration       object\n",
       "rental_rate           object\n",
       "length                 int64\n",
       "replacement_cost     float64\n",
       "rating                object\n",
       "category_id            int64\n",
       "Trailers               int64\n",
       "Commentaries           int64\n",
       "Behind the Scenes      int64\n",
       "Deleted Scenes         int64\n",
       "dtype: object"
      ]
     },
     "execution_count": 241,
     "metadata": {},
     "output_type": "execute_result"
    }
   ],
   "source": [
    "data_film.dtypes"
   ]
  },
  {
   "cell_type": "code",
   "execution_count": 242,
   "metadata": {},
   "outputs": [],
   "source": [
    "#data_film['category_id'] = data_film['category_id'].astype('object')"
   ]
  },
  {
   "cell_type": "code",
   "execution_count": 243,
   "metadata": {},
   "outputs": [],
   "source": [
    "#data_film.dtypes"
   ]
  },
  {
   "cell_type": "code",
   "execution_count": 244,
   "metadata": {},
   "outputs": [],
   "source": [
    "data = data_film.copy()"
   ]
  },
  {
   "cell_type": "code",
   "execution_count": 245,
   "metadata": {},
   "outputs": [
    {
     "data": {
      "text/html": [
       "<div>\n",
       "<style scoped>\n",
       "    .dataframe tbody tr th:only-of-type {\n",
       "        vertical-align: middle;\n",
       "    }\n",
       "\n",
       "    .dataframe tbody tr th {\n",
       "        vertical-align: top;\n",
       "    }\n",
       "\n",
       "    .dataframe thead th {\n",
       "        text-align: right;\n",
       "    }\n",
       "</style>\n",
       "<table border=\"1\" class=\"dataframe\">\n",
       "  <thead>\n",
       "    <tr style=\"text-align: right;\">\n",
       "      <th></th>\n",
       "      <th>rental_duration</th>\n",
       "      <th>rental_rate</th>\n",
       "      <th>length</th>\n",
       "      <th>replacement_cost</th>\n",
       "      <th>rating</th>\n",
       "      <th>category_id</th>\n",
       "      <th>Trailers</th>\n",
       "      <th>Commentaries</th>\n",
       "      <th>Behind the Scenes</th>\n",
       "      <th>Deleted Scenes</th>\n",
       "    </tr>\n",
       "  </thead>\n",
       "  <tbody>\n",
       "    <tr>\n",
       "      <th>0</th>\n",
       "      <td>6</td>\n",
       "      <td>0.99</td>\n",
       "      <td>113</td>\n",
       "      <td>20.99</td>\n",
       "      <td>PG</td>\n",
       "      <td>1</td>\n",
       "      <td>0</td>\n",
       "      <td>1</td>\n",
       "      <td>1</td>\n",
       "      <td>1</td>\n",
       "    </tr>\n",
       "    <tr>\n",
       "      <th>1</th>\n",
       "      <td>3</td>\n",
       "      <td>4.99</td>\n",
       "      <td>129</td>\n",
       "      <td>17.99</td>\n",
       "      <td>R</td>\n",
       "      <td>1</td>\n",
       "      <td>0</td>\n",
       "      <td>1</td>\n",
       "      <td>1</td>\n",
       "      <td>0</td>\n",
       "    </tr>\n",
       "    <tr>\n",
       "      <th>2</th>\n",
       "      <td>5</td>\n",
       "      <td>2.99</td>\n",
       "      <td>168</td>\n",
       "      <td>11.99</td>\n",
       "      <td>NC-17</td>\n",
       "      <td>1</td>\n",
       "      <td>1</td>\n",
       "      <td>1</td>\n",
       "      <td>0</td>\n",
       "      <td>1</td>\n",
       "    </tr>\n",
       "    <tr>\n",
       "      <th>3</th>\n",
       "      <td>6</td>\n",
       "      <td>0.99</td>\n",
       "      <td>68</td>\n",
       "      <td>25.99</td>\n",
       "      <td>NC-17</td>\n",
       "      <td>1</td>\n",
       "      <td>1</td>\n",
       "      <td>1</td>\n",
       "      <td>1</td>\n",
       "      <td>1</td>\n",
       "    </tr>\n",
       "    <tr>\n",
       "      <th>4</th>\n",
       "      <td>6</td>\n",
       "      <td>2.99</td>\n",
       "      <td>129</td>\n",
       "      <td>15.99</td>\n",
       "      <td>G</td>\n",
       "      <td>1</td>\n",
       "      <td>1</td>\n",
       "      <td>1</td>\n",
       "      <td>0</td>\n",
       "      <td>0</td>\n",
       "    </tr>\n",
       "  </tbody>\n",
       "</table>\n",
       "</div>"
      ],
      "text/plain": [
       "  rental_duration rental_rate  length  replacement_cost rating  category_id  \\\n",
       "0               6        0.99     113             20.99     PG            1   \n",
       "1               3        4.99     129             17.99      R            1   \n",
       "2               5        2.99     168             11.99  NC-17            1   \n",
       "3               6        0.99      68             25.99  NC-17            1   \n",
       "4               6        2.99     129             15.99      G            1   \n",
       "\n",
       "   Trailers  Commentaries  Behind the Scenes  Deleted Scenes  \n",
       "0         0             1                  1               1  \n",
       "1         0             1                  1               0  \n",
       "2         1             1                  0               1  \n",
       "3         1             1                  1               1  \n",
       "4         1             1                  0               0  "
      ]
     },
     "execution_count": 245,
     "metadata": {},
     "output_type": "execute_result"
    }
   ],
   "source": [
    "data.head()"
   ]
  },
  {
   "cell_type": "code",
   "execution_count": 246,
   "metadata": {},
   "outputs": [],
   "source": [
    "Y = data.category_id"
   ]
  },
  {
   "cell_type": "code",
   "execution_count": 247,
   "metadata": {},
   "outputs": [],
   "source": [
    "data = data.drop('category_id', axis = 1)"
   ]
  },
  {
   "cell_type": "code",
   "execution_count": 249,
   "metadata": {},
   "outputs": [
    {
     "data": {
      "text/html": [
       "<div>\n",
       "<style scoped>\n",
       "    .dataframe tbody tr th:only-of-type {\n",
       "        vertical-align: middle;\n",
       "    }\n",
       "\n",
       "    .dataframe tbody tr th {\n",
       "        vertical-align: top;\n",
       "    }\n",
       "\n",
       "    .dataframe thead th {\n",
       "        text-align: right;\n",
       "    }\n",
       "</style>\n",
       "<table border=\"1\" class=\"dataframe\">\n",
       "  <thead>\n",
       "    <tr style=\"text-align: right;\">\n",
       "      <th></th>\n",
       "      <th>rental_duration</th>\n",
       "      <th>rental_rate</th>\n",
       "      <th>rating</th>\n",
       "    </tr>\n",
       "  </thead>\n",
       "  <tbody>\n",
       "    <tr>\n",
       "      <th>0</th>\n",
       "      <td>6</td>\n",
       "      <td>0.99</td>\n",
       "      <td>PG</td>\n",
       "    </tr>\n",
       "    <tr>\n",
       "      <th>1</th>\n",
       "      <td>3</td>\n",
       "      <td>4.99</td>\n",
       "      <td>R</td>\n",
       "    </tr>\n",
       "    <tr>\n",
       "      <th>2</th>\n",
       "      <td>5</td>\n",
       "      <td>2.99</td>\n",
       "      <td>NC-17</td>\n",
       "    </tr>\n",
       "    <tr>\n",
       "      <th>3</th>\n",
       "      <td>6</td>\n",
       "      <td>0.99</td>\n",
       "      <td>NC-17</td>\n",
       "    </tr>\n",
       "    <tr>\n",
       "      <th>4</th>\n",
       "      <td>6</td>\n",
       "      <td>2.99</td>\n",
       "      <td>G</td>\n",
       "    </tr>\n",
       "  </tbody>\n",
       "</table>\n",
       "</div>"
      ],
      "text/plain": [
       "  rental_duration rental_rate rating\n",
       "0               6        0.99     PG\n",
       "1               3        4.99      R\n",
       "2               5        2.99  NC-17\n",
       "3               6        0.99  NC-17\n",
       "4               6        2.99      G"
      ]
     },
     "execution_count": 249,
     "metadata": {},
     "output_type": "execute_result"
    }
   ],
   "source": [
    "X_Cat = data.select_dtypes(include=np.object)\n",
    "X_Cat.head()"
   ]
  },
  {
   "cell_type": "code",
   "execution_count": 250,
   "metadata": {},
   "outputs": [],
   "source": [
    "X_Cat2 = data.copy()"
   ]
  },
  {
   "cell_type": "code",
   "execution_count": 252,
   "metadata": {},
   "outputs": [],
   "source": [
    "X_Cat2 = X_Cat2.drop(['rental_duration','rental_rate','length','replacement_cost','rating'], axis = 1)"
   ]
  },
  {
   "cell_type": "code",
   "execution_count": 253,
   "metadata": {},
   "outputs": [
    {
     "data": {
      "text/html": [
       "<div>\n",
       "<style scoped>\n",
       "    .dataframe tbody tr th:only-of-type {\n",
       "        vertical-align: middle;\n",
       "    }\n",
       "\n",
       "    .dataframe tbody tr th {\n",
       "        vertical-align: top;\n",
       "    }\n",
       "\n",
       "    .dataframe thead th {\n",
       "        text-align: right;\n",
       "    }\n",
       "</style>\n",
       "<table border=\"1\" class=\"dataframe\">\n",
       "  <thead>\n",
       "    <tr style=\"text-align: right;\">\n",
       "      <th></th>\n",
       "      <th>Trailers</th>\n",
       "      <th>Commentaries</th>\n",
       "      <th>Behind the Scenes</th>\n",
       "      <th>Deleted Scenes</th>\n",
       "    </tr>\n",
       "  </thead>\n",
       "  <tbody>\n",
       "    <tr>\n",
       "      <th>0</th>\n",
       "      <td>0</td>\n",
       "      <td>1</td>\n",
       "      <td>1</td>\n",
       "      <td>1</td>\n",
       "    </tr>\n",
       "    <tr>\n",
       "      <th>1</th>\n",
       "      <td>0</td>\n",
       "      <td>1</td>\n",
       "      <td>1</td>\n",
       "      <td>0</td>\n",
       "    </tr>\n",
       "    <tr>\n",
       "      <th>2</th>\n",
       "      <td>1</td>\n",
       "      <td>1</td>\n",
       "      <td>0</td>\n",
       "      <td>1</td>\n",
       "    </tr>\n",
       "    <tr>\n",
       "      <th>3</th>\n",
       "      <td>1</td>\n",
       "      <td>1</td>\n",
       "      <td>1</td>\n",
       "      <td>1</td>\n",
       "    </tr>\n",
       "    <tr>\n",
       "      <th>4</th>\n",
       "      <td>1</td>\n",
       "      <td>1</td>\n",
       "      <td>0</td>\n",
       "      <td>0</td>\n",
       "    </tr>\n",
       "  </tbody>\n",
       "</table>\n",
       "</div>"
      ],
      "text/plain": [
       "   Trailers  Commentaries  Behind the Scenes  Deleted Scenes\n",
       "0         0             1                  1               1\n",
       "1         0             1                  1               0\n",
       "2         1             1                  0               1\n",
       "3         1             1                  1               1\n",
       "4         1             1                  0               0"
      ]
     },
     "execution_count": 253,
     "metadata": {},
     "output_type": "execute_result"
    }
   ],
   "source": [
    "X_Cat2.head()"
   ]
  },
  {
   "cell_type": "code",
   "execution_count": 254,
   "metadata": {},
   "outputs": [],
   "source": [
    "data = data.drop(['Trailers','Commentaries','Behind the Scenes','Deleted Scenes'], axis = 1)"
   ]
  },
  {
   "cell_type": "code",
   "execution_count": 255,
   "metadata": {},
   "outputs": [
    {
     "data": {
      "text/html": [
       "<div>\n",
       "<style scoped>\n",
       "    .dataframe tbody tr th:only-of-type {\n",
       "        vertical-align: middle;\n",
       "    }\n",
       "\n",
       "    .dataframe tbody tr th {\n",
       "        vertical-align: top;\n",
       "    }\n",
       "\n",
       "    .dataframe thead th {\n",
       "        text-align: right;\n",
       "    }\n",
       "</style>\n",
       "<table border=\"1\" class=\"dataframe\">\n",
       "  <thead>\n",
       "    <tr style=\"text-align: right;\">\n",
       "      <th></th>\n",
       "      <th>rental_duration</th>\n",
       "      <th>rental_rate</th>\n",
       "      <th>length</th>\n",
       "      <th>replacement_cost</th>\n",
       "      <th>rating</th>\n",
       "    </tr>\n",
       "  </thead>\n",
       "  <tbody>\n",
       "    <tr>\n",
       "      <th>0</th>\n",
       "      <td>6</td>\n",
       "      <td>0.99</td>\n",
       "      <td>113</td>\n",
       "      <td>20.99</td>\n",
       "      <td>PG</td>\n",
       "    </tr>\n",
       "    <tr>\n",
       "      <th>1</th>\n",
       "      <td>3</td>\n",
       "      <td>4.99</td>\n",
       "      <td>129</td>\n",
       "      <td>17.99</td>\n",
       "      <td>R</td>\n",
       "    </tr>\n",
       "    <tr>\n",
       "      <th>2</th>\n",
       "      <td>5</td>\n",
       "      <td>2.99</td>\n",
       "      <td>168</td>\n",
       "      <td>11.99</td>\n",
       "      <td>NC-17</td>\n",
       "    </tr>\n",
       "    <tr>\n",
       "      <th>3</th>\n",
       "      <td>6</td>\n",
       "      <td>0.99</td>\n",
       "      <td>68</td>\n",
       "      <td>25.99</td>\n",
       "      <td>NC-17</td>\n",
       "    </tr>\n",
       "    <tr>\n",
       "      <th>4</th>\n",
       "      <td>6</td>\n",
       "      <td>2.99</td>\n",
       "      <td>129</td>\n",
       "      <td>15.99</td>\n",
       "      <td>G</td>\n",
       "    </tr>\n",
       "  </tbody>\n",
       "</table>\n",
       "</div>"
      ],
      "text/plain": [
       "  rental_duration rental_rate  length  replacement_cost rating\n",
       "0               6        0.99     113             20.99     PG\n",
       "1               3        4.99     129             17.99      R\n",
       "2               5        2.99     168             11.99  NC-17\n",
       "3               6        0.99      68             25.99  NC-17\n",
       "4               6        2.99     129             15.99      G"
      ]
     },
     "execution_count": 255,
     "metadata": {},
     "output_type": "execute_result"
    }
   ],
   "source": [
    "data.head()"
   ]
  },
  {
   "cell_type": "code",
   "execution_count": 258,
   "metadata": {},
   "outputs": [
    {
     "data": {
      "text/plain": [
       "rental_duration      object\n",
       "rental_rate          object\n",
       "length                int64\n",
       "replacement_cost    float64\n",
       "rating               object\n",
       "dtype: object"
      ]
     },
     "execution_count": 258,
     "metadata": {},
     "output_type": "execute_result"
    }
   ],
   "source": [
    "data.dtypes"
   ]
  },
  {
   "cell_type": "code",
   "execution_count": 256,
   "metadata": {},
   "outputs": [],
   "source": [
    "X_Num = data.select_dtypes(include=np.number)"
   ]
  },
  {
   "cell_type": "code",
   "execution_count": 259,
   "metadata": {},
   "outputs": [],
   "source": [
    "Cat = pd.get_dummies(X_Cat, drop_first=True)"
   ]
  },
  {
   "cell_type": "code",
   "execution_count": 260,
   "metadata": {},
   "outputs": [
    {
     "data": {
      "text/html": [
       "<div>\n",
       "<style scoped>\n",
       "    .dataframe tbody tr th:only-of-type {\n",
       "        vertical-align: middle;\n",
       "    }\n",
       "\n",
       "    .dataframe tbody tr th {\n",
       "        vertical-align: top;\n",
       "    }\n",
       "\n",
       "    .dataframe thead th {\n",
       "        text-align: right;\n",
       "    }\n",
       "</style>\n",
       "<table border=\"1\" class=\"dataframe\">\n",
       "  <thead>\n",
       "    <tr style=\"text-align: right;\">\n",
       "      <th></th>\n",
       "      <th>rental_duration_4</th>\n",
       "      <th>rental_duration_5</th>\n",
       "      <th>rental_duration_6</th>\n",
       "      <th>rental_duration_7</th>\n",
       "      <th>rental_rate_2.99</th>\n",
       "      <th>rental_rate_4.99</th>\n",
       "      <th>rating_NC-17</th>\n",
       "      <th>rating_PG</th>\n",
       "      <th>rating_PG-13</th>\n",
       "      <th>rating_R</th>\n",
       "    </tr>\n",
       "  </thead>\n",
       "  <tbody>\n",
       "    <tr>\n",
       "      <th>0</th>\n",
       "      <td>0</td>\n",
       "      <td>0</td>\n",
       "      <td>1</td>\n",
       "      <td>0</td>\n",
       "      <td>0</td>\n",
       "      <td>0</td>\n",
       "      <td>0</td>\n",
       "      <td>1</td>\n",
       "      <td>0</td>\n",
       "      <td>0</td>\n",
       "    </tr>\n",
       "    <tr>\n",
       "      <th>1</th>\n",
       "      <td>0</td>\n",
       "      <td>0</td>\n",
       "      <td>0</td>\n",
       "      <td>0</td>\n",
       "      <td>0</td>\n",
       "      <td>1</td>\n",
       "      <td>0</td>\n",
       "      <td>0</td>\n",
       "      <td>0</td>\n",
       "      <td>1</td>\n",
       "    </tr>\n",
       "    <tr>\n",
       "      <th>2</th>\n",
       "      <td>0</td>\n",
       "      <td>1</td>\n",
       "      <td>0</td>\n",
       "      <td>0</td>\n",
       "      <td>1</td>\n",
       "      <td>0</td>\n",
       "      <td>1</td>\n",
       "      <td>0</td>\n",
       "      <td>0</td>\n",
       "      <td>0</td>\n",
       "    </tr>\n",
       "    <tr>\n",
       "      <th>3</th>\n",
       "      <td>0</td>\n",
       "      <td>0</td>\n",
       "      <td>1</td>\n",
       "      <td>0</td>\n",
       "      <td>0</td>\n",
       "      <td>0</td>\n",
       "      <td>1</td>\n",
       "      <td>0</td>\n",
       "      <td>0</td>\n",
       "      <td>0</td>\n",
       "    </tr>\n",
       "    <tr>\n",
       "      <th>4</th>\n",
       "      <td>0</td>\n",
       "      <td>0</td>\n",
       "      <td>1</td>\n",
       "      <td>0</td>\n",
       "      <td>1</td>\n",
       "      <td>0</td>\n",
       "      <td>0</td>\n",
       "      <td>0</td>\n",
       "      <td>0</td>\n",
       "      <td>0</td>\n",
       "    </tr>\n",
       "  </tbody>\n",
       "</table>\n",
       "</div>"
      ],
      "text/plain": [
       "   rental_duration_4  rental_duration_5  rental_duration_6  rental_duration_7  \\\n",
       "0                  0                  0                  1                  0   \n",
       "1                  0                  0                  0                  0   \n",
       "2                  0                  1                  0                  0   \n",
       "3                  0                  0                  1                  0   \n",
       "4                  0                  0                  1                  0   \n",
       "\n",
       "   rental_rate_2.99  rental_rate_4.99  rating_NC-17  rating_PG  rating_PG-13  \\\n",
       "0                 0                 0             0          1             0   \n",
       "1                 0                 1             0          0             0   \n",
       "2                 1                 0             1          0             0   \n",
       "3                 0                 0             1          0             0   \n",
       "4                 1                 0             0          0             0   \n",
       "\n",
       "   rating_R  \n",
       "0         0  \n",
       "1         1  \n",
       "2         0  \n",
       "3         0  \n",
       "4         0  "
      ]
     },
     "execution_count": 260,
     "metadata": {},
     "output_type": "execute_result"
    }
   ],
   "source": [
    "Cat.head()"
   ]
  },
  {
   "cell_type": "code",
   "execution_count": 267,
   "metadata": {},
   "outputs": [
    {
     "data": {
      "text/plain": [
       "rental_duration_4    uint8\n",
       "rental_duration_5    uint8\n",
       "rental_duration_6    uint8\n",
       "rental_duration_7    uint8\n",
       "rental_rate_2.99     uint8\n",
       "rental_rate_4.99     uint8\n",
       "rating_NC-17         uint8\n",
       "rating_PG            uint8\n",
       "rating_PG-13         uint8\n",
       "rating_R             uint8\n",
       "dtype: object"
      ]
     },
     "execution_count": 267,
     "metadata": {},
     "output_type": "execute_result"
    }
   ],
   "source": [
    "Cat.dtypes"
   ]
  },
  {
   "cell_type": "code",
   "execution_count": 268,
   "metadata": {},
   "outputs": [
    {
     "data": {
      "text/plain": [
       "Trailers             int64\n",
       "Commentaries         int64\n",
       "Behind the Scenes    int64\n",
       "Deleted Scenes       int64\n",
       "dtype: object"
      ]
     },
     "execution_count": 268,
     "metadata": {},
     "output_type": "execute_result"
    }
   ],
   "source": [
    "X_Cat2.dtypes"
   ]
  },
  {
   "cell_type": "code",
   "execution_count": 269,
   "metadata": {},
   "outputs": [],
   "source": [
    "Catnew = pd.concat([Cat,X_Cat2], axis = 1)"
   ]
  },
  {
   "cell_type": "code",
   "execution_count": 270,
   "metadata": {},
   "outputs": [
    {
     "data": {
      "text/html": [
       "<div>\n",
       "<style scoped>\n",
       "    .dataframe tbody tr th:only-of-type {\n",
       "        vertical-align: middle;\n",
       "    }\n",
       "\n",
       "    .dataframe tbody tr th {\n",
       "        vertical-align: top;\n",
       "    }\n",
       "\n",
       "    .dataframe thead th {\n",
       "        text-align: right;\n",
       "    }\n",
       "</style>\n",
       "<table border=\"1\" class=\"dataframe\">\n",
       "  <thead>\n",
       "    <tr style=\"text-align: right;\">\n",
       "      <th></th>\n",
       "      <th>rental_duration_4</th>\n",
       "      <th>rental_duration_5</th>\n",
       "      <th>rental_duration_6</th>\n",
       "      <th>rental_duration_7</th>\n",
       "      <th>rental_rate_2.99</th>\n",
       "      <th>rental_rate_4.99</th>\n",
       "      <th>rating_NC-17</th>\n",
       "      <th>rating_PG</th>\n",
       "      <th>rating_PG-13</th>\n",
       "      <th>rating_R</th>\n",
       "      <th>Trailers</th>\n",
       "      <th>Commentaries</th>\n",
       "      <th>Behind the Scenes</th>\n",
       "      <th>Deleted Scenes</th>\n",
       "    </tr>\n",
       "  </thead>\n",
       "  <tbody>\n",
       "    <tr>\n",
       "      <th>0</th>\n",
       "      <td>0</td>\n",
       "      <td>0</td>\n",
       "      <td>1</td>\n",
       "      <td>0</td>\n",
       "      <td>0</td>\n",
       "      <td>0</td>\n",
       "      <td>0</td>\n",
       "      <td>1</td>\n",
       "      <td>0</td>\n",
       "      <td>0</td>\n",
       "      <td>0</td>\n",
       "      <td>1</td>\n",
       "      <td>1</td>\n",
       "      <td>1</td>\n",
       "    </tr>\n",
       "    <tr>\n",
       "      <th>1</th>\n",
       "      <td>0</td>\n",
       "      <td>0</td>\n",
       "      <td>0</td>\n",
       "      <td>0</td>\n",
       "      <td>0</td>\n",
       "      <td>1</td>\n",
       "      <td>0</td>\n",
       "      <td>0</td>\n",
       "      <td>0</td>\n",
       "      <td>1</td>\n",
       "      <td>0</td>\n",
       "      <td>1</td>\n",
       "      <td>1</td>\n",
       "      <td>0</td>\n",
       "    </tr>\n",
       "    <tr>\n",
       "      <th>2</th>\n",
       "      <td>0</td>\n",
       "      <td>1</td>\n",
       "      <td>0</td>\n",
       "      <td>0</td>\n",
       "      <td>1</td>\n",
       "      <td>0</td>\n",
       "      <td>1</td>\n",
       "      <td>0</td>\n",
       "      <td>0</td>\n",
       "      <td>0</td>\n",
       "      <td>1</td>\n",
       "      <td>1</td>\n",
       "      <td>0</td>\n",
       "      <td>1</td>\n",
       "    </tr>\n",
       "    <tr>\n",
       "      <th>3</th>\n",
       "      <td>0</td>\n",
       "      <td>0</td>\n",
       "      <td>1</td>\n",
       "      <td>0</td>\n",
       "      <td>0</td>\n",
       "      <td>0</td>\n",
       "      <td>1</td>\n",
       "      <td>0</td>\n",
       "      <td>0</td>\n",
       "      <td>0</td>\n",
       "      <td>1</td>\n",
       "      <td>1</td>\n",
       "      <td>1</td>\n",
       "      <td>1</td>\n",
       "    </tr>\n",
       "    <tr>\n",
       "      <th>4</th>\n",
       "      <td>0</td>\n",
       "      <td>0</td>\n",
       "      <td>1</td>\n",
       "      <td>0</td>\n",
       "      <td>1</td>\n",
       "      <td>0</td>\n",
       "      <td>0</td>\n",
       "      <td>0</td>\n",
       "      <td>0</td>\n",
       "      <td>0</td>\n",
       "      <td>1</td>\n",
       "      <td>1</td>\n",
       "      <td>0</td>\n",
       "      <td>0</td>\n",
       "    </tr>\n",
       "  </tbody>\n",
       "</table>\n",
       "</div>"
      ],
      "text/plain": [
       "   rental_duration_4  rental_duration_5  rental_duration_6  rental_duration_7  \\\n",
       "0                  0                  0                  1                  0   \n",
       "1                  0                  0                  0                  0   \n",
       "2                  0                  1                  0                  0   \n",
       "3                  0                  0                  1                  0   \n",
       "4                  0                  0                  1                  0   \n",
       "\n",
       "   rental_rate_2.99  rental_rate_4.99  rating_NC-17  rating_PG  rating_PG-13  \\\n",
       "0                 0                 0             0          1             0   \n",
       "1                 0                 1             0          0             0   \n",
       "2                 1                 0             1          0             0   \n",
       "3                 0                 0             1          0             0   \n",
       "4                 1                 0             0          0             0   \n",
       "\n",
       "   rating_R  Trailers  Commentaries  Behind the Scenes  Deleted Scenes  \n",
       "0         0         0             1                  1               1  \n",
       "1         1         0             1                  1               0  \n",
       "2         0         1             1                  0               1  \n",
       "3         0         1             1                  1               1  \n",
       "4         0         1             1                  0               0  "
      ]
     },
     "execution_count": 270,
     "metadata": {},
     "output_type": "execute_result"
    }
   ],
   "source": [
    "Catnew.head()"
   ]
  },
  {
   "cell_type": "code",
   "execution_count": 271,
   "metadata": {},
   "outputs": [
    {
     "data": {
      "image/png": "[encoded data removed]",
      "text/plain": [
       "<Figure size 720x576 with 2 Axes>"
      ]
     },
     "metadata": {
      "needs_background": "light"
     },
     "output_type": "display_data"
    }
   ],
   "source": [
    "#with old data_film DF\n",
    "corr_matrix=data_film.corr(method='pearson')  # default\n",
    "fig, ax = plt.subplots(figsize=(10, 8))\n",
    "ax = sns.heatmap(corr_matrix, annot=True)\n",
    "plt.show()"
   ]
  },
  {
   "cell_type": "code",
   "execution_count": 272,
   "metadata": {},
   "outputs": [],
   "source": [
    "from sklearn.preprocessing import Normalizer\n",
    "# from sklearn.preprocessing import StandardScaler\n",
    "# Normalizing data\n",
    "transformer = Normalizer().fit(X_Num)\n",
    "x_normalized = transformer.transform(X_Num)\n",
    "x = pd.DataFrame(x_normalized)"
   ]
  },
  {
   "cell_type": "code",
   "execution_count": 273,
   "metadata": {},
   "outputs": [],
   "source": [
    "X = np.concatenate((x, Catnew), axis=1)"
   ]
  },
  {
   "cell_type": "code",
   "execution_count": 274,
   "metadata": {},
   "outputs": [],
   "source": [
    "from sklearn.model_selection import train_test_split\n",
    "X_train, X_test, y_train, y_test = train_test_split(X, Y, test_size=0.4, random_state=100)"
   ]
  },
  {
   "cell_type": "code",
   "execution_count": 275,
   "metadata": {},
   "outputs": [],
   "source": [
    "from sklearn.linear_model import LogisticRegression\n",
    "classification = LogisticRegression(random_state=0, solver='lbfgs',\n",
    "                  multi_class='multinomial').fit(X_train, y_train)"
   ]
  },
  {
   "cell_type": "code",
   "execution_count": 276,
   "metadata": {},
   "outputs": [
    {
     "data": {
      "text/plain": [
       "0.2222222222222222"
      ]
     },
     "execution_count": 276,
     "metadata": {},
     "output_type": "execute_result"
    }
   ],
   "source": [
    "classification.score(X_test, y_test)\n",
    "# dont get any better results, even though i included special features.."
   ]
  },
  {
   "cell_type": "code",
   "execution_count": 277,
   "metadata": {},
   "outputs": [],
   "source": [
    "predictions = classification.predict(X_test)"
   ]
  },
  {
   "cell_type": "code",
   "execution_count": 278,
   "metadata": {},
   "outputs": [
    {
     "data": {
      "text/plain": [
       "1    34\n",
       "2    30\n",
       "3    29\n",
       "4     6\n",
       "dtype: int64"
      ]
     },
     "execution_count": 278,
     "metadata": {},
     "output_type": "execute_result"
    }
   ],
   "source": [
    "pd.Series(predictions).value_counts()"
   ]
  },
  {
   "cell_type": "code",
   "execution_count": 279,
   "metadata": {},
   "outputs": [
    {
     "data": {
      "text/plain": [
       "array([[ 5,  6, 12,  1],\n",
       "       [ 9, 11,  4,  1],\n",
       "       [ 8,  6,  5,  3],\n",
       "       [12,  7,  8,  1]], dtype=int64)"
      ]
     },
     "execution_count": 279,
     "metadata": {},
     "output_type": "execute_result"
    }
   ],
   "source": [
    "from sklearn.metrics import confusion_matrix\n",
    "confusion_matrix(y_test, predictions)"
   ]
  },
  {
   "cell_type": "code",
   "execution_count": null,
   "metadata": {},
   "outputs": [],
   "source": []
  }
 ],
 "metadata": {
  "kernelspec": {
   "display_name": "Python 3",
   "language": "python",
   "name": "python3"
  },
  "language_info": {
   "codemirror_mode": {
    "name": "ipython",
    "version": 3
   },
   "file_extension": ".py",
   "mimetype": "text/x-python",
   "name": "python",
   "nbconvert_exporter": "python",
   "pygments_lexer": "ipython3",
   "version": "3.8.5"
  }
 },
 "nbformat": 4,
 "nbformat_minor": 4
}
