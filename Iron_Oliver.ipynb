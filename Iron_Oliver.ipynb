{
 "cells": [
  {
   "cell_type": "code",
   "execution_count": null,
   "metadata": {},
   "outputs": [],
   "source": [
    "import seaborn as sns\n",
    "import matplotlib.pyplot as plt"
   ]
  },
  {
   "cell_type": "code",
   "execution_count": null,
   "metadata": {},
   "outputs": [],
   "source": [
    "def perform_something(x):\n",
    "    return  x**2"
   ]
  },
  {
   "cell_type": "code",
   "execution_count": null,
   "metadata": {},
   "outputs": [],
   "source": [
    "def get_continous_cols_from_df(data,threshold):\n",
    "    lst = list([])\n",
    "    for val in data.columns:\n",
    "        if data[val].dtypes != 'O' and data[val].unique().shape[0] > threshold:\n",
    "            lst.append(val)\n",
    "        else:\n",
    "            continue\n",
    "    return data[lst]\n",
    "\n",
    "def get_discrete_cols_from_df(data,threshold):\n",
    "    lst = list([])\n",
    "    for val in data.columns:\n",
    "        if data[val].dtypes != 'O' and data[val].unique().shape[0] < threshold:\n",
    "            lst.append(val)\n",
    "        else:\n",
    "            continue\n",
    "    return data[lst]\n",
    "\n",
    "def get_cat_cols_from_df(data,threshold):\n",
    "    lst = list([])\n",
    "    for val in data.columns:\n",
    "        if data[val].dtypes == 'O':\n",
    "            lst.append(val)\n",
    "        else:\n",
    "            continue\n",
    "    return data[lst]"
   ]
  },
  {
   "cell_type": "code",
   "execution_count": null,
   "metadata": {},
   "outputs": [],
   "source": [
    "def plot_count_discrete_vals_from_df(data):\n",
    "    for val in data.columns:\n",
    "        sns.countplot(x=val, data=data)\n",
    "        plt.show()\n",
    "        \n",
    "def plot_count_discrete_vals_hue_from_df(data,hue):\n",
    "    for val in data.columns:\n",
    "        sns.countplot(x=val, hue = hue, data=data)\n",
    "        plt.show()\n",
    "        \n",
    "\n",
    "        \n",
    "def plot_bar_Ystring_discrete_vals_from_df(data,Ystring):\n",
    "    for val in data.columns:\n",
    "        if val != Ystring:\n",
    "            sns.barplot(x=val, y=Ystring, data=data)\n",
    "            plt.show()\n",
    "        else:\n",
    "            continue\n",
    "            \n",
    "            \n",
    "def plot_dist_continue_vals_from_df(data):\n",
    "    for val in data.columns:\n",
    "        sns.distplot(data[val], bins=20)\n",
    "        plt.show()\n",
    "        \n",
    "def plot_box_continue_vals_from_df(data):\n",
    "    for val in data.columns:\n",
    "        sns.boxplot(x=val, data=data)\n",
    "        plt.show()\n",
    "\n",
    "def plot_box_Ystring_continue_vals_from_df(data):\n",
    "    for val in data.columns:\n",
    "        if val != Ystring:\n",
    "            sns.barplot(x=val, y=Ystring, data=data)\n",
    "            plt.show()\n",
    "        else:\n",
    "            continue"
   ]
  },
  {
   "cell_type": "code",
   "execution_count": null,
   "metadata": {},
   "outputs": [],
   "source": [
    "def remove_outliers_from_df(data,name,fac):\n",
    "    iqr = np.percentile(data[name],75) - np.percentile(data[name],25)\n",
    "    upper_limit = np.percentile(data[name],75) + fac*iqr\n",
    "    lower_limit = np.percentile(data[name],25) - fac*iqr\n",
    "    data = data[(data[name]>lower_limit) & (data[name]<upper_limit)]\n",
    "    return data"
   ]
  },
  {
   "cell_type": "code",
   "execution_count": 1,
   "metadata": {},
   "outputs": [],
   "source": [
    "def log_transform_clean(x):\n",
    "    if x <= 0:\n",
    "        return 0\n",
    "    else:\n",
    "        return np.log(x)"
   ]
  },
  {
   "cell_type": "code",
   "execution_count": 3,
   "metadata": {},
   "outputs": [],
   "source": [
    "def compare_log_transform(df,columns):    \n",
    "    for col in columns:\n",
    "        df[col+'_log'] = list(map(log_transform_clean,df[col]))\n",
    "        fig, (ax1, ax2) = plt.subplots(1, 2, figsize = (20,5)) \n",
    "        plt.subplots_adjust(left=None, bottom=5, right=None, top=6, wspace=None, hspace=None) \n",
    "        sns.histplot(df[col], ax=ax1, kde = True)\n",
    "        sns.histplot(df[col+'_log'], ax=ax2, kde = True)\n",
    "        plt.show()"
   ]
  },
  {
   "cell_type": "code",
   "execution_count": null,
   "metadata": {},
   "outputs": [],
   "source": [
    "def test_models(model_list, k = 5):\n",
    "    import math\n",
    "    from sklearn.metrics import mean_absolute_error\n",
    "    from sklearn.neural_network import MLPRegressor\n",
    "    X_train, X_test, y_train, y_test = train_test_split(X, y, test_size=0.3, random_state=100)\n",
    "    for i in range(len(model_list)):\n",
    "        if model_list[i] == 'Linear':\n",
    "            #test_size=np.random.uniform(0.1,0.4,1)[0]\n",
    "            lm = linear_model.LinearRegression()\n",
    "            model = lm.fit(X_train,y_train)\n",
    "            predictions  = lm.predict(X_test)\n",
    "            r_squared = r2_score(y_test, predictions)\n",
    "            mse = mean_squared_error(y_test, predictions)\n",
    "            rmse = math.sqrt(mse)\n",
    "            mae = mean_absolute_error(y_test, predictions)\n",
    "            print('Score for linear regression model:')\n",
    "            print('r2:', r_squared)\n",
    "            print('mse:', mse)\n",
    "            print('rmse:', rmse)\n",
    "            print('mae:', mae)\n",
    "        elif model_list[i] == 'KNN':\n",
    "            model = KNeighborsRegressor(n_neighbors=k, weights = 'distance')\n",
    "            model.fit(X_train, y_train)\n",
    "            predictions  = model.predict(X_test)\n",
    "            r_squared = r2_score(y_test, predictions)\n",
    "            mse = mean_squared_error(y_test, predictions)\n",
    "            rmse = math.sqrt(mse)\n",
    "            mae = mean_absolute_error(y_test, predictions)\n",
    "            print('Score for KNN model:')\n",
    "            print('r2:', r_squared)\n",
    "            print('mse:', mse)\n",
    "            print('rmse:', rmse)\n",
    "            print('mae:', mae)\n",
    "        elif model_list[i] == 'MLP':\n",
    "            regr = MLPRegressor(random_state=100, max_iter=500)\n",
    "            regr.fit(X_train, y_train)\n",
    "            predictions  = regr.predict(X_test)\n",
    "            r_squared = r2_score(y_test, predictions)\n",
    "            mse = mean_squared_error(y_test, predictions)\n",
    "            rmse = math.sqrt(mse)\n",
    "            mae = mean_absolute_error(y_test, predictions)\n",
    "            print('Score for MLP regression model:')\n",
    "            print('r2:', r_squared)\n",
    "            print('mse:', mse)\n",
    "            print('rmse:', rmse)\n",
    "            print('mae:', mae)            \n",
    "        else:\n",
    "            pass"
   ]
  }
 ],
 "metadata": {
  "kernelspec": {
   "display_name": "Python 3",
   "language": "python",
   "name": "python3"
  },
  "language_info": {
   "codemirror_mode": {
    "name": "ipython",
    "version": 3
   },
   "file_extension": ".py",
   "mimetype": "text/x-python",
   "name": "python",
   "nbconvert_exporter": "python",
   "pygments_lexer": "ipython3",
   "version": "3.8.5"
  }
 },
 "nbformat": 4,
 "nbformat_minor": 4
}
