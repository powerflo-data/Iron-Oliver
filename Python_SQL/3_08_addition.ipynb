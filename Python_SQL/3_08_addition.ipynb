{
 "cells": [
  {
   "cell_type": "code",
   "execution_count": 1,
   "metadata": {},
   "outputs": [
    {
     "name": "stdout",
     "output_type": "stream",
     "text": [
      "········\n"
     ]
    }
   ],
   "source": [
    "import pymysql\n",
    "from sqlalchemy import create_engine\n",
    "import pandas as pd\n",
    "import getpass  # To get the password without showing the input\n",
    "password = getpass.getpass()"
   ]
  },
  {
   "cell_type": "code",
   "execution_count": 63,
   "metadata": {},
   "outputs": [],
   "source": [
    "connection_string = 'mysql+pymysql://root:' + password + '@localhost/bank'\n",
    "engine = create_engine(connection_string)\n"
   ]
  },
  {
   "cell_type": "code",
   "execution_count": 64,
   "metadata": {},
   "outputs": [
    {
     "data": {
      "text/html": [
       "<div>\n",
       "<style scoped>\n",
       "    .dataframe tbody tr th:only-of-type {\n",
       "        vertical-align: middle;\n",
       "    }\n",
       "\n",
       "    .dataframe tbody tr th {\n",
       "        vertical-align: top;\n",
       "    }\n",
       "\n",
       "    .dataframe thead th {\n",
       "        text-align: right;\n",
       "    }\n",
       "</style>\n",
       "<table border=\"1\" class=\"dataframe\">\n",
       "  <thead>\n",
       "    <tr style=\"text-align: right;\">\n",
       "      <th></th>\n",
       "      <th>loan_id</th>\n",
       "      <th>account_id</th>\n",
       "      <th>date</th>\n",
       "      <th>amount</th>\n",
       "      <th>duration</th>\n",
       "      <th>payments</th>\n",
       "      <th>status</th>\n",
       "      <th>status_desc</th>\n",
       "    </tr>\n",
       "  </thead>\n",
       "  <tbody>\n",
       "    <tr>\n",
       "      <th>0</th>\n",
       "      <td>5314</td>\n",
       "      <td>1787</td>\n",
       "      <td>930705</td>\n",
       "      <td>96396</td>\n",
       "      <td>12</td>\n",
       "      <td>8033.0</td>\n",
       "      <td>B</td>\n",
       "      <td>Defaulter - Contract Finished</td>\n",
       "    </tr>\n",
       "    <tr>\n",
       "      <th>1</th>\n",
       "      <td>5316</td>\n",
       "      <td>1801</td>\n",
       "      <td>930711</td>\n",
       "      <td>165960</td>\n",
       "      <td>36</td>\n",
       "      <td>4610.0</td>\n",
       "      <td>A</td>\n",
       "      <td>Good - Contract Finished</td>\n",
       "    </tr>\n",
       "    <tr>\n",
       "      <th>2</th>\n",
       "      <td>6863</td>\n",
       "      <td>9188</td>\n",
       "      <td>930728</td>\n",
       "      <td>127080</td>\n",
       "      <td>60</td>\n",
       "      <td>2118.0</td>\n",
       "      <td>A</td>\n",
       "      <td>Good - Contract Finished</td>\n",
       "    </tr>\n",
       "    <tr>\n",
       "      <th>3</th>\n",
       "      <td>5325</td>\n",
       "      <td>1843</td>\n",
       "      <td>930803</td>\n",
       "      <td>105804</td>\n",
       "      <td>36</td>\n",
       "      <td>2939.0</td>\n",
       "      <td>A</td>\n",
       "      <td>Good - Contract Finished</td>\n",
       "    </tr>\n",
       "    <tr>\n",
       "      <th>4</th>\n",
       "      <td>7240</td>\n",
       "      <td>11013</td>\n",
       "      <td>930906</td>\n",
       "      <td>274740</td>\n",
       "      <td>60</td>\n",
       "      <td>4579.0</td>\n",
       "      <td>A</td>\n",
       "      <td>Good - Contract Finished</td>\n",
       "    </tr>\n",
       "  </tbody>\n",
       "</table>\n",
       "</div>"
      ],
      "text/plain": [
       "   loan_id  account_id    date  amount  duration  payments status  \\\n",
       "0     5314        1787  930705   96396        12    8033.0      B   \n",
       "1     5316        1801  930711  165960        36    4610.0      A   \n",
       "2     6863        9188  930728  127080        60    2118.0      A   \n",
       "3     5325        1843  930803  105804        36    2939.0      A   \n",
       "4     7240       11013  930906  274740        60    4579.0      A   \n",
       "\n",
       "                     status_desc  \n",
       "0  Defaulter - Contract Finished  \n",
       "1       Good - Contract Finished  \n",
       "2       Good - Contract Finished  \n",
       "3       Good - Contract Finished  \n",
       "4       Good - Contract Finished  "
      ]
     },
     "execution_count": 64,
     "metadata": {},
     "output_type": "execute_result"
    }
   ],
   "source": [
    "data = pd.read_sql_query('SELECT * FROM loan', connection_string)\n",
    "data.head()"
   ]
  },
  {
   "cell_type": "code",
   "execution_count": 65,
   "metadata": {},
   "outputs": [
    {
     "data": {
      "text/html": [
       "<div>\n",
       "<style scoped>\n",
       "    .dataframe tbody tr th:only-of-type {\n",
       "        vertical-align: middle;\n",
       "    }\n",
       "\n",
       "    .dataframe tbody tr th {\n",
       "        vertical-align: top;\n",
       "    }\n",
       "\n",
       "    .dataframe thead th {\n",
       "        text-align: right;\n",
       "    }\n",
       "</style>\n",
       "<table border=\"1\" class=\"dataframe\">\n",
       "  <thead>\n",
       "    <tr style=\"text-align: right;\">\n",
       "      <th></th>\n",
       "      <th>trans_id</th>\n",
       "      <th>account_id</th>\n",
       "      <th>date</th>\n",
       "      <th>type</th>\n",
       "      <th>operation</th>\n",
       "      <th>amount</th>\n",
       "      <th>balance</th>\n",
       "      <th>k_symbol</th>\n",
       "      <th>bank</th>\n",
       "      <th>account</th>\n",
       "    </tr>\n",
       "  </thead>\n",
       "  <tbody>\n",
       "    <tr>\n",
       "      <th>0</th>\n",
       "      <td>695247</td>\n",
       "      <td>2378</td>\n",
       "      <td>930101</td>\n",
       "      <td>PRIJEM</td>\n",
       "      <td>VKLAD</td>\n",
       "      <td>700.0</td>\n",
       "      <td>700.0</td>\n",
       "      <td></td>\n",
       "      <td></td>\n",
       "      <td>0</td>\n",
       "    </tr>\n",
       "    <tr>\n",
       "      <th>1</th>\n",
       "      <td>171812</td>\n",
       "      <td>576</td>\n",
       "      <td>930101</td>\n",
       "      <td>PRIJEM</td>\n",
       "      <td>VKLAD</td>\n",
       "      <td>900.0</td>\n",
       "      <td>900.0</td>\n",
       "      <td></td>\n",
       "      <td></td>\n",
       "      <td>0</td>\n",
       "    </tr>\n",
       "    <tr>\n",
       "      <th>2</th>\n",
       "      <td>207264</td>\n",
       "      <td>704</td>\n",
       "      <td>930101</td>\n",
       "      <td>PRIJEM</td>\n",
       "      <td>VKLAD</td>\n",
       "      <td>1000.0</td>\n",
       "      <td>1000.0</td>\n",
       "      <td></td>\n",
       "      <td></td>\n",
       "      <td>0</td>\n",
       "    </tr>\n",
       "    <tr>\n",
       "      <th>3</th>\n",
       "      <td>1117247</td>\n",
       "      <td>3818</td>\n",
       "      <td>930101</td>\n",
       "      <td>PRIJEM</td>\n",
       "      <td>VKLAD</td>\n",
       "      <td>600.0</td>\n",
       "      <td>600.0</td>\n",
       "      <td></td>\n",
       "      <td></td>\n",
       "      <td>0</td>\n",
       "    </tr>\n",
       "    <tr>\n",
       "      <th>4</th>\n",
       "      <td>579373</td>\n",
       "      <td>1972</td>\n",
       "      <td>930102</td>\n",
       "      <td>PRIJEM</td>\n",
       "      <td>VKLAD</td>\n",
       "      <td>400.0</td>\n",
       "      <td>400.0</td>\n",
       "      <td></td>\n",
       "      <td></td>\n",
       "      <td>0</td>\n",
       "    </tr>\n",
       "  </tbody>\n",
       "</table>\n",
       "</div>"
      ],
      "text/plain": [
       "   trans_id  account_id    date    type operation  amount  balance k_symbol  \\\n",
       "0    695247        2378  930101  PRIJEM     VKLAD   700.0    700.0            \n",
       "1    171812         576  930101  PRIJEM     VKLAD   900.0    900.0            \n",
       "2    207264         704  930101  PRIJEM     VKLAD  1000.0   1000.0            \n",
       "3   1117247        3818  930101  PRIJEM     VKLAD   600.0    600.0            \n",
       "4    579373        1972  930102  PRIJEM     VKLAD   400.0    400.0            \n",
       "\n",
       "  bank  account  \n",
       "0             0  \n",
       "1             0  \n",
       "2             0  \n",
       "3             0  \n",
       "4             0  "
      ]
     },
     "execution_count": 65,
     "metadata": {},
     "output_type": "execute_result"
    }
   ],
   "source": [
    "data = pd.read_sql_table('trans', connection_string)\n",
    "data.head()"
   ]
  },
  {
   "cell_type": "code",
   "execution_count": 66,
   "metadata": {},
   "outputs": [
    {
     "data": {
      "text/plain": [
       "VYDAJ     513977\n",
       "PRIJEM    339950\n",
       "VYBER      14092\n",
       "Name: type, dtype: int64"
      ]
     },
     "execution_count": 66,
     "metadata": {},
     "output_type": "execute_result"
    }
   ],
   "source": [
    "data['type'].value_counts()"
   ]
  },
  {
   "cell_type": "code",
   "execution_count": 67,
   "metadata": {},
   "outputs": [
    {
     "data": {
      "text/plain": [
       "VYBER             391903\n",
       "                  183112\n",
       "PREVOD NA UCET    129484\n",
       "VKLAD             115624\n",
       "PREVOD Z UCTU      41214\n",
       "VYBER KARTOU        6682\n",
       "Name: operation, dtype: int64"
      ]
     },
     "execution_count": 67,
     "metadata": {},
     "output_type": "execute_result"
    }
   ],
   "source": [
    "data['operation'].value_counts()"
   ]
  },
  {
   "cell_type": "code",
   "execution_count": 68,
   "metadata": {},
   "outputs": [
    {
     "data": {
      "text/html": [
       "<div>\n",
       "<style scoped>\n",
       "    .dataframe tbody tr th:only-of-type {\n",
       "        vertical-align: middle;\n",
       "    }\n",
       "\n",
       "    .dataframe tbody tr th {\n",
       "        vertical-align: top;\n",
       "    }\n",
       "\n",
       "    .dataframe thead th {\n",
       "        text-align: right;\n",
       "    }\n",
       "</style>\n",
       "<table border=\"1\" class=\"dataframe\">\n",
       "  <thead>\n",
       "    <tr style=\"text-align: right;\">\n",
       "      <th>operation</th>\n",
       "      <th></th>\n",
       "      <th>PREVOD NA UCET</th>\n",
       "      <th>PREVOD Z UCTU</th>\n",
       "      <th>VKLAD</th>\n",
       "      <th>VYBER</th>\n",
       "      <th>VYBER KARTOU</th>\n",
       "    </tr>\n",
       "    <tr>\n",
       "      <th>type</th>\n",
       "      <th></th>\n",
       "      <th></th>\n",
       "      <th></th>\n",
       "      <th></th>\n",
       "      <th></th>\n",
       "      <th></th>\n",
       "    </tr>\n",
       "  </thead>\n",
       "  <tbody>\n",
       "    <tr>\n",
       "      <th>PRIJEM</th>\n",
       "      <td>183112</td>\n",
       "      <td>0</td>\n",
       "      <td>41214</td>\n",
       "      <td>115624</td>\n",
       "      <td>0</td>\n",
       "      <td>0</td>\n",
       "    </tr>\n",
       "    <tr>\n",
       "      <th>VYBER</th>\n",
       "      <td>0</td>\n",
       "      <td>0</td>\n",
       "      <td>0</td>\n",
       "      <td>0</td>\n",
       "      <td>14092</td>\n",
       "      <td>0</td>\n",
       "    </tr>\n",
       "    <tr>\n",
       "      <th>VYDAJ</th>\n",
       "      <td>0</td>\n",
       "      <td>129484</td>\n",
       "      <td>0</td>\n",
       "      <td>0</td>\n",
       "      <td>377811</td>\n",
       "      <td>6682</td>\n",
       "    </tr>\n",
       "  </tbody>\n",
       "</table>\n",
       "</div>"
      ],
      "text/plain": [
       "operation          PREVOD NA UCET  PREVOD Z UCTU   VKLAD   VYBER  VYBER KARTOU\n",
       "type                                                                          \n",
       "PRIJEM     183112               0          41214  115624       0             0\n",
       "VYBER           0               0              0       0   14092             0\n",
       "VYDAJ           0          129484              0       0  377811          6682"
      ]
     },
     "execution_count": 68,
     "metadata": {},
     "output_type": "execute_result"
    }
   ],
   "source": [
    "import pandas as pd\n",
    "pd.crosstab(data1['type'], data1['operation'])"
   ]
  },
  {
   "cell_type": "code",
   "execution_count": 69,
   "metadata": {},
   "outputs": [],
   "source": [
    "from sklearn.preprocessing import StandardScaler\n",
    "import numpy as np"
   ]
  },
  {
   "cell_type": "code",
   "execution_count": 71,
   "metadata": {},
   "outputs": [
    {
     "data": {
      "text/html": [
       "<div>\n",
       "<style scoped>\n",
       "    .dataframe tbody tr th:only-of-type {\n",
       "        vertical-align: middle;\n",
       "    }\n",
       "\n",
       "    .dataframe tbody tr th {\n",
       "        vertical-align: top;\n",
       "    }\n",
       "\n",
       "    .dataframe thead th {\n",
       "        text-align: right;\n",
       "    }\n",
       "</style>\n",
       "<table border=\"1\" class=\"dataframe\">\n",
       "  <thead>\n",
       "    <tr style=\"text-align: right;\">\n",
       "      <th></th>\n",
       "      <th>trans_id</th>\n",
       "      <th>account_id</th>\n",
       "      <th>date</th>\n",
       "      <th>amount</th>\n",
       "      <th>balance</th>\n",
       "      <th>account</th>\n",
       "    </tr>\n",
       "  </thead>\n",
       "  <tbody>\n",
       "    <tr>\n",
       "      <th>0</th>\n",
       "      <td>695247</td>\n",
       "      <td>2378</td>\n",
       "      <td>930101</td>\n",
       "      <td>700.0</td>\n",
       "      <td>700.0</td>\n",
       "      <td>0</td>\n",
       "    </tr>\n",
       "    <tr>\n",
       "      <th>1</th>\n",
       "      <td>171812</td>\n",
       "      <td>576</td>\n",
       "      <td>930101</td>\n",
       "      <td>900.0</td>\n",
       "      <td>900.0</td>\n",
       "      <td>0</td>\n",
       "    </tr>\n",
       "    <tr>\n",
       "      <th>2</th>\n",
       "      <td>207264</td>\n",
       "      <td>704</td>\n",
       "      <td>930101</td>\n",
       "      <td>1000.0</td>\n",
       "      <td>1000.0</td>\n",
       "      <td>0</td>\n",
       "    </tr>\n",
       "    <tr>\n",
       "      <th>3</th>\n",
       "      <td>1117247</td>\n",
       "      <td>3818</td>\n",
       "      <td>930101</td>\n",
       "      <td>600.0</td>\n",
       "      <td>600.0</td>\n",
       "      <td>0</td>\n",
       "    </tr>\n",
       "    <tr>\n",
       "      <th>4</th>\n",
       "      <td>579373</td>\n",
       "      <td>1972</td>\n",
       "      <td>930102</td>\n",
       "      <td>400.0</td>\n",
       "      <td>400.0</td>\n",
       "      <td>0</td>\n",
       "    </tr>\n",
       "  </tbody>\n",
       "</table>\n",
       "</div>"
      ],
      "text/plain": [
       "   trans_id  account_id    date  amount  balance  account\n",
       "0    695247        2378  930101   700.0    700.0        0\n",
       "1    171812         576  930101   900.0    900.0        0\n",
       "2    207264         704  930101  1000.0   1000.0        0\n",
       "3   1117247        3818  930101   600.0    600.0        0\n",
       "4    579373        1972  930102   400.0    400.0        0"
      ]
     },
     "execution_count": 71,
     "metadata": {},
     "output_type": "execute_result"
    }
   ],
   "source": [
    "numerical = data.select_dtypes(np.number)\n",
    "numerical.head()"
   ]
  },
  {
   "cell_type": "code",
   "execution_count": 78,
   "metadata": {},
   "outputs": [
    {
     "data": {
      "text/plain": [
       "trans_id        int64\n",
       "account_id      int64\n",
       "date           object\n",
       "amount        float64\n",
       "balance       float64\n",
       "account         int64\n",
       "dtype: object"
      ]
     },
     "execution_count": 78,
     "metadata": {},
     "output_type": "execute_result"
    }
   ],
   "source": [
    "numerical.dtypes"
   ]
  },
  {
   "cell_type": "code",
   "execution_count": 81,
   "metadata": {},
   "outputs": [],
   "source": [
    "numerical = numerical.drop(['trans_id', 'account_id', 'date', 'account'], axis=1)"
   ]
  },
  {
   "cell_type": "code",
   "execution_count": 82,
   "metadata": {},
   "outputs": [],
   "source": [
    "scaled = StandardScaler().fit_transform(numerical)\n",
    "scaled = pd.DataFrame(scaled)"
   ]
  },
  {
   "cell_type": "code",
   "execution_count": 34,
   "metadata": {},
   "outputs": [
    {
     "data": {
      "text/html": [
       "<div>\n",
       "<style scoped>\n",
       "    .dataframe tbody tr th:only-of-type {\n",
       "        vertical-align: middle;\n",
       "    }\n",
       "\n",
       "    .dataframe tbody tr th {\n",
       "        vertical-align: top;\n",
       "    }\n",
       "\n",
       "    .dataframe thead th {\n",
       "        text-align: right;\n",
       "    }\n",
       "</style>\n",
       "<table border=\"1\" class=\"dataframe\">\n",
       "  <thead>\n",
       "    <tr style=\"text-align: right;\">\n",
       "      <th></th>\n",
       "      <th>0</th>\n",
       "      <th>1</th>\n",
       "    </tr>\n",
       "  </thead>\n",
       "  <tbody>\n",
       "    <tr>\n",
       "      <th>0</th>\n",
       "      <td>-0.504196</td>\n",
       "      <td>-1.702239</td>\n",
       "    </tr>\n",
       "    <tr>\n",
       "      <th>1</th>\n",
       "      <td>-0.482877</td>\n",
       "      <td>-1.693205</td>\n",
       "    </tr>\n",
       "    <tr>\n",
       "      <th>2</th>\n",
       "      <td>-0.472218</td>\n",
       "      <td>-1.688688</td>\n",
       "    </tr>\n",
       "    <tr>\n",
       "      <th>3</th>\n",
       "      <td>-0.514855</td>\n",
       "      <td>-1.706756</td>\n",
       "    </tr>\n",
       "    <tr>\n",
       "      <th>4</th>\n",
       "      <td>-0.536174</td>\n",
       "      <td>-1.715789</td>\n",
       "    </tr>\n",
       "  </tbody>\n",
       "</table>\n",
       "</div>"
      ],
      "text/plain": [
       "          0         1\n",
       "0 -0.504196 -1.702239\n",
       "1 -0.482877 -1.693205\n",
       "2 -0.472218 -1.688688\n",
       "3 -0.514855 -1.706756\n",
       "4 -0.536174 -1.715789"
      ]
     },
     "execution_count": 34,
     "metadata": {},
     "output_type": "execute_result"
    }
   ],
   "source": [
    "scaled.head()"
   ]
  },
  {
   "cell_type": "code",
   "execution_count": 25,
   "metadata": {},
   "outputs": [],
   "source": [
    "import matplotlib.pyplot as plt\n",
    "import seaborn as sns\n",
    "%matplotlib inline "
   ]
  },
  {
   "cell_type": "code",
   "execution_count": 42,
   "metadata": {},
   "outputs": [
    {
     "data": {
      "text/html": [
       "<div>\n",
       "<style scoped>\n",
       "    .dataframe tbody tr th:only-of-type {\n",
       "        vertical-align: middle;\n",
       "    }\n",
       "\n",
       "    .dataframe tbody tr th {\n",
       "        vertical-align: top;\n",
       "    }\n",
       "\n",
       "    .dataframe thead th {\n",
       "        text-align: right;\n",
       "    }\n",
       "</style>\n",
       "<table border=\"1\" class=\"dataframe\">\n",
       "  <thead>\n",
       "    <tr style=\"text-align: right;\">\n",
       "      <th></th>\n",
       "      <th>amount</th>\n",
       "      <th>balance</th>\n",
       "    </tr>\n",
       "  </thead>\n",
       "  <tbody>\n",
       "    <tr>\n",
       "      <th>count</th>\n",
       "      <td>868019.000000</td>\n",
       "      <td>868019.000000</td>\n",
       "    </tr>\n",
       "    <tr>\n",
       "      <th>mean</th>\n",
       "      <td>5430.072479</td>\n",
       "      <td>38385.785573</td>\n",
       "    </tr>\n",
       "    <tr>\n",
       "      <th>std</th>\n",
       "      <td>9381.422547</td>\n",
       "      <td>22138.967363</td>\n",
       "    </tr>\n",
       "    <tr>\n",
       "      <th>min</th>\n",
       "      <td>0.000000</td>\n",
       "      <td>-41125.700000</td>\n",
       "    </tr>\n",
       "    <tr>\n",
       "      <th>25%</th>\n",
       "      <td>100.000000</td>\n",
       "      <td>22360.750000</td>\n",
       "    </tr>\n",
       "    <tr>\n",
       "      <th>50%</th>\n",
       "      <td>1380.000000</td>\n",
       "      <td>33001.000000</td>\n",
       "    </tr>\n",
       "    <tr>\n",
       "      <th>75%</th>\n",
       "      <td>6100.000000</td>\n",
       "      <td>49246.400000</td>\n",
       "    </tr>\n",
       "    <tr>\n",
       "      <th>max</th>\n",
       "      <td>87400.000000</td>\n",
       "      <td>209637.000000</td>\n",
       "    </tr>\n",
       "  </tbody>\n",
       "</table>\n",
       "</div>"
      ],
      "text/plain": [
       "              amount        balance\n",
       "count  868019.000000  868019.000000\n",
       "mean     5430.072479   38385.785573\n",
       "std      9381.422547   22138.967363\n",
       "min         0.000000  -41125.700000\n",
       "25%       100.000000   22360.750000\n",
       "50%      1380.000000   33001.000000\n",
       "75%      6100.000000   49246.400000\n",
       "max     87400.000000  209637.000000"
      ]
     },
     "execution_count": 42,
     "metadata": {},
     "output_type": "execute_result"
    }
   ],
   "source": [
    "numerical.describe()"
   ]
  },
  {
   "cell_type": "code",
   "execution_count": 43,
   "metadata": {},
   "outputs": [
    {
     "data": {
      "text/html": [
       "<div>\n",
       "<style scoped>\n",
       "    .dataframe tbody tr th:only-of-type {\n",
       "        vertical-align: middle;\n",
       "    }\n",
       "\n",
       "    .dataframe tbody tr th {\n",
       "        vertical-align: top;\n",
       "    }\n",
       "\n",
       "    .dataframe thead th {\n",
       "        text-align: right;\n",
       "    }\n",
       "</style>\n",
       "<table border=\"1\" class=\"dataframe\">\n",
       "  <thead>\n",
       "    <tr style=\"text-align: right;\">\n",
       "      <th></th>\n",
       "      <th>0</th>\n",
       "      <th>1</th>\n",
       "    </tr>\n",
       "  </thead>\n",
       "  <tbody>\n",
       "    <tr>\n",
       "      <th>count</th>\n",
       "      <td>8.680190e+05</td>\n",
       "      <td>8.680190e+05</td>\n",
       "    </tr>\n",
       "    <tr>\n",
       "      <th>mean</th>\n",
       "      <td>6.236934e-15</td>\n",
       "      <td>-6.771887e-16</td>\n",
       "    </tr>\n",
       "    <tr>\n",
       "      <th>std</th>\n",
       "      <td>1.000001e+00</td>\n",
       "      <td>1.000001e+00</td>\n",
       "    </tr>\n",
       "    <tr>\n",
       "      <th>min</th>\n",
       "      <td>-5.788115e-01</td>\n",
       "      <td>-3.591474e+00</td>\n",
       "    </tr>\n",
       "    <tr>\n",
       "      <th>25%</th>\n",
       "      <td>-5.681522e-01</td>\n",
       "      <td>-7.238389e-01</td>\n",
       "    </tr>\n",
       "    <tr>\n",
       "      <th>50%</th>\n",
       "      <td>-4.317122e-01</td>\n",
       "      <td>-2.432267e-01</td>\n",
       "    </tr>\n",
       "    <tr>\n",
       "      <th>75%</th>\n",
       "      <td>7.141006e-02</td>\n",
       "      <td>4.905658e-01</td>\n",
       "    </tr>\n",
       "    <tr>\n",
       "      <th>max</th>\n",
       "      <td>8.737478e+00</td>\n",
       "      <td>7.735289e+00</td>\n",
       "    </tr>\n",
       "  </tbody>\n",
       "</table>\n",
       "</div>"
      ],
      "text/plain": [
       "                  0             1\n",
       "count  8.680190e+05  8.680190e+05\n",
       "mean   6.236934e-15 -6.771887e-16\n",
       "std    1.000001e+00  1.000001e+00\n",
       "min   -5.788115e-01 -3.591474e+00\n",
       "25%   -5.681522e-01 -7.238389e-01\n",
       "50%   -4.317122e-01 -2.432267e-01\n",
       "75%    7.141006e-02  4.905658e-01\n",
       "max    8.737478e+00  7.735289e+00"
      ]
     },
     "execution_count": 43,
     "metadata": {},
     "output_type": "execute_result"
    }
   ],
   "source": [
    "scaled.describe()"
   ]
  },
  {
   "cell_type": "code",
   "execution_count": null,
   "metadata": {},
   "outputs": [],
   "source": []
  },
  {
   "cell_type": "code",
   "execution_count": 83,
   "metadata": {},
   "outputs": [],
   "source": [
    "def logs(x):\n",
    "    if x <= 0 or pd.isna(x):\n",
    "        return 0\n",
    "    else:\n",
    "        return np.log(x)"
   ]
  },
  {
   "cell_type": "code",
   "execution_count": 84,
   "metadata": {},
   "outputs": [],
   "source": [
    "numerical['amount_log'] = list(map(logs, numerical['amount']))\n",
    "numerical['balance_log'] = list(map(logs, numerical['balance']))"
   ]
  },
  {
   "cell_type": "code",
   "execution_count": null,
   "metadata": {},
   "outputs": [],
   "source": []
  },
  {
   "cell_type": "code",
   "execution_count": 56,
   "metadata": {},
   "outputs": [
    {
     "data": {
      "image/png": "[encoded data removed]",
      "text/plain": [
       "<Figure size 432x288 with 2 Axes>"
      ]
     },
     "metadata": {
      "needs_background": "light"
     },
     "output_type": "display_data"
    }
   ],
   "source": [
    "fig, (ax1, ax2) = plt.subplots(ncols=2)\n",
    "sns.distplot(numerical['amount'], ax=ax1)\n",
    "sns.distplot(numerical['amount_log'], ax=ax2)\n",
    "plt.show()"
   ]
  },
  {
   "cell_type": "code",
   "execution_count": 85,
   "metadata": {},
   "outputs": [
    {
     "data": {
      "image/png": "[encoded data removed]",
      "text/plain": [
       "<Figure size 432x288 with 2 Axes>"
      ]
     },
     "metadata": {
      "needs_background": "light"
     },
     "output_type": "display_data"
    }
   ],
   "source": [
    "fig, (ax1, ax2) = plt.subplots(ncols=2)\n",
    "sns.distplot(numerical['balance'], ax=ax1)\n",
    "sns.distplot(numerical['balance_log'], ax=ax2)\n",
    "plt.show()"
   ]
  },
  {
   "cell_type": "code",
   "execution_count": null,
   "metadata": {},
   "outputs": [],
   "source": []
  },
  {
   "cell_type": "code",
   "execution_count": null,
   "metadata": {},
   "outputs": [],
   "source": []
  },
  {
   "cell_type": "code",
   "execution_count": 59,
   "metadata": {},
   "outputs": [],
   "source": [
    "connection_string = 'mysql+pymysql://root:' + password + '@localhost/sakila'\n",
    "engine = create_engine(connection_string)"
   ]
  },
  {
   "cell_type": "code",
   "execution_count": 60,
   "metadata": {},
   "outputs": [
    {
     "data": {
      "text/html": [
       "<div>\n",
       "<style scoped>\n",
       "    .dataframe tbody tr th:only-of-type {\n",
       "        vertical-align: middle;\n",
       "    }\n",
       "\n",
       "    .dataframe tbody tr th {\n",
       "        vertical-align: top;\n",
       "    }\n",
       "\n",
       "    .dataframe thead th {\n",
       "        text-align: right;\n",
       "    }\n",
       "</style>\n",
       "<table border=\"1\" class=\"dataframe\">\n",
       "  <thead>\n",
       "    <tr style=\"text-align: right;\">\n",
       "      <th></th>\n",
       "      <th>category_id</th>\n",
       "      <th>name</th>\n",
       "      <th>last_update</th>\n",
       "      <th>film_id</th>\n",
       "      <th>category_id</th>\n",
       "      <th>last_update</th>\n",
       "      <th>film_id</th>\n",
       "      <th>title</th>\n",
       "      <th>description</th>\n",
       "      <th>release_year</th>\n",
       "      <th>language_id</th>\n",
       "      <th>original_language_id</th>\n",
       "      <th>rental_duration</th>\n",
       "      <th>rental_rate</th>\n",
       "      <th>length</th>\n",
       "      <th>replacement_cost</th>\n",
       "      <th>rating</th>\n",
       "      <th>special_features</th>\n",
       "      <th>last_update</th>\n",
       "    </tr>\n",
       "  </thead>\n",
       "  <tbody>\n",
       "    <tr>\n",
       "      <th>0</th>\n",
       "      <td>1</td>\n",
       "      <td>Action</td>\n",
       "      <td>2006-02-15 15:16:27</td>\n",
       "      <td>19</td>\n",
       "      <td>1</td>\n",
       "      <td>2006-02-15 15:37:09</td>\n",
       "      <td>19</td>\n",
       "      <td>AMADEUS HOLY</td>\n",
       "      <td>A Emotional Display of a Pioneer And a Technic...</td>\n",
       "      <td>2006</td>\n",
       "      <td>1</td>\n",
       "      <td>None</td>\n",
       "      <td>3</td>\n",
       "      <td>2.99</td>\n",
       "      <td>113</td>\n",
       "      <td>8.99</td>\n",
       "      <td>PG</td>\n",
       "      <td>Commentaries,Deleted Scenes,Behind the Scenes</td>\n",
       "      <td>2020-10-24 21:17:18</td>\n",
       "    </tr>\n",
       "    <tr>\n",
       "      <th>1</th>\n",
       "      <td>1</td>\n",
       "      <td>Action</td>\n",
       "      <td>2006-02-15 15:16:27</td>\n",
       "      <td>21</td>\n",
       "      <td>1</td>\n",
       "      <td>2006-02-15 15:37:09</td>\n",
       "      <td>21</td>\n",
       "      <td>AMERICAN CIRCUS</td>\n",
       "      <td>A Insightful Drama of a Girl And a Astronaut w...</td>\n",
       "      <td>2006</td>\n",
       "      <td>1</td>\n",
       "      <td>None</td>\n",
       "      <td>3</td>\n",
       "      <td>2.99</td>\n",
       "      <td>129</td>\n",
       "      <td>8.99</td>\n",
       "      <td>R</td>\n",
       "      <td>Commentaries,Behind the Scenes</td>\n",
       "      <td>2020-10-24 21:17:18</td>\n",
       "    </tr>\n",
       "    <tr>\n",
       "      <th>2</th>\n",
       "      <td>1</td>\n",
       "      <td>Action</td>\n",
       "      <td>2006-02-15 15:16:27</td>\n",
       "      <td>29</td>\n",
       "      <td>1</td>\n",
       "      <td>2006-02-15 15:37:09</td>\n",
       "      <td>29</td>\n",
       "      <td>ANTITRUST TOMATOES</td>\n",
       "      <td>A Fateful Yarn of a Womanizer And a Feminist w...</td>\n",
       "      <td>2006</td>\n",
       "      <td>1</td>\n",
       "      <td>None</td>\n",
       "      <td>3</td>\n",
       "      <td>2.99</td>\n",
       "      <td>168</td>\n",
       "      <td>8.99</td>\n",
       "      <td>NC-17</td>\n",
       "      <td>Trailers,Commentaries,Deleted Scenes</td>\n",
       "      <td>2020-10-24 21:17:18</td>\n",
       "    </tr>\n",
       "    <tr>\n",
       "      <th>3</th>\n",
       "      <td>1</td>\n",
       "      <td>Action</td>\n",
       "      <td>2006-02-15 15:16:27</td>\n",
       "      <td>38</td>\n",
       "      <td>1</td>\n",
       "      <td>2006-02-15 15:37:09</td>\n",
       "      <td>38</td>\n",
       "      <td>ARK RIDGEMONT</td>\n",
       "      <td>A Beautiful Yarn of a Pioneer And a Monkey who...</td>\n",
       "      <td>2006</td>\n",
       "      <td>1</td>\n",
       "      <td>None</td>\n",
       "      <td>3</td>\n",
       "      <td>2.99</td>\n",
       "      <td>68</td>\n",
       "      <td>8.99</td>\n",
       "      <td>NC-17</td>\n",
       "      <td>Trailers,Commentaries,Deleted Scenes,Behind th...</td>\n",
       "      <td>2020-10-24 21:17:18</td>\n",
       "    </tr>\n",
       "    <tr>\n",
       "      <th>4</th>\n",
       "      <td>1</td>\n",
       "      <td>Action</td>\n",
       "      <td>2006-02-15 15:16:27</td>\n",
       "      <td>56</td>\n",
       "      <td>1</td>\n",
       "      <td>2006-02-15 15:37:09</td>\n",
       "      <td>56</td>\n",
       "      <td>BAREFOOT MANCHURIAN</td>\n",
       "      <td>A Intrepid Story of a Cat And a Student who mu...</td>\n",
       "      <td>2006</td>\n",
       "      <td>1</td>\n",
       "      <td>None</td>\n",
       "      <td>3</td>\n",
       "      <td>2.99</td>\n",
       "      <td>129</td>\n",
       "      <td>8.99</td>\n",
       "      <td>G</td>\n",
       "      <td>Trailers,Commentaries</td>\n",
       "      <td>2020-10-24 21:17:18</td>\n",
       "    </tr>\n",
       "  </tbody>\n",
       "</table>\n",
       "</div>"
      ],
      "text/plain": [
       "   category_id    name         last_update  film_id  category_id  \\\n",
       "0            1  Action 2006-02-15 15:16:27       19            1   \n",
       "1            1  Action 2006-02-15 15:16:27       21            1   \n",
       "2            1  Action 2006-02-15 15:16:27       29            1   \n",
       "3            1  Action 2006-02-15 15:16:27       38            1   \n",
       "4            1  Action 2006-02-15 15:16:27       56            1   \n",
       "\n",
       "          last_update  film_id                title  \\\n",
       "0 2006-02-15 15:37:09       19         AMADEUS HOLY   \n",
       "1 2006-02-15 15:37:09       21      AMERICAN CIRCUS   \n",
       "2 2006-02-15 15:37:09       29   ANTITRUST TOMATOES   \n",
       "3 2006-02-15 15:37:09       38        ARK RIDGEMONT   \n",
       "4 2006-02-15 15:37:09       56  BAREFOOT MANCHURIAN   \n",
       "\n",
       "                                         description  release_year  \\\n",
       "0  A Emotional Display of a Pioneer And a Technic...          2006   \n",
       "1  A Insightful Drama of a Girl And a Astronaut w...          2006   \n",
       "2  A Fateful Yarn of a Womanizer And a Feminist w...          2006   \n",
       "3  A Beautiful Yarn of a Pioneer And a Monkey who...          2006   \n",
       "4  A Intrepid Story of a Cat And a Student who mu...          2006   \n",
       "\n",
       "   language_id original_language_id  rental_duration  rental_rate  length  \\\n",
       "0            1                 None                3         2.99     113   \n",
       "1            1                 None                3         2.99     129   \n",
       "2            1                 None                3         2.99     168   \n",
       "3            1                 None                3         2.99      68   \n",
       "4            1                 None                3         2.99     129   \n",
       "\n",
       "   replacement_cost rating                                   special_features  \\\n",
       "0              8.99     PG      Commentaries,Deleted Scenes,Behind the Scenes   \n",
       "1              8.99      R                     Commentaries,Behind the Scenes   \n",
       "2              8.99  NC-17               Trailers,Commentaries,Deleted Scenes   \n",
       "3              8.99  NC-17  Trailers,Commentaries,Deleted Scenes,Behind th...   \n",
       "4              8.99      G                              Trailers,Commentaries   \n",
       "\n",
       "          last_update  \n",
       "0 2020-10-24 21:17:18  \n",
       "1 2020-10-24 21:17:18  \n",
       "2 2020-10-24 21:17:18  \n",
       "3 2020-10-24 21:17:18  \n",
       "4 2020-10-24 21:17:18  "
      ]
     },
     "execution_count": 60,
     "metadata": {},
     "output_type": "execute_result"
    }
   ],
   "source": [
    "query = '''select * from \n",
    "category c join film_category fc\n",
    "on c.category_id = fc.category_id\n",
    "join film on fc.film_id = film.film_id\n",
    "where c.category_id < 5;'''\n",
    "films = pd.read_sql_query(query, engine)\n",
    "films.head()"
   ]
  },
  {
   "cell_type": "code",
   "execution_count": 87,
   "metadata": {},
   "outputs": [
    {
     "data": {
      "text/plain": [
       "2.99    247\n",
       "Name: rental_rate, dtype: int64"
      ]
     },
     "execution_count": 87,
     "metadata": {},
     "output_type": "execute_result"
    }
   ],
   "source": [
    "films['rental_rate'].value_counts()"
   ]
  },
  {
   "cell_type": "code",
   "execution_count": null,
   "metadata": {},
   "outputs": [],
   "source": [
    "films = films.drop(['name', 'last_update', 'category_id'])"
   ]
  },
  {
   "cell_type": "code",
   "execution_count": 88,
   "metadata": {},
   "outputs": [
    {
     "data": {
      "text/plain": [
       "0          Commentaries,Deleted Scenes,Behind the Scenes\n",
       "1                         Commentaries,Behind the Scenes\n",
       "2                   Trailers,Commentaries,Deleted Scenes\n",
       "3      Trailers,Commentaries,Deleted Scenes,Behind th...\n",
       "4                                  Trailers,Commentaries\n",
       "5                                         Deleted Scenes\n",
       "6                Trailers,Commentaries,Behind the Scenes\n",
       "7                                         Deleted Scenes\n",
       "8                            Commentaries,Deleted Scenes\n",
       "9                                      Behind the Scenes\n",
       "10                                              Trailers\n",
       "11                      Deleted Scenes,Behind the Scenes\n",
       "12             Trailers,Deleted Scenes,Behind the Scenes\n",
       "13               Trailers,Commentaries,Behind the Scenes\n",
       "14     Trailers,Commentaries,Deleted Scenes,Behind th...\n",
       "15     Trailers,Commentaries,Deleted Scenes,Behind th...\n",
       "16                                        Deleted Scenes\n",
       "17                            Trailers,Behind the Scenes\n",
       "18                      Deleted Scenes,Behind the Scenes\n",
       "19               Trailers,Commentaries,Behind the Scenes\n",
       "20                            Trailers,Behind the Scenes\n",
       "21               Trailers,Commentaries,Behind the Scenes\n",
       "22         Commentaries,Deleted Scenes,Behind the Scenes\n",
       "23                                          Commentaries\n",
       "24                                     Behind the Scenes\n",
       "25                           Commentaries,Deleted Scenes\n",
       "26                                 Trailers,Commentaries\n",
       "27                                          Commentaries\n",
       "28                                              Trailers\n",
       "29                                          Commentaries\n",
       "                             ...                        \n",
       "217                                Trailers,Commentaries\n",
       "218                                             Trailers\n",
       "219                                         Commentaries\n",
       "220                                       Deleted Scenes\n",
       "221                           Trailers,Behind the Scenes\n",
       "222                                             Trailers\n",
       "223                          Commentaries,Deleted Scenes\n",
       "224                                    Behind the Scenes\n",
       "225                                       Deleted Scenes\n",
       "226                     Deleted Scenes,Behind the Scenes\n",
       "227              Trailers,Commentaries,Behind the Scenes\n",
       "228                              Trailers,Deleted Scenes\n",
       "229                                Trailers,Commentaries\n",
       "230                 Trailers,Commentaries,Deleted Scenes\n",
       "231              Trailers,Commentaries,Behind the Scenes\n",
       "232                 Trailers,Commentaries,Deleted Scenes\n",
       "233        Commentaries,Deleted Scenes,Behind the Scenes\n",
       "234                                    Behind the Scenes\n",
       "235                                         Commentaries\n",
       "236            Trailers,Deleted Scenes,Behind the Scenes\n",
       "237                          Commentaries,Deleted Scenes\n",
       "238                     Deleted Scenes,Behind the Scenes\n",
       "239                                Trailers,Commentaries\n",
       "240                                         Commentaries\n",
       "241                                         Commentaries\n",
       "242                       Commentaries,Behind the Scenes\n",
       "243                                         Commentaries\n",
       "244                       Commentaries,Behind the Scenes\n",
       "245            Trailers,Deleted Scenes,Behind the Scenes\n",
       "246                          Commentaries,Deleted Scenes\n",
       "Name: special_features, Length: 247, dtype: object"
      ]
     },
     "execution_count": 88,
     "metadata": {},
     "output_type": "execute_result"
    }
   ],
   "source": [
    "films['special_features']"
   ]
  },
  {
   "cell_type": "code",
   "execution_count": null,
   "metadata": {},
   "outputs": [],
   "source": []
  }
 ],
 "metadata": {
  "kernelspec": {
   "display_name": "Python 3",
   "language": "python",
   "name": "python3"
  },
  "language_info": {
   "codemirror_mode": {
    "name": "ipython",
    "version": 3
   },
   "file_extension": ".py",
   "mimetype": "text/x-python",
   "name": "python",
   "nbconvert_exporter": "python",
   "pygments_lexer": "ipython3",
   "version": "3.7.3"
  }
 },
 "nbformat": 4,
 "nbformat_minor": 2
}
