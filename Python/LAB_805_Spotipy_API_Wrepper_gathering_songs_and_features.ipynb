{
 "cells": [
  {
   "cell_type": "code",
   "execution_count": 1,
   "metadata": {},
   "outputs": [],
   "source": [
    "import requests\n",
    "import spotipy\n",
    "import pandas as pd\n",
    "from spotipy.oauth2 import SpotifyClientCredentials"
   ]
  },
  {
   "cell_type": "code",
   "execution_count": 2,
   "metadata": {},
   "outputs": [],
   "source": [
    "sp = spotipy.Spotify(auth_manager=SpotifyClientCredentials(client_id ='f22713124fb04e97a26f46a51547744f',\n",
    "                                                          client_secret='75c001d5dfc54f6cb6e44f7a54cdabc0'))\n",
    "                     "
   ]
  },
  {
   "cell_type": "code",
   "execution_count": 3,
   "metadata": {},
   "outputs": [],
   "source": [
    "def get_playlist_tracks(username, playlist_id):\n",
    "    results = sp.user_playlist_tracks(username, playlist_id)\n",
    "    tracks = results['items']\n",
    "    while results['next']:\n",
    "        #next page:\n",
    "        results = sp.next(results)\n",
    "        tracks.extend(results['items'])\n",
    "    return tracks"
   ]
  },
  {
   "cell_type": "markdown",
   "metadata": {},
   "source": [
    "## Testing first:"
   ]
  },
  {
   "cell_type": "code",
   "execution_count": 4,
   "metadata": {},
   "outputs": [],
   "source": [
    "all_tracks = get_playlist_tracks('spotify', '4rnleEAOdmFAbRcNCgZMpY')"
   ]
  },
  {
   "cell_type": "code",
   "execution_count": 5,
   "metadata": {},
   "outputs": [],
   "source": [
    "dic_id_song_artist = [{track['track']['id'] : [track['track']['name'] ,artist['name']]} for track in all_tracks[0:100] for artist in track['track']['artists']]"
   ]
  },
  {
   "cell_type": "code",
   "execution_count": 6,
   "metadata": {},
   "outputs": [],
   "source": [
    "result = sp.audio_features('7dS5EaCoMnN7DzlpT6aRn2')[0]"
   ]
  },
  {
   "cell_type": "code",
   "execution_count": 7,
   "metadata": {},
   "outputs": [],
   "source": [
    "audio_keys = list(result.keys())"
   ]
  },
  {
   "cell_type": "code",
   "execution_count": 8,
   "metadata": {},
   "outputs": [],
   "source": [
    "#audio_keys"
   ]
  },
  {
   "cell_type": "code",
   "execution_count": 9,
   "metadata": {},
   "outputs": [],
   "source": [
    "df_header = ['track_id','name','artist']\n",
    "df_header.extend(audio_keys[0:11])"
   ]
  },
  {
   "cell_type": "code",
   "execution_count": 10,
   "metadata": {},
   "outputs": [
    {
     "name": "stdout",
     "output_type": "stream",
     "text": [
      "['track_id', 'name', 'artist', 'danceability', 'energy', 'key', 'loudness', 'mode', 'speechiness', 'acousticness', 'instrumentalness', 'liveness', 'valence', 'tempo']\n"
     ]
    }
   ],
   "source": [
    "print(df_header)"
   ]
  },
  {
   "cell_type": "code",
   "execution_count": 11,
   "metadata": {},
   "outputs": [
    {
     "data": {
      "text/html": [
       "<div>\n",
       "<style scoped>\n",
       "    .dataframe tbody tr th:only-of-type {\n",
       "        vertical-align: middle;\n",
       "    }\n",
       "\n",
       "    .dataframe tbody tr th {\n",
       "        vertical-align: top;\n",
       "    }\n",
       "\n",
       "    .dataframe thead th {\n",
       "        text-align: right;\n",
       "    }\n",
       "</style>\n",
       "<table border=\"1\" class=\"dataframe\">\n",
       "  <thead>\n",
       "    <tr style=\"text-align: right;\">\n",
       "      <th></th>\n",
       "      <th>danceability</th>\n",
       "      <th>energy</th>\n",
       "      <th>key</th>\n",
       "      <th>loudness</th>\n",
       "      <th>mode</th>\n",
       "      <th>speechiness</th>\n",
       "      <th>acousticness</th>\n",
       "      <th>instrumentalness</th>\n",
       "      <th>liveness</th>\n",
       "      <th>valence</th>\n",
       "      <th>tempo</th>\n",
       "    </tr>\n",
       "  </thead>\n",
       "  <tbody>\n",
       "    <tr>\n",
       "      <th>0</th>\n",
       "      <td>0.566</td>\n",
       "      <td>0.664</td>\n",
       "      <td>4</td>\n",
       "      <td>-5.303</td>\n",
       "      <td>0</td>\n",
       "      <td>0.0464</td>\n",
       "      <td>0.634</td>\n",
       "      <td>0</td>\n",
       "      <td>0.116</td>\n",
       "      <td>0.437</td>\n",
       "      <td>128.945</td>\n",
       "    </tr>\n",
       "  </tbody>\n",
       "</table>\n",
       "</div>"
      ],
      "text/plain": [
       "   danceability  energy  key  loudness  mode  speechiness  acousticness  \\\n",
       "0         0.566   0.664    4    -5.303     0       0.0464         0.634   \n",
       "\n",
       "   instrumentalness  liveness  valence    tempo  \n",
       "0                 0     0.116    0.437  128.945  "
      ]
     },
     "execution_count": 11,
     "metadata": {},
     "output_type": "execute_result"
    }
   ],
   "source": [
    "pd.DataFrame([{audio_keys[i] : result[audio_keys[i]] for i in range(11)}])"
   ]
  },
  {
   "cell_type": "code",
   "execution_count": 12,
   "metadata": {},
   "outputs": [],
   "source": [
    "#[{audio_keys[i] : result[audio_keys[i]] for i in range(11)}]"
   ]
  },
  {
   "cell_type": "code",
   "execution_count": 13,
   "metadata": {},
   "outputs": [
    {
     "data": {
      "text/plain": [
       "{'danceability': 0.566,\n",
       " 'energy': 0.664,\n",
       " 'key': 4,\n",
       " 'loudness': -5.303,\n",
       " 'mode': 0,\n",
       " 'speechiness': 0.0464,\n",
       " 'acousticness': 0.634,\n",
       " 'instrumentalness': 0,\n",
       " 'liveness': 0.116,\n",
       " 'valence': 0.437,\n",
       " 'tempo': 128.945}"
      ]
     },
     "execution_count": 13,
     "metadata": {},
     "output_type": "execute_result"
    }
   ],
   "source": [
    "{audio_keys[i] : result[audio_keys[i]] for i in range(11)}"
   ]
  },
  {
   "cell_type": "markdown",
   "metadata": {},
   "source": [
    "## Creating a loop to extract audio features from a playlist:"
   ]
  },
  {
   "cell_type": "code",
   "execution_count": 14,
   "metadata": {},
   "outputs": [],
   "source": [
    "all_tracks = get_playlist_tracks('spotify', '4rnleEAOdmFAbRcNCgZMpY')"
   ]
  },
  {
   "cell_type": "code",
   "execution_count": 15,
   "metadata": {},
   "outputs": [
    {
     "data": {
      "text/plain": [
       "{'external_urls': {'spotify': 'https://open.spotify.com/artist/2KsP6tYLJlTBvSUxnwlVWa'},\n",
       " 'href': 'https://api.spotify.com/v1/artists/2KsP6tYLJlTBvSUxnwlVWa',\n",
       " 'id': '2KsP6tYLJlTBvSUxnwlVWa',\n",
       " 'name': 'Mike Posner',\n",
       " 'type': 'artist',\n",
       " 'uri': 'spotify:artist:2KsP6tYLJlTBvSUxnwlVWa'}"
      ]
     },
     "execution_count": 15,
     "metadata": {},
     "output_type": "execute_result"
    }
   ],
   "source": [
    "all_tracks[1]['track']['artists'][0]"
   ]
  },
  {
   "cell_type": "markdown",
   "metadata": {},
   "source": [
    "## Only getting first artist mentioned in a song"
   ]
  },
  {
   "cell_type": "code",
   "execution_count": 16,
   "metadata": {},
   "outputs": [],
   "source": [
    "#df_header\n",
    "#audio_keys\n",
    "#dic_id_song_artist = [{track['track']['id'] : [track['track']['name'] ,artist['name']]} for track in all_tracks[0:100] for artist in track['track']['artists']]\n",
    "dic_id_song_artist = [{track['track']['id'] : [track['track']['name'] ,track['track']['artists'][0]['name']]} for track in all_tracks[0:100]]"
   ]
  },
  {
   "cell_type": "code",
   "execution_count": 17,
   "metadata": {},
   "outputs": [],
   "source": [
    "#len(dic_id_song_artist)"
   ]
  },
  {
   "cell_type": "code",
   "execution_count": 18,
   "metadata": {},
   "outputs": [],
   "source": [
    "# dic_id_song_artist"
   ]
  },
  {
   "cell_type": "code",
   "execution_count": 19,
   "metadata": {},
   "outputs": [],
   "source": [
    "df_song = pd.DataFrame(columns = df_header)"
   ]
  },
  {
   "cell_type": "code",
   "execution_count": 30,
   "metadata": {},
   "outputs": [],
   "source": [
    "# df_song"
   ]
  },
  {
   "cell_type": "markdown",
   "metadata": {},
   "source": [
    "## Testing appending rows to DF"
   ]
  },
  {
   "cell_type": "code",
   "execution_count": 27,
   "metadata": {},
   "outputs": [
    {
     "name": "stdout",
     "output_type": "stream",
     "text": [
      "{'track_id': '7dS5EaCoMnN7DzlpT6aRn2', 'name': 'Take Me To Church', 'artist': 'Hozier', 'danceability': 0.566, 'energy': 0.664, 'key': 4, 'loudness': -5.303, 'mode': 0, 'speechiness': 0.0464, 'acousticness': 0.634, 'instrumentalness': 0, 'liveness': 0.116, 'valence': 0.437, 'tempo': 128.945}\n"
     ]
    },
    {
     "data": {
      "text/html": [
       "<div>\n",
       "<style scoped>\n",
       "    .dataframe tbody tr th:only-of-type {\n",
       "        vertical-align: middle;\n",
       "    }\n",
       "\n",
       "    .dataframe tbody tr th {\n",
       "        vertical-align: top;\n",
       "    }\n",
       "\n",
       "    .dataframe thead th {\n",
       "        text-align: right;\n",
       "    }\n",
       "</style>\n",
       "<table border=\"1\" class=\"dataframe\">\n",
       "  <thead>\n",
       "    <tr style=\"text-align: right;\">\n",
       "      <th></th>\n",
       "      <th>track_id</th>\n",
       "      <th>name</th>\n",
       "      <th>artist</th>\n",
       "      <th>danceability</th>\n",
       "      <th>energy</th>\n",
       "      <th>key</th>\n",
       "      <th>loudness</th>\n",
       "      <th>mode</th>\n",
       "      <th>speechiness</th>\n",
       "      <th>acousticness</th>\n",
       "      <th>instrumentalness</th>\n",
       "      <th>liveness</th>\n",
       "      <th>valence</th>\n",
       "      <th>tempo</th>\n",
       "    </tr>\n",
       "  </thead>\n",
       "  <tbody>\n",
       "    <tr>\n",
       "      <th>0</th>\n",
       "      <td>7dS5EaCoMnN7DzlpT6aRn2</td>\n",
       "      <td>Take Me To Church</td>\n",
       "      <td>Hozier</td>\n",
       "      <td>0.566</td>\n",
       "      <td>0.664</td>\n",
       "      <td>4</td>\n",
       "      <td>-5.303</td>\n",
       "      <td>0</td>\n",
       "      <td>0.0464</td>\n",
       "      <td>0.634</td>\n",
       "      <td>0</td>\n",
       "      <td>0.116</td>\n",
       "      <td>0.437</td>\n",
       "      <td>128.945</td>\n",
       "    </tr>\n",
       "  </tbody>\n",
       "</table>\n",
       "</div>"
      ],
      "text/plain": [
       "                 track_id               name  artist  danceability  energy  \\\n",
       "0  7dS5EaCoMnN7DzlpT6aRn2  Take Me To Church  Hozier         0.566   0.664   \n",
       "\n",
       "  key  loudness mode  speechiness  acousticness instrumentalness  liveness  \\\n",
       "0   4    -5.303    0       0.0464         0.634                0     0.116   \n",
       "\n",
       "   valence    tempo  \n",
       "0    0.437  128.945  "
      ]
     },
     "execution_count": 27,
     "metadata": {},
     "output_type": "execute_result"
    }
   ],
   "source": [
    "# dic_key = list(dic_id_song_artist[0].keys())[0]\n",
    "# result = sp.audio_features(dic_key)[0]\n",
    "# dic_new_row = {df_header[0] : dic_key, \n",
    "#                 df_header[1] : dic_id_song_artist[0][dic_key][0],\n",
    "#                 df_header[2] : dic_id_song_artist[0][dic_key][1]}\n",
    "# dic_new_row.update({audio_keys[i] : result[audio_keys[i]] for i in range(11)})\n",
    "# #print(dic_new_row)\n",
    "# df_song.append(dic_new_row,ignore_index=True) "
   ]
  },
  {
   "cell_type": "code",
   "execution_count": 22,
   "metadata": {},
   "outputs": [
    {
     "data": {
      "text/plain": [
       "{'track_id': '7dS5EaCoMnN7DzlpT6aRn2',\n",
       " 'name': 'Take Me To Church',\n",
       " 'artist': 'Hozier',\n",
       " 'danceability': 0.566,\n",
       " 'energy': 0.664,\n",
       " 'key': 4,\n",
       " 'loudness': -5.303,\n",
       " 'mode': 0,\n",
       " 'speechiness': 0.0464,\n",
       " 'acousticness': 0.634,\n",
       " 'instrumentalness': 0,\n",
       " 'liveness': 0.116,\n",
       " 'valence': 0.437,\n",
       " 'tempo': 128.945}"
      ]
     },
     "execution_count": 22,
     "metadata": {},
     "output_type": "execute_result"
    }
   ],
   "source": [
    "dic_new_row"
   ]
  },
  {
   "cell_type": "code",
   "execution_count": 23,
   "metadata": {},
   "outputs": [],
   "source": [
    "# dic_id_song_artist"
   ]
  },
  {
   "cell_type": "markdown",
   "metadata": {},
   "source": [
    "## Final loop for a specific Playlist:"
   ]
  },
  {
   "cell_type": "code",
   "execution_count": 28,
   "metadata": {},
   "outputs": [],
   "source": [
    "for loop in range(len(dic_id_song_artist)):\n",
    "    song_id = list(dic_id_song_artist[loop].keys())[0]\n",
    "    result = sp.audio_features(song_id)[0]\n",
    "    dic_new_row = {df_header[0] : song_id, \n",
    "                    df_header[1] : dic_id_song_artist[loop][song_id][0],\n",
    "                    df_header[2] : dic_id_song_artist[loop][song_id][1]}\n",
    "    dic_new_row.update({audio_keys[i] : result[audio_keys[i]] for i in range(11)})\n",
    "    df_song = df_song.append(dic_new_row,ignore_index=True)"
   ]
  },
  {
   "cell_type": "code",
   "execution_count": 29,
   "metadata": {},
   "outputs": [
    {
     "data": {
      "text/html": [
       "<div>\n",
       "<style scoped>\n",
       "    .dataframe tbody tr th:only-of-type {\n",
       "        vertical-align: middle;\n",
       "    }\n",
       "\n",
       "    .dataframe tbody tr th {\n",
       "        vertical-align: top;\n",
       "    }\n",
       "\n",
       "    .dataframe thead th {\n",
       "        text-align: right;\n",
       "    }\n",
       "</style>\n",
       "<table border=\"1\" class=\"dataframe\">\n",
       "  <thead>\n",
       "    <tr style=\"text-align: right;\">\n",
       "      <th></th>\n",
       "      <th>track_id</th>\n",
       "      <th>name</th>\n",
       "      <th>artist</th>\n",
       "      <th>danceability</th>\n",
       "      <th>energy</th>\n",
       "      <th>key</th>\n",
       "      <th>loudness</th>\n",
       "      <th>mode</th>\n",
       "      <th>speechiness</th>\n",
       "      <th>acousticness</th>\n",
       "      <th>instrumentalness</th>\n",
       "      <th>liveness</th>\n",
       "      <th>valence</th>\n",
       "      <th>tempo</th>\n",
       "    </tr>\n",
       "  </thead>\n",
       "  <tbody>\n",
       "    <tr>\n",
       "      <th>0</th>\n",
       "      <td>7dS5EaCoMnN7DzlpT6aRn2</td>\n",
       "      <td>Take Me To Church</td>\n",
       "      <td>Hozier</td>\n",
       "      <td>0.566</td>\n",
       "      <td>0.664</td>\n",
       "      <td>4</td>\n",
       "      <td>-5.303</td>\n",
       "      <td>0</td>\n",
       "      <td>0.0464</td>\n",
       "      <td>0.634000</td>\n",
       "      <td>0</td>\n",
       "      <td>0.1160</td>\n",
       "      <td>0.437</td>\n",
       "      <td>128.945</td>\n",
       "    </tr>\n",
       "    <tr>\n",
       "      <th>1</th>\n",
       "      <td>2V4bv1fNWfTcyRJKmej6Sj</td>\n",
       "      <td>Cooler Than Me - Single Mix</td>\n",
       "      <td>Mike Posner</td>\n",
       "      <td>0.768</td>\n",
       "      <td>0.820</td>\n",
       "      <td>7</td>\n",
       "      <td>-4.630</td>\n",
       "      <td>0</td>\n",
       "      <td>0.0475</td>\n",
       "      <td>0.179000</td>\n",
       "      <td>0</td>\n",
       "      <td>0.7040</td>\n",
       "      <td>0.625</td>\n",
       "      <td>129.969</td>\n",
       "    </tr>\n",
       "    <tr>\n",
       "      <th>2</th>\n",
       "      <td>7KA4W4McWYRpgf0fWsJZWB</td>\n",
       "      <td>See You Again (feat. Kali Uchis)</td>\n",
       "      <td>Tyler, The Creator</td>\n",
       "      <td>0.558</td>\n",
       "      <td>0.559</td>\n",
       "      <td>6</td>\n",
       "      <td>-9.222</td>\n",
       "      <td>1</td>\n",
       "      <td>0.0959</td>\n",
       "      <td>0.371000</td>\n",
       "      <td>7.49e-06</td>\n",
       "      <td>0.1090</td>\n",
       "      <td>0.620</td>\n",
       "      <td>78.558</td>\n",
       "    </tr>\n",
       "    <tr>\n",
       "      <th>3</th>\n",
       "      <td>3gbBpTdY8lnQwqxNCcf795</td>\n",
       "      <td>Pompeii</td>\n",
       "      <td>Bastille</td>\n",
       "      <td>0.679</td>\n",
       "      <td>0.715</td>\n",
       "      <td>9</td>\n",
       "      <td>-6.383</td>\n",
       "      <td>1</td>\n",
       "      <td>0.0407</td>\n",
       "      <td>0.075500</td>\n",
       "      <td>0</td>\n",
       "      <td>0.2710</td>\n",
       "      <td>0.571</td>\n",
       "      <td>127.435</td>\n",
       "    </tr>\n",
       "    <tr>\n",
       "      <th>4</th>\n",
       "      <td>3ZFTkvIE7kyPt6Nu3PEa7V</td>\n",
       "      <td>Hips Don't Lie (feat. Wyclef Jean)</td>\n",
       "      <td>Shakira</td>\n",
       "      <td>0.778</td>\n",
       "      <td>0.824</td>\n",
       "      <td>10</td>\n",
       "      <td>-5.892</td>\n",
       "      <td>0</td>\n",
       "      <td>0.0712</td>\n",
       "      <td>0.284000</td>\n",
       "      <td>0</td>\n",
       "      <td>0.4050</td>\n",
       "      <td>0.756</td>\n",
       "      <td>100.024</td>\n",
       "    </tr>\n",
       "    <tr>\n",
       "      <th>...</th>\n",
       "      <td>...</td>\n",
       "      <td>...</td>\n",
       "      <td>...</td>\n",
       "      <td>...</td>\n",
       "      <td>...</td>\n",
       "      <td>...</td>\n",
       "      <td>...</td>\n",
       "      <td>...</td>\n",
       "      <td>...</td>\n",
       "      <td>...</td>\n",
       "      <td>...</td>\n",
       "      <td>...</td>\n",
       "      <td>...</td>\n",
       "      <td>...</td>\n",
       "    </tr>\n",
       "    <tr>\n",
       "      <th>95</th>\n",
       "      <td>4JehYebiI9JE8sR8MisGVb</td>\n",
       "      <td>Halo</td>\n",
       "      <td>Beyoncé</td>\n",
       "      <td>0.508</td>\n",
       "      <td>0.720</td>\n",
       "      <td>11</td>\n",
       "      <td>-5.908</td>\n",
       "      <td>0</td>\n",
       "      <td>0.0628</td>\n",
       "      <td>0.272000</td>\n",
       "      <td>0</td>\n",
       "      <td>0.0563</td>\n",
       "      <td>0.472</td>\n",
       "      <td>79.983</td>\n",
       "    </tr>\n",
       "    <tr>\n",
       "      <th>96</th>\n",
       "      <td>7Lf7oSEVdzZqTA0kEDSlS5</td>\n",
       "      <td>Cry Me a River</td>\n",
       "      <td>Justin Timberlake</td>\n",
       "      <td>0.624</td>\n",
       "      <td>0.654</td>\n",
       "      <td>8</td>\n",
       "      <td>-6.582</td>\n",
       "      <td>0</td>\n",
       "      <td>0.1830</td>\n",
       "      <td>0.577000</td>\n",
       "      <td>0</td>\n",
       "      <td>0.1040</td>\n",
       "      <td>0.564</td>\n",
       "      <td>73.898</td>\n",
       "    </tr>\n",
       "    <tr>\n",
       "      <th>97</th>\n",
       "      <td>1FMm3wG5WOhi7js35KR7Ea</td>\n",
       "      <td>You're Gonna Go Far, Kid</td>\n",
       "      <td>The Offspring</td>\n",
       "      <td>0.550</td>\n",
       "      <td>0.918</td>\n",
       "      <td>9</td>\n",
       "      <td>-3.159</td>\n",
       "      <td>0</td>\n",
       "      <td>0.0682</td>\n",
       "      <td>0.004660</td>\n",
       "      <td>0</td>\n",
       "      <td>0.2060</td>\n",
       "      <td>0.563</td>\n",
       "      <td>126.083</td>\n",
       "    </tr>\n",
       "    <tr>\n",
       "      <th>98</th>\n",
       "      <td>6qYGUxPjQt5PJtWdiNppZx</td>\n",
       "      <td>So What</td>\n",
       "      <td>P!nk</td>\n",
       "      <td>0.535</td>\n",
       "      <td>0.886</td>\n",
       "      <td>11</td>\n",
       "      <td>-3.106</td>\n",
       "      <td>1</td>\n",
       "      <td>0.0450</td>\n",
       "      <td>0.000304</td>\n",
       "      <td>2.26e-06</td>\n",
       "      <td>0.2570</td>\n",
       "      <td>0.445</td>\n",
       "      <td>126.012</td>\n",
       "    </tr>\n",
       "    <tr>\n",
       "      <th>99</th>\n",
       "      <td>0RJWhctsc1G1Hg3Ov2th7x</td>\n",
       "      <td>Whenever, Wherever</td>\n",
       "      <td>Shakira</td>\n",
       "      <td>0.793</td>\n",
       "      <td>0.832</td>\n",
       "      <td>1</td>\n",
       "      <td>-4.861</td>\n",
       "      <td>0</td>\n",
       "      <td>0.0405</td>\n",
       "      <td>0.265000</td>\n",
       "      <td>6.84e-06</td>\n",
       "      <td>0.2070</td>\n",
       "      <td>0.865</td>\n",
       "      <td>107.647</td>\n",
       "    </tr>\n",
       "  </tbody>\n",
       "</table>\n",
       "<p>100 rows × 14 columns</p>\n",
       "</div>"
      ],
      "text/plain": [
       "                  track_id                                name  \\\n",
       "0   7dS5EaCoMnN7DzlpT6aRn2                   Take Me To Church   \n",
       "1   2V4bv1fNWfTcyRJKmej6Sj         Cooler Than Me - Single Mix   \n",
       "2   7KA4W4McWYRpgf0fWsJZWB    See You Again (feat. Kali Uchis)   \n",
       "3   3gbBpTdY8lnQwqxNCcf795                             Pompeii   \n",
       "4   3ZFTkvIE7kyPt6Nu3PEa7V  Hips Don't Lie (feat. Wyclef Jean)   \n",
       "..                     ...                                 ...   \n",
       "95  4JehYebiI9JE8sR8MisGVb                                Halo   \n",
       "96  7Lf7oSEVdzZqTA0kEDSlS5                      Cry Me a River   \n",
       "97  1FMm3wG5WOhi7js35KR7Ea            You're Gonna Go Far, Kid   \n",
       "98  6qYGUxPjQt5PJtWdiNppZx                             So What   \n",
       "99  0RJWhctsc1G1Hg3Ov2th7x                  Whenever, Wherever   \n",
       "\n",
       "                artist  danceability  energy key  loudness mode  speechiness  \\\n",
       "0               Hozier         0.566   0.664   4    -5.303    0       0.0464   \n",
       "1          Mike Posner         0.768   0.820   7    -4.630    0       0.0475   \n",
       "2   Tyler, The Creator         0.558   0.559   6    -9.222    1       0.0959   \n",
       "3             Bastille         0.679   0.715   9    -6.383    1       0.0407   \n",
       "4              Shakira         0.778   0.824  10    -5.892    0       0.0712   \n",
       "..                 ...           ...     ...  ..       ...  ...          ...   \n",
       "95             Beyoncé         0.508   0.720  11    -5.908    0       0.0628   \n",
       "96   Justin Timberlake         0.624   0.654   8    -6.582    0       0.1830   \n",
       "97       The Offspring         0.550   0.918   9    -3.159    0       0.0682   \n",
       "98                P!nk         0.535   0.886  11    -3.106    1       0.0450   \n",
       "99             Shakira         0.793   0.832   1    -4.861    0       0.0405   \n",
       "\n",
       "    acousticness instrumentalness  liveness  valence    tempo  \n",
       "0       0.634000                0    0.1160    0.437  128.945  \n",
       "1       0.179000                0    0.7040    0.625  129.969  \n",
       "2       0.371000         7.49e-06    0.1090    0.620   78.558  \n",
       "3       0.075500                0    0.2710    0.571  127.435  \n",
       "4       0.284000                0    0.4050    0.756  100.024  \n",
       "..           ...              ...       ...      ...      ...  \n",
       "95      0.272000                0    0.0563    0.472   79.983  \n",
       "96      0.577000                0    0.1040    0.564   73.898  \n",
       "97      0.004660                0    0.2060    0.563  126.083  \n",
       "98      0.000304         2.26e-06    0.2570    0.445  126.012  \n",
       "99      0.265000         6.84e-06    0.2070    0.865  107.647  \n",
       "\n",
       "[100 rows x 14 columns]"
      ]
     },
     "execution_count": 29,
     "metadata": {},
     "output_type": "execute_result"
    }
   ],
   "source": [
    "df_song"
   ]
  },
  {
   "cell_type": "markdown",
   "metadata": {},
   "source": [
    "## Transforming into a function:"
   ]
  },
  {
   "cell_type": "code",
   "execution_count": 44,
   "metadata": {},
   "outputs": [],
   "source": [
    "def get_track_features_from_playlist(username,playlist_id):\n",
    "    #get all tracks from playlist:\n",
    "    all_tracks = get_playlist_tracks(username, playlist_id)\n",
    "    #extract header for audio features:\n",
    "    audio_keys = list(sp.audio_features(all_tracks[0]['track']['id'])[0].keys())[0:11]\n",
    "    #create header for df:\n",
    "    df_header = ['track_id','name','artist']\n",
    "    df_header.extend(audio_keys)\n",
    "    #create empty df with header names:\n",
    "    df_song = pd.DataFrame(columns = df_header)\n",
    "    #create dictionary as <song_id> : <songname>, <artist_name>\n",
    "    dic_id_song_artist = [{track['track']['id'] : [track['track']['name'] ,track['track']['artists'][0]['name']]} for track in all_tracks]\n",
    "    #loop through dictionary, for each song, get audio features and append to dataframe:\n",
    "    for loop in range(len(dic_id_song_artist)):\n",
    "        #get song id:\n",
    "        song_id = list(dic_id_song_artist[loop].keys())[0]\n",
    "        #get audio features:\n",
    "        result = sp.audio_features(song_id)[0]\n",
    "        #create temp dictionary in order to append to df:\n",
    "        dic_new_row = {df_header[0] : song_id, \n",
    "                        df_header[1] : dic_id_song_artist[loop][song_id][0],\n",
    "                        df_header[2] : dic_id_song_artist[loop][song_id][1]}\n",
    "        dic_new_row.update({audio_keys[i] : result[audio_keys[i]] for i in range(len(audio_keys))})\n",
    "        #append new row to dataframe (songid,songanme,artist,audio_features...)\n",
    "        df_song = df_song.append(dic_new_row,ignore_index=True)\n",
    "    return df_song"
   ]
  },
  {
   "cell_type": "code",
   "execution_count": 59,
   "metadata": {},
   "outputs": [],
   "source": [
    "test = get_track_features_from_playlist('spotify','4rnleEAOdmFAbRcNCgZMpY')"
   ]
  },
  {
   "cell_type": "code",
   "execution_count": 62,
   "metadata": {},
   "outputs": [
    {
     "data": {
      "text/plain": [
       "(5198, 14)"
      ]
     },
     "execution_count": 62,
     "metadata": {},
     "output_type": "execute_result"
    }
   ],
   "source": [
    "test.shape"
   ]
  },
  {
   "cell_type": "code",
   "execution_count": 60,
   "metadata": {},
   "outputs": [
    {
     "data": {
      "text/html": [
       "<div>\n",
       "<style scoped>\n",
       "    .dataframe tbody tr th:only-of-type {\n",
       "        vertical-align: middle;\n",
       "    }\n",
       "\n",
       "    .dataframe tbody tr th {\n",
       "        vertical-align: top;\n",
       "    }\n",
       "\n",
       "    .dataframe thead th {\n",
       "        text-align: right;\n",
       "    }\n",
       "</style>\n",
       "<table border=\"1\" class=\"dataframe\">\n",
       "  <thead>\n",
       "    <tr style=\"text-align: right;\">\n",
       "      <th></th>\n",
       "      <th>track_id</th>\n",
       "      <th>name</th>\n",
       "      <th>artist</th>\n",
       "      <th>danceability</th>\n",
       "      <th>energy</th>\n",
       "      <th>key</th>\n",
       "      <th>loudness</th>\n",
       "      <th>mode</th>\n",
       "      <th>speechiness</th>\n",
       "      <th>acousticness</th>\n",
       "      <th>instrumentalness</th>\n",
       "      <th>liveness</th>\n",
       "      <th>valence</th>\n",
       "      <th>tempo</th>\n",
       "    </tr>\n",
       "  </thead>\n",
       "  <tbody>\n",
       "    <tr>\n",
       "      <th>0</th>\n",
       "      <td>7dS5EaCoMnN7DzlpT6aRn2</td>\n",
       "      <td>Take Me To Church</td>\n",
       "      <td>Hozier</td>\n",
       "      <td>0.566</td>\n",
       "      <td>0.664</td>\n",
       "      <td>4</td>\n",
       "      <td>-5.303</td>\n",
       "      <td>0</td>\n",
       "      <td>0.0464</td>\n",
       "      <td>0.6340</td>\n",
       "      <td>0</td>\n",
       "      <td>0.116</td>\n",
       "      <td>0.437</td>\n",
       "      <td>128.945</td>\n",
       "    </tr>\n",
       "    <tr>\n",
       "      <th>1</th>\n",
       "      <td>2V4bv1fNWfTcyRJKmej6Sj</td>\n",
       "      <td>Cooler Than Me - Single Mix</td>\n",
       "      <td>Mike Posner</td>\n",
       "      <td>0.768</td>\n",
       "      <td>0.820</td>\n",
       "      <td>7</td>\n",
       "      <td>-4.630</td>\n",
       "      <td>0</td>\n",
       "      <td>0.0475</td>\n",
       "      <td>0.1790</td>\n",
       "      <td>0</td>\n",
       "      <td>0.704</td>\n",
       "      <td>0.625</td>\n",
       "      <td>129.969</td>\n",
       "    </tr>\n",
       "    <tr>\n",
       "      <th>2</th>\n",
       "      <td>7KA4W4McWYRpgf0fWsJZWB</td>\n",
       "      <td>See You Again (feat. Kali Uchis)</td>\n",
       "      <td>Tyler, The Creator</td>\n",
       "      <td>0.558</td>\n",
       "      <td>0.559</td>\n",
       "      <td>6</td>\n",
       "      <td>-9.222</td>\n",
       "      <td>1</td>\n",
       "      <td>0.0959</td>\n",
       "      <td>0.3710</td>\n",
       "      <td>7.49e-06</td>\n",
       "      <td>0.109</td>\n",
       "      <td>0.620</td>\n",
       "      <td>78.558</td>\n",
       "    </tr>\n",
       "    <tr>\n",
       "      <th>3</th>\n",
       "      <td>3gbBpTdY8lnQwqxNCcf795</td>\n",
       "      <td>Pompeii</td>\n",
       "      <td>Bastille</td>\n",
       "      <td>0.679</td>\n",
       "      <td>0.715</td>\n",
       "      <td>9</td>\n",
       "      <td>-6.383</td>\n",
       "      <td>1</td>\n",
       "      <td>0.0407</td>\n",
       "      <td>0.0755</td>\n",
       "      <td>0</td>\n",
       "      <td>0.271</td>\n",
       "      <td>0.571</td>\n",
       "      <td>127.435</td>\n",
       "    </tr>\n",
       "    <tr>\n",
       "      <th>4</th>\n",
       "      <td>3ZFTkvIE7kyPt6Nu3PEa7V</td>\n",
       "      <td>Hips Don't Lie (feat. Wyclef Jean)</td>\n",
       "      <td>Shakira</td>\n",
       "      <td>0.778</td>\n",
       "      <td>0.824</td>\n",
       "      <td>10</td>\n",
       "      <td>-5.892</td>\n",
       "      <td>0</td>\n",
       "      <td>0.0712</td>\n",
       "      <td>0.2840</td>\n",
       "      <td>0</td>\n",
       "      <td>0.405</td>\n",
       "      <td>0.756</td>\n",
       "      <td>100.024</td>\n",
       "    </tr>\n",
       "  </tbody>\n",
       "</table>\n",
       "</div>"
      ],
      "text/plain": [
       "                 track_id                                name  \\\n",
       "0  7dS5EaCoMnN7DzlpT6aRn2                   Take Me To Church   \n",
       "1  2V4bv1fNWfTcyRJKmej6Sj         Cooler Than Me - Single Mix   \n",
       "2  7KA4W4McWYRpgf0fWsJZWB    See You Again (feat. Kali Uchis)   \n",
       "3  3gbBpTdY8lnQwqxNCcf795                             Pompeii   \n",
       "4  3ZFTkvIE7kyPt6Nu3PEa7V  Hips Don't Lie (feat. Wyclef Jean)   \n",
       "\n",
       "               artist  danceability  energy key  loudness mode  speechiness  \\\n",
       "0              Hozier         0.566   0.664   4    -5.303    0       0.0464   \n",
       "1         Mike Posner         0.768   0.820   7    -4.630    0       0.0475   \n",
       "2  Tyler, The Creator         0.558   0.559   6    -9.222    1       0.0959   \n",
       "3            Bastille         0.679   0.715   9    -6.383    1       0.0407   \n",
       "4             Shakira         0.778   0.824  10    -5.892    0       0.0712   \n",
       "\n",
       "   acousticness instrumentalness  liveness  valence    tempo  \n",
       "0        0.6340                0     0.116    0.437  128.945  \n",
       "1        0.1790                0     0.704    0.625  129.969  \n",
       "2        0.3710         7.49e-06     0.109    0.620   78.558  \n",
       "3        0.0755                0     0.271    0.571  127.435  \n",
       "4        0.2840                0     0.405    0.756  100.024  "
      ]
     },
     "execution_count": 60,
     "metadata": {},
     "output_type": "execute_result"
    }
   ],
   "source": [
    "test.head()"
   ]
  },
  {
   "cell_type": "code",
   "execution_count": null,
   "metadata": {},
   "outputs": [],
   "source": []
  },
  {
   "cell_type": "code",
   "execution_count": null,
   "metadata": {},
   "outputs": [],
   "source": []
  },
  {
   "cell_type": "markdown",
   "metadata": {},
   "source": [
    "## Looping through multiple Playlist:"
   ]
  }
 ],
 "metadata": {
  "kernelspec": {
   "display_name": "Python 3",
   "language": "python",
   "name": "python3"
  },
  "language_info": {
   "codemirror_mode": {
    "name": "ipython",
    "version": 3
   },
   "file_extension": ".py",
   "mimetype": "text/x-python",
   "name": "python",
   "nbconvert_exporter": "python",
   "pygments_lexer": "ipython3",
   "version": "3.8.5"
  }
 },
 "nbformat": 4,
 "nbformat_minor": 4
}
