{
 "cells": [
  {
   "cell_type": "code",
   "execution_count": 16,
   "metadata": {},
   "outputs": [],
   "source": [
    "import pandas as pd\n",
    "import numpy as np\n",
    "import seaborn as sns\n",
    "import matplotlib.pyplot as plt\n",
    "import scipy"
   ]
  },
  {
   "cell_type": "markdown",
   "metadata": {},
   "source": [
    "# A/B testing to improve Conversion Rates\n",
    "\n",
    "You work for Company K. Company K is a video streaming service that is selling subscriptions. After running a few analyses, you suggest to the Product Team that placing more prominent upsells on the landing page may result in higher conversion rates (visitors signing up for the subscription). The Product Team took your suggestion with excitement and the engineering team went ahead and implemented the experiment right away. \n",
    "\n",
    "The experiment ran for the month of February 2020. You prepared a few datasets beforehand that will help you in analyzing the success of the A/B test.\n",
    "The A/B test had two experiment groups, A & B, in which visitors assigned to A were in the control group and visitors assigned to B received the new variant with the new upsells. You suggest to assign approximately 7% of the daily visitors to the experiment, applying a 50/50 split among the two variants.\n",
    "\n",
    "You have the following datasets:\n",
    "\n",
    "1. `first_pageviews`: This is a summary of all the unsubscribed users and the timestamp of their first pageview. Users get assigned according to their cookies, which is how we make sure that a user may not be assigned to two different groups when they reach our landing page. Since visitors haven't signed up at this point, they don't have a `user_id`, instead, we assign them a random but unique `anonymous_id`. If visitors get assigned to an experiment, you should see a non-null value in the `exp_id` column. Your experiment has the ids **101** for control and **102** for the variant.\n",
    "2. `subscribers`: This table shows you which users have subscribed at what point in time. To subscribe, you need to be a registered user, which is how you can uniquely identify each subscriber. Since we only sell yearly subscriptions, users cannot have more than 1 subscription within 365 days. \n",
    "3. `users`: This table is useful to link the first pageview of unsubscribed visitors to our subscribers. It keeps track of the `anonymous_id` we assigned to them and maps to the `user_id` we assigned after they sign up\n",
    "\n",
    "Immediately after the end of the experiment, the Product Manager approaches you overly excited and wants you to analyze the success of the experiment.\n",
    "\n",
    "You can find the datasets in the `data/2020-03-01` folder."
   ]
  },
  {
   "cell_type": "code",
   "execution_count": 17,
   "metadata": {},
   "outputs": [],
   "source": [
    "# load the datasets\n",
    "first_pageviews = pd.read_csv(\"data/2020-03-01/first_pageviews.csv\")\n",
    "users = pd.read_csv(\"data/2020-03-01/users_mar01.csv\")\n",
    "subscriptions = pd.read_csv(\"data/2020-03-01/subscriptions_mar01.csv\")"
   ]
  },
  {
   "cell_type": "markdown",
   "metadata": {},
   "source": [
    "## Inspect the data"
   ]
  },
  {
   "cell_type": "code",
   "execution_count": 18,
   "metadata": {},
   "outputs": [
    {
     "data": {
      "text/html": [
       "<div>\n",
       "<style scoped>\n",
       "    .dataframe tbody tr th:only-of-type {\n",
       "        vertical-align: middle;\n",
       "    }\n",
       "\n",
       "    .dataframe tbody tr th {\n",
       "        vertical-align: top;\n",
       "    }\n",
       "\n",
       "    .dataframe thead th {\n",
       "        text-align: right;\n",
       "    }\n",
       "</style>\n",
       "<table border=\"1\" class=\"dataframe\">\n",
       "  <thead>\n",
       "    <tr style=\"text-align: right;\">\n",
       "      <th></th>\n",
       "      <th>date_id</th>\n",
       "      <th>anonymous_id</th>\n",
       "      <th>exp_id</th>\n",
       "    </tr>\n",
       "  </thead>\n",
       "  <tbody>\n",
       "    <tr>\n",
       "      <th>0</th>\n",
       "      <td>2020-01-16</td>\n",
       "      <td>4d005f94-e06f-493c-b569-9efb5ce4d203</td>\n",
       "      <td>NaN</td>\n",
       "    </tr>\n",
       "    <tr>\n",
       "      <th>1</th>\n",
       "      <td>2020-01-16</td>\n",
       "      <td>948ad58a-f483-4007-aa56-280aa018427b</td>\n",
       "      <td>NaN</td>\n",
       "    </tr>\n",
       "    <tr>\n",
       "      <th>2</th>\n",
       "      <td>2020-01-16</td>\n",
       "      <td>31f4f2e4-4ae6-417b-8a6d-53b98a719145</td>\n",
       "      <td>NaN</td>\n",
       "    </tr>\n",
       "    <tr>\n",
       "      <th>3</th>\n",
       "      <td>2020-01-16</td>\n",
       "      <td>24747dc7-355a-44b0-95c6-0caa91cd4ae4</td>\n",
       "      <td>NaN</td>\n",
       "    </tr>\n",
       "    <tr>\n",
       "      <th>4</th>\n",
       "      <td>2020-01-16</td>\n",
       "      <td>0162c4f8-7bc2-4432-90b9-bfb61f5e57b3</td>\n",
       "      <td>NaN</td>\n",
       "    </tr>\n",
       "  </tbody>\n",
       "</table>\n",
       "</div>"
      ],
      "text/plain": [
       "      date_id                          anonymous_id  exp_id\n",
       "0  2020-01-16  4d005f94-e06f-493c-b569-9efb5ce4d203     NaN\n",
       "1  2020-01-16  948ad58a-f483-4007-aa56-280aa018427b     NaN\n",
       "2  2020-01-16  31f4f2e4-4ae6-417b-8a6d-53b98a719145     NaN\n",
       "3  2020-01-16  24747dc7-355a-44b0-95c6-0caa91cd4ae4     NaN\n",
       "4  2020-01-16  0162c4f8-7bc2-4432-90b9-bfb61f5e57b3     NaN"
      ]
     },
     "execution_count": 18,
     "metadata": {},
     "output_type": "execute_result"
    }
   ],
   "source": [
    "# show the first 5 lines of each dataset\n",
    "first_pageviews.head()"
   ]
  },
  {
   "cell_type": "code",
   "execution_count": 19,
   "metadata": {},
   "outputs": [
    {
     "data": {
      "text/html": [
       "<div>\n",
       "<style scoped>\n",
       "    .dataframe tbody tr th:only-of-type {\n",
       "        vertical-align: middle;\n",
       "    }\n",
       "\n",
       "    .dataframe tbody tr th {\n",
       "        vertical-align: top;\n",
       "    }\n",
       "\n",
       "    .dataframe thead th {\n",
       "        text-align: right;\n",
       "    }\n",
       "</style>\n",
       "<table border=\"1\" class=\"dataframe\">\n",
       "  <thead>\n",
       "    <tr style=\"text-align: right;\">\n",
       "      <th></th>\n",
       "      <th>anonymous_id</th>\n",
       "      <th>user_id</th>\n",
       "    </tr>\n",
       "  </thead>\n",
       "  <tbody>\n",
       "    <tr>\n",
       "      <th>0</th>\n",
       "      <td>e575dd8c-f02c-4a1a-8a53-fef7ff2b9f95</td>\n",
       "      <td>b67781da-3a0f-48af-80d8-728d3ec31c66</td>\n",
       "    </tr>\n",
       "    <tr>\n",
       "      <th>1</th>\n",
       "      <td>a92532b2-0317-49bb-9f00-3d9b9ae71ea5</td>\n",
       "      <td>ce1764ca-91a2-4c2e-95fe-c415c5df7be5</td>\n",
       "    </tr>\n",
       "    <tr>\n",
       "      <th>2</th>\n",
       "      <td>9c39b4d4-d7da-49e2-bcd9-4abee3e211f6</td>\n",
       "      <td>b24712a4-40b7-4841-a9e9-f566d9ed48a9</td>\n",
       "    </tr>\n",
       "    <tr>\n",
       "      <th>3</th>\n",
       "      <td>858cc4cc-dcd2-4897-815b-500a2ee8c00e</td>\n",
       "      <td>d0e4f27e-11ab-470c-85db-4f7389ba63d4</td>\n",
       "    </tr>\n",
       "    <tr>\n",
       "      <th>4</th>\n",
       "      <td>96a9ad69-568e-40bd-9ff7-3e6b8e0d3f9a</td>\n",
       "      <td>91b679ad-38cc-4569-b5fc-8a98dc858b8d</td>\n",
       "    </tr>\n",
       "  </tbody>\n",
       "</table>\n",
       "</div>"
      ],
      "text/plain": [
       "                           anonymous_id                               user_id\n",
       "0  e575dd8c-f02c-4a1a-8a53-fef7ff2b9f95  b67781da-3a0f-48af-80d8-728d3ec31c66\n",
       "1  a92532b2-0317-49bb-9f00-3d9b9ae71ea5  ce1764ca-91a2-4c2e-95fe-c415c5df7be5\n",
       "2  9c39b4d4-d7da-49e2-bcd9-4abee3e211f6  b24712a4-40b7-4841-a9e9-f566d9ed48a9\n",
       "3  858cc4cc-dcd2-4897-815b-500a2ee8c00e  d0e4f27e-11ab-470c-85db-4f7389ba63d4\n",
       "4  96a9ad69-568e-40bd-9ff7-3e6b8e0d3f9a  91b679ad-38cc-4569-b5fc-8a98dc858b8d"
      ]
     },
     "execution_count": 19,
     "metadata": {},
     "output_type": "execute_result"
    }
   ],
   "source": [
    "users.head()"
   ]
  },
  {
   "cell_type": "code",
   "execution_count": 20,
   "metadata": {},
   "outputs": [
    {
     "data": {
      "text/html": [
       "<div>\n",
       "<style scoped>\n",
       "    .dataframe tbody tr th:only-of-type {\n",
       "        vertical-align: middle;\n",
       "    }\n",
       "\n",
       "    .dataframe tbody tr th {\n",
       "        vertical-align: top;\n",
       "    }\n",
       "\n",
       "    .dataframe thead th {\n",
       "        text-align: right;\n",
       "    }\n",
       "</style>\n",
       "<table border=\"1\" class=\"dataframe\">\n",
       "  <thead>\n",
       "    <tr style=\"text-align: right;\">\n",
       "      <th></th>\n",
       "      <th>user_id</th>\n",
       "      <th>created_at</th>\n",
       "      <th>client_app</th>\n",
       "    </tr>\n",
       "  </thead>\n",
       "  <tbody>\n",
       "    <tr>\n",
       "      <th>0</th>\n",
       "      <td>b67781da-3a0f-48af-80d8-728d3ec31c66</td>\n",
       "      <td>2020-01-26 09:00:55.628471160</td>\n",
       "      <td>android</td>\n",
       "    </tr>\n",
       "    <tr>\n",
       "      <th>1</th>\n",
       "      <td>ce1764ca-91a2-4c2e-95fe-c415c5df7be5</td>\n",
       "      <td>2020-01-30 10:43:16.359589080</td>\n",
       "      <td>ios</td>\n",
       "    </tr>\n",
       "    <tr>\n",
       "      <th>2</th>\n",
       "      <td>b24712a4-40b7-4841-a9e9-f566d9ed48a9</td>\n",
       "      <td>2020-02-15 21:19:35.663792880</td>\n",
       "      <td>web</td>\n",
       "    </tr>\n",
       "    <tr>\n",
       "      <th>3</th>\n",
       "      <td>d0e4f27e-11ab-470c-85db-4f7389ba63d4</td>\n",
       "      <td>2020-02-13 04:45:52.198410780</td>\n",
       "      <td>ios</td>\n",
       "    </tr>\n",
       "    <tr>\n",
       "      <th>4</th>\n",
       "      <td>91b679ad-38cc-4569-b5fc-8a98dc858b8d</td>\n",
       "      <td>2020-02-10 13:24:29.670026400</td>\n",
       "      <td>android</td>\n",
       "    </tr>\n",
       "  </tbody>\n",
       "</table>\n",
       "</div>"
      ],
      "text/plain": [
       "                                user_id                     created_at  \\\n",
       "0  b67781da-3a0f-48af-80d8-728d3ec31c66  2020-01-26 09:00:55.628471160   \n",
       "1  ce1764ca-91a2-4c2e-95fe-c415c5df7be5  2020-01-30 10:43:16.359589080   \n",
       "2  b24712a4-40b7-4841-a9e9-f566d9ed48a9  2020-02-15 21:19:35.663792880   \n",
       "3  d0e4f27e-11ab-470c-85db-4f7389ba63d4  2020-02-13 04:45:52.198410780   \n",
       "4  91b679ad-38cc-4569-b5fc-8a98dc858b8d  2020-02-10 13:24:29.670026400   \n",
       "\n",
       "  client_app  \n",
       "0    android  \n",
       "1        ios  \n",
       "2        web  \n",
       "3        ios  \n",
       "4    android  "
      ]
     },
     "execution_count": 20,
     "metadata": {},
     "output_type": "execute_result"
    }
   ],
   "source": [
    "subscriptions.head()"
   ]
  },
  {
   "cell_type": "code",
   "execution_count": 21,
   "metadata": {},
   "outputs": [
    {
     "data": {
      "text/plain": [
       "date_id          object\n",
       "anonymous_id     object\n",
       "exp_id          float64\n",
       "dtype: object"
      ]
     },
     "execution_count": 21,
     "metadata": {},
     "output_type": "execute_result"
    }
   ],
   "source": [
    "# check the data types and set them properly for each dataset\n",
    "first_pageviews.dtypes"
   ]
  },
  {
   "cell_type": "code",
   "execution_count": 22,
   "metadata": {},
   "outputs": [],
   "source": [
    "first_pageviews[\"date_id\"] = pd.to_datetime(first_pageviews[\"date_id\"])"
   ]
  },
  {
   "cell_type": "code",
   "execution_count": 23,
   "metadata": {},
   "outputs": [
    {
     "data": {
      "text/plain": [
       "anonymous_id    object\n",
       "user_id         object\n",
       "dtype: object"
      ]
     },
     "execution_count": 23,
     "metadata": {},
     "output_type": "execute_result"
    }
   ],
   "source": [
    "users.dtypes"
   ]
  },
  {
   "cell_type": "code",
   "execution_count": 24,
   "metadata": {},
   "outputs": [
    {
     "data": {
      "text/plain": [
       "user_id       object\n",
       "created_at    object\n",
       "client_app    object\n",
       "dtype: object"
      ]
     },
     "execution_count": 24,
     "metadata": {},
     "output_type": "execute_result"
    }
   ],
   "source": [
    "subscriptions.dtypes"
   ]
  },
  {
   "cell_type": "code",
   "execution_count": 25,
   "metadata": {},
   "outputs": [],
   "source": [
    "subscriptions[\"created_at\"] = pd.to_datetime(subscriptions[\"created_at\"])"
   ]
  },
  {
   "cell_type": "code",
   "execution_count": 26,
   "metadata": {},
   "outputs": [
    {
     "data": {
      "text/plain": [
       "user_id               object\n",
       "created_at    datetime64[ns]\n",
       "client_app            object\n",
       "dtype: object"
      ]
     },
     "execution_count": 26,
     "metadata": {},
     "output_type": "execute_result"
    }
   ],
   "source": [
    "subscriptions.dtypes"
   ]
  },
  {
   "cell_type": "code",
   "execution_count": 28,
   "metadata": {},
   "outputs": [
    {
     "data": {
      "text/html": [
       "<div>\n",
       "<style scoped>\n",
       "    .dataframe tbody tr th:only-of-type {\n",
       "        vertical-align: middle;\n",
       "    }\n",
       "\n",
       "    .dataframe tbody tr th {\n",
       "        vertical-align: top;\n",
       "    }\n",
       "\n",
       "    .dataframe thead th {\n",
       "        text-align: right;\n",
       "    }\n",
       "</style>\n",
       "<table border=\"1\" class=\"dataframe\">\n",
       "  <thead>\n",
       "    <tr style=\"text-align: right;\">\n",
       "      <th></th>\n",
       "      <th>user_id</th>\n",
       "      <th>created_at</th>\n",
       "      <th>client_app</th>\n",
       "      <th>hour</th>\n",
       "    </tr>\n",
       "  </thead>\n",
       "  <tbody>\n",
       "    <tr>\n",
       "      <th>0</th>\n",
       "      <td>b67781da-3a0f-48af-80d8-728d3ec31c66</td>\n",
       "      <td>2020-01-26 09:00:55.628471160</td>\n",
       "      <td>android</td>\n",
       "      <td>9</td>\n",
       "    </tr>\n",
       "    <tr>\n",
       "      <th>1</th>\n",
       "      <td>ce1764ca-91a2-4c2e-95fe-c415c5df7be5</td>\n",
       "      <td>2020-01-30 10:43:16.359589080</td>\n",
       "      <td>ios</td>\n",
       "      <td>10</td>\n",
       "    </tr>\n",
       "    <tr>\n",
       "      <th>2</th>\n",
       "      <td>b24712a4-40b7-4841-a9e9-f566d9ed48a9</td>\n",
       "      <td>2020-02-15 21:19:35.663792880</td>\n",
       "      <td>web</td>\n",
       "      <td>21</td>\n",
       "    </tr>\n",
       "    <tr>\n",
       "      <th>3</th>\n",
       "      <td>d0e4f27e-11ab-470c-85db-4f7389ba63d4</td>\n",
       "      <td>2020-02-13 04:45:52.198410780</td>\n",
       "      <td>ios</td>\n",
       "      <td>4</td>\n",
       "    </tr>\n",
       "    <tr>\n",
       "      <th>4</th>\n",
       "      <td>91b679ad-38cc-4569-b5fc-8a98dc858b8d</td>\n",
       "      <td>2020-02-10 13:24:29.670026400</td>\n",
       "      <td>android</td>\n",
       "      <td>13</td>\n",
       "    </tr>\n",
       "  </tbody>\n",
       "</table>\n",
       "</div>"
      ],
      "text/plain": [
       "                                user_id                    created_at  \\\n",
       "0  b67781da-3a0f-48af-80d8-728d3ec31c66 2020-01-26 09:00:55.628471160   \n",
       "1  ce1764ca-91a2-4c2e-95fe-c415c5df7be5 2020-01-30 10:43:16.359589080   \n",
       "2  b24712a4-40b7-4841-a9e9-f566d9ed48a9 2020-02-15 21:19:35.663792880   \n",
       "3  d0e4f27e-11ab-470c-85db-4f7389ba63d4 2020-02-13 04:45:52.198410780   \n",
       "4  91b679ad-38cc-4569-b5fc-8a98dc858b8d 2020-02-10 13:24:29.670026400   \n",
       "\n",
       "  client_app  hour  \n",
       "0    android     9  \n",
       "1        ios    10  \n",
       "2        web    21  \n",
       "3        ios     4  \n",
       "4    android    13  "
      ]
     },
     "execution_count": 28,
     "metadata": {},
     "output_type": "execute_result"
    }
   ],
   "source": [
    "subscriptions.head()"
   ]
  },
  {
   "cell_type": "code",
   "execution_count": 29,
   "metadata": {},
   "outputs": [
    {
     "data": {
      "image/png": "[encoded data removed]",
      "text/plain": [
       "<Figure size 720x432 with 1 Axes>"
      ]
     },
     "metadata": {
      "needs_background": "light"
     },
     "output_type": "display_data"
    }
   ],
   "source": [
    "# plot first pageview per day to inspect if you can spot any outliers or anything suspicious\n",
    "daily_first_pageviews = (first_pageviews\n",
    "                         .groupby(\"date_id\")\n",
    "                         .agg({\"anonymous_id\": \"count\"})\n",
    "                         .reset_index()\n",
    "                         .rename(columns={\"anonymous_id\": \"visitors\"}))\n",
    "\n",
    "fig, ax = plt.subplots(figsize=(10,6))\n",
    "sns.lineplot(data=daily_first_pageviews,\n",
    "             x=\"date_id\",\n",
    "             y=\"visitors\");"
   ]
  },
  {
   "cell_type": "code",
   "execution_count": 30,
   "metadata": {},
   "outputs": [
    {
     "data": {
      "text/plain": [
       "0.0      93.142992\n",
       "101.0     3.432853\n",
       "102.0     3.424155\n",
       "Name: exp_id, dtype: float64"
      ]
     },
     "execution_count": 30,
     "metadata": {},
     "output_type": "execute_result"
    }
   ],
   "source": [
    "# check the assignment into the experiment. You should see that 7% of the visitors were \n",
    "# assigned to the experiment with a 50/50 split among the two variants\n",
    "first_pageviews.fillna(0)[\"exp_id\"].value_counts(normalize=True) * 100"
   ]
  },
  {
   "cell_type": "markdown",
   "metadata": {},
   "source": [
    "The assignment seemed to work as planned. You can now continue with the data prep.\n",
    "\n",
    "## Create experiment dataset\n",
    "\n",
    "To simplify the analysis, filter and merge the datasets to only focus on what's relevant. That is, you only care about visitors that were actually assigned to the experiment. Among those, you want to know how many subscribed. The proportion of those, for each group, is the conversion rate."
   ]
  },
  {
   "cell_type": "code",
   "execution_count": 13,
   "metadata": {},
   "outputs": [],
   "source": [
    "# merge the tables so you can see all visitors assigned to the experiment \n",
    "# and whether they subscribed or not\n",
    "# create a dummy column for whether a user subscribed or not\n",
    "\n",
    "exp_pageviews = first_pageviews.loc[~first_pageviews[\"exp_id\"].isna()]\n",
    "\n",
    "exp_data = (exp_pageviews\n",
    "            .merge(users, on=\"anonymous_id\", how=\"left\")\n",
    "            .merge(subscriptions, on=\"user_id\", how=\"left\"))\n",
    "\n",
    "exp_data = exp_data.assign(subscribed=np.where(exp_data[\"user_id\"].isna(), 0, 1))"
   ]
  },
  {
   "cell_type": "code",
   "execution_count": 14,
   "metadata": {},
   "outputs": [
    {
     "data": {
      "text/html": [
       "<div>\n",
       "<style scoped>\n",
       "    .dataframe tbody tr th:only-of-type {\n",
       "        vertical-align: middle;\n",
       "    }\n",
       "\n",
       "    .dataframe tbody tr th {\n",
       "        vertical-align: top;\n",
       "    }\n",
       "\n",
       "    .dataframe thead th {\n",
       "        text-align: right;\n",
       "    }\n",
       "</style>\n",
       "<table border=\"1\" class=\"dataframe\">\n",
       "  <thead>\n",
       "    <tr style=\"text-align: right;\">\n",
       "      <th></th>\n",
       "      <th>date_id</th>\n",
       "      <th>anonymous_id</th>\n",
       "      <th>exp_id</th>\n",
       "      <th>user_id</th>\n",
       "      <th>created_at</th>\n",
       "      <th>client_app</th>\n",
       "      <th>subscribed</th>\n",
       "    </tr>\n",
       "  </thead>\n",
       "  <tbody>\n",
       "    <tr>\n",
       "      <th>0</th>\n",
       "      <td>2020-02-01</td>\n",
       "      <td>c8bc65ae-e5bb-47b0-b2ba-a3e32f086c39</td>\n",
       "      <td>101.0</td>\n",
       "      <td>NaN</td>\n",
       "      <td>NaT</td>\n",
       "      <td>NaN</td>\n",
       "      <td>0</td>\n",
       "    </tr>\n",
       "    <tr>\n",
       "      <th>1</th>\n",
       "      <td>2020-02-01</td>\n",
       "      <td>5808da06-67c6-467f-bedd-aa872839ccde</td>\n",
       "      <td>101.0</td>\n",
       "      <td>NaN</td>\n",
       "      <td>NaT</td>\n",
       "      <td>NaN</td>\n",
       "      <td>0</td>\n",
       "    </tr>\n",
       "    <tr>\n",
       "      <th>2</th>\n",
       "      <td>2020-02-01</td>\n",
       "      <td>3265ddda-fefc-471f-b956-fa88b1d85e08</td>\n",
       "      <td>101.0</td>\n",
       "      <td>NaN</td>\n",
       "      <td>NaT</td>\n",
       "      <td>NaN</td>\n",
       "      <td>0</td>\n",
       "    </tr>\n",
       "    <tr>\n",
       "      <th>3</th>\n",
       "      <td>2020-02-01</td>\n",
       "      <td>0b633f23-c070-4289-b323-058c0a4105fb</td>\n",
       "      <td>101.0</td>\n",
       "      <td>NaN</td>\n",
       "      <td>NaT</td>\n",
       "      <td>NaN</td>\n",
       "      <td>0</td>\n",
       "    </tr>\n",
       "    <tr>\n",
       "      <th>4</th>\n",
       "      <td>2020-02-01</td>\n",
       "      <td>72c9c459-ae27-407a-a257-901678774df2</td>\n",
       "      <td>101.0</td>\n",
       "      <td>NaN</td>\n",
       "      <td>NaT</td>\n",
       "      <td>NaN</td>\n",
       "      <td>0</td>\n",
       "    </tr>\n",
       "  </tbody>\n",
       "</table>\n",
       "</div>"
      ],
      "text/plain": [
       "     date_id                          anonymous_id  exp_id user_id created_at  \\\n",
       "0 2020-02-01  c8bc65ae-e5bb-47b0-b2ba-a3e32f086c39   101.0     NaN        NaT   \n",
       "1 2020-02-01  5808da06-67c6-467f-bedd-aa872839ccde   101.0     NaN        NaT   \n",
       "2 2020-02-01  3265ddda-fefc-471f-b956-fa88b1d85e08   101.0     NaN        NaT   \n",
       "3 2020-02-01  0b633f23-c070-4289-b323-058c0a4105fb   101.0     NaN        NaT   \n",
       "4 2020-02-01  72c9c459-ae27-407a-a257-901678774df2   101.0     NaN        NaT   \n",
       "\n",
       "  client_app  subscribed  \n",
       "0        NaN           0  \n",
       "1        NaN           0  \n",
       "2        NaN           0  \n",
       "3        NaN           0  \n",
       "4        NaN           0  "
      ]
     },
     "execution_count": 14,
     "metadata": {},
     "output_type": "execute_result"
    }
   ],
   "source": [
    "exp_data.head()"
   ]
  },
  {
   "cell_type": "markdown",
   "metadata": {},
   "source": [
    "## Inspect experiment data\n",
    "\n",
    "Before running the test, you want to spend some time checking the data you collected."
   ]
  },
  {
   "cell_type": "code",
   "execution_count": 15,
   "metadata": {},
   "outputs": [
    {
     "data": {
      "image/png": "[encoded data removed]",
      "text/plain": [
       "<Figure size 720x432 with 1 Axes>"
      ]
     },
     "metadata": {
      "needs_background": "light"
     },
     "output_type": "display_data"
    }
   ],
   "source": [
    "# plot a timeseries of daily visitors that were assigned to an experiment\n",
    "# plot a line for each exp_id\n",
    "daily_exp_users = (exp_data\n",
    "                   .groupby([\"date_id\", \"exp_id\"])\n",
    "                   .agg({\"anonymous_id\": \"count\"})\n",
    "                   .rename(columns={\"anonymous_id\": \"assigned_visitors\"})\n",
    "                   .reset_index())\n",
    "\n",
    "fig, ax = plt.subplots(figsize=(10,6))\n",
    "sns.lineplot(data=daily_exp_users,\n",
    "             x=\"date_id\",\n",
    "             y=\"assigned_visitors\",\n",
    "             hue=\"exp_id\",\n",
    "             ax=ax);"
   ]
  },
  {
   "cell_type": "code",
   "execution_count": 16,
   "metadata": {},
   "outputs": [
    {
     "name": "stdout",
     "output_type": "stream",
     "text": [
      "2020-02-01 00:00:00\n",
      "2020-02-29 00:00:00\n"
     ]
    }
   ],
   "source": [
    "# does the time range match the experiment requirements?\n",
    "# Do the lines indicate an equal assignment over time?\n",
    "\n",
    "print(exp_data[\"date_id\"].min())\n",
    "print(exp_data[\"date_id\"].max())"
   ]
  },
  {
   "cell_type": "markdown",
   "metadata": {},
   "source": [
    "## Describing the data\n",
    "\n",
    "Compute the differences among the groups, before running a statistical test"
   ]
  },
  {
   "cell_type": "code",
   "execution_count": 17,
   "metadata": {},
   "outputs": [
    {
     "data": {
      "text/html": [
       "<div>\n",
       "<style scoped>\n",
       "    .dataframe tbody tr th:only-of-type {\n",
       "        vertical-align: middle;\n",
       "    }\n",
       "\n",
       "    .dataframe tbody tr th {\n",
       "        vertical-align: top;\n",
       "    }\n",
       "\n",
       "    .dataframe thead th {\n",
       "        text-align: right;\n",
       "    }\n",
       "</style>\n",
       "<table border=\"1\" class=\"dataframe\">\n",
       "  <thead>\n",
       "    <tr style=\"text-align: right;\">\n",
       "      <th></th>\n",
       "      <th></th>\n",
       "      <th>visitors</th>\n",
       "    </tr>\n",
       "    <tr>\n",
       "      <th>exp_id</th>\n",
       "      <th>subscribed</th>\n",
       "      <th></th>\n",
       "    </tr>\n",
       "  </thead>\n",
       "  <tbody>\n",
       "    <tr>\n",
       "      <th rowspan=\"2\" valign=\"top\">101.0</th>\n",
       "      <th>0</th>\n",
       "      <td>67394</td>\n",
       "    </tr>\n",
       "    <tr>\n",
       "      <th>1</th>\n",
       "      <td>493</td>\n",
       "    </tr>\n",
       "    <tr>\n",
       "      <th rowspan=\"2\" valign=\"top\">102.0</th>\n",
       "      <th>0</th>\n",
       "      <td>67180</td>\n",
       "    </tr>\n",
       "    <tr>\n",
       "      <th>1</th>\n",
       "      <td>535</td>\n",
       "    </tr>\n",
       "  </tbody>\n",
       "</table>\n",
       "</div>"
      ],
      "text/plain": [
       "                   visitors\n",
       "exp_id subscribed          \n",
       "101.0  0              67394\n",
       "       1                493\n",
       "102.0  0              67180\n",
       "       1                535"
      ]
     },
     "execution_count": 17,
     "metadata": {},
     "output_type": "execute_result"
    }
   ],
   "source": [
    "# compute the number of conversion for each experiment group\n",
    "cr_total = (exp_data\n",
    "            .groupby([\"exp_id\", \"subscribed\"])\n",
    "            .agg({\"anonymous_id\": \"count\"})\n",
    "            .rename(columns={\"anonymous_id\": \"visitors\"}))\n",
    "cr_total"
   ]
  },
  {
   "cell_type": "code",
   "execution_count": 18,
   "metadata": {},
   "outputs": [
    {
     "data": {
      "text/html": [
       "<div>\n",
       "<style scoped>\n",
       "    .dataframe tbody tr th:only-of-type {\n",
       "        vertical-align: middle;\n",
       "    }\n",
       "\n",
       "    .dataframe tbody tr th {\n",
       "        vertical-align: top;\n",
       "    }\n",
       "\n",
       "    .dataframe thead th {\n",
       "        text-align: right;\n",
       "    }\n",
       "</style>\n",
       "<table border=\"1\" class=\"dataframe\">\n",
       "  <thead>\n",
       "    <tr style=\"text-align: right;\">\n",
       "      <th></th>\n",
       "      <th></th>\n",
       "      <th>visitors</th>\n",
       "    </tr>\n",
       "    <tr>\n",
       "      <th>exp_id</th>\n",
       "      <th>subscribed</th>\n",
       "      <th></th>\n",
       "    </tr>\n",
       "  </thead>\n",
       "  <tbody>\n",
       "    <tr>\n",
       "      <th rowspan=\"2\" valign=\"top\">101.0</th>\n",
       "      <th>0</th>\n",
       "      <td>99.273793</td>\n",
       "    </tr>\n",
       "    <tr>\n",
       "      <th>1</th>\n",
       "      <td>0.726207</td>\n",
       "    </tr>\n",
       "    <tr>\n",
       "      <th rowspan=\"2\" valign=\"top\">102.0</th>\n",
       "      <th>0</th>\n",
       "      <td>99.209924</td>\n",
       "    </tr>\n",
       "    <tr>\n",
       "      <th>1</th>\n",
       "      <td>0.790076</td>\n",
       "    </tr>\n",
       "  </tbody>\n",
       "</table>\n",
       "</div>"
      ],
      "text/plain": [
       "                    visitors\n",
       "exp_id subscribed           \n",
       "101.0  0           99.273793\n",
       "       1            0.726207\n",
       "102.0  0           99.209924\n",
       "       1            0.790076"
      ]
     },
     "execution_count": 18,
     "metadata": {},
     "output_type": "execute_result"
    }
   ],
   "source": [
    "# compute the conversion rate for each experiment group\n",
    "exp_total = (exp_data\n",
    "             .groupby(\"exp_id\")\n",
    "             .agg({\"anonymous_id\": \"count\"})\n",
    "             .rename(columns={\"anonymous_id\": \"visitors\"}))\n",
    "\n",
    "cr_total.div(exp_total, level=\"exp_id\") * 100"
   ]
  },
  {
   "cell_type": "markdown",
   "metadata": {},
   "source": [
    "# interpret the results. From just looking at the numbers, which group performed better with respect to conversions or conversion rates?\n",
    "\n",
    "With respect to conversion rates, the experiment group 102 (variant) performed better. The conversion rate for the group exposed to the updated upsells generated a conversion rate of 0.79, compared to 0.73 in the control group.\n",
    "\n",
    "As a necessary next step, we have to analyze whether this difference was only due to chance or not."
   ]
  },
  {
   "cell_type": "markdown",
   "metadata": {},
   "source": [
    "You should see that there is a difference in the conversion rate across the different experiment groups.\n",
    "\n",
    "Are there any differences among the subscibers for each group with respect to the client application they signed up through?"
   ]
  },
  {
   "cell_type": "code",
   "execution_count": 19,
   "metadata": {},
   "outputs": [
    {
     "data": {
      "text/html": [
       "<div>\n",
       "<style scoped>\n",
       "    .dataframe tbody tr th:only-of-type {\n",
       "        vertical-align: middle;\n",
       "    }\n",
       "\n",
       "    .dataframe tbody tr th {\n",
       "        vertical-align: top;\n",
       "    }\n",
       "\n",
       "    .dataframe thead th {\n",
       "        text-align: right;\n",
       "    }\n",
       "</style>\n",
       "<table border=\"1\" class=\"dataframe\">\n",
       "  <thead>\n",
       "    <tr style=\"text-align: right;\">\n",
       "      <th></th>\n",
       "      <th></th>\n",
       "      <th>subscribers</th>\n",
       "    </tr>\n",
       "    <tr>\n",
       "      <th>exp_id</th>\n",
       "      <th>client_app</th>\n",
       "      <th></th>\n",
       "    </tr>\n",
       "  </thead>\n",
       "  <tbody>\n",
       "    <tr>\n",
       "      <th rowspan=\"3\" valign=\"top\">101.0</th>\n",
       "      <th>android</th>\n",
       "      <td>21.298174</td>\n",
       "    </tr>\n",
       "    <tr>\n",
       "      <th>ios</th>\n",
       "      <td>27.383367</td>\n",
       "    </tr>\n",
       "    <tr>\n",
       "      <th>web</th>\n",
       "      <td>51.318458</td>\n",
       "    </tr>\n",
       "    <tr>\n",
       "      <th rowspan=\"3\" valign=\"top\">102.0</th>\n",
       "      <th>android</th>\n",
       "      <td>20.000000</td>\n",
       "    </tr>\n",
       "    <tr>\n",
       "      <th>ios</th>\n",
       "      <td>30.093458</td>\n",
       "    </tr>\n",
       "    <tr>\n",
       "      <th>web</th>\n",
       "      <td>49.906542</td>\n",
       "    </tr>\n",
       "  </tbody>\n",
       "</table>\n",
       "</div>"
      ],
      "text/plain": [
       "                   subscribers\n",
       "exp_id client_app             \n",
       "101.0  android       21.298174\n",
       "       ios           27.383367\n",
       "       web           51.318458\n",
       "102.0  android       20.000000\n",
       "       ios           30.093458\n",
       "       web           49.906542"
      ]
     },
     "execution_count": 19,
     "metadata": {},
     "output_type": "execute_result"
    }
   ],
   "source": [
    "# Compute relative frequency for each client_app through which they subscribed in each experiment group\n",
    "subs_client = (exp_data\n",
    "               [~exp_data[\"client_app\"].isna()]\n",
    "               .groupby([\"exp_id\", \"client_app\"])\n",
    "               .agg({\"anonymous_id\": \"count\"})\n",
    "               .rename(columns={\"anonymous_id\": \"subscribers\"}))\n",
    "\n",
    "subs = (exp_data\n",
    "        [~exp_data[\"client_app\"].isna()]\n",
    "        .groupby(\"exp_id\")\n",
    "        .agg({\"anonymous_id\": \"count\"})\n",
    "        .rename(columns={\"anonymous_id\": \"subscribers\"}))\n",
    "\n",
    "subs_client.div(subs, level=\"exp_id\") * 100"
   ]
  },
  {
   "cell_type": "markdown",
   "metadata": {},
   "source": [
    "### Interpret and discuss the results\n",
    "\n",
    "In our variant, we see that less people signed up through web and android, but instead more people signed up through ios. The numbers however, are still very close and might be only due to sampling error. We cannot come up with a plausible explanation as to why that behavior should change."
   ]
  },
  {
   "cell_type": "markdown",
   "metadata": {},
   "source": [
    "## Test whether the difference in conversion rate is significant\n",
    "\n",
    "It is time for the statistical test!"
   ]
  },
  {
   "cell_type": "code",
   "execution_count": 20,
   "metadata": {},
   "outputs": [],
   "source": [
    "# compute the two arrays/series to be passed to the t-test\n",
    "exp_101 = exp_data.loc[exp_data[\"exp_id\"] == 101, \"subscribed\"]\n",
    "exp_102 = exp_data.loc[exp_data[\"exp_id\"] == 102, \"subscribed\"]"
   ]
  },
  {
   "cell_type": "code",
   "execution_count": 21,
   "metadata": {},
   "outputs": [
    {
     "data": {
      "text/plain": [
       "Ttest_indResult(statistic=-1.3556897749411265, pvalue=0.17520015633882965)"
      ]
     },
     "execution_count": 21,
     "metadata": {},
     "output_type": "execute_result"
    }
   ],
   "source": [
    "# run the test and compute the p-value, without the equal variance assumption\n",
    "scipy.stats.ttest_ind(exp_101, exp_102, equal_var=False)"
   ]
  },
  {
   "cell_type": "markdown",
   "metadata": {},
   "source": [
    "## Conclusion\n",
    "\n",
    "Given our data, assuming our nullhypothesis is true, there is a 17.5% likelihood of obtaining a difference of 0.07 pp or larger.\n",
    "\n",
    "Inference: Assuming an alpha level of 5%, we cannot reject the null hypothesis. The experiment was not successful.\n",
    "\n",
    "=> We cannot conclude that the upsells resulted in a higher conversion rate. We do not roll out the new upsells.\n",
    "\n",
    "---"
   ]
  },
  {
   "cell_type": "markdown",
   "metadata": {},
   "source": [
    "The experiment unfortunately did not result in a significant difference among the two groups. That is, you cannot conclude that the upsells were in fact improving the conversion rates. You still doubt whether you've done everything in the right way. \n",
    "\n",
    "During a coffee break, you overheard some colleague talking about how they are contemplating about getting newspaper subscription. They said they have been going to the newspaper website a few times already but they're not sure if they're willing to pay the price. You start thinking that you were maybe a little to rushed with starting the analysis on the first day after the experiment ended. It might take some time for people to subscribe after the first pageview..."
   ]
  },
  {
   "cell_type": "code",
   "execution_count": 22,
   "metadata": {},
   "outputs": [
    {
     "data": {
      "text/plain": [
       "Timestamp('2020-02-29 23:58:41.641215300')"
      ]
     },
     "execution_count": 22,
     "metadata": {},
     "output_type": "execute_result"
    }
   ],
   "source": [
    "# check the latest date a subscription was registered\n",
    "exp_data[\"created_at\"].max()"
   ]
  },
  {
   "cell_type": "code",
   "execution_count": 23,
   "metadata": {},
   "outputs": [
    {
     "data": {
      "text/plain": [
       "count                       1028\n",
       "mean      4 days 23:27:23.107857\n",
       "std       4 days 18:58:38.801762\n",
       "min       0 days 00:11:08.493992\n",
       "25%       1 days 12:05:02.718813\n",
       "50%       3 days 12:22:55.859153\n",
       "75%       7 days 03:12:32.620338\n",
       "max      28 days 23:58:41.641215\n",
       "dtype: object"
      ]
     },
     "execution_count": 23,
     "metadata": {},
     "output_type": "execute_result"
    }
   ],
   "source": [
    "# Using the Five-number summary, check how long it takes for users to subscribe after their first visit\n",
    "subscribed = exp_data.loc[exp_data[\"subscribed\"] == 1]\n",
    "(subscribed[\"created_at\"] - subscribed[\"date_id\"]).describe()"
   ]
  },
  {
   "cell_type": "markdown",
   "metadata": {},
   "source": [
    "# What is flawed when computing the five-number summary using this sample?\n",
    "\n",
    "The sample taken to compute the five-number summary is restricted to only allow for a month, thus you won't see any subscribers that subscribed more than a month after their first pageview. Yet, it still gives you enough indication that you want to wait for more time to allow more users to make up their mind, which could result in higher conversion rates overall."
   ]
  },
  {
   "cell_type": "markdown",
   "metadata": {},
   "source": [
    "## Considering time it takes to subscribe\n",
    "\n",
    "The team decides to wait for the analysis until the end of the month to allow users to subscribe. On April 1st, the Product Manager approaches you with even more excitement and pushes you to redo the analysis.\n",
    "\n",
    "The data for the additional subscribers that signed up between the day of your first analysis and today can be found in `data/2020-04-01/`.\n",
    "\n",
    "**Important:** The new data does not include any of the data that were included in the previous datasets."
   ]
  },
  {
   "cell_type": "code",
   "execution_count": 24,
   "metadata": {},
   "outputs": [],
   "source": [
    "# load the newest data for subscriptions and their corresponding mapping in the users dataset\n",
    "users_new = pd.read_csv(\"data/2020-04-01/users_apr01.csv\")\n",
    "subscriptions_new = pd.read_csv(\"data/2020-04-01/subscriptions_apr01.csv\")\n",
    "subscriptions_new[\"created_at\"] = pd.to_datetime(subscriptions_new[\"created_at\"])"
   ]
  },
  {
   "cell_type": "code",
   "execution_count": 25,
   "metadata": {},
   "outputs": [],
   "source": [
    "# combine the newest data with the existing datasets\n",
    "users_new = pd.concat([users, users_new]).reset_index(drop=True)\n",
    "subscriptions_new = pd.concat([subscriptions, subscriptions_new]).reset_index(drop=True)"
   ]
  },
  {
   "cell_type": "code",
   "execution_count": 26,
   "metadata": {},
   "outputs": [],
   "source": [
    "# From here on, you're on your own. Redo the analysis from above with the new dataset.\n",
    "# Make sure to run a few inspections to make sure your data is how you expect it to be\n",
    "# After analyzing, provide a summary and a discussion including your communication to the Product Team"
   ]
  },
  {
   "cell_type": "code",
   "execution_count": 27,
   "metadata": {},
   "outputs": [],
   "source": [
    "# create new analysis dataset\n",
    "exp_data_new = (exp_pageviews\n",
    "                .merge(users_new, on=\"anonymous_id\", how=\"left\")\n",
    "                .merge(subscriptions_new, on=\"user_id\", how=\"left\"))\n",
    "\n",
    "exp_data_new = exp_data_new.assign(subscribed=np.where(exp_data_new[\"user_id\"].isna(), 0, 1))"
   ]
  },
  {
   "cell_type": "code",
   "execution_count": 28,
   "metadata": {},
   "outputs": [
    {
     "data": {
      "image/png": "[encoded data removed]",
      "text/plain": [
       "<Figure size 720x432 with 1 Axes>"
      ]
     },
     "metadata": {
      "needs_background": "light"
     },
     "output_type": "display_data"
    }
   ],
   "source": [
    "# plot a timeseries of daily visitors that were assigned to an experiment, showing a line for each exp_id\n",
    "daily_exp_users_new = (exp_data_new\n",
    "                       .groupby([\"date_id\", \"exp_id\"])\n",
    "                       .agg({\"anonymous_id\": \"count\"})\n",
    "                       .rename(columns={\"anonymous_id\": \"assigned_visitors\"})\n",
    "                       .reset_index())\n",
    "\n",
    "fig, ax = plt.subplots(figsize=(10,6))\n",
    "sns.lineplot(data=daily_exp_users_new,\n",
    "             x=\"date_id\",\n",
    "             y=\"assigned_visitors\",\n",
    "             hue=\"exp_id\",\n",
    "             ax=ax);"
   ]
  },
  {
   "cell_type": "code",
   "execution_count": 29,
   "metadata": {},
   "outputs": [
    {
     "name": "stdout",
     "output_type": "stream",
     "text": [
      "<class 'pandas.core.frame.DataFrame'>\n",
      "Int64Index: 135602 entries, 0 to 135601\n",
      "Data columns (total 7 columns):\n",
      "date_id         135602 non-null datetime64[ns]\n",
      "anonymous_id    135602 non-null object\n",
      "exp_id          135602 non-null float64\n",
      "user_id         1379 non-null object\n",
      "created_at      1379 non-null datetime64[ns]\n",
      "client_app      1379 non-null object\n",
      "subscribed      135602 non-null int64\n",
      "dtypes: datetime64[ns](2), float64(1), int64(1), object(3)\n",
      "memory usage: 8.3+ MB\n"
     ]
    }
   ],
   "source": [
    "exp_data_new.info()"
   ]
  },
  {
   "cell_type": "code",
   "execution_count": 30,
   "metadata": {},
   "outputs": [
    {
     "data": {
      "text/plain": [
       "Timestamp('2020-03-31 21:08:21.353170080')"
      ]
     },
     "execution_count": 30,
     "metadata": {},
     "output_type": "execute_result"
    }
   ],
   "source": [
    "exp_data_new[\"created_at\"].max()"
   ]
  },
  {
   "cell_type": "code",
   "execution_count": 31,
   "metadata": {},
   "outputs": [
    {
     "data": {
      "text/html": [
       "<div>\n",
       "<style scoped>\n",
       "    .dataframe tbody tr th:only-of-type {\n",
       "        vertical-align: middle;\n",
       "    }\n",
       "\n",
       "    .dataframe tbody tr th {\n",
       "        vertical-align: top;\n",
       "    }\n",
       "\n",
       "    .dataframe thead th {\n",
       "        text-align: right;\n",
       "    }\n",
       "</style>\n",
       "<table border=\"1\" class=\"dataframe\">\n",
       "  <thead>\n",
       "    <tr style=\"text-align: right;\">\n",
       "      <th></th>\n",
       "      <th></th>\n",
       "      <th>visitors</th>\n",
       "    </tr>\n",
       "    <tr>\n",
       "      <th>exp_id</th>\n",
       "      <th>subscribed</th>\n",
       "      <th></th>\n",
       "    </tr>\n",
       "  </thead>\n",
       "  <tbody>\n",
       "    <tr>\n",
       "      <th rowspan=\"2\" valign=\"top\">101.0</th>\n",
       "      <th>0</th>\n",
       "      <td>99.02485</td>\n",
       "    </tr>\n",
       "    <tr>\n",
       "      <th>1</th>\n",
       "      <td>0.97515</td>\n",
       "    </tr>\n",
       "    <tr>\n",
       "      <th rowspan=\"2\" valign=\"top\">102.0</th>\n",
       "      <th>0</th>\n",
       "      <td>98.94115</td>\n",
       "    </tr>\n",
       "    <tr>\n",
       "      <th>1</th>\n",
       "      <td>1.05885</td>\n",
       "    </tr>\n",
       "  </tbody>\n",
       "</table>\n",
       "</div>"
      ],
      "text/plain": [
       "                   visitors\n",
       "exp_id subscribed          \n",
       "101.0  0           99.02485\n",
       "       1            0.97515\n",
       "102.0  0           98.94115\n",
       "       1            1.05885"
      ]
     },
     "execution_count": 31,
     "metadata": {},
     "output_type": "execute_result"
    }
   ],
   "source": [
    "cr_total_new = (exp_data_new\n",
    "                .groupby([\"exp_id\", \"subscribed\"])\n",
    "                .agg({\"anonymous_id\": \"count\"})\n",
    "                .rename(columns={\"anonymous_id\": \"visitors\"}))\n",
    "exp_total_new = (exp_data_new\n",
    "                 .groupby(\"exp_id\")\n",
    "                 .agg({\"anonymous_id\": \"count\"})\n",
    "                 .rename(columns={\"anonymous_id\": \"visitors\"}))\n",
    "\n",
    "cr_total_new.div(exp_total_new, level=\"exp_id\") * 100"
   ]
  },
  {
   "cell_type": "code",
   "execution_count": 32,
   "metadata": {},
   "outputs": [
    {
     "data": {
      "text/html": [
       "<div>\n",
       "<style scoped>\n",
       "    .dataframe tbody tr th:only-of-type {\n",
       "        vertical-align: middle;\n",
       "    }\n",
       "\n",
       "    .dataframe tbody tr th {\n",
       "        vertical-align: top;\n",
       "    }\n",
       "\n",
       "    .dataframe thead th {\n",
       "        text-align: right;\n",
       "    }\n",
       "</style>\n",
       "<table border=\"1\" class=\"dataframe\">\n",
       "  <thead>\n",
       "    <tr style=\"text-align: right;\">\n",
       "      <th></th>\n",
       "      <th></th>\n",
       "      <th>subscribers</th>\n",
       "    </tr>\n",
       "    <tr>\n",
       "      <th>exp_id</th>\n",
       "      <th>client_app</th>\n",
       "      <th></th>\n",
       "    </tr>\n",
       "  </thead>\n",
       "  <tbody>\n",
       "    <tr>\n",
       "      <th rowspan=\"3\" valign=\"top\">101.0</th>\n",
       "      <th>android</th>\n",
       "      <td>20.845921</td>\n",
       "    </tr>\n",
       "    <tr>\n",
       "      <th>ios</th>\n",
       "      <td>28.247734</td>\n",
       "    </tr>\n",
       "    <tr>\n",
       "      <th>web</th>\n",
       "      <td>50.906344</td>\n",
       "    </tr>\n",
       "    <tr>\n",
       "      <th rowspan=\"3\" valign=\"top\">102.0</th>\n",
       "      <th>android</th>\n",
       "      <td>20.781032</td>\n",
       "    </tr>\n",
       "    <tr>\n",
       "      <th>ios</th>\n",
       "      <td>30.543933</td>\n",
       "    </tr>\n",
       "    <tr>\n",
       "      <th>web</th>\n",
       "      <td>48.675035</td>\n",
       "    </tr>\n",
       "  </tbody>\n",
       "</table>\n",
       "</div>"
      ],
      "text/plain": [
       "                   subscribers\n",
       "exp_id client_app             \n",
       "101.0  android       20.845921\n",
       "       ios           28.247734\n",
       "       web           50.906344\n",
       "102.0  android       20.781032\n",
       "       ios           30.543933\n",
       "       web           48.675035"
      ]
     },
     "execution_count": 32,
     "metadata": {},
     "output_type": "execute_result"
    }
   ],
   "source": [
    "subs_client_new = (exp_data_new\n",
    "                   [~exp_data_new[\"client_app\"].isna()]\n",
    "                   .groupby([\"exp_id\", \"client_app\"])\n",
    "                   .agg({\"anonymous_id\": \"count\"})\n",
    "                   .rename(columns={\"anonymous_id\": \"subscribers\"}))\n",
    "\n",
    "subs_new = (exp_data_new\n",
    "            [~exp_data_new[\"client_app\"].isna()]\n",
    "            .groupby(\"exp_id\")\n",
    "            .agg({\"anonymous_id\": \"count\"})\n",
    "            .rename(columns={\"anonymous_id\": \"subscribers\"}))\n",
    "\n",
    "subs_client_new.div(subs_new, level=\"exp_id\") * 100"
   ]
  },
  {
   "cell_type": "code",
   "execution_count": 33,
   "metadata": {},
   "outputs": [
    {
     "data": {
      "text/plain": [
       "Ttest_indResult(statistic=-1.5359436402900093, pvalue=0.12455454121006294)"
      ]
     },
     "execution_count": 33,
     "metadata": {},
     "output_type": "execute_result"
    }
   ],
   "source": [
    "exp_new_101 = exp_data_new.loc[exp_data_new[\"exp_id\"] == 101, \"subscribed\"]\n",
    "exp_new_102 = exp_data_new.loc[exp_data_new[\"exp_id\"] == 102, \"subscribed\"]\n",
    "\n",
    "scipy.stats.ttest_ind(exp_new_101, exp_new_102, equal_var=False)"
   ]
  },
  {
   "cell_type": "markdown",
   "metadata": {},
   "source": [
    "# Conclusion\n",
    "\n",
    "We cannot reject the null hypothesis. The experiment did not result in a statistically significant increase in conversion rates.\n",
    "\n",
    "Although the experiment was not successful, it is very unlikely that our newly introduced change will result in a negative impact. Thus, if we already invested a lot in the change, it'll unlikely do worse."
   ]
  }
 ],
 "metadata": {
  "kernelspec": {
   "display_name": "Python 3",
   "language": "python",
   "name": "python3"
  },
  "language_info": {
   "codemirror_mode": {
    "name": "ipython",
    "version": 3
   },
   "file_extension": ".py",
   "mimetype": "text/x-python",
   "name": "python",
   "nbconvert_exporter": "python",
   "pygments_lexer": "ipython3",
   "version": "3.8.5"
  }
 },
 "nbformat": 4,
 "nbformat_minor": 2
}
