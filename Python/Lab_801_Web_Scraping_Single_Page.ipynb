{
 "cells": [
  {
   "cell_type": "code",
<<<<<<< HEAD
   "execution_count": 12,
=======
   "execution_count": 1,
>>>>>>> ac922fcf16f13604b094864b7eaa4fcee4e0e261
   "metadata": {},
   "outputs": [],
   "source": [
    "from bs4 import BeautifulSoup\n",
    "import requests\n",
    "import pandas as pd"
   ]
  },
  {
   "cell_type": "code",
<<<<<<< HEAD
   "execution_count": 13,
=======
   "execution_count": 5,
>>>>>>> ac922fcf16f13604b094864b7eaa4fcee4e0e261
   "metadata": {},
   "outputs": [
    {
     "data": {
      "text/plain": [
       "<Response [200]>"
      ]
     },
<<<<<<< HEAD
     "execution_count": 13,
=======
     "execution_count": 5,
>>>>>>> ac922fcf16f13604b094864b7eaa4fcee4e0e261
     "metadata": {},
     "output_type": "execute_result"
    }
   ],
   "source": [
    "url = \"https://www.billboard.com/charts/hot-100\"\n",
    "response = requests.get(url)\n",
    "response"
   ]
  },
  {
   "cell_type": "code",
<<<<<<< HEAD
   "execution_count": 14,
=======
   "execution_count": 6,
>>>>>>> ac922fcf16f13604b094864b7eaa4fcee4e0e261
   "metadata": {},
   "outputs": [],
   "source": [
    "soup = BeautifulSoup(response.content, \"html.parser\")"
   ]
  },
  {
   "cell_type": "code",
<<<<<<< HEAD
   "execution_count": 15,
=======
   "execution_count": 7,
>>>>>>> ac922fcf16f13604b094864b7eaa4fcee4e0e261
   "metadata": {},
   "outputs": [
    {
     "name": "stderr",
     "output_type": "stream",
     "text": [
      "IOPub data rate exceeded.\n",
      "The notebook server will temporarily stop sending output\n",
      "to the client in order to avoid crashing it.\n",
      "To change this limit, set the config variable\n",
      "`--NotebookApp.iopub_data_rate_limit`.\n",
      "\n",
      "Current values:\n",
      "NotebookApp.iopub_data_rate_limit=1000000.0 (bytes/sec)\n",
      "NotebookApp.rate_limit_window=3.0 (secs)\n",
      "\n"
     ]
    }
   ],
   "source": [
    "print(soup.prettify())"
   ]
  },
  {
   "cell_type": "code",
<<<<<<< HEAD
   "execution_count": 16,
=======
   "execution_count": null,
>>>>>>> ac922fcf16f13604b094864b7eaa4fcee4e0e261
   "metadata": {},
   "outputs": [],
   "source": [
    "# li.chart-list__element:nth-child(3) > button:nth-child(1) > span:nth-child(2) > span:nth-child(1)\n",
    "# Blinding Lights <span class=\"chart-element__information__song text--truncate color--primary\">Blinding Lights</span>\n",
    "# titleColumn span.secondaryInfo\""
   ]
  },
  {
   "cell_type": "code",
<<<<<<< HEAD
   "execution_count": 17,
=======
   "execution_count": 12,
>>>>>>> ac922fcf16f13604b094864b7eaa4fcee4e0e261
   "metadata": {},
   "outputs": [
    {
     "data": {
      "text/plain": [
       "'Drivers License'"
      ]
     },
<<<<<<< HEAD
     "execution_count": 17,
=======
     "execution_count": 12,
>>>>>>> ac922fcf16f13604b094864b7eaa4fcee4e0e261
     "metadata": {},
     "output_type": "execute_result"
    }
   ],
   "source": [
    "soup.select(\"li span.chart-element__information__song\")[0].get_text()"
   ]
  },
  {
   "cell_type": "code",
<<<<<<< HEAD
   "execution_count": 18,
=======
   "execution_count": 13,
>>>>>>> ac922fcf16f13604b094864b7eaa4fcee4e0e261
   "metadata": {},
   "outputs": [
    {
     "data": {
      "text/plain": [
       "'Olivia Rodrigo'"
      ]
     },
<<<<<<< HEAD
     "execution_count": 18,
=======
     "execution_count": 13,
>>>>>>> ac922fcf16f13604b094864b7eaa4fcee4e0e261
     "metadata": {},
     "output_type": "execute_result"
    }
   ],
   "source": [
    "soup.select(\"li span.chart-element__information__artist\")[0].get_text()"
   ]
  },
  {
   "cell_type": "code",
<<<<<<< HEAD
   "execution_count": 19,
=======
   "execution_count": 28,
>>>>>>> ac922fcf16f13604b094864b7eaa4fcee4e0e261
   "metadata": {},
   "outputs": [
    {
     "data": {
      "text/plain": [
       "'4'"
      ]
     },
<<<<<<< HEAD
     "execution_count": 19,
=======
     "execution_count": 28,
>>>>>>> ac922fcf16f13604b094864b7eaa4fcee4e0e261
     "metadata": {},
     "output_type": "execute_result"
    }
   ],
   "source": [
    "soup.select(\"li span.chart-element__rank__number\")[3].get_text()"
   ]
  },
  {
   "cell_type": "code",
<<<<<<< HEAD
   "execution_count": 20,
=======
   "execution_count": 21,
>>>>>>> ac922fcf16f13604b094864b7eaa4fcee4e0e261
   "metadata": {},
   "outputs": [],
   "source": [
    "len_top100 = len(soup.select(\"li span.chart-element__information__song\"))"
   ]
  },
  {
   "cell_type": "code",
<<<<<<< HEAD
   "execution_count": 21,
=======
   "execution_count": 22,
>>>>>>> ac922fcf16f13604b094864b7eaa4fcee4e0e261
   "metadata": {},
   "outputs": [
    {
     "data": {
      "text/plain": [
       "100"
      ]
     },
<<<<<<< HEAD
     "execution_count": 21,
=======
     "execution_count": 22,
>>>>>>> ac922fcf16f13604b094864b7eaa4fcee4e0e261
     "metadata": {},
     "output_type": "execute_result"
    }
   ],
   "source": [
    "len_top100"
   ]
  },
  {
   "cell_type": "code",
<<<<<<< HEAD
   "execution_count": 22,
   "metadata": {},
   "outputs": [],
   "source": [
    "#soup.select(\"li span\").find(\"chart-element__information__song\")"
=======
   "execution_count": 47,
   "metadata": {},
   "outputs": [
    {
     "ename": "AttributeError",
     "evalue": "ResultSet object has no attribute 'find'. You're probably treating a list of elements like a single element. Did you call find_all() when you meant to call find()?",
     "output_type": "error",
     "traceback": [
      "\u001b[1;31m---------------------------------------------------------------------------\u001b[0m",
      "\u001b[1;31mAttributeError\u001b[0m                            Traceback (most recent call last)",
      "\u001b[1;32m<ipython-input-47-ca06629358b4>\u001b[0m in \u001b[0;36m<module>\u001b[1;34m\u001b[0m\n\u001b[1;32m----> 1\u001b[1;33m \u001b[0msoup\u001b[0m\u001b[1;33m.\u001b[0m\u001b[0mselect\u001b[0m\u001b[1;33m(\u001b[0m\u001b[1;34m\"li span\"\u001b[0m\u001b[1;33m)\u001b[0m\u001b[1;33m.\u001b[0m\u001b[0mfind\u001b[0m\u001b[1;33m(\u001b[0m\u001b[1;34m\"chart-element__information__song\"\u001b[0m\u001b[1;33m)\u001b[0m\u001b[1;33m\u001b[0m\u001b[1;33m\u001b[0m\u001b[0m\n\u001b[0m",
      "\u001b[1;32m~\\anaconda3\\lib\\site-packages\\bs4\\element.py\u001b[0m in \u001b[0;36m__getattr__\u001b[1;34m(self, key)\u001b[0m\n\u001b[0;32m   2171\u001b[0m     \u001b[1;32mdef\u001b[0m \u001b[0m__getattr__\u001b[0m\u001b[1;33m(\u001b[0m\u001b[0mself\u001b[0m\u001b[1;33m,\u001b[0m \u001b[0mkey\u001b[0m\u001b[1;33m)\u001b[0m\u001b[1;33m:\u001b[0m\u001b[1;33m\u001b[0m\u001b[1;33m\u001b[0m\u001b[0m\n\u001b[0;32m   2172\u001b[0m         \u001b[1;34m\"\"\"Raise a helpful exception to explain a common code fix.\"\"\"\u001b[0m\u001b[1;33m\u001b[0m\u001b[1;33m\u001b[0m\u001b[0m\n\u001b[1;32m-> 2173\u001b[1;33m         raise AttributeError(\n\u001b[0m\u001b[0;32m   2174\u001b[0m             \u001b[1;34m\"ResultSet object has no attribute '%s'. You're probably treating a list of elements like a single element. Did you call find_all() when you meant to call find()?\"\u001b[0m \u001b[1;33m%\u001b[0m \u001b[0mkey\u001b[0m\u001b[1;33m\u001b[0m\u001b[1;33m\u001b[0m\u001b[0m\n\u001b[0;32m   2175\u001b[0m         )\n",
      "\u001b[1;31mAttributeError\u001b[0m: ResultSet object has no attribute 'find'. You're probably treating a list of elements like a single element. Did you call find_all() when you meant to call find()?"
     ]
    }
   ],
   "source": [
    "soup.select(\"li span\").find(\"chart-element__information__song\")"
>>>>>>> ac922fcf16f13604b094864b7eaa4fcee4e0e261
   ]
  },
  {
   "cell_type": "code",
<<<<<<< HEAD
   "execution_count": 23,
=======
   "execution_count": 40,
>>>>>>> ac922fcf16f13604b094864b7eaa4fcee4e0e261
   "metadata": {},
   "outputs": [],
   "source": [
    "rank = []\n",
    "song = []\n",
    "artist = []\n",
    "\n",
    "for i in range(len_top100):\n",
    "    rank.append(soup.select(\"li span.chart-element__rank__number\")[i].get_text())\n",
    "    song.append(soup.select(\"li span.chart-element__information__song\")[i].get_text())\n",
    "    artist.append(soup.select(\"li span.chart-element__information__artist\")[i].get_text())"
   ]
  },
  {
   "cell_type": "code",
<<<<<<< HEAD
   "execution_count": 24,
=======
   "execution_count": 41,
>>>>>>> ac922fcf16f13604b094864b7eaa4fcee4e0e261
   "metadata": {},
   "outputs": [
    {
     "data": {
      "text/html": [
       "<div>\n",
       "<style scoped>\n",
       "    .dataframe tbody tr th:only-of-type {\n",
       "        vertical-align: middle;\n",
       "    }\n",
       "\n",
       "    .dataframe tbody tr th {\n",
       "        vertical-align: top;\n",
       "    }\n",
       "\n",
       "    .dataframe thead th {\n",
       "        text-align: right;\n",
       "    }\n",
       "</style>\n",
       "<table border=\"1\" class=\"dataframe\">\n",
       "  <thead>\n",
       "    <tr style=\"text-align: right;\">\n",
       "      <th></th>\n",
       "      <th>Rank</th>\n",
       "      <th>song</th>\n",
       "      <th>artist</th>\n",
       "    </tr>\n",
       "  </thead>\n",
       "  <tbody>\n",
       "    <tr>\n",
       "      <th>0</th>\n",
       "      <td>1</td>\n",
       "      <td>Drivers License</td>\n",
       "      <td>Olivia Rodrigo</td>\n",
       "    </tr>\n",
       "    <tr>\n",
       "      <th>1</th>\n",
       "      <td>2</td>\n",
<<<<<<< HEAD
       "      <td>34+35</td>\n",
       "      <td>Ariana Grande</td>\n",
=======
       "      <td>Up</td>\n",
       "      <td>Cardi B</td>\n",
>>>>>>> ac922fcf16f13604b094864b7eaa4fcee4e0e261
       "    </tr>\n",
       "    <tr>\n",
       "      <th>2</th>\n",
       "      <td>3</td>\n",
<<<<<<< HEAD
       "      <td>Calling My Phone</td>\n",
       "      <td>Lil Tjay Featuring 6LACK</td>\n",
=======
       "      <td>Blinding Lights</td>\n",
       "      <td>The Weeknd</td>\n",
>>>>>>> ac922fcf16f13604b094864b7eaa4fcee4e0e261
       "    </tr>\n",
       "    <tr>\n",
       "      <th>3</th>\n",
       "      <td>4</td>\n",
<<<<<<< HEAD
       "      <td>Blinding Lights</td>\n",
=======
       "      <td>Save Your Tears</td>\n",
>>>>>>> ac922fcf16f13604b094864b7eaa4fcee4e0e261
       "      <td>The Weeknd</td>\n",
       "    </tr>\n",
       "    <tr>\n",
       "      <th>4</th>\n",
       "      <td>5</td>\n",
<<<<<<< HEAD
       "      <td>Up</td>\n",
       "      <td>Cardi B</td>\n",
=======
       "      <td>Mood</td>\n",
       "      <td>24kGoldn Featuring iann dior</td>\n",
>>>>>>> ac922fcf16f13604b094864b7eaa4fcee4e0e261
       "    </tr>\n",
       "    <tr>\n",
       "      <th>...</th>\n",
       "      <td>...</td>\n",
       "      <td>...</td>\n",
       "      <td>...</td>\n",
       "    </tr>\n",
       "    <tr>\n",
       "      <th>95</th>\n",
       "      <td>96</td>\n",
       "      <td>Almost Maybes</td>\n",
       "      <td>Jordan Davis</td>\n",
       "    </tr>\n",
       "    <tr>\n",
       "      <th>96</th>\n",
       "      <td>97</td>\n",
<<<<<<< HEAD
       "      <td>Back To The Streets</td>\n",
       "      <td>Saweetie Featuring Jhene Aiko</td>\n",
=======
       "      <td>Masterpiece</td>\n",
       "      <td>DaBaby</td>\n",
>>>>>>> ac922fcf16f13604b094864b7eaa4fcee4e0e261
       "    </tr>\n",
       "    <tr>\n",
       "      <th>97</th>\n",
       "      <td>98</td>\n",
<<<<<<< HEAD
       "      <td>Bad Boy</td>\n",
       "      <td>Juice WRLD &amp; Young Thug</td>\n",
=======
       "      <td>Prisoner</td>\n",
       "      <td>Miley Cyrus Featuring Dua Lipa</td>\n",
>>>>>>> ac922fcf16f13604b094864b7eaa4fcee4e0e261
       "    </tr>\n",
       "    <tr>\n",
       "      <th>98</th>\n",
       "      <td>99</td>\n",
<<<<<<< HEAD
       "      <td>Opp Stoppa</td>\n",
       "      <td>YBN Nahmir Featuring 21 Savage</td>\n",
=======
       "      <td>Skin</td>\n",
       "      <td>Sabrina Carpenter</td>\n",
>>>>>>> ac922fcf16f13604b094864b7eaa4fcee4e0e261
       "    </tr>\n",
       "    <tr>\n",
       "      <th>99</th>\n",
       "      <td>100</td>\n",
<<<<<<< HEAD
       "      <td>How They Remember You</td>\n",
       "      <td>Rascal Flatts</td>\n",
=======
       "      <td>Quicksand</td>\n",
       "      <td>Morray</td>\n",
>>>>>>> ac922fcf16f13604b094864b7eaa4fcee4e0e261
       "    </tr>\n",
       "  </tbody>\n",
       "</table>\n",
       "<p>100 rows × 3 columns</p>\n",
       "</div>"
      ],
      "text/plain": [
<<<<<<< HEAD
       "   Rank                   song                          artist\n",
       "0     1        Drivers License                  Olivia Rodrigo\n",
       "1     2                  34+35                   Ariana Grande\n",
       "2     3       Calling My Phone        Lil Tjay Featuring 6LACK\n",
       "3     4        Blinding Lights                      The Weeknd\n",
       "4     5                     Up                         Cardi B\n",
       "..  ...                    ...                             ...\n",
       "95   96          Almost Maybes                    Jordan Davis\n",
       "96   97    Back To The Streets   Saweetie Featuring Jhene Aiko\n",
       "97   98                Bad Boy         Juice WRLD & Young Thug\n",
       "98   99             Opp Stoppa  YBN Nahmir Featuring 21 Savage\n",
       "99  100  How They Remember You                   Rascal Flatts\n",
=======
       "   Rank             song                          artist\n",
       "0     1  Drivers License                  Olivia Rodrigo\n",
       "1     2               Up                         Cardi B\n",
       "2     3  Blinding Lights                      The Weeknd\n",
       "3     4  Save Your Tears                      The Weeknd\n",
       "4     5             Mood    24kGoldn Featuring iann dior\n",
       "..  ...              ...                             ...\n",
       "95   96    Almost Maybes                    Jordan Davis\n",
       "96   97      Masterpiece                          DaBaby\n",
       "97   98         Prisoner  Miley Cyrus Featuring Dua Lipa\n",
       "98   99             Skin               Sabrina Carpenter\n",
       "99  100        Quicksand                          Morray\n",
>>>>>>> ac922fcf16f13604b094864b7eaa4fcee4e0e261
       "\n",
       "[100 rows x 3 columns]"
      ]
     },
<<<<<<< HEAD
     "execution_count": 24,
=======
     "execution_count": 41,
>>>>>>> ac922fcf16f13604b094864b7eaa4fcee4e0e261
     "metadata": {},
     "output_type": "execute_result"
    }
   ],
   "source": [
    "pd.DataFrame({'Rank':rank,'song':song,'artist':artist})"
   ]
  },
  {
   "cell_type": "code",
<<<<<<< HEAD
   "execution_count": 25,
=======
   "execution_count": 49,
>>>>>>> ac922fcf16f13604b094864b7eaa4fcee4e0e261
   "metadata": {},
   "outputs": [],
   "source": [
    "rank_list = soup.select(\"li span.chart-element__rank__number\")\n",
    "song_list = soup.select(\"li span.chart-element__information__song\")\n",
    "artist_list = soup.select(\"li span.chart-element__information__artist\")"
   ]
  },
  {
   "cell_type": "code",
<<<<<<< HEAD
   "execution_count": 26,
=======
   "execution_count": 51,
>>>>>>> ac922fcf16f13604b094864b7eaa4fcee4e0e261
   "metadata": {},
   "outputs": [],
   "source": [
    "rank = []\n",
    "song = []\n",
    "artist = []\n",
    "\n",
    "for i in range(len_top100):\n",
    "    rank.append(rank_list[i].get_text())\n",
    "    song.append(song_list[i].get_text())\n",
    "    artist.append(artist_list[i].get_text())"
   ]
  },
  {
   "cell_type": "code",
<<<<<<< HEAD
   "execution_count": 27,
=======
   "execution_count": 52,
>>>>>>> ac922fcf16f13604b094864b7eaa4fcee4e0e261
   "metadata": {},
   "outputs": [
    {
     "data": {
      "text/html": [
       "<div>\n",
       "<style scoped>\n",
       "    .dataframe tbody tr th:only-of-type {\n",
       "        vertical-align: middle;\n",
       "    }\n",
       "\n",
       "    .dataframe tbody tr th {\n",
       "        vertical-align: top;\n",
       "    }\n",
       "\n",
       "    .dataframe thead th {\n",
       "        text-align: right;\n",
       "    }\n",
       "</style>\n",
       "<table border=\"1\" class=\"dataframe\">\n",
       "  <thead>\n",
       "    <tr style=\"text-align: right;\">\n",
       "      <th></th>\n",
       "      <th>Rank</th>\n",
       "      <th>song</th>\n",
       "      <th>artist</th>\n",
       "    </tr>\n",
       "  </thead>\n",
       "  <tbody>\n",
       "    <tr>\n",
       "      <th>0</th>\n",
       "      <td>1</td>\n",
       "      <td>Drivers License</td>\n",
       "      <td>Olivia Rodrigo</td>\n",
       "    </tr>\n",
       "    <tr>\n",
       "      <th>1</th>\n",
       "      <td>2</td>\n",
<<<<<<< HEAD
       "      <td>34+35</td>\n",
       "      <td>Ariana Grande</td>\n",
=======
       "      <td>Up</td>\n",
       "      <td>Cardi B</td>\n",
>>>>>>> ac922fcf16f13604b094864b7eaa4fcee4e0e261
       "    </tr>\n",
       "    <tr>\n",
       "      <th>2</th>\n",
       "      <td>3</td>\n",
<<<<<<< HEAD
       "      <td>Calling My Phone</td>\n",
       "      <td>Lil Tjay Featuring 6LACK</td>\n",
=======
       "      <td>Blinding Lights</td>\n",
       "      <td>The Weeknd</td>\n",
>>>>>>> ac922fcf16f13604b094864b7eaa4fcee4e0e261
       "    </tr>\n",
       "    <tr>\n",
       "      <th>3</th>\n",
       "      <td>4</td>\n",
<<<<<<< HEAD
       "      <td>Blinding Lights</td>\n",
=======
       "      <td>Save Your Tears</td>\n",
>>>>>>> ac922fcf16f13604b094864b7eaa4fcee4e0e261
       "      <td>The Weeknd</td>\n",
       "    </tr>\n",
       "    <tr>\n",
       "      <th>4</th>\n",
       "      <td>5</td>\n",
<<<<<<< HEAD
       "      <td>Up</td>\n",
       "      <td>Cardi B</td>\n",
=======
       "      <td>Mood</td>\n",
       "      <td>24kGoldn Featuring iann dior</td>\n",
>>>>>>> ac922fcf16f13604b094864b7eaa4fcee4e0e261
       "    </tr>\n",
       "    <tr>\n",
       "      <th>...</th>\n",
       "      <td>...</td>\n",
       "      <td>...</td>\n",
       "      <td>...</td>\n",
       "    </tr>\n",
       "    <tr>\n",
       "      <th>95</th>\n",
       "      <td>96</td>\n",
       "      <td>Almost Maybes</td>\n",
       "      <td>Jordan Davis</td>\n",
       "    </tr>\n",
       "    <tr>\n",
       "      <th>96</th>\n",
       "      <td>97</td>\n",
<<<<<<< HEAD
       "      <td>Back To The Streets</td>\n",
       "      <td>Saweetie Featuring Jhene Aiko</td>\n",
=======
       "      <td>Masterpiece</td>\n",
       "      <td>DaBaby</td>\n",
>>>>>>> ac922fcf16f13604b094864b7eaa4fcee4e0e261
       "    </tr>\n",
       "    <tr>\n",
       "      <th>97</th>\n",
       "      <td>98</td>\n",
<<<<<<< HEAD
       "      <td>Bad Boy</td>\n",
       "      <td>Juice WRLD &amp; Young Thug</td>\n",
=======
       "      <td>Prisoner</td>\n",
       "      <td>Miley Cyrus Featuring Dua Lipa</td>\n",
>>>>>>> ac922fcf16f13604b094864b7eaa4fcee4e0e261
       "    </tr>\n",
       "    <tr>\n",
       "      <th>98</th>\n",
       "      <td>99</td>\n",
<<<<<<< HEAD
       "      <td>Opp Stoppa</td>\n",
       "      <td>YBN Nahmir Featuring 21 Savage</td>\n",
=======
       "      <td>Skin</td>\n",
       "      <td>Sabrina Carpenter</td>\n",
>>>>>>> ac922fcf16f13604b094864b7eaa4fcee4e0e261
       "    </tr>\n",
       "    <tr>\n",
       "      <th>99</th>\n",
       "      <td>100</td>\n",
<<<<<<< HEAD
       "      <td>How They Remember You</td>\n",
       "      <td>Rascal Flatts</td>\n",
=======
       "      <td>Quicksand</td>\n",
       "      <td>Morray</td>\n",
>>>>>>> ac922fcf16f13604b094864b7eaa4fcee4e0e261
       "    </tr>\n",
       "  </tbody>\n",
       "</table>\n",
       "<p>100 rows × 3 columns</p>\n",
       "</div>"
      ],
      "text/plain": [
<<<<<<< HEAD
       "   Rank                   song                          artist\n",
       "0     1        Drivers License                  Olivia Rodrigo\n",
       "1     2                  34+35                   Ariana Grande\n",
       "2     3       Calling My Phone        Lil Tjay Featuring 6LACK\n",
       "3     4        Blinding Lights                      The Weeknd\n",
       "4     5                     Up                         Cardi B\n",
       "..  ...                    ...                             ...\n",
       "95   96          Almost Maybes                    Jordan Davis\n",
       "96   97    Back To The Streets   Saweetie Featuring Jhene Aiko\n",
       "97   98                Bad Boy         Juice WRLD & Young Thug\n",
       "98   99             Opp Stoppa  YBN Nahmir Featuring 21 Savage\n",
       "99  100  How They Remember You                   Rascal Flatts\n",
=======
       "   Rank             song                          artist\n",
       "0     1  Drivers License                  Olivia Rodrigo\n",
       "1     2               Up                         Cardi B\n",
       "2     3  Blinding Lights                      The Weeknd\n",
       "3     4  Save Your Tears                      The Weeknd\n",
       "4     5             Mood    24kGoldn Featuring iann dior\n",
       "..  ...              ...                             ...\n",
       "95   96    Almost Maybes                    Jordan Davis\n",
       "96   97      Masterpiece                          DaBaby\n",
       "97   98         Prisoner  Miley Cyrus Featuring Dua Lipa\n",
       "98   99             Skin               Sabrina Carpenter\n",
       "99  100        Quicksand                          Morray\n",
>>>>>>> ac922fcf16f13604b094864b7eaa4fcee4e0e261
       "\n",
       "[100 rows x 3 columns]"
      ]
     },
<<<<<<< HEAD
     "execution_count": 27,
=======
     "execution_count": 52,
>>>>>>> ac922fcf16f13604b094864b7eaa4fcee4e0e261
     "metadata": {},
     "output_type": "execute_result"
    }
   ],
   "source": [
    "pd.DataFrame({'Rank':rank,'song':song,'artist':artist})"
   ]
  },
  {
   "cell_type": "code",
<<<<<<< HEAD
   "execution_count": 28,
=======
   "execution_count": 53,
>>>>>>> ac922fcf16f13604b094864b7eaa4fcee4e0e261
   "metadata": {},
   "outputs": [],
   "source": [
    "df_top100 = pd.DataFrame({'Rank':rank,'song':song,'artist':artist})"
   ]
  },
  {
   "cell_type": "code",
<<<<<<< HEAD
   "execution_count": 29,
=======
   "execution_count": 54,
>>>>>>> ac922fcf16f13604b094864b7eaa4fcee4e0e261
   "metadata": {},
   "outputs": [
    {
     "data": {
      "text/html": [
       "<div>\n",
       "<style scoped>\n",
       "    .dataframe tbody tr th:only-of-type {\n",
       "        vertical-align: middle;\n",
       "    }\n",
       "\n",
       "    .dataframe tbody tr th {\n",
       "        vertical-align: top;\n",
       "    }\n",
       "\n",
       "    .dataframe thead th {\n",
       "        text-align: right;\n",
       "    }\n",
       "</style>\n",
       "<table border=\"1\" class=\"dataframe\">\n",
       "  <thead>\n",
       "    <tr style=\"text-align: right;\">\n",
       "      <th></th>\n",
       "      <th>Rank</th>\n",
       "      <th>song</th>\n",
       "      <th>artist</th>\n",
       "    </tr>\n",
       "  </thead>\n",
       "  <tbody>\n",
       "    <tr>\n",
       "      <th>0</th>\n",
       "      <td>1</td>\n",
       "      <td>Drivers License</td>\n",
       "      <td>Olivia Rodrigo</td>\n",
       "    </tr>\n",
       "    <tr>\n",
       "      <th>1</th>\n",
       "      <td>2</td>\n",
<<<<<<< HEAD
       "      <td>34+35</td>\n",
       "      <td>Ariana Grande</td>\n",
=======
       "      <td>Up</td>\n",
       "      <td>Cardi B</td>\n",
>>>>>>> ac922fcf16f13604b094864b7eaa4fcee4e0e261
       "    </tr>\n",
       "    <tr>\n",
       "      <th>2</th>\n",
       "      <td>3</td>\n",
<<<<<<< HEAD
       "      <td>Calling My Phone</td>\n",
       "      <td>Lil Tjay Featuring 6LACK</td>\n",
=======
       "      <td>Blinding Lights</td>\n",
       "      <td>The Weeknd</td>\n",
>>>>>>> ac922fcf16f13604b094864b7eaa4fcee4e0e261
       "    </tr>\n",
       "    <tr>\n",
       "      <th>3</th>\n",
       "      <td>4</td>\n",
<<<<<<< HEAD
       "      <td>Blinding Lights</td>\n",
=======
       "      <td>Save Your Tears</td>\n",
>>>>>>> ac922fcf16f13604b094864b7eaa4fcee4e0e261
       "      <td>The Weeknd</td>\n",
       "    </tr>\n",
       "    <tr>\n",
       "      <th>4</th>\n",
       "      <td>5</td>\n",
<<<<<<< HEAD
       "      <td>Up</td>\n",
       "      <td>Cardi B</td>\n",
=======
       "      <td>Mood</td>\n",
       "      <td>24kGoldn Featuring iann dior</td>\n",
>>>>>>> ac922fcf16f13604b094864b7eaa4fcee4e0e261
       "    </tr>\n",
       "    <tr>\n",
       "      <th>...</th>\n",
       "      <td>...</td>\n",
       "      <td>...</td>\n",
       "      <td>...</td>\n",
       "    </tr>\n",
       "    <tr>\n",
       "      <th>95</th>\n",
       "      <td>96</td>\n",
       "      <td>Almost Maybes</td>\n",
       "      <td>Jordan Davis</td>\n",
       "    </tr>\n",
       "    <tr>\n",
       "      <th>96</th>\n",
       "      <td>97</td>\n",
<<<<<<< HEAD
       "      <td>Back To The Streets</td>\n",
       "      <td>Saweetie Featuring Jhene Aiko</td>\n",
=======
       "      <td>Masterpiece</td>\n",
       "      <td>DaBaby</td>\n",
>>>>>>> ac922fcf16f13604b094864b7eaa4fcee4e0e261
       "    </tr>\n",
       "    <tr>\n",
       "      <th>97</th>\n",
       "      <td>98</td>\n",
<<<<<<< HEAD
       "      <td>Bad Boy</td>\n",
       "      <td>Juice WRLD &amp; Young Thug</td>\n",
=======
       "      <td>Prisoner</td>\n",
       "      <td>Miley Cyrus Featuring Dua Lipa</td>\n",
>>>>>>> ac922fcf16f13604b094864b7eaa4fcee4e0e261
       "    </tr>\n",
       "    <tr>\n",
       "      <th>98</th>\n",
       "      <td>99</td>\n",
<<<<<<< HEAD
       "      <td>Opp Stoppa</td>\n",
       "      <td>YBN Nahmir Featuring 21 Savage</td>\n",
=======
       "      <td>Skin</td>\n",
       "      <td>Sabrina Carpenter</td>\n",
>>>>>>> ac922fcf16f13604b094864b7eaa4fcee4e0e261
       "    </tr>\n",
       "    <tr>\n",
       "      <th>99</th>\n",
       "      <td>100</td>\n",
<<<<<<< HEAD
       "      <td>How They Remember You</td>\n",
       "      <td>Rascal Flatts</td>\n",
=======
       "      <td>Quicksand</td>\n",
       "      <td>Morray</td>\n",
>>>>>>> ac922fcf16f13604b094864b7eaa4fcee4e0e261
       "    </tr>\n",
       "  </tbody>\n",
       "</table>\n",
       "<p>100 rows × 3 columns</p>\n",
       "</div>"
      ],
      "text/plain": [
<<<<<<< HEAD
       "   Rank                   song                          artist\n",
       "0     1        Drivers License                  Olivia Rodrigo\n",
       "1     2                  34+35                   Ariana Grande\n",
       "2     3       Calling My Phone        Lil Tjay Featuring 6LACK\n",
       "3     4        Blinding Lights                      The Weeknd\n",
       "4     5                     Up                         Cardi B\n",
       "..  ...                    ...                             ...\n",
       "95   96          Almost Maybes                    Jordan Davis\n",
       "96   97    Back To The Streets   Saweetie Featuring Jhene Aiko\n",
       "97   98                Bad Boy         Juice WRLD & Young Thug\n",
       "98   99             Opp Stoppa  YBN Nahmir Featuring 21 Savage\n",
       "99  100  How They Remember You                   Rascal Flatts\n",
=======
       "   Rank             song                          artist\n",
       "0     1  Drivers License                  Olivia Rodrigo\n",
       "1     2               Up                         Cardi B\n",
       "2     3  Blinding Lights                      The Weeknd\n",
       "3     4  Save Your Tears                      The Weeknd\n",
       "4     5             Mood    24kGoldn Featuring iann dior\n",
       "..  ...              ...                             ...\n",
       "95   96    Almost Maybes                    Jordan Davis\n",
       "96   97      Masterpiece                          DaBaby\n",
       "97   98         Prisoner  Miley Cyrus Featuring Dua Lipa\n",
       "98   99             Skin               Sabrina Carpenter\n",
       "99  100        Quicksand                          Morray\n",
>>>>>>> ac922fcf16f13604b094864b7eaa4fcee4e0e261
       "\n",
       "[100 rows x 3 columns]"
      ]
     },
<<<<<<< HEAD
     "execution_count": 29,
=======
     "execution_count": 54,
>>>>>>> ac922fcf16f13604b094864b7eaa4fcee4e0e261
     "metadata": {},
     "output_type": "execute_result"
    }
   ],
   "source": [
    "df_top100"
   ]
  }
 ],
 "metadata": {
  "kernelspec": {
   "display_name": "Python 3",
   "language": "python",
   "name": "python3"
  },
  "language_info": {
   "codemirror_mode": {
    "name": "ipython",
    "version": 3
   },
   "file_extension": ".py",
   "mimetype": "text/x-python",
   "name": "python",
   "nbconvert_exporter": "python",
   "pygments_lexer": "ipython3",
   "version": "3.8.5"
  }
 },
 "nbformat": 4,
 "nbformat_minor": 4
}
