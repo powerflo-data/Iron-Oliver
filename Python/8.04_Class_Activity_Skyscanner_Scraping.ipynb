{
 "cells": [
  {
   "cell_type": "code",
   "execution_count": 43,
   "metadata": {},
   "outputs": [],
   "source": [
    "import requests\n",
    "import pandas as pd"
   ]
  },
  {
   "cell_type": "code",
   "execution_count": 31,
   "metadata": {},
   "outputs": [
    {
     "data": {
      "text/plain": [
       "{'Places': [{'PlaceId': 'BER-sky',\n",
       "   'PlaceName': 'Berlin Brandenburg',\n",
       "   'CountryId': 'DE-sky',\n",
       "   'RegionId': '',\n",
       "   'CityId': 'BERL-sky',\n",
       "   'CountryName': 'Germany'},\n",
       "  {'PlaceId': 'BML-sky',\n",
       "   'PlaceName': 'Berlin',\n",
       "   'CountryId': 'US-sky',\n",
       "   'RegionId': 'NH',\n",
       "   'CityId': 'BMLA-sky',\n",
       "   'CountryName': 'United States'},\n",
       "  {'PlaceId': 'BLI-sky',\n",
       "   'PlaceName': 'Bellingham',\n",
       "   'CountryId': 'US-sky',\n",
       "   'RegionId': 'WA',\n",
       "   'CityId': 'BLIA-sky',\n",
       "   'CountryName': 'United States'},\n",
       "  {'PlaceId': 'BTV-sky',\n",
       "   'PlaceName': 'Burlington',\n",
       "   'CountryId': 'US-sky',\n",
       "   'RegionId': 'VT',\n",
       "   'CityId': 'BTVA-sky',\n",
       "   'CountryName': 'United States'},\n",
       "  {'PlaceId': 'BRL-sky',\n",
       "   'PlaceName': 'Burlington',\n",
       "   'CountryId': 'US-sky',\n",
       "   'RegionId': 'IA',\n",
       "   'CityId': 'BRLA-sky',\n",
       "   'CountryName': 'United States'}]}"
      ]
     },
     "execution_count": 31,
     "metadata": {},
     "output_type": "execute_result"
    }
   ],
   "source": [
    "url = \"https://skyscanner-skyscanner-flight-search-v1.p.rapidapi.com/apiservices/autosuggest/v1.0/UK/GBP/en-GB/\"\n",
    "params = {\"query\":\"Berlin\"}\n",
    "\n",
    "headers = {\"x-rapidapi-key\": \"14ca28fc60msh520507a5b4bf677p1768fcjsnf3c835a8e6ed\",\n",
    "            \"x-rapidapi-host\": \"skyscanner-skyscanner-flight-search-v1.p.rapidapi.com\",\n",
    "          }\n",
    "\n",
    "response = requests.get(url, headers = headers, params = params)\n",
    "\n",
    "response.json()"
   ]
  },
  {
   "cell_type": "code",
   "execution_count": 35,
   "metadata": {},
   "outputs": [
    {
     "data": {
      "text/plain": [
       "[{'PlaceId': 'BER-sky',\n",
       "  'PlaceName': 'Berlin Brandenburg',\n",
       "  'CountryId': 'DE-sky',\n",
       "  'RegionId': '',\n",
       "  'CityId': 'BERL-sky',\n",
       "  'CountryName': 'Germany'},\n",
       " {'PlaceId': 'BML-sky',\n",
       "  'PlaceName': 'Berlin',\n",
       "  'CountryId': 'US-sky',\n",
       "  'RegionId': 'NH',\n",
       "  'CityId': 'BMLA-sky',\n",
       "  'CountryName': 'United States'},\n",
       " {'PlaceId': 'BLI-sky',\n",
       "  'PlaceName': 'Bellingham',\n",
       "  'CountryId': 'US-sky',\n",
       "  'RegionId': 'WA',\n",
       "  'CityId': 'BLIA-sky',\n",
       "  'CountryName': 'United States'},\n",
       " {'PlaceId': 'BTV-sky',\n",
       "  'PlaceName': 'Burlington',\n",
       "  'CountryId': 'US-sky',\n",
       "  'RegionId': 'VT',\n",
       "  'CityId': 'BTVA-sky',\n",
       "  'CountryName': 'United States'},\n",
       " {'PlaceId': 'BRL-sky',\n",
       "  'PlaceName': 'Burlington',\n",
       "  'CountryId': 'US-sky',\n",
       "  'RegionId': 'IA',\n",
       "  'CityId': 'BRLA-sky',\n",
       "  'CountryName': 'United States'}]"
      ]
     },
     "execution_count": 35,
     "metadata": {},
     "output_type": "execute_result"
    }
   ],
   "source": [
    "response.json()['Places'][0]['PlaceId']"
   ]
  },
  {
   "cell_type": "code",
   "execution_count": 36,
   "metadata": {},
   "outputs": [],
   "source": [
    "def city_code(city):\n",
    "    url = \"https://skyscanner-skyscanner-flight-search-v1.p.rapidapi.com/apiservices/autosuggest/v1.0/UK/GBP/en-GB/\"\n",
    "    params = {\"query\":str(city)}\n",
    "\n",
    "    headers = {\"x-rapidapi-key\": \"14ca28fc60msh520507a5b4bf677p1768fcjsnf3c835a8e6ed\",\n",
    "                \"x-rapidapi-host\": \"skyscanner-skyscanner-flight-search-v1.p.rapidapi.com\",\n",
    "              }\n",
    "\n",
    "    response = requests.get(url, headers = headers, params = params)\n",
    "\n",
    "    return response.json()['Places'][0]['PlaceId']"
   ]
  },
  {
   "cell_type": "code",
   "execution_count": 37,
   "metadata": {},
   "outputs": [
    {
     "data": {
      "text/plain": [
       "'BER-sky'"
      ]
     },
     "execution_count": 37,
     "metadata": {},
     "output_type": "execute_result"
    }
   ],
   "source": [
    "city_code(\"Berlin\")"
   ]
  },
  {
   "cell_type": "code",
   "execution_count": 18,
   "metadata": {},
   "outputs": [
    {
     "data": {
      "text/plain": [
       "requests.models.Response"
      ]
     },
     "execution_count": 18,
     "metadata": {},
     "output_type": "execute_result"
    }
   ],
   "source": [
    "type(response)"
   ]
  },
  {
   "cell_type": "code",
   "execution_count": 38,
   "metadata": {},
   "outputs": [],
   "source": [
    "# url = \"https://skyscanner-skyscanner-flight-search-v1.p.rapidapi.com/apiservices/browsequotes/v1.0/US/USD/en-US/MUC-sky/BER-sky/2021-02-24\"\n",
    "\n",
    "# params = {\"inboundpartialdate\":\"2021-02-23\"}\n",
    "\n",
    "# headers = {\"x-rapidapi-key\": \"14ca28fc60msh520507a5b4bf677p1768fcjsnf3c835a8e6ed\",\n",
    "#             \"x-rapidapi-host\": \"skyscanner-skyscanner-flight-search-v1.p.rapidapi.com\"}\n",
    "\n",
    "# response = requests.get(url, headers=headers, params=params)\n",
    "\n",
    "# response.json()"
   ]
  },
  {
   "cell_type": "markdown",
   "metadata": {},
   "source": [
    "## Activity 3"
   ]
  },
  {
   "cell_type": "code",
   "execution_count": null,
   "metadata": {},
   "outputs": [],
   "source": [
    "# So your function should take inputs as follows :\n",
    "#  lowest_price('Cali', 'Berlin', '2021-12-25', '2021-12-30')"
   ]
  },
  {
   "cell_type": "code",
   "execution_count": 39,
   "metadata": {},
   "outputs": [],
   "source": [
    "def get_dates(start, end):\n",
    "    return pd.Series(pd.date_range(start, end, freq='d').format())"
   ]
  },
  {
   "cell_type": "code",
   "execution_count": 40,
   "metadata": {},
   "outputs": [],
   "source": [
    "def flight_prices(departure_code, arrival_code, date):\n",
    "    url = f\"https://skyscanner-skyscanner-flight-search-v1.p.rapidapi.com/apiservices/browsequotes/v1.0/US/USD/en-US/{departure_code}/{arrival_code}/{date}\"\n",
    "    params = {\"inboundpartialdate\":{date}}\n",
    "    headers = {\n",
    "    'x-rapidapi-host': \"skyscanner-skyscanner-flight-search-v1.p.rapidapi.com\",\n",
    "    'x-rapidapi-key': \"722ca20cc9mshaa25a4e86219777p1b4804jsn37bafcc1144b\"}\n",
    "\n",
    "    response = requests.get(url, headers=headers, params=params)\n",
    "\n",
    "    return response.json()"
   ]
  },
  {
   "cell_type": "code",
   "execution_count": 41,
   "metadata": {},
   "outputs": [],
   "source": [
    "def flight_days(origin, destination, start, end):\n",
    "    dates = get_dates(start, end)\n",
    "    depature_code = city_code(origin)\n",
    "    arrival_code = city_code(destination)\n",
    "    return {date : flight_prices(depature_code, arrival_code, date) for date in dates}"
   ]
  },
  {
   "cell_type": "code",
   "execution_count": 50,
   "metadata": {},
   "outputs": [],
   "source": [
    "flights=flight_days(\"Berlin\",\"Munich\",\"2021-02-24\",\"2021-02-28\")"
   ]
  },
  {
   "cell_type": "markdown",
   "metadata": {},
   "source": [
    "## Retrieve Lowest prices using nested dictioneries comprehension"
   ]
  },
  {
   "cell_type": "code",
   "execution_count": 54,
   "metadata": {},
   "outputs": [
    {
     "data": {
      "text/plain": [
       "{'2021-02-24': 272,\n",
       " '2021-02-25': 162,\n",
       " '2021-02-26': 138,\n",
       " '2021-02-27': 171,\n",
       " '2021-02-28': 101}"
      ]
     },
     "execution_count": 54,
     "metadata": {},
     "output_type": "execute_result"
    }
   ],
   "source": [
    "{date : min([quote['MinPrice'] for quote in flights[date]['Quotes']]) for date in flights for quote in flights[date]['Quotes']}"
   ]
  },
  {
   "cell_type": "code",
   "execution_count": 53,
   "metadata": {},
   "outputs": [],
   "source": [
    "# def lowest_price(origin, destination, start, end):\n",
    "#     flights = flight_days(origin, destination, start, end)\n",
    "#     return {date : min([quote['MinPrice'] for quote in flights[date]['Quotes']]) for date in flights for quote in flights[date]['Quotes']}"
   ]
  }
 ],
 "metadata": {
  "kernelspec": {
   "display_name": "Python 3",
   "language": "python",
   "name": "python3"
  },
  "language_info": {
   "codemirror_mode": {
    "name": "ipython",
    "version": 3
   },
   "file_extension": ".py",
   "mimetype": "text/x-python",
   "name": "python",
   "nbconvert_exporter": "python",
   "pygments_lexer": "ipython3",
   "version": "3.8.5"
  }
 },
 "nbformat": 4,
 "nbformat_minor": 4
}
