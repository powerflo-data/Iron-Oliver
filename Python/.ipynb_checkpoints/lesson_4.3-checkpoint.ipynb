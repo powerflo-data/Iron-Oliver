{
 "cells": [
  {
   "cell_type": "code",
   "execution_count": 1,
   "metadata": {},
   "outputs": [
    {
     "data": {
      "text/plain": [
       "[' ', ' ', ' ', ' ', ' ', ' ', ',', ' ', ' ', ' ', ' ', ' ', ' ', ' ', '.']"
      ]
     },
     "execution_count": 1,
     "metadata": {},
     "output_type": "execute_result"
    }
   ],
   "source": [
    "import re\n",
    "\n",
    "text = \"That person wears marvelous trousers.\"\n",
    "\n",
    "pattern = '[A-z]'\n",
    "pattern = 'That'\n",
    "pattern = '[That]'\n",
    "pattern = '[atsdhksdgs]'\n",
    "re.findall(pattern, text)\n",
    "\n",
    "text = \"This is an A and B conversation, so C your way out of it.\"\n",
    "pattern = '[^A-z]'\n",
    "re.findall(pattern, text)"
   ]
  },
  {
   "cell_type": "code",
   "execution_count": null,
   "metadata": {},
   "outputs": [],
   "source": []
  },
  {
   "cell_type": "code",
   "execution_count": 2,
   "metadata": {},
   "outputs": [
    {
     "name": "stdout",
     "output_type": "stream",
     "text": [
      "['aaaa', 'a', 'a', 'a', 'a']\n",
      "['awww', 'awww', 'awww', 'awww']\n",
      "['aw', 'aww', 'awww', 'awwww', 'awwwww']\n",
      "['aaww', 'aawww']\n"
     ]
    }
   ],
   "source": [
    "text = \"The complicccccat caat interacted with the other cats exactly as we expected.\"\n",
    "pattern = \"c*t\"\n",
    "print(re.findall(pattern, text))\n",
    "\n",
    "text = \"The complicit caat interacted with the other cats exactly as we expected.\"\n",
    "pattern = 'c*a*t'\n",
    "print(re.findall(pattern, text))\n",
    "\n",
    "\n",
    "text = \"The complicit caaaat ct interacted with the other cats exactly as we expected.\"\n",
    "pattern = \"a+\"\n",
    "print(re.findall(pattern, text))\n",
    "# Returns matches where the previous character appears 1 or more times\n",
    "\n",
    "\n",
    "text = \"We can match the following: aaaawwww, aww, awww, awwww, awwwww\"\n",
    "pattern = \"aw{3}\"\n",
    "print(re.findall(pattern, text))\n",
    "\n",
    "text = \"Let's see how we can match the following: aaw, aaww, aawww, awwww, awwwww\"\n",
    "pattern = \"aw{1,}\"\n",
    "print(re.findall(pattern, text))\n",
    "\n",
    "pattern = \"a{2,}w{2,}\"\n",
    "print(re.findall(pattern, text))"
   ]
  },
  {
   "cell_type": "code",
   "execution_count": null,
   "metadata": {},
   "outputs": [],
   "source": []
  },
  {
   "cell_type": "code",
   "execution_count": null,
   "metadata": {},
   "outputs": [],
   "source": []
  },
  {
   "cell_type": "code",
   "execution_count": 3,
   "metadata": {},
   "outputs": [
    {
     "data": {
      "text/plain": [
       "['e', 'r', 'e', 'r', 'r', 'e', 'r', 'e', 'r']"
      ]
     },
     "execution_count": 3,
     "metadata": {},
     "output_type": "execute_result"
    }
   ],
   "source": [
    "import re\n",
    "text = \"That person wears marvelous trousers.\"\n",
    "pattern = 'er'\n",
    "pattern = '[er]'\n",
    "re.findall(pattern, text)"
   ]
  },
  {
   "cell_type": "code",
   "execution_count": 4,
   "metadata": {},
   "outputs": [
    {
     "data": {
      "text/plain": [
       "['gray', 'grey']"
      ]
     },
     "execution_count": 4,
     "metadata": {},
     "output_type": "execute_result"
    }
   ],
   "source": [
    "text = \"Is it spelled gray or grey?\"\n",
    "# text = \"Is it spelled gry or grey?\"\n",
    "pattern = 'gr[ae]y'\n",
    "re.findall(pattern, text)"
   ]
  },
  {
   "cell_type": "code",
   "execution_count": 5,
   "metadata": {},
   "outputs": [
    {
     "name": "stdout",
     "output_type": "stream",
     "text": [
      "['Kerra', 'Power', 'Bill', 'Gates', 'China', 'Trump']\n"
     ]
    }
   ],
   "source": [
    "text = '''TKerraPower, A nuclear-energy company founded by Bill Gates,\n",
    "        is unlikely to follow through on building a demonstration reactor in China,\n",
    "        due largely to the Trump administration�s crackdown on the country'''\n",
    "\n",
    "pattern = '[A-Z][a-z]*'\n",
    "# pattern = '[A-z]+'\n",
    "pattern = '[A-Z][a-z]+'\n",
    "print(re.findall(pattern, text))"
   ]
  },
  {
   "cell_type": "code",
   "execution_count": null,
   "metadata": {},
   "outputs": [],
   "source": []
  },
  {
   "cell_type": "raw",
   "metadata": {},
   "source": [
    "\\w: Any alphanumeric character.\n",
    "\\W: Any non-alphanumeric character.\n",
    "\\d: Any numeric character.\n",
    "\\D: Any non-numeric character.\n",
    "\\s: Any whitespace characters.\n",
    "\\S: Any non-whitespace characters."
   ]
  },
  {
   "cell_type": "code",
   "execution_count": 6,
   "metadata": {},
   "outputs": [
    {
     "name": "stdout",
     "output_type": "stream",
     "text": [
      "['If', '', 'you', '', 'tell', '', 'the', '', 'truth', '', '', 'you', '', 'don', '', 't', '', 'have', '', 'to', '', 'remember', '', 'anything', '', '100', '', '']\n"
     ]
    }
   ],
   "source": [
    "text = \"If you tell the truth, you don't have to remember anything 100.\"\n",
    "\n",
    "pattern = '\\w'\n",
    "pattern = '\\w+'\n",
    "pattern = '\\w*'\n",
    "# pattern = '\\w?'\n",
    "# pattern = '.'\n",
    "print(re.findall(pattern, text))"
   ]
  },
  {
   "cell_type": "code",
   "execution_count": 7,
   "metadata": {},
   "outputs": [
    {
     "name": "stdout",
     "output_type": "stream",
     "text": [
      "['tell', 'truth', 'have', 'remember', 'anything']\n"
     ]
    }
   ],
   "source": [
    "text = \"If you tell the truth, you don't have to remember anything 100.\"\n",
    "pattern = '\\w{4}'\n",
    "pattern = '\\w{4,}'\n",
    "print(re.findall(pattern, text))"
   ]
  },
  {
   "cell_type": "code",
   "execution_count": 8,
   "metadata": {},
   "outputs": [
    {
     "data": {
      "text/plain": [
       "['888-247-2262',\n",
       " '888-247-2262',\n",
       " '800-567-6567',\n",
       " '800-361-2965',\n",
       " '800-661-0407',\n",
       " '888-545-6794']"
      ]
     },
     "execution_count": 8,
     "metadata": {},
     "output_type": "execute_result"
    }
   ],
   "source": [
    "text = \"\"\"\n",
    "Aeromexico 800 -237- 6639\n",
    "Air Canada 888-247-2262\n",
    "Air Canada Rouge 888-247-2262\n",
    "Air Creebec 800-567-6567\n",
    "Air Inuit 800-361-2965\n",
    "Air North 800-661-0407\n",
    "Air Tindi 888-545-6794\"\"\"\n",
    "pattern = '\\d+-\\d+-\\d+'\n",
    "re.findall(pattern, text)"
   ]
  },
  {
   "cell_type": "code",
   "execution_count": null,
   "metadata": {},
   "outputs": [],
   "source": []
  },
  {
   "cell_type": "code",
   "execution_count": null,
   "metadata": {},
   "outputs": [],
   "source": []
  },
  {
   "cell_type": "code",
   "execution_count": 9,
   "metadata": {},
   "outputs": [
    {
     "data": {
      "text/html": [
       "<div>\n",
       "<style scoped>\n",
       "    .dataframe tbody tr th:only-of-type {\n",
       "        vertical-align: middle;\n",
       "    }\n",
       "\n",
       "    .dataframe tbody tr th {\n",
       "        vertical-align: top;\n",
       "    }\n",
       "\n",
       "    .dataframe thead th {\n",
       "        text-align: right;\n",
       "    }\n",
       "</style>\n",
       "<table border=\"1\" class=\"dataframe\">\n",
       "  <thead>\n",
       "    <tr style=\"text-align: right;\">\n",
       "      <th></th>\n",
       "      <th>STATE</th>\n",
       "      <th>PVASTATE</th>\n",
       "      <th>DOB</th>\n",
       "      <th>MDMAUD</th>\n",
       "      <th>RECP3</th>\n",
       "      <th>GENDER</th>\n",
       "      <th>DOMAIN</th>\n",
       "      <th>INCOME</th>\n",
       "      <th>HOMEOWNR</th>\n",
       "      <th>HV1</th>\n",
       "      <th>...</th>\n",
       "      <th>VETERANS</th>\n",
       "      <th>NUMPROM</th>\n",
       "      <th>CARDPROM</th>\n",
       "      <th>CARDPM12</th>\n",
       "      <th>NUMPRM12</th>\n",
       "      <th>MAXADATE</th>\n",
       "      <th>RFA_2</th>\n",
       "      <th>NGIFTALL</th>\n",
       "      <th>TIMELAG</th>\n",
       "      <th>AVGGIFT</th>\n",
       "    </tr>\n",
       "  </thead>\n",
       "  <tbody>\n",
       "    <tr>\n",
       "      <th>0</th>\n",
       "      <td>IL</td>\n",
       "      <td></td>\n",
       "      <td>3712</td>\n",
       "      <td>XXXX</td>\n",
       "      <td></td>\n",
       "      <td>F</td>\n",
       "      <td>T2</td>\n",
       "      <td>NaN</td>\n",
       "      <td></td>\n",
       "      <td>479</td>\n",
       "      <td>...</td>\n",
       "      <td></td>\n",
       "      <td>74</td>\n",
       "      <td>27</td>\n",
       "      <td>6</td>\n",
       "      <td>14</td>\n",
       "      <td>9702</td>\n",
       "      <td>L4E</td>\n",
       "      <td>31</td>\n",
       "      <td>4.0</td>\n",
       "      <td>7.741935</td>\n",
       "    </tr>\n",
       "    <tr>\n",
       "      <th>1</th>\n",
       "      <td>CA</td>\n",
       "      <td></td>\n",
       "      <td>5202</td>\n",
       "      <td>XXXX</td>\n",
       "      <td></td>\n",
       "      <td>M</td>\n",
       "      <td>S1</td>\n",
       "      <td>6.0</td>\n",
       "      <td>H</td>\n",
       "      <td>5468</td>\n",
       "      <td>...</td>\n",
       "      <td></td>\n",
       "      <td>32</td>\n",
       "      <td>12</td>\n",
       "      <td>6</td>\n",
       "      <td>13</td>\n",
       "      <td>9702</td>\n",
       "      <td>L2G</td>\n",
       "      <td>3</td>\n",
       "      <td>18.0</td>\n",
       "      <td>15.666667</td>\n",
       "    </tr>\n",
       "    <tr>\n",
       "      <th>2</th>\n",
       "      <td>NC</td>\n",
       "      <td></td>\n",
       "      <td>0</td>\n",
       "      <td>XXXX</td>\n",
       "      <td></td>\n",
       "      <td>M</td>\n",
       "      <td>R2</td>\n",
       "      <td>3.0</td>\n",
       "      <td>U</td>\n",
       "      <td>497</td>\n",
       "      <td>...</td>\n",
       "      <td></td>\n",
       "      <td>63</td>\n",
       "      <td>26</td>\n",
       "      <td>6</td>\n",
       "      <td>14</td>\n",
       "      <td>9702</td>\n",
       "      <td>L4E</td>\n",
       "      <td>27</td>\n",
       "      <td>12.0</td>\n",
       "      <td>7.481481</td>\n",
       "    </tr>\n",
       "    <tr>\n",
       "      <th>3</th>\n",
       "      <td>CA</td>\n",
       "      <td></td>\n",
       "      <td>2801</td>\n",
       "      <td>XXXX</td>\n",
       "      <td></td>\n",
       "      <td>F</td>\n",
       "      <td>R2</td>\n",
       "      <td>1.0</td>\n",
       "      <td>U</td>\n",
       "      <td>1000</td>\n",
       "      <td>...</td>\n",
       "      <td></td>\n",
       "      <td>66</td>\n",
       "      <td>27</td>\n",
       "      <td>6</td>\n",
       "      <td>14</td>\n",
       "      <td>9702</td>\n",
       "      <td>L4E</td>\n",
       "      <td>16</td>\n",
       "      <td>9.0</td>\n",
       "      <td>6.812500</td>\n",
       "    </tr>\n",
       "    <tr>\n",
       "      <th>4</th>\n",
       "      <td>FL</td>\n",
       "      <td></td>\n",
       "      <td>2001</td>\n",
       "      <td>XXXX</td>\n",
       "      <td>X</td>\n",
       "      <td>F</td>\n",
       "      <td>S2</td>\n",
       "      <td>3.0</td>\n",
       "      <td>H</td>\n",
       "      <td>576</td>\n",
       "      <td>...</td>\n",
       "      <td></td>\n",
       "      <td>113</td>\n",
       "      <td>43</td>\n",
       "      <td>10</td>\n",
       "      <td>25</td>\n",
       "      <td>9702</td>\n",
       "      <td>L2F</td>\n",
       "      <td>37</td>\n",
       "      <td>14.0</td>\n",
       "      <td>6.864865</td>\n",
       "    </tr>\n",
       "  </tbody>\n",
       "</table>\n",
       "<p>5 rows × 28 columns</p>\n",
       "</div>"
      ],
      "text/plain": [
       "  STATE PVASTATE   DOB MDMAUD RECP3 GENDER DOMAIN  INCOME HOMEOWNR   HV1  ...  \\\n",
       "0    IL           3712   XXXX            F     T2     NaN            479  ...   \n",
       "1    CA           5202   XXXX            M     S1     6.0        H  5468  ...   \n",
       "2    NC              0   XXXX            M     R2     3.0        U   497  ...   \n",
       "3    CA           2801   XXXX            F     R2     1.0        U  1000  ...   \n",
       "4    FL           2001   XXXX     X      F     S2     3.0        H   576  ...   \n",
       "\n",
       "   VETERANS  NUMPROM  CARDPROM  CARDPM12  NUMPRM12  MAXADATE  RFA_2  NGIFTALL  \\\n",
       "0                 74        27         6        14      9702    L4E        31   \n",
       "1                 32        12         6        13      9702    L2G         3   \n",
       "2                 63        26         6        14      9702    L4E        27   \n",
       "3                 66        27         6        14      9702    L4E        16   \n",
       "4                113        43        10        25      9702    L2F        37   \n",
       "\n",
       "  TIMELAG    AVGGIFT  \n",
       "0     4.0   7.741935  \n",
       "1    18.0  15.666667  \n",
       "2    12.0   7.481481  \n",
       "3     9.0   6.812500  \n",
       "4    14.0   6.864865  \n",
       "\n",
       "[5 rows x 28 columns]"
      ]
     },
     "execution_count": 9,
     "metadata": {},
     "output_type": "execute_result"
    }
   ],
   "source": [
    "import pandas as pd\n",
    "import seaborn as sns\n",
    "import matplotlib.pyplot as plt\n",
    "import numpy as np\n",
    "\n",
    "data = pd.read_csv('unit4.csv')\n",
    "data.head()"
   ]
  },
  {
   "cell_type": "code",
   "execution_count": 10,
   "metadata": {},
   "outputs": [
    {
     "data": {
      "text/plain": [
       "22507"
      ]
     },
     "execution_count": 10,
     "metadata": {},
     "output_type": "execute_result"
    }
   ],
   "source": [
    "# to check the number of clients for which this info is missing\n",
    "len(data[data['DOB']==0])"
   ]
  },
  {
   "cell_type": "code",
   "execution_count": 11,
   "metadata": {},
   "outputs": [],
   "source": [
    "import re\n",
    "def year(x):\n",
    "    x = str(x)\n",
    "    if len(x)<4:\n",
    "        return np.nan\n",
    "    else:\n",
    "        pattern = '\\d\\d'\n",
    "        yr = re.findall(pattern,x)[0]\n",
    "        return int(yr)"
   ]
  },
  {
   "cell_type": "code",
   "execution_count": null,
   "metadata": {},
   "outputs": [],
   "source": [
    "data['year'] = list(map(year, data['DOB']))\n",
    "data['year'] = 97 - data['year']\n",
    "\n",
    "data['year'] = data['year'].fillna(np.mean(data['year']))\n",
    "\n",
    "# Now we can drop the column DOB as we have extracted the information we need from this column\n",
    "data = data.drop(['DOB'], axis=1)"
   ]
  }
 ],
 "metadata": {
  "kernelspec": {
   "display_name": "Python 3",
   "language": "python",
   "name": "python3"
  },
  "language_info": {
   "codemirror_mode": {
    "name": "ipython",
    "version": 3
   },
   "file_extension": ".py",
   "mimetype": "text/x-python",
   "name": "python",
   "nbconvert_exporter": "python",
   "pygments_lexer": "ipython3",
   "version": "3.8.5"
  }
 },
 "nbformat": 4,
 "nbformat_minor": 2
}
