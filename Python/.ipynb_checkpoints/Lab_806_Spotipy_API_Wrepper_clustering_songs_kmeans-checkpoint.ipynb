{
 "cells": [
  {
   "cell_type": "code",
   "execution_count": 93,
   "metadata": {},
   "outputs": [],
   "source": [
    "from IPython.display import Image\n",
    "from IPython.core.display import HTML \n",
    "import pandas as pd\n",
    "from sklearn import datasets\n",
    "from sklearn.preprocessing import StandardScaler\n",
    "from sklearn.cluster import KMeans\n",
    "import matplotlib.pyplot as plt\n",
    "import numpy as np\n",
    "from sklearn.metrics import silhouette_score\n",
    "from yellowbrick.cluster import SilhouetteVisualizer\n",
    "import seaborn as sns\n",
    "import spotipy\n",
    "from spotipy.oauth2 import SpotifyClientCredentials\n",
    "sp = spotipy.Spotify(auth_manager=SpotifyClientCredentials(client_id ='f22713124fb04e97a26f46a51547744f',\n",
    "                                                          client_secret='75c001d5dfc54f6cb6e44f7a54cdabc0'))"
   ]
  },
  {
   "cell_type": "code",
   "execution_count": 72,
   "metadata": {},
   "outputs": [],
   "source": [
    "def import_top_100_billboardsongs():\n",
    "    from bs4 import BeautifulSoup\n",
    "    import requests\n",
    "    url = \"https://www.billboard.com/charts/hot-100\"\n",
    "    response = requests.get(url)\n",
    "    soup = BeautifulSoup(response.content, \"html.parser\")\n",
    "    rank_list = soup.select(\"li span.chart-element__rank__number\")\n",
    "    song_list = soup.select(\"li span.chart-element__information__song\")\n",
    "    artist_list = soup.select(\"li span.chart-element__information__artist\")\n",
    "    rank = []\n",
    "    song = []\n",
    "    artist = []\n",
    "    len_top100 = len(soup.select(\"li span.chart-element__information__song\"))\n",
    "    for i in range(len_top100):\n",
    "        rank.append(rank_list[i].get_text())\n",
    "        song.append(song_list[i].get_text())\n",
    "        artist.append(artist_list[i].get_text())\n",
    "    \n",
    "    return pd.DataFrame({'Rank':rank,'song':song,'artist':artist})"
   ]
  },
  {
   "cell_type": "code",
   "execution_count": 58,
   "metadata": {},
   "outputs": [],
   "source": [
    "df_fullsong = pd.read_csv('full_songlist_without_duplicates.csv')"
   ]
  },
  {
   "cell_type": "code",
   "execution_count": 59,
   "metadata": {},
   "outputs": [
    {
     "data": {
      "text/html": [
       "<div>\n",
       "<style scoped>\n",
       "    .dataframe tbody tr th:only-of-type {\n",
       "        vertical-align: middle;\n",
       "    }\n",
       "\n",
       "    .dataframe tbody tr th {\n",
       "        vertical-align: top;\n",
       "    }\n",
       "\n",
       "    .dataframe thead th {\n",
       "        text-align: right;\n",
       "    }\n",
       "</style>\n",
       "<table border=\"1\" class=\"dataframe\">\n",
       "  <thead>\n",
       "    <tr style=\"text-align: right;\">\n",
       "      <th></th>\n",
       "      <th>Unnamed: 0</th>\n",
       "      <th>track_id</th>\n",
       "      <th>name</th>\n",
       "      <th>artist</th>\n",
       "      <th>danceability</th>\n",
       "      <th>energy</th>\n",
       "      <th>key</th>\n",
       "      <th>loudness</th>\n",
       "      <th>mode</th>\n",
       "      <th>speechiness</th>\n",
       "      <th>acousticness</th>\n",
       "      <th>instrumentalness</th>\n",
       "      <th>liveness</th>\n",
       "      <th>valence</th>\n",
       "      <th>tempo</th>\n",
       "      <th>duration_ms</th>\n",
       "      <th>time_signature</th>\n",
       "    </tr>\n",
       "  </thead>\n",
       "  <tbody>\n",
       "    <tr>\n",
       "      <th>0</th>\n",
       "      <td>0</td>\n",
       "      <td>5QO79kh1waicV47BqGRL3g</td>\n",
       "      <td>Save Your Tears</td>\n",
       "      <td>The Weeknd</td>\n",
       "      <td>0.680</td>\n",
       "      <td>0.826</td>\n",
       "      <td>0</td>\n",
       "      <td>-5.487</td>\n",
       "      <td>1</td>\n",
       "      <td>0.0309</td>\n",
       "      <td>0.0212</td>\n",
       "      <td>0.000012</td>\n",
       "      <td>0.543</td>\n",
       "      <td>0.644</td>\n",
       "      <td>118.051</td>\n",
       "      <td>215627</td>\n",
       "      <td>4</td>\n",
       "    </tr>\n",
       "    <tr>\n",
       "      <th>1</th>\n",
       "      <td>1</td>\n",
       "      <td>5uEYRdEIh9Bo4fpjDd4Na9</td>\n",
       "      <td>Goosebumps - Remix</td>\n",
       "      <td>Travis Scott</td>\n",
       "      <td>0.841</td>\n",
       "      <td>0.593</td>\n",
       "      <td>1</td>\n",
       "      <td>-7.846</td>\n",
       "      <td>1</td>\n",
       "      <td>0.0379</td>\n",
       "      <td>0.4180</td>\n",
       "      <td>0.000000</td>\n",
       "      <td>0.124</td>\n",
       "      <td>0.808</td>\n",
       "      <td>124.917</td>\n",
       "      <td>162803</td>\n",
       "      <td>4</td>\n",
       "    </tr>\n",
       "    <tr>\n",
       "      <th>2</th>\n",
       "      <td>2</td>\n",
       "      <td>3eZYOQO4UzKrUDYDghtnFw</td>\n",
       "      <td>test drive</td>\n",
       "      <td>Ariana Grande</td>\n",
       "      <td>0.698</td>\n",
       "      <td>0.708</td>\n",
       "      <td>9</td>\n",
       "      <td>-4.943</td>\n",
       "      <td>0</td>\n",
       "      <td>0.0454</td>\n",
       "      <td>0.0251</td>\n",
       "      <td>0.000000</td>\n",
       "      <td>0.124</td>\n",
       "      <td>0.322</td>\n",
       "      <td>115.036</td>\n",
       "      <td>122174</td>\n",
       "      <td>4</td>\n",
       "    </tr>\n",
       "    <tr>\n",
       "      <th>3</th>\n",
       "      <td>3</td>\n",
       "      <td>1diS6nkxMQc3wwC4G1j0bh</td>\n",
       "      <td>We're Good</td>\n",
       "      <td>Dua Lipa</td>\n",
       "      <td>0.722</td>\n",
       "      <td>0.588</td>\n",
       "      <td>6</td>\n",
       "      <td>-5.932</td>\n",
       "      <td>1</td>\n",
       "      <td>0.0544</td>\n",
       "      <td>0.0319</td>\n",
       "      <td>0.000000</td>\n",
       "      <td>0.183</td>\n",
       "      <td>0.590</td>\n",
       "      <td>134.010</td>\n",
       "      <td>165507</td>\n",
       "      <td>4</td>\n",
       "    </tr>\n",
       "    <tr>\n",
       "      <th>4</th>\n",
       "      <td>4</td>\n",
       "      <td>7lPN2DXiMsVn7XUKtOW1CS</td>\n",
       "      <td>drivers license</td>\n",
       "      <td>Olivia Rodrigo</td>\n",
       "      <td>0.585</td>\n",
       "      <td>0.436</td>\n",
       "      <td>10</td>\n",
       "      <td>-8.761</td>\n",
       "      <td>1</td>\n",
       "      <td>0.0601</td>\n",
       "      <td>0.7210</td>\n",
       "      <td>0.000013</td>\n",
       "      <td>0.105</td>\n",
       "      <td>0.132</td>\n",
       "      <td>143.874</td>\n",
       "      <td>242014</td>\n",
       "      <td>4</td>\n",
       "    </tr>\n",
       "  </tbody>\n",
       "</table>\n",
       "</div>"
      ],
      "text/plain": [
       "   Unnamed: 0                track_id                name          artist  \\\n",
       "0           0  5QO79kh1waicV47BqGRL3g     Save Your Tears      The Weeknd   \n",
       "1           1  5uEYRdEIh9Bo4fpjDd4Na9  Goosebumps - Remix    Travis Scott   \n",
       "2           2  3eZYOQO4UzKrUDYDghtnFw          test drive   Ariana Grande   \n",
       "3           3  1diS6nkxMQc3wwC4G1j0bh          We're Good        Dua Lipa   \n",
       "4           4  7lPN2DXiMsVn7XUKtOW1CS     drivers license  Olivia Rodrigo   \n",
       "\n",
       "   danceability  energy  key  loudness  mode  speechiness  acousticness  \\\n",
       "0         0.680   0.826    0    -5.487     1       0.0309        0.0212   \n",
       "1         0.841   0.593    1    -7.846     1       0.0379        0.4180   \n",
       "2         0.698   0.708    9    -4.943     0       0.0454        0.0251   \n",
       "3         0.722   0.588    6    -5.932     1       0.0544        0.0319   \n",
       "4         0.585   0.436   10    -8.761     1       0.0601        0.7210   \n",
       "\n",
       "   instrumentalness  liveness  valence    tempo  duration_ms  time_signature  \n",
       "0          0.000012     0.543    0.644  118.051       215627               4  \n",
       "1          0.000000     0.124    0.808  124.917       162803               4  \n",
       "2          0.000000     0.124    0.322  115.036       122174               4  \n",
       "3          0.000000     0.183    0.590  134.010       165507               4  \n",
       "4          0.000013     0.105    0.132  143.874       242014               4  "
      ]
     },
     "execution_count": 59,
     "metadata": {},
     "output_type": "execute_result"
    }
   ],
   "source": [
    "df_fullsong.head()"
   ]
  },
  {
   "cell_type": "code",
   "execution_count": 60,
   "metadata": {},
   "outputs": [],
   "source": [
    "df_fullsong = df_fullsong.drop(labels = 'Unnamed: 0', axis=1)"
   ]
  },
  {
   "cell_type": "code",
   "execution_count": 61,
   "metadata": {},
   "outputs": [
    {
     "data": {
      "text/html": [
       "<div>\n",
       "<style scoped>\n",
       "    .dataframe tbody tr th:only-of-type {\n",
       "        vertical-align: middle;\n",
       "    }\n",
       "\n",
       "    .dataframe tbody tr th {\n",
       "        vertical-align: top;\n",
       "    }\n",
       "\n",
       "    .dataframe thead th {\n",
       "        text-align: right;\n",
       "    }\n",
       "</style>\n",
       "<table border=\"1\" class=\"dataframe\">\n",
       "  <thead>\n",
       "    <tr style=\"text-align: right;\">\n",
       "      <th></th>\n",
       "      <th>track_id</th>\n",
       "      <th>name</th>\n",
       "      <th>artist</th>\n",
       "      <th>danceability</th>\n",
       "      <th>energy</th>\n",
       "      <th>key</th>\n",
       "      <th>loudness</th>\n",
       "      <th>mode</th>\n",
       "      <th>speechiness</th>\n",
       "      <th>acousticness</th>\n",
       "      <th>instrumentalness</th>\n",
       "      <th>liveness</th>\n",
       "      <th>valence</th>\n",
       "      <th>tempo</th>\n",
       "      <th>duration_ms</th>\n",
       "      <th>time_signature</th>\n",
       "    </tr>\n",
       "  </thead>\n",
       "  <tbody>\n",
       "    <tr>\n",
       "      <th>0</th>\n",
       "      <td>5QO79kh1waicV47BqGRL3g</td>\n",
       "      <td>Save Your Tears</td>\n",
       "      <td>The Weeknd</td>\n",
       "      <td>0.680</td>\n",
       "      <td>0.826</td>\n",
       "      <td>0</td>\n",
       "      <td>-5.487</td>\n",
       "      <td>1</td>\n",
       "      <td>0.0309</td>\n",
       "      <td>0.0212</td>\n",
       "      <td>0.000012</td>\n",
       "      <td>0.543</td>\n",
       "      <td>0.644</td>\n",
       "      <td>118.051</td>\n",
       "      <td>215627</td>\n",
       "      <td>4</td>\n",
       "    </tr>\n",
       "    <tr>\n",
       "      <th>1</th>\n",
       "      <td>5uEYRdEIh9Bo4fpjDd4Na9</td>\n",
       "      <td>Goosebumps - Remix</td>\n",
       "      <td>Travis Scott</td>\n",
       "      <td>0.841</td>\n",
       "      <td>0.593</td>\n",
       "      <td>1</td>\n",
       "      <td>-7.846</td>\n",
       "      <td>1</td>\n",
       "      <td>0.0379</td>\n",
       "      <td>0.4180</td>\n",
       "      <td>0.000000</td>\n",
       "      <td>0.124</td>\n",
       "      <td>0.808</td>\n",
       "      <td>124.917</td>\n",
       "      <td>162803</td>\n",
       "      <td>4</td>\n",
       "    </tr>\n",
       "    <tr>\n",
       "      <th>2</th>\n",
       "      <td>3eZYOQO4UzKrUDYDghtnFw</td>\n",
       "      <td>test drive</td>\n",
       "      <td>Ariana Grande</td>\n",
       "      <td>0.698</td>\n",
       "      <td>0.708</td>\n",
       "      <td>9</td>\n",
       "      <td>-4.943</td>\n",
       "      <td>0</td>\n",
       "      <td>0.0454</td>\n",
       "      <td>0.0251</td>\n",
       "      <td>0.000000</td>\n",
       "      <td>0.124</td>\n",
       "      <td>0.322</td>\n",
       "      <td>115.036</td>\n",
       "      <td>122174</td>\n",
       "      <td>4</td>\n",
       "    </tr>\n",
       "    <tr>\n",
       "      <th>3</th>\n",
       "      <td>1diS6nkxMQc3wwC4G1j0bh</td>\n",
       "      <td>We're Good</td>\n",
       "      <td>Dua Lipa</td>\n",
       "      <td>0.722</td>\n",
       "      <td>0.588</td>\n",
       "      <td>6</td>\n",
       "      <td>-5.932</td>\n",
       "      <td>1</td>\n",
       "      <td>0.0544</td>\n",
       "      <td>0.0319</td>\n",
       "      <td>0.000000</td>\n",
       "      <td>0.183</td>\n",
       "      <td>0.590</td>\n",
       "      <td>134.010</td>\n",
       "      <td>165507</td>\n",
       "      <td>4</td>\n",
       "    </tr>\n",
       "    <tr>\n",
       "      <th>4</th>\n",
       "      <td>7lPN2DXiMsVn7XUKtOW1CS</td>\n",
       "      <td>drivers license</td>\n",
       "      <td>Olivia Rodrigo</td>\n",
       "      <td>0.585</td>\n",
       "      <td>0.436</td>\n",
       "      <td>10</td>\n",
       "      <td>-8.761</td>\n",
       "      <td>1</td>\n",
       "      <td>0.0601</td>\n",
       "      <td>0.7210</td>\n",
       "      <td>0.000013</td>\n",
       "      <td>0.105</td>\n",
       "      <td>0.132</td>\n",
       "      <td>143.874</td>\n",
       "      <td>242014</td>\n",
       "      <td>4</td>\n",
       "    </tr>\n",
       "  </tbody>\n",
       "</table>\n",
       "</div>"
      ],
      "text/plain": [
       "                 track_id                name          artist  danceability  \\\n",
       "0  5QO79kh1waicV47BqGRL3g     Save Your Tears      The Weeknd         0.680   \n",
       "1  5uEYRdEIh9Bo4fpjDd4Na9  Goosebumps - Remix    Travis Scott         0.841   \n",
       "2  3eZYOQO4UzKrUDYDghtnFw          test drive   Ariana Grande         0.698   \n",
       "3  1diS6nkxMQc3wwC4G1j0bh          We're Good        Dua Lipa         0.722   \n",
       "4  7lPN2DXiMsVn7XUKtOW1CS     drivers license  Olivia Rodrigo         0.585   \n",
       "\n",
       "   energy  key  loudness  mode  speechiness  acousticness  instrumentalness  \\\n",
       "0   0.826    0    -5.487     1       0.0309        0.0212          0.000012   \n",
       "1   0.593    1    -7.846     1       0.0379        0.4180          0.000000   \n",
       "2   0.708    9    -4.943     0       0.0454        0.0251          0.000000   \n",
       "3   0.588    6    -5.932     1       0.0544        0.0319          0.000000   \n",
       "4   0.436   10    -8.761     1       0.0601        0.7210          0.000013   \n",
       "\n",
       "   liveness  valence    tempo  duration_ms  time_signature  \n",
       "0     0.543    0.644  118.051       215627               4  \n",
       "1     0.124    0.808  124.917       162803               4  \n",
       "2     0.124    0.322  115.036       122174               4  \n",
       "3     0.183    0.590  134.010       165507               4  \n",
       "4     0.105    0.132  143.874       242014               4  "
      ]
     },
     "execution_count": 61,
     "metadata": {},
     "output_type": "execute_result"
    }
   ],
   "source": [
    "df_fullsong.head()"
   ]
  },
  {
   "cell_type": "code",
   "execution_count": null,
   "metadata": {},
   "outputs": [],
   "source": []
  },
  {
   "cell_type": "code",
   "execution_count": 62,
   "metadata": {},
   "outputs": [],
   "source": [
    "df_song_id = df_fullsong.copy()\n",
    "df_song_id = df_song_id.drop(columns = df_song_id.columns[3:])"
   ]
  },
  {
   "cell_type": "code",
   "execution_count": 63,
   "metadata": {},
   "outputs": [
    {
     "data": {
      "text/html": [
       "<div>\n",
       "<style scoped>\n",
       "    .dataframe tbody tr th:only-of-type {\n",
       "        vertical-align: middle;\n",
       "    }\n",
       "\n",
       "    .dataframe tbody tr th {\n",
       "        vertical-align: top;\n",
       "    }\n",
       "\n",
       "    .dataframe thead th {\n",
       "        text-align: right;\n",
       "    }\n",
       "</style>\n",
       "<table border=\"1\" class=\"dataframe\">\n",
       "  <thead>\n",
       "    <tr style=\"text-align: right;\">\n",
       "      <th></th>\n",
       "      <th>track_id</th>\n",
       "      <th>name</th>\n",
       "      <th>artist</th>\n",
       "    </tr>\n",
       "  </thead>\n",
       "  <tbody>\n",
       "    <tr>\n",
       "      <th>0</th>\n",
       "      <td>5QO79kh1waicV47BqGRL3g</td>\n",
       "      <td>Save Your Tears</td>\n",
       "      <td>The Weeknd</td>\n",
       "    </tr>\n",
       "    <tr>\n",
       "      <th>1</th>\n",
       "      <td>5uEYRdEIh9Bo4fpjDd4Na9</td>\n",
       "      <td>Goosebumps - Remix</td>\n",
       "      <td>Travis Scott</td>\n",
       "    </tr>\n",
       "    <tr>\n",
       "      <th>2</th>\n",
       "      <td>3eZYOQO4UzKrUDYDghtnFw</td>\n",
       "      <td>test drive</td>\n",
       "      <td>Ariana Grande</td>\n",
       "    </tr>\n",
       "    <tr>\n",
       "      <th>3</th>\n",
       "      <td>1diS6nkxMQc3wwC4G1j0bh</td>\n",
       "      <td>We're Good</td>\n",
       "      <td>Dua Lipa</td>\n",
       "    </tr>\n",
       "    <tr>\n",
       "      <th>4</th>\n",
       "      <td>7lPN2DXiMsVn7XUKtOW1CS</td>\n",
       "      <td>drivers license</td>\n",
       "      <td>Olivia Rodrigo</td>\n",
       "    </tr>\n",
       "  </tbody>\n",
       "</table>\n",
       "</div>"
      ],
      "text/plain": [
       "                 track_id                name          artist\n",
       "0  5QO79kh1waicV47BqGRL3g     Save Your Tears      The Weeknd\n",
       "1  5uEYRdEIh9Bo4fpjDd4Na9  Goosebumps - Remix    Travis Scott\n",
       "2  3eZYOQO4UzKrUDYDghtnFw          test drive   Ariana Grande\n",
       "3  1diS6nkxMQc3wwC4G1j0bh          We're Good        Dua Lipa\n",
       "4  7lPN2DXiMsVn7XUKtOW1CS     drivers license  Olivia Rodrigo"
      ]
     },
     "execution_count": 63,
     "metadata": {},
     "output_type": "execute_result"
    }
   ],
   "source": [
    "df_song_id.head()"
   ]
  },
  {
   "cell_type": "code",
   "execution_count": 14,
   "metadata": {},
   "outputs": [],
   "source": [
    "df_fullsong = df_fullsong.drop(columns = df_fullsong.columns[0:3])"
   ]
  },
  {
   "cell_type": "code",
   "execution_count": 15,
   "metadata": {},
   "outputs": [
    {
     "data": {
      "text/html": [
       "<div>\n",
       "<style scoped>\n",
       "    .dataframe tbody tr th:only-of-type {\n",
       "        vertical-align: middle;\n",
       "    }\n",
       "\n",
       "    .dataframe tbody tr th {\n",
       "        vertical-align: top;\n",
       "    }\n",
       "\n",
       "    .dataframe thead th {\n",
       "        text-align: right;\n",
       "    }\n",
       "</style>\n",
       "<table border=\"1\" class=\"dataframe\">\n",
       "  <thead>\n",
       "    <tr style=\"text-align: right;\">\n",
       "      <th></th>\n",
       "      <th>danceability</th>\n",
       "      <th>energy</th>\n",
       "      <th>key</th>\n",
       "      <th>loudness</th>\n",
       "      <th>mode</th>\n",
       "      <th>speechiness</th>\n",
       "      <th>acousticness</th>\n",
       "      <th>instrumentalness</th>\n",
       "      <th>liveness</th>\n",
       "      <th>valence</th>\n",
       "      <th>tempo</th>\n",
       "      <th>duration_ms</th>\n",
       "      <th>time_signature</th>\n",
       "    </tr>\n",
       "  </thead>\n",
       "  <tbody>\n",
       "    <tr>\n",
       "      <th>0</th>\n",
       "      <td>0.680</td>\n",
       "      <td>0.826</td>\n",
       "      <td>0</td>\n",
       "      <td>-5.487</td>\n",
       "      <td>1</td>\n",
       "      <td>0.0309</td>\n",
       "      <td>0.0212</td>\n",
       "      <td>0.000012</td>\n",
       "      <td>0.543</td>\n",
       "      <td>0.644</td>\n",
       "      <td>118.051</td>\n",
       "      <td>215627</td>\n",
       "      <td>4</td>\n",
       "    </tr>\n",
       "    <tr>\n",
       "      <th>1</th>\n",
       "      <td>0.841</td>\n",
       "      <td>0.593</td>\n",
       "      <td>1</td>\n",
       "      <td>-7.846</td>\n",
       "      <td>1</td>\n",
       "      <td>0.0379</td>\n",
       "      <td>0.4180</td>\n",
       "      <td>0.000000</td>\n",
       "      <td>0.124</td>\n",
       "      <td>0.808</td>\n",
       "      <td>124.917</td>\n",
       "      <td>162803</td>\n",
       "      <td>4</td>\n",
       "    </tr>\n",
       "    <tr>\n",
       "      <th>2</th>\n",
       "      <td>0.698</td>\n",
       "      <td>0.708</td>\n",
       "      <td>9</td>\n",
       "      <td>-4.943</td>\n",
       "      <td>0</td>\n",
       "      <td>0.0454</td>\n",
       "      <td>0.0251</td>\n",
       "      <td>0.000000</td>\n",
       "      <td>0.124</td>\n",
       "      <td>0.322</td>\n",
       "      <td>115.036</td>\n",
       "      <td>122174</td>\n",
       "      <td>4</td>\n",
       "    </tr>\n",
       "    <tr>\n",
       "      <th>3</th>\n",
       "      <td>0.722</td>\n",
       "      <td>0.588</td>\n",
       "      <td>6</td>\n",
       "      <td>-5.932</td>\n",
       "      <td>1</td>\n",
       "      <td>0.0544</td>\n",
       "      <td>0.0319</td>\n",
       "      <td>0.000000</td>\n",
       "      <td>0.183</td>\n",
       "      <td>0.590</td>\n",
       "      <td>134.010</td>\n",
       "      <td>165507</td>\n",
       "      <td>4</td>\n",
       "    </tr>\n",
       "    <tr>\n",
       "      <th>4</th>\n",
       "      <td>0.585</td>\n",
       "      <td>0.436</td>\n",
       "      <td>10</td>\n",
       "      <td>-8.761</td>\n",
       "      <td>1</td>\n",
       "      <td>0.0601</td>\n",
       "      <td>0.7210</td>\n",
       "      <td>0.000013</td>\n",
       "      <td>0.105</td>\n",
       "      <td>0.132</td>\n",
       "      <td>143.874</td>\n",
       "      <td>242014</td>\n",
       "      <td>4</td>\n",
       "    </tr>\n",
       "  </tbody>\n",
       "</table>\n",
       "</div>"
      ],
      "text/plain": [
       "   danceability  energy  key  loudness  mode  speechiness  acousticness  \\\n",
       "0         0.680   0.826    0    -5.487     1       0.0309        0.0212   \n",
       "1         0.841   0.593    1    -7.846     1       0.0379        0.4180   \n",
       "2         0.698   0.708    9    -4.943     0       0.0454        0.0251   \n",
       "3         0.722   0.588    6    -5.932     1       0.0544        0.0319   \n",
       "4         0.585   0.436   10    -8.761     1       0.0601        0.7210   \n",
       "\n",
       "   instrumentalness  liveness  valence    tempo  duration_ms  time_signature  \n",
       "0          0.000012     0.543    0.644  118.051       215627               4  \n",
       "1          0.000000     0.124    0.808  124.917       162803               4  \n",
       "2          0.000000     0.124    0.322  115.036       122174               4  \n",
       "3          0.000000     0.183    0.590  134.010       165507               4  \n",
       "4          0.000013     0.105    0.132  143.874       242014               4  "
      ]
     },
     "execution_count": 15,
     "metadata": {},
     "output_type": "execute_result"
    }
   ],
   "source": [
    "df_fullsong.head()"
   ]
  },
  {
   "cell_type": "code",
   "execution_count": 16,
   "metadata": {},
   "outputs": [],
   "source": [
    "X = df_fullsong.copy()"
   ]
  },
  {
   "cell_type": "code",
   "execution_count": 38,
   "metadata": {},
   "outputs": [],
   "source": [
    "STDC = StandardScaler()"
   ]
  },
  {
   "cell_type": "code",
   "execution_count": 39,
   "metadata": {},
   "outputs": [
    {
     "data": {
      "text/plain": [
       "StandardScaler()"
      ]
     },
     "execution_count": 39,
     "metadata": {},
     "output_type": "execute_result"
    }
   ],
   "source": [
    "STDC.fit(X)"
   ]
  },
  {
   "cell_type": "code",
   "execution_count": 40,
   "metadata": {},
   "outputs": [],
   "source": [
    "X_prep = STDC.transform(X)"
   ]
  },
  {
   "cell_type": "code",
   "execution_count": 41,
   "metadata": {},
   "outputs": [],
   "source": [
    "X_prep_df = pd.DataFrame(X_prep, columns=df_fullsong.columns)"
   ]
  },
  {
   "cell_type": "markdown",
   "metadata": {},
   "source": [
    "## Check variance in Audio Features:"
   ]
  },
  {
   "cell_type": "code",
   "execution_count": 42,
   "metadata": {},
   "outputs": [
    {
     "data": {
      "image/png": "[encoded data removed]",
      "text/plain": [
       "<Figure size 576x396 with 1 Axes>"
      ]
     },
     "metadata": {},
     "output_type": "display_data"
    },
    {
     "data": {
      "image/png": "[encoded data removed]",
      "text/plain": [
       "<Figure size 576x396 with 1 Axes>"
      ]
     },
     "metadata": {},
     "output_type": "display_data"
    },
    {
     "data": {
      "image/png": "[encoded data removed]",
      "text/plain": [
       "<Figure size 576x396 with 1 Axes>"
      ]
     },
     "metadata": {},
     "output_type": "display_data"
    },
    {
     "data": {
      "image/png": "[encoded data removed]",
      "text/plain": [
       "<Figure size 576x396 with 1 Axes>"
      ]
     },
     "metadata": {},
     "output_type": "display_data"
    },
    {
     "data": {
      "image/png": "[encoded data removed]",
      "text/plain": [
       "<Figure size 576x396 with 1 Axes>"
      ]
     },
     "metadata": {},
     "output_type": "display_data"
    },
    {
     "data": {
      "image/png": "[encoded data removed]",
      "text/plain": [
       "<Figure size 576x396 with 1 Axes>"
      ]
     },
     "metadata": {},
     "output_type": "display_data"
    },
    {
     "data": {
      "image/png": "[encoded data removed]",
      "text/plain": [
       "<Figure size 576x396 with 1 Axes>"
      ]
     },
     "metadata": {},
     "output_type": "display_data"
    },
    {
     "data": {
      "image/png": "[encoded data removed]",
      "text/plain": [
       "<Figure size 576x396 with 1 Axes>"
      ]
     },
     "metadata": {},
     "output_type": "display_data"
    },
    {
     "data": {
      "image/png": "[encoded data removed]",
      "text/plain": [
       "<Figure size 576x396 with 1 Axes>"
      ]
     },
     "metadata": {},
     "output_type": "display_data"
    },
    {
     "data": {
      "image/png": "[encoded data removed]",
      "text/plain": [
       "<Figure size 576x396 with 1 Axes>"
      ]
     },
     "metadata": {},
     "output_type": "display_data"
    },
    {
     "data": {
      "image/png": "[encoded data removed]",
      "text/plain": [
       "<Figure size 576x396 with 1 Axes>"
      ]
     },
     "metadata": {},
     "output_type": "display_data"
    },
    {
     "data": {
      "image/png": "[encoded data removed]",
      "text/plain": [
       "<Figure size 576x396 with 1 Axes>"
      ]
     },
     "metadata": {},
     "output_type": "display_data"
    },
    {
     "data": {
      "image/png": "[encoded data removed]",
      "text/plain": [
       "<Figure size 576x396 with 1 Axes>"
      ]
     },
     "metadata": {},
     "output_type": "display_data"
    }
   ],
   "source": [
    "for feature in X.columns:\n",
    "    sns.histplot(X[feature])\n",
    "    plt.show()"
   ]
  },
  {
   "cell_type": "code",
   "execution_count": 43,
   "metadata": {},
   "outputs": [
    {
     "data": {
      "text/html": [
       "<div>\n",
       "<style scoped>\n",
       "    .dataframe tbody tr th:only-of-type {\n",
       "        vertical-align: middle;\n",
       "    }\n",
       "\n",
       "    .dataframe tbody tr th {\n",
       "        vertical-align: top;\n",
       "    }\n",
       "\n",
       "    .dataframe thead th {\n",
       "        text-align: right;\n",
       "    }\n",
       "</style>\n",
       "<table border=\"1\" class=\"dataframe\">\n",
       "  <thead>\n",
       "    <tr style=\"text-align: right;\">\n",
       "      <th></th>\n",
       "      <th>danceability</th>\n",
       "      <th>energy</th>\n",
       "      <th>key</th>\n",
       "      <th>loudness</th>\n",
       "      <th>mode</th>\n",
       "      <th>speechiness</th>\n",
       "      <th>acousticness</th>\n",
       "      <th>instrumentalness</th>\n",
       "      <th>liveness</th>\n",
       "      <th>valence</th>\n",
       "      <th>tempo</th>\n",
       "      <th>duration_ms</th>\n",
       "      <th>time_signature</th>\n",
       "    </tr>\n",
       "  </thead>\n",
       "  <tbody>\n",
       "    <tr>\n",
       "      <th>0</th>\n",
       "      <td>0.727443</td>\n",
       "      <td>1.050025</td>\n",
       "      <td>-1.468513</td>\n",
       "      <td>0.786661</td>\n",
       "      <td>0.713153</td>\n",
       "      <td>-0.468185</td>\n",
       "      <td>-1.050163</td>\n",
       "      <td>-0.569526</td>\n",
       "      <td>2.178021</td>\n",
       "      <td>0.831284</td>\n",
       "      <td>0.036976</td>\n",
       "      <td>-0.176669</td>\n",
       "      <td>0.265847</td>\n",
       "    </tr>\n",
       "    <tr>\n",
       "      <th>1</th>\n",
       "      <td>1.597075</td>\n",
       "      <td>0.249705</td>\n",
       "      <td>-1.188690</td>\n",
       "      <td>0.456062</td>\n",
       "      <td>0.713153</td>\n",
       "      <td>-0.436960</td>\n",
       "      <td>0.024482</td>\n",
       "      <td>-0.569563</td>\n",
       "      <td>-0.401753</td>\n",
       "      <td>1.471078</td>\n",
       "      <td>0.253316</td>\n",
       "      <td>-0.419371</td>\n",
       "      <td>0.265847</td>\n",
       "    </tr>\n",
       "    <tr>\n",
       "      <th>2</th>\n",
       "      <td>0.824669</td>\n",
       "      <td>0.644713</td>\n",
       "      <td>1.049894</td>\n",
       "      <td>0.862899</td>\n",
       "      <td>-1.402224</td>\n",
       "      <td>-0.403505</td>\n",
       "      <td>-1.039601</td>\n",
       "      <td>-0.569563</td>\n",
       "      <td>-0.401753</td>\n",
       "      <td>-0.424898</td>\n",
       "      <td>-0.058024</td>\n",
       "      <td>-0.606042</td>\n",
       "      <td>0.265847</td>\n",
       "    </tr>\n",
       "    <tr>\n",
       "      <th>3</th>\n",
       "      <td>0.954304</td>\n",
       "      <td>0.232531</td>\n",
       "      <td>0.210425</td>\n",
       "      <td>0.724297</td>\n",
       "      <td>0.713153</td>\n",
       "      <td>-0.363360</td>\n",
       "      <td>-1.021185</td>\n",
       "      <td>-0.569563</td>\n",
       "      <td>-0.038491</td>\n",
       "      <td>0.620620</td>\n",
       "      <td>0.539828</td>\n",
       "      <td>-0.406947</td>\n",
       "      <td>0.265847</td>\n",
       "    </tr>\n",
       "    <tr>\n",
       "      <th>4</th>\n",
       "      <td>0.214306</td>\n",
       "      <td>-0.289566</td>\n",
       "      <td>1.329717</td>\n",
       "      <td>0.327831</td>\n",
       "      <td>0.713153</td>\n",
       "      <td>-0.337934</td>\n",
       "      <td>0.845091</td>\n",
       "      <td>-0.569524</td>\n",
       "      <td>-0.518736</td>\n",
       "      <td>-1.166124</td>\n",
       "      <td>0.850632</td>\n",
       "      <td>-0.055433</td>\n",
       "      <td>0.265847</td>\n",
       "    </tr>\n",
       "  </tbody>\n",
       "</table>\n",
       "</div>"
      ],
      "text/plain": [
       "   danceability    energy       key  loudness      mode  speechiness  \\\n",
       "0      0.727443  1.050025 -1.468513  0.786661  0.713153    -0.468185   \n",
       "1      1.597075  0.249705 -1.188690  0.456062  0.713153    -0.436960   \n",
       "2      0.824669  0.644713  1.049894  0.862899 -1.402224    -0.403505   \n",
       "3      0.954304  0.232531  0.210425  0.724297  0.713153    -0.363360   \n",
       "4      0.214306 -0.289566  1.329717  0.327831  0.713153    -0.337934   \n",
       "\n",
       "   acousticness  instrumentalness  liveness   valence     tempo  duration_ms  \\\n",
       "0     -1.050163         -0.569526  2.178021  0.831284  0.036976    -0.176669   \n",
       "1      0.024482         -0.569563 -0.401753  1.471078  0.253316    -0.419371   \n",
       "2     -1.039601         -0.569563 -0.401753 -0.424898 -0.058024    -0.606042   \n",
       "3     -1.021185         -0.569563 -0.038491  0.620620  0.539828    -0.406947   \n",
       "4      0.845091         -0.569524 -0.518736 -1.166124  0.850632    -0.055433   \n",
       "\n",
       "   time_signature  \n",
       "0        0.265847  \n",
       "1        0.265847  \n",
       "2        0.265847  \n",
       "3        0.265847  \n",
       "4        0.265847  "
      ]
     },
     "execution_count": 43,
     "metadata": {},
     "output_type": "execute_result"
    }
   ],
   "source": [
    "X_prep_df.head()"
   ]
  },
  {
   "cell_type": "markdown",
   "metadata": {},
   "source": [
    "## Check how clusternumber impacts inertia:"
   ]
  },
  {
   "cell_type": "code",
   "execution_count": 27,
   "metadata": {
    "scrolled": true
   },
   "outputs": [
    {
     "data": {
      "text/plain": [
       "Text(0.5, 1.0, 'Elbow Method showing the optimal k within [2, 3, 4, 5, 6, 7, 8, 9, 10, 11, 12, 13, 14, 15, 16, 17, 18, 19]')"
      ]
     },
     "execution_count": 27,
     "metadata": {},
     "output_type": "execute_result"
    },
    {
     "data": {
      "image/png": "[encoded data removed]",
      "text/plain": [
       "<Figure size 1152x576 with 1 Axes>"
      ]
     },
     "metadata": {},
     "output_type": "display_data"
    }
   ],
   "source": [
    "K = range(2,20)\n",
    "inertias = []\n",
    "\n",
    "for k in K:\n",
    "    kmeans = KMeans(n_clusters=k,\n",
    "                random_state=1234,\n",
    "                n_init=20,\n",
    "                algorithm='elkan',\n",
    "                max_iter=25)\n",
    "    kmeans.fit(X_prep)\n",
    "    inertias.append(kmeans.inertia_)\n",
    "    \n",
    "plt.figure(figsize=(16,8))\n",
    "plt.plot(K, inertias, 'bx-')\n",
    "plt.xlabel('k')\n",
    "plt.ylabel('inertia')\n",
    "plt.xticks(np.arange(min(K), max(K)+1, 1.0))\n",
    "plt.title(f'Elbow Method showing the optimal k within {list(K)}')"
   ]
  },
  {
   "cell_type": "markdown",
   "metadata": {},
   "source": [
    "## Considering Silhouette values:"
   ]
  },
  {
   "cell_type": "code",
   "execution_count": 51,
   "metadata": {},
   "outputs": [
    {
     "data": {
      "text/plain": [
       "Text(0.5, 1.0, 'Elbow Method showing the optimal k within [2, 3, 4, 5, 6, 7, 8, 9, 10, 11, 12, 13, 14, 15, 16, 17, 18, 19]')"
      ]
     },
     "execution_count": 51,
     "metadata": {},
     "output_type": "execute_result"
    },
    {
     "data": {
      "image/png": "[encoded data removed]",
      "text/plain": [
       "<Figure size 1152x576 with 1 Axes>"
      ]
     },
     "metadata": {},
     "output_type": "display_data"
    }
   ],
   "source": [
    "\n",
    "K = range(2,20)\n",
    "silhouettes = []\n",
    "\n",
    "for k in K:\n",
    "    kmeans = KMeans(n_clusters=k,\n",
    "                random_state=1234,\n",
    "                n_init=10,\n",
    "                algorithm='elkan',\n",
    "                max_iter=10)\n",
    "    kmeans.fit(X_prep)\n",
    "    silhouettes.append(silhouette_score(X_prep,\n",
    "                                     kmeans.predict(X_prep)\n",
    "                                    )\n",
    "                   )\n",
    "\n",
    "plt.figure(figsize=(16,8))\n",
    "plt.plot(K, silhouettes, 'bx-')\n",
    "plt.xlabel('k')\n",
    "plt.ylabel('silhouette score')\n",
    "plt.xticks(np.arange(min(K), max(K)+1, 1.0))\n",
    "plt.title(f'Elbow Method showing the optimal k within {list(K)}')"
   ]
  },
  {
   "cell_type": "markdown",
   "metadata": {},
   "source": [
    "Concerning this silhouette result and knowing there most be more than only 3 different genres of songs, we could aim either for 7 or 16 clusters. The inertia from 7 to 16 cluster is still going down rougly 20% while Silhoute is only 10% worse. "
   ]
  },
  {
   "cell_type": "code",
   "execution_count": 290,
   "metadata": {},
   "outputs": [
    {
     "name": "stdout",
     "output_type": "stream",
     "text": [
      "[[ 6.16420856e-01 -1.12489943e+00  2.14214939e-01 -1.29403021e+00\n",
      "  -5.48454118e-02  3.03439460e+00  6.66515209e-01 -5.32081257e-01\n",
      "   1.20994638e-01 -8.81753608e-02 -1.95865163e-01  1.57366543e-01\n",
      "   8.11777140e-01]\n",
      " [ 6.04695849e-01  5.95892613e-01 -1.10729084e+00  5.81659993e-01\n",
      "   7.13152634e-01 -2.38807029e-01 -6.06739468e-01 -4.76611507e-01\n",
      "  -1.79771988e-01  7.42281459e-01  4.89181377e-03 -1.73875317e-01\n",
      "   2.42772323e-01]\n",
      " [-2.16193125e-01 -7.24007458e-01 -8.89380232e-01 -1.27819260e-01\n",
      "   4.33937663e-01 -3.78122020e-01  8.72372811e-01 -4.51702128e-01\n",
      "  -3.00617050e-01 -4.22429265e-01 -1.37276057e-01 -1.16208715e-01\n",
      "   2.67085258e-02]\n",
      " [-3.62038445e-01  8.30785976e-01  1.54639511e-01  6.88527353e-01\n",
      "  -1.40222437e+00 -2.09594149e-01 -8.32883022e-01 -3.37889023e-01\n",
      "  -3.53271249e-03 -3.22599850e-01  5.71778799e-01 -6.18996381e-02\n",
      "   1.81687150e-01]\n",
      " [-1.19830043e+00 -1.32130222e+00  1.03422013e-01 -1.58490133e+00\n",
      "  -1.40222437e+00 -3.80589198e-01  1.31627485e+00  1.65343973e+00\n",
      "  -3.47892451e-01 -1.08820580e+00 -4.32877074e-01  8.17785783e-02\n",
      "  -8.59503980e-02]\n",
      " [-6.47387299e-01  9.12478610e-01 -2.78788442e-02  7.27556691e-01\n",
      "   7.13152634e-01 -2.41343712e-01 -8.90016073e-01 -3.16814125e-01\n",
      "   5.61129827e-03 -2.47180002e-01  9.53286591e-01 -5.46495668e-02\n",
      "   1.39160123e-01]\n",
      " [-1.27685979e+00 -1.40508256e+00 -1.87379842e-01 -1.73034783e+00\n",
      "   7.13152634e-01 -3.85787492e-01  1.35655402e+00  1.80336634e+00\n",
      "  -3.64332045e-01 -1.08704911e+00 -4.85843255e-01  1.10943644e-01\n",
      "  -1.05906118e-01]\n",
      " [ 6.34768668e-01  5.72062491e-01  7.52639293e-01  5.73196044e-01\n",
      "   7.13152634e-01 -2.52480347e-01 -5.72980452e-01 -4.87999844e-01\n",
      "  -1.89101856e-01  8.37103969e-01 -7.19982856e-02 -1.80363598e-01\n",
      "   2.42122263e-01]\n",
      " [ 2.53579088e-01 -1.01076551e+00 -1.05480356e-01 -1.25040029e+00\n",
      "   7.01893614e-02  2.78463438e+00  7.83634859e-01 -3.27324041e-01\n",
      "   2.29236032e-01 -2.83873826e-01 -5.02070213e-01  7.63450438e+00\n",
      "  -3.80114356e-01]\n",
      " [ 2.02544388e-01  3.24896786e-03  4.06413781e-02 -5.06456433e-01\n",
      "   3.10702895e-02  3.17340129e+00  1.02049288e+00 -5.29412257e-01\n",
      "   3.33070370e+00  3.18506473e-02 -5.50147998e-01 -1.09590207e-01\n",
      "  -2.98039695e-01]\n",
      " [-1.77391486e+00 -9.57842719e-01  8.45400512e-02 -9.97092620e-01\n",
      "   4.30753363e-02 -4.16908811e-01  5.68192133e-01  2.74159432e-01\n",
      "  -3.30910355e-01 -1.11643367e+00 -1.66060476e+00 -5.03832084e-01\n",
      "  -5.41186062e+00]\n",
      " [-1.78187137e-01  5.72745703e-01 -1.90332638e-02  3.74605309e-01\n",
      "   7.88016622e-02 -1.83675663e-01 -3.06984481e-01 -1.82094069e-01\n",
      "   3.16587248e+00  1.43620088e-01  1.20907445e-01 -2.87128118e-02\n",
      "   1.46351289e-01]\n",
      " [ 4.35476162e-01  2.96514300e-01  3.02701910e-02  1.70911326e-01\n",
      "  -2.03998147e-01 -3.15104001e-01 -3.54454086e-01  1.86599066e+00\n",
      "  -2.84259294e-01 -9.33116143e-02  1.01657119e-01 -6.27829216e-03\n",
      "   2.00438508e-01]\n",
      " [ 8.87902408e-01  5.31092432e-01  2.55706052e-01  5.61995740e-01\n",
      "  -1.40222437e+00 -1.57814232e-01 -5.52553268e-01 -4.61355762e-01\n",
      "  -1.91365844e-01  9.07445790e-01 -9.50382688e-02 -1.49842276e-01\n",
      "   2.48871997e-01]\n",
      " [ 6.13989099e-01 -1.15777996e+00  1.53545405e-01 -1.31623641e+00\n",
      "  -7.20513787e-02  2.99935727e+00  6.38690960e-01 -5.45022298e-01\n",
      "   1.14672493e-01 -1.15299851e-01 -1.45704036e-01  1.56223549e-01\n",
      "  -2.03413731e+00]\n",
      " [-2.06859559e-01 -7.31908745e-01  8.97241839e-01 -1.23712015e-01\n",
      "   2.58845856e-01 -3.71522242e-01  8.92174127e-01 -4.62225528e-01\n",
      "  -3.09216475e-01 -4.36318584e-01 -1.35929449e-01 -1.23032480e-01\n",
      "   2.68600934e-02]]\n"
     ]
    }
   ],
   "source": [
    "kmeans = KMeans(n_clusters=16,\n",
    "                random_state=1234,\n",
    "                n_init=10,\n",
    "                algorithm='elkan',\n",
    "                max_iter=25,\n",
    "                   )\n",
    "kmeans.fit(X_prep_df)\n",
    "\n",
    "# print the cluster centers\n",
    "clusters_coordinates = kmeans.cluster_centers_\n",
    "\n",
    "print(clusters_coordinates)"
   ]
  },
  {
   "cell_type": "code",
   "execution_count": 35,
   "metadata": {},
   "outputs": [],
   "source": [
    "clusters_predictions = kmeans.predict(X_prep)"
   ]
  },
  {
   "cell_type": "code",
   "execution_count": 36,
   "metadata": {},
   "outputs": [
    {
     "data": {
      "text/plain": [
       "0     2658\n",
       "1     8468\n",
       "2     6873\n",
       "3     6233\n",
       "4     3469\n",
       "5     7132\n",
       "6     6026\n",
       "7     9136\n",
       "8      760\n",
       "9      918\n",
       "10    1187\n",
       "11    3229\n",
       "12    5240\n",
       "13    8432\n",
       "14    2263\n",
       "15    5982\n",
       "dtype: int64"
      ]
     },
     "execution_count": 36,
     "metadata": {},
     "output_type": "execute_result"
    }
   ],
   "source": [
    "pd.Series(clusters_predictions).value_counts().sort_index()"
   ]
  },
  {
   "cell_type": "code",
   "execution_count": 51,
   "metadata": {},
   "outputs": [
    {
     "data": {
      "text/plain": [
       "(78006, 13)"
      ]
     },
     "execution_count": 51,
     "metadata": {},
     "output_type": "execute_result"
    }
   ],
   "source": [
    "X.shape"
   ]
  },
  {
   "cell_type": "code",
   "execution_count": 50,
   "metadata": {},
   "outputs": [
    {
     "data": {
      "text/plain": [
       "78006"
      ]
     },
     "execution_count": 50,
     "metadata": {},
     "output_type": "execute_result"
    }
   ],
   "source": [
    "len(clusters_predictions)"
   ]
  },
  {
   "cell_type": "markdown",
   "metadata": {},
   "source": [
    "## Add Cluster Predictions to df:"
   ]
  },
  {
   "cell_type": "code",
   "execution_count": 53,
   "metadata": {},
   "outputs": [],
   "source": [
    "X['Cluster'] = clusters_predictions"
   ]
  },
  {
   "cell_type": "code",
   "execution_count": 54,
   "metadata": {},
   "outputs": [
    {
     "data": {
      "text/plain": [
       "(78006, 14)"
      ]
     },
     "execution_count": 54,
     "metadata": {},
     "output_type": "execute_result"
    }
   ],
   "source": [
    "X.shape"
   ]
  },
  {
   "cell_type": "code",
   "execution_count": 64,
   "metadata": {},
   "outputs": [
    {
     "data": {
      "text/html": [
       "<div>\n",
       "<style scoped>\n",
       "    .dataframe tbody tr th:only-of-type {\n",
       "        vertical-align: middle;\n",
       "    }\n",
       "\n",
       "    .dataframe tbody tr th {\n",
       "        vertical-align: top;\n",
       "    }\n",
       "\n",
       "    .dataframe thead th {\n",
       "        text-align: right;\n",
       "    }\n",
       "</style>\n",
       "<table border=\"1\" class=\"dataframe\">\n",
       "  <thead>\n",
       "    <tr style=\"text-align: right;\">\n",
       "      <th></th>\n",
       "      <th>danceability</th>\n",
       "      <th>energy</th>\n",
       "      <th>key</th>\n",
       "      <th>loudness</th>\n",
       "      <th>mode</th>\n",
       "      <th>speechiness</th>\n",
       "      <th>acousticness</th>\n",
       "      <th>instrumentalness</th>\n",
       "      <th>liveness</th>\n",
       "      <th>valence</th>\n",
       "      <th>tempo</th>\n",
       "      <th>duration_ms</th>\n",
       "      <th>time_signature</th>\n",
       "      <th>Cluster</th>\n",
       "    </tr>\n",
       "  </thead>\n",
       "  <tbody>\n",
       "    <tr>\n",
       "      <th>0</th>\n",
       "      <td>0.680</td>\n",
       "      <td>0.826</td>\n",
       "      <td>0</td>\n",
       "      <td>-5.487</td>\n",
       "      <td>1</td>\n",
       "      <td>0.0309</td>\n",
       "      <td>0.0212</td>\n",
       "      <td>0.000012</td>\n",
       "      <td>0.543</td>\n",
       "      <td>0.644</td>\n",
       "      <td>118.051</td>\n",
       "      <td>215627</td>\n",
       "      <td>4</td>\n",
       "      <td>11</td>\n",
       "    </tr>\n",
       "    <tr>\n",
       "      <th>1</th>\n",
       "      <td>0.841</td>\n",
       "      <td>0.593</td>\n",
       "      <td>1</td>\n",
       "      <td>-7.846</td>\n",
       "      <td>1</td>\n",
       "      <td>0.0379</td>\n",
       "      <td>0.4180</td>\n",
       "      <td>0.000000</td>\n",
       "      <td>0.124</td>\n",
       "      <td>0.808</td>\n",
       "      <td>124.917</td>\n",
       "      <td>162803</td>\n",
       "      <td>4</td>\n",
       "      <td>1</td>\n",
       "    </tr>\n",
       "    <tr>\n",
       "      <th>2</th>\n",
       "      <td>0.698</td>\n",
       "      <td>0.708</td>\n",
       "      <td>9</td>\n",
       "      <td>-4.943</td>\n",
       "      <td>0</td>\n",
       "      <td>0.0454</td>\n",
       "      <td>0.0251</td>\n",
       "      <td>0.000000</td>\n",
       "      <td>0.124</td>\n",
       "      <td>0.322</td>\n",
       "      <td>115.036</td>\n",
       "      <td>122174</td>\n",
       "      <td>4</td>\n",
       "      <td>13</td>\n",
       "    </tr>\n",
       "    <tr>\n",
       "      <th>3</th>\n",
       "      <td>0.722</td>\n",
       "      <td>0.588</td>\n",
       "      <td>6</td>\n",
       "      <td>-5.932</td>\n",
       "      <td>1</td>\n",
       "      <td>0.0544</td>\n",
       "      <td>0.0319</td>\n",
       "      <td>0.000000</td>\n",
       "      <td>0.183</td>\n",
       "      <td>0.590</td>\n",
       "      <td>134.010</td>\n",
       "      <td>165507</td>\n",
       "      <td>4</td>\n",
       "      <td>7</td>\n",
       "    </tr>\n",
       "    <tr>\n",
       "      <th>4</th>\n",
       "      <td>0.585</td>\n",
       "      <td>0.436</td>\n",
       "      <td>10</td>\n",
       "      <td>-8.761</td>\n",
       "      <td>1</td>\n",
       "      <td>0.0601</td>\n",
       "      <td>0.7210</td>\n",
       "      <td>0.000013</td>\n",
       "      <td>0.105</td>\n",
       "      <td>0.132</td>\n",
       "      <td>143.874</td>\n",
       "      <td>242014</td>\n",
       "      <td>4</td>\n",
       "      <td>15</td>\n",
       "    </tr>\n",
       "  </tbody>\n",
       "</table>\n",
       "</div>"
      ],
      "text/plain": [
       "   danceability  energy  key  loudness  mode  speechiness  acousticness  \\\n",
       "0         0.680   0.826    0    -5.487     1       0.0309        0.0212   \n",
       "1         0.841   0.593    1    -7.846     1       0.0379        0.4180   \n",
       "2         0.698   0.708    9    -4.943     0       0.0454        0.0251   \n",
       "3         0.722   0.588    6    -5.932     1       0.0544        0.0319   \n",
       "4         0.585   0.436   10    -8.761     1       0.0601        0.7210   \n",
       "\n",
       "   instrumentalness  liveness  valence    tempo  duration_ms  time_signature  \\\n",
       "0          0.000012     0.543    0.644  118.051       215627               4   \n",
       "1          0.000000     0.124    0.808  124.917       162803               4   \n",
       "2          0.000000     0.124    0.322  115.036       122174               4   \n",
       "3          0.000000     0.183    0.590  134.010       165507               4   \n",
       "4          0.000013     0.105    0.132  143.874       242014               4   \n",
       "\n",
       "   Cluster  \n",
       "0       11  \n",
       "1        1  \n",
       "2       13  \n",
       "3        7  \n",
       "4       15  "
      ]
     },
     "execution_count": 64,
     "metadata": {},
     "output_type": "execute_result"
    }
   ],
   "source": [
    "X.head()"
   ]
  },
  {
   "cell_type": "code",
   "execution_count": 65,
   "metadata": {},
   "outputs": [],
   "source": [
    "df_fullsong_clusters = pd.concat([df_song_id,X], axis = 1)"
   ]
  },
  {
   "cell_type": "code",
   "execution_count": 66,
   "metadata": {},
   "outputs": [
    {
     "data": {
      "text/html": [
       "<div>\n",
       "<style scoped>\n",
       "    .dataframe tbody tr th:only-of-type {\n",
       "        vertical-align: middle;\n",
       "    }\n",
       "\n",
       "    .dataframe tbody tr th {\n",
       "        vertical-align: top;\n",
       "    }\n",
       "\n",
       "    .dataframe thead th {\n",
       "        text-align: right;\n",
       "    }\n",
       "</style>\n",
       "<table border=\"1\" class=\"dataframe\">\n",
       "  <thead>\n",
       "    <tr style=\"text-align: right;\">\n",
       "      <th></th>\n",
       "      <th>track_id</th>\n",
       "      <th>name</th>\n",
       "      <th>artist</th>\n",
       "      <th>danceability</th>\n",
       "      <th>energy</th>\n",
       "      <th>key</th>\n",
       "      <th>loudness</th>\n",
       "      <th>mode</th>\n",
       "      <th>speechiness</th>\n",
       "      <th>acousticness</th>\n",
       "      <th>instrumentalness</th>\n",
       "      <th>liveness</th>\n",
       "      <th>valence</th>\n",
       "      <th>tempo</th>\n",
       "      <th>duration_ms</th>\n",
       "      <th>time_signature</th>\n",
       "      <th>Cluster</th>\n",
       "    </tr>\n",
       "  </thead>\n",
       "  <tbody>\n",
       "    <tr>\n",
       "      <th>0</th>\n",
       "      <td>5QO79kh1waicV47BqGRL3g</td>\n",
       "      <td>Save Your Tears</td>\n",
       "      <td>The Weeknd</td>\n",
       "      <td>0.680</td>\n",
       "      <td>0.826</td>\n",
       "      <td>0</td>\n",
       "      <td>-5.487</td>\n",
       "      <td>1</td>\n",
       "      <td>0.0309</td>\n",
       "      <td>0.0212</td>\n",
       "      <td>0.000012</td>\n",
       "      <td>0.543</td>\n",
       "      <td>0.644</td>\n",
       "      <td>118.051</td>\n",
       "      <td>215627</td>\n",
       "      <td>4</td>\n",
       "      <td>11</td>\n",
       "    </tr>\n",
       "    <tr>\n",
       "      <th>1</th>\n",
       "      <td>5uEYRdEIh9Bo4fpjDd4Na9</td>\n",
       "      <td>Goosebumps - Remix</td>\n",
       "      <td>Travis Scott</td>\n",
       "      <td>0.841</td>\n",
       "      <td>0.593</td>\n",
       "      <td>1</td>\n",
       "      <td>-7.846</td>\n",
       "      <td>1</td>\n",
       "      <td>0.0379</td>\n",
       "      <td>0.4180</td>\n",
       "      <td>0.000000</td>\n",
       "      <td>0.124</td>\n",
       "      <td>0.808</td>\n",
       "      <td>124.917</td>\n",
       "      <td>162803</td>\n",
       "      <td>4</td>\n",
       "      <td>1</td>\n",
       "    </tr>\n",
       "    <tr>\n",
       "      <th>2</th>\n",
       "      <td>3eZYOQO4UzKrUDYDghtnFw</td>\n",
       "      <td>test drive</td>\n",
       "      <td>Ariana Grande</td>\n",
       "      <td>0.698</td>\n",
       "      <td>0.708</td>\n",
       "      <td>9</td>\n",
       "      <td>-4.943</td>\n",
       "      <td>0</td>\n",
       "      <td>0.0454</td>\n",
       "      <td>0.0251</td>\n",
       "      <td>0.000000</td>\n",
       "      <td>0.124</td>\n",
       "      <td>0.322</td>\n",
       "      <td>115.036</td>\n",
       "      <td>122174</td>\n",
       "      <td>4</td>\n",
       "      <td>13</td>\n",
       "    </tr>\n",
       "    <tr>\n",
       "      <th>3</th>\n",
       "      <td>1diS6nkxMQc3wwC4G1j0bh</td>\n",
       "      <td>We're Good</td>\n",
       "      <td>Dua Lipa</td>\n",
       "      <td>0.722</td>\n",
       "      <td>0.588</td>\n",
       "      <td>6</td>\n",
       "      <td>-5.932</td>\n",
       "      <td>1</td>\n",
       "      <td>0.0544</td>\n",
       "      <td>0.0319</td>\n",
       "      <td>0.000000</td>\n",
       "      <td>0.183</td>\n",
       "      <td>0.590</td>\n",
       "      <td>134.010</td>\n",
       "      <td>165507</td>\n",
       "      <td>4</td>\n",
       "      <td>7</td>\n",
       "    </tr>\n",
       "    <tr>\n",
       "      <th>4</th>\n",
       "      <td>7lPN2DXiMsVn7XUKtOW1CS</td>\n",
       "      <td>drivers license</td>\n",
       "      <td>Olivia Rodrigo</td>\n",
       "      <td>0.585</td>\n",
       "      <td>0.436</td>\n",
       "      <td>10</td>\n",
       "      <td>-8.761</td>\n",
       "      <td>1</td>\n",
       "      <td>0.0601</td>\n",
       "      <td>0.7210</td>\n",
       "      <td>0.000013</td>\n",
       "      <td>0.105</td>\n",
       "      <td>0.132</td>\n",
       "      <td>143.874</td>\n",
       "      <td>242014</td>\n",
       "      <td>4</td>\n",
       "      <td>15</td>\n",
       "    </tr>\n",
       "  </tbody>\n",
       "</table>\n",
       "</div>"
      ],
      "text/plain": [
       "                 track_id                name          artist  danceability  \\\n",
       "0  5QO79kh1waicV47BqGRL3g     Save Your Tears      The Weeknd         0.680   \n",
       "1  5uEYRdEIh9Bo4fpjDd4Na9  Goosebumps - Remix    Travis Scott         0.841   \n",
       "2  3eZYOQO4UzKrUDYDghtnFw          test drive   Ariana Grande         0.698   \n",
       "3  1diS6nkxMQc3wwC4G1j0bh          We're Good        Dua Lipa         0.722   \n",
       "4  7lPN2DXiMsVn7XUKtOW1CS     drivers license  Olivia Rodrigo         0.585   \n",
       "\n",
       "   energy  key  loudness  mode  speechiness  acousticness  instrumentalness  \\\n",
       "0   0.826    0    -5.487     1       0.0309        0.0212          0.000012   \n",
       "1   0.593    1    -7.846     1       0.0379        0.4180          0.000000   \n",
       "2   0.708    9    -4.943     0       0.0454        0.0251          0.000000   \n",
       "3   0.588    6    -5.932     1       0.0544        0.0319          0.000000   \n",
       "4   0.436   10    -8.761     1       0.0601        0.7210          0.000013   \n",
       "\n",
       "   liveness  valence    tempo  duration_ms  time_signature  Cluster  \n",
       "0     0.543    0.644  118.051       215627               4       11  \n",
       "1     0.124    0.808  124.917       162803               4        1  \n",
       "2     0.124    0.322  115.036       122174               4       13  \n",
       "3     0.183    0.590  134.010       165507               4        7  \n",
       "4     0.105    0.132  143.874       242014               4       15  "
      ]
     },
     "execution_count": 66,
     "metadata": {},
     "output_type": "execute_result"
    }
   ],
   "source": [
    "df_fullsong_clusters.head()"
   ]
  },
  {
   "cell_type": "markdown",
   "metadata": {},
   "source": [
    "## Import Top 100 Billboardsongs:"
   ]
  },
  {
   "cell_type": "code",
   "execution_count": 70,
   "metadata": {},
   "outputs": [],
   "source": [
    "df_top_100 = import_top_100_billboardsongs()"
   ]
  },
  {
   "cell_type": "code",
   "execution_count": 71,
   "metadata": {},
   "outputs": [
    {
     "data": {
      "text/html": [
       "<div>\n",
       "<style scoped>\n",
       "    .dataframe tbody tr th:only-of-type {\n",
       "        vertical-align: middle;\n",
       "    }\n",
       "\n",
       "    .dataframe tbody tr th {\n",
       "        vertical-align: top;\n",
       "    }\n",
       "\n",
       "    .dataframe thead th {\n",
       "        text-align: right;\n",
       "    }\n",
       "</style>\n",
       "<table border=\"1\" class=\"dataframe\">\n",
       "  <thead>\n",
       "    <tr style=\"text-align: right;\">\n",
       "      <th></th>\n",
       "      <th>Rank</th>\n",
       "      <th>song</th>\n",
       "      <th>artist</th>\n",
       "    </tr>\n",
       "  </thead>\n",
       "  <tbody>\n",
       "    <tr>\n",
       "      <th>0</th>\n",
       "      <td>1</td>\n",
       "      <td>Drivers License</td>\n",
       "      <td>Olivia Rodrigo</td>\n",
       "    </tr>\n",
       "    <tr>\n",
       "      <th>1</th>\n",
       "      <td>2</td>\n",
       "      <td>34+35</td>\n",
       "      <td>Ariana Grande</td>\n",
       "    </tr>\n",
       "    <tr>\n",
       "      <th>2</th>\n",
       "      <td>3</td>\n",
       "      <td>Calling My Phone</td>\n",
       "      <td>Lil Tjay Featuring 6LACK</td>\n",
       "    </tr>\n",
       "    <tr>\n",
       "      <th>3</th>\n",
       "      <td>4</td>\n",
       "      <td>Blinding Lights</td>\n",
       "      <td>The Weeknd</td>\n",
       "    </tr>\n",
       "    <tr>\n",
       "      <th>4</th>\n",
       "      <td>5</td>\n",
       "      <td>Up</td>\n",
       "      <td>Cardi B</td>\n",
       "    </tr>\n",
       "  </tbody>\n",
       "</table>\n",
       "</div>"
      ],
      "text/plain": [
       "  Rank              song                    artist\n",
       "0    1   Drivers License            Olivia Rodrigo\n",
       "1    2             34+35             Ariana Grande\n",
       "2    3  Calling My Phone  Lil Tjay Featuring 6LACK\n",
       "3    4   Blinding Lights                The Weeknd\n",
       "4    5                Up                   Cardi B"
      ]
     },
     "execution_count": 71,
     "metadata": {},
     "output_type": "execute_result"
    }
   ],
   "source": [
    "df_top_100.head()"
   ]
  },
  {
   "cell_type": "code",
   "execution_count": 247,
   "metadata": {},
   "outputs": [
    {
     "name": "stdout",
     "output_type": "stream",
     "text": [
      "['danceability', 'energy', 'key', 'loudness', 'mode', 'speechiness', 'acousticness', 'instrumentalness', 'liveness', 'valence', 'tempo', 'type', 'id', 'uri', 'track_href', 'analysis_url', 'duration_ms', 'time_signature']\n"
     ]
    },
    {
     "data": {
      "text/plain": [
       "(1, 13)"
      ]
     },
     "execution_count": 247,
     "metadata": {},
     "output_type": "execute_result"
    }
   ],
   "source": [
    "#result['tracks']['items'][0]['artists'][0]['external_urls']\n",
    "#result['tracks']['items'][0]['id']\n",
    "audio_features = list(sp.audio_features(sp.search(q=songname,limit=1,type='track')['tracks']['items'][0]['id'])[0].keys())\n",
    "print(audio_features)\n",
    "pd.DataFrame([sp.audio_features(sp.search(q=songname,limit=1,type='track')['tracks']['items'][0]['id'])[0]]).drop(columns=audio_features[11:16]).shape"
   ]
  },
  {
   "cell_type": "code",
   "execution_count": 259,
   "metadata": {},
   "outputs": [
    {
     "data": {
      "text/plain": [
       "'https://open.spotify.com/track/5Dfsv1QVtITxhKhmkmOsBS'"
      ]
     },
     "execution_count": 259,
     "metadata": {},
     "output_type": "execute_result"
    }
   ],
   "source": [
    "audio_f_dic = sp.audio_features(sp.search(q=songname,limit=1,type='track')['tracks']['items'][0]['id'])[0]\n",
    "x = pd.DataFrame([audio_f_dic]).drop(columns=list(audio_f_dic.keys())[11:16])\n",
    "x_prep = STDC.transform(x)\n",
    "cluster_song_prediction = kmeans.predict(x)[0]\n",
    "newsong = df_fullsong_clusters[df_fullsong_clusters['Cluster']==cluster_song_prediction].sample(1)\n",
    "name = newsong['name'].values[0]\n",
    "artist = newsong['artist'].values[0]\n",
    "sp.tracks(newsong['track_id'])['tracks'][0]['external_urls']['spotify']"
   ]
  },
  {
   "cell_type": "markdown",
   "metadata": {},
   "source": [
    "## 2nd Prototype:"
   ]
  },
  {
   "cell_type": "code",
   "execution_count": 299,
   "metadata": {},
   "outputs": [],
   "source": [
    "def recommend_a_song(songname): \n",
    "    try:\n",
    "        if songname in list(df_top_100['song']):\n",
    "            oldrank = df_top_100[df_top_100['song']==songname]['Rank'].values[0]\n",
    "            newsong = df_top_100[df_top_100['song']!=songname].sample(1)\n",
    "            name = newsong['song'].values[0]\n",
    "            artist = newsong['artist'].values[0]\n",
    "            newrank = newsong['Rank'].values[0]\n",
    "            sp_result = sp.search(q=newsong['song'].values[0],limit=1,type='track')\n",
    "            URL = sp_result['tracks']['items'][0]['external_urls']['spotify']\n",
    "            print(f'Your Song is in the Top 100 Billboard Songs at Rank {oldrank} \\n'\n",
    "                    f'why dont you try: -> {name} from {artist} <- at current Ranking: {newrank}\\n'\n",
    "                    f'Url: {URL}')\n",
    "        else:\n",
    "            audio_f_dic = sp.audio_features(sp.search(q=songname,limit=1,type='track')['tracks']['items'][0]['id'])[0]\n",
    "            x = pd.DataFrame([audio_f_dic]).drop(columns=list(audio_f_dic.keys())[11:16])\n",
    "            x_prep = STDC.transform(x)\n",
    "            cluster_song_prediction = kmeans.predict(x_prep)[0]\n",
    "            newsong = df_fullsong_clusters[df_fullsong_clusters['Cluster']==cluster_song_prediction].sample(1)\n",
    "            name = newsong['name'].values[0]\n",
    "            artist = newsong['artist'].values[0]\n",
    "            URL = sp.tracks(newsong['track_id'])['tracks'][0]['external_urls']['spotify']\n",
    "            print(f'Your Song is not in the top 100 Billboard Songs but i guess you would \\n'\n",
    "                    f'also like that song: -> {name} from {artist} <- \\n'\n",
    "                    f'Url: {URL} \\n'\n",
    "                    f'btw: current cluster used: {cluster_song_prediction}')\n",
    "    except:\n",
    "        print('Something went wrong - try again!')"
   ]
  },
  {
   "cell_type": "code",
   "execution_count": 300,
   "metadata": {},
   "outputs": [
    {
     "name": "stdout",
     "output_type": "stream",
     "text": [
      "Ausgehen\n",
      "Your Song is not in the top 100 Billboard Songs but i guess you would \n",
      "also like that song: -> C.r.e.e.p. from The Fall <- \n",
      "Url: https://open.spotify.com/track/4PFQdnNl4WoaC9XdMgzDxn \n",
      "btw: current cluster used: 13\n"
     ]
    }
   ],
   "source": [
    "recommend_a_song(str(input()))"
   ]
  },
  {
   "cell_type": "code",
   "execution_count": 302,
   "metadata": {},
   "outputs": [
    {
     "name": "stdout",
     "output_type": "stream",
     "text": [
      "34+35\n",
      "Your Song is in the Top 100 Billboard Songs at Rank 2 \n",
      "why dont you try: -> Almost Maybes from Jordan Davis <- at current Ranking: 96\n",
      "Url: https://open.spotify.com/track/14JFKtBSqefxfMiKhq6JT8\n"
     ]
    }
   ],
   "source": [
    "recommend_a_song(str(input()))"
   ]
  },
  {
   "cell_type": "code",
   "execution_count": 303,
   "metadata": {},
   "outputs": [
    {
     "name": "stdout",
     "output_type": "stream",
     "text": [
      "Castanias - Kermesse\n",
      "Your Song is not in the top 100 Billboard Songs but i guess you would \n",
      "also like that song: -> Reels: Kylebrack Ramblers / Graf Spee from The Shaskeen Ceili Band <- \n",
      "Url: https://open.spotify.com/track/6tWVMFlSwTPVOgeWBQMapG \n",
      "btw: current cluster used: 12\n"
     ]
    }
   ],
   "source": [
    "recommend_a_song(str(input()))"
   ]
  },
  {
   "cell_type": "code",
   "execution_count": 304,
   "metadata": {},
   "outputs": [
    {
     "name": "stdout",
     "output_type": "stream",
     "text": [
      "Castanias\n",
      "Your Song is not in the top 100 Billboard Songs but i guess you would \n",
      "also like that song: -> In Cadence from Cameo Blush <- \n",
      "Url: https://open.spotify.com/track/2PJEppZXXaTmwLALhfcUUA \n",
      "btw: current cluster used: 12\n"
     ]
    }
   ],
   "source": [
    "recommend_a_song(str(input()))"
   ]
  }
 ],
 "metadata": {
  "kernelspec": {
   "display_name": "Python 3",
   "language": "python",
   "name": "python3"
  },
  "language_info": {
   "codemirror_mode": {
    "name": "ipython",
    "version": 3
   },
   "file_extension": ".py",
   "mimetype": "text/x-python",
   "name": "python",
   "nbconvert_exporter": "python",
   "pygments_lexer": "ipython3",
   "version": "3.8.5"
  }
 },
 "nbformat": 4,
 "nbformat_minor": 4
}
