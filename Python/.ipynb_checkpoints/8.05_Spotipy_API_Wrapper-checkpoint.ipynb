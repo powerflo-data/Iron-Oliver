{
 "cells": [
  {
   "cell_type": "code",
   "execution_count": 3,
   "metadata": {},
   "outputs": [],
   "source": [
    "import requests\n",
    "import spotipy"
   ]
  },
  {
   "cell_type": "code",
   "execution_count": 4,
   "metadata": {},
   "outputs": [],
   "source": [
    "from spotipy.oauth2 import SpotifyClientCredentials"
   ]
  },
  {
   "cell_type": "code",
   "execution_count": 6,
   "metadata": {},
   "outputs": [],
   "source": [
    "sp = spotipy.Spotify(auth_manager=SpotifyClientCredentials(client_id ='f22713124fb04e97a26f46a51547744f',\n",
    "                                                          client_secret='75c001d5dfc54f6cb6e44f7a54cdabc0'))\n",
    "                     "
   ]
  },
  {
   "cell_type": "code",
   "execution_count": null,
   "metadata": {},
   "outputs": [],
   "source": [
    "my_20_artists = []"
   ]
  },
  {
   "cell_type": "code",
   "execution_count": 23,
   "metadata": {},
   "outputs": [
    {
     "data": {
      "text/plain": [
       "spotipy.client.Spotify"
      ]
     },
     "execution_count": 23,
     "metadata": {},
     "output_type": "execute_result"
    }
   ],
   "source": [
    "sp.artist()"
   ]
  },
  {
   "cell_type": "code",
   "execution_count": 16,
   "metadata": {},
   "outputs": [],
   "source": [
    "result = sp.search(q='Kermesse', type='artist', limit=20)"
   ]
  },
  {
   "cell_type": "code",
   "execution_count": 46,
   "metadata": {},
   "outputs": [
    {
     "data": {
      "text/plain": [
       "7"
      ]
     },
     "execution_count": 46,
     "metadata": {},
     "output_type": "execute_result"
    }
   ],
   "source": [
    "len(result['artists'])"
   ]
  },
  {
   "cell_type": "code",
   "execution_count": 64,
   "metadata": {},
   "outputs": [
    {
     "name": "stdout",
     "output_type": "stream",
     "text": [
      "href\n",
      "items\n",
      "limit\n",
      "next\n",
      "offset\n",
      "previous\n",
      "total\n"
     ]
    }
   ],
   "source": [
    "for artist in result['artists']:\n",
    "    print(artist)"
   ]
  },
  {
   "cell_type": "code",
   "execution_count": 57,
   "metadata": {},
   "outputs": [
    {
     "data": {
      "text/plain": [
       "4"
      ]
     },
     "execution_count": 57,
     "metadata": {},
     "output_type": "execute_result"
    }
   ],
   "source": [
    "len(result['artists']['items'])"
   ]
  },
  {
   "cell_type": "code",
   "execution_count": 38,
   "metadata": {},
   "outputs": [
    {
     "data": {
      "text/plain": [
       "dict_keys(['external_urls', 'followers', 'genres', 'href', 'id', 'images', 'name', 'popularity', 'type', 'uri'])"
      ]
     },
     "execution_count": 38,
     "metadata": {},
     "output_type": "execute_result"
    }
   ],
   "source": [
    "result['artists']['items'][0].keys()"
   ]
  },
  {
   "cell_type": "code",
   "execution_count": 44,
   "metadata": {},
   "outputs": [
    {
     "data": {
      "text/plain": [
       "'Kermesse'"
      ]
     },
     "execution_count": 44,
     "metadata": {},
     "output_type": "execute_result"
    }
   ],
   "source": [
    "result['artists']['items'][0]['name']"
   ]
  },
  {
   "cell_type": "code",
   "execution_count": 68,
   "metadata": {},
   "outputs": [
    {
     "data": {
      "text/plain": [
       "['Kermesse', 'Kermesse O Pruneau', 'The Kermesse', 'The kermesse Band']"
      ]
     },
     "execution_count": 68,
     "metadata": {},
     "output_type": "execute_result"
    }
   ],
   "source": [
    "[item['name'] for item in result['artists']['items']]"
   ]
  },
  {
   "cell_type": "code",
   "execution_count": 59,
   "metadata": {},
   "outputs": [
    {
     "data": {
      "text/plain": [
       "['Kermesse', 'Kermesse O Pruneau', 'The Kermesse', 'The kermesse Band']"
      ]
     },
     "execution_count": 59,
     "metadata": {},
     "output_type": "execute_result"
    }
   ],
   "source": [
    "[i['name'] for i in result['artists']['items']]"
   ]
  },
  {
   "cell_type": "code",
   "execution_count": 62,
   "metadata": {},
   "outputs": [
    {
     "ename": "TypeError",
     "evalue": "string indices must be integers",
     "output_type": "error",
     "traceback": [
      "\u001b[1;31m---------------------------------------------------------------------------\u001b[0m",
      "\u001b[1;31mTypeError\u001b[0m                                 Traceback (most recent call last)",
      "\u001b[1;32m<ipython-input-62-fcd74ee52296>\u001b[0m in \u001b[0;36m<module>\u001b[1;34m\u001b[0m\n\u001b[1;32m----> 1\u001b[1;33m \u001b[1;33m[\u001b[0m\u001b[0martist\u001b[0m\u001b[1;33m[\u001b[0m\u001b[1;34m'items'\u001b[0m\u001b[1;33m]\u001b[0m \u001b[1;32mfor\u001b[0m \u001b[0martist\u001b[0m \u001b[1;32min\u001b[0m \u001b[0mresult\u001b[0m\u001b[1;33m[\u001b[0m\u001b[1;34m'artists'\u001b[0m\u001b[1;33m]\u001b[0m\u001b[1;33m]\u001b[0m\u001b[1;33m\u001b[0m\u001b[1;33m\u001b[0m\u001b[0m\n\u001b[0m",
      "\u001b[1;32m<ipython-input-62-fcd74ee52296>\u001b[0m in \u001b[0;36m<listcomp>\u001b[1;34m(.0)\u001b[0m\n\u001b[1;32m----> 1\u001b[1;33m \u001b[1;33m[\u001b[0m\u001b[0martist\u001b[0m\u001b[1;33m[\u001b[0m\u001b[1;34m'items'\u001b[0m\u001b[1;33m]\u001b[0m \u001b[1;32mfor\u001b[0m \u001b[0martist\u001b[0m \u001b[1;32min\u001b[0m \u001b[0mresult\u001b[0m\u001b[1;33m[\u001b[0m\u001b[1;34m'artists'\u001b[0m\u001b[1;33m]\u001b[0m\u001b[1;33m]\u001b[0m\u001b[1;33m\u001b[0m\u001b[1;33m\u001b[0m\u001b[0m\n\u001b[0m",
      "\u001b[1;31mTypeError\u001b[0m: string indices must be integers"
     ]
    }
   ],
   "source": [
    "[artist['items'] for artist in result['artists']]"
   ]
  },
  {
   "cell_type": "code",
   "execution_count": 12,
   "metadata": {},
   "outputs": [
    {
     "data": {
      "text/plain": [
       "{'href': 'https://api.spotify.com/v1/search?query=favorite&type=artist&offset=0&limit=20',\n",
       " 'items': [{'external_urls': {'spotify': 'https://open.spotify.com/artist/4xWMewm6CYMstu0sPgd9jJ'},\n",
       "   'followers': {'href': None, 'total': 5826},\n",
       "   'genres': [\"children's story\"],\n",
       "   'href': 'https://api.spotify.com/v1/artists/4xWMewm6CYMstu0sPgd9jJ',\n",
       "   'id': '4xWMewm6CYMstu0sPgd9jJ',\n",
       "   'images': [{'height': 640,\n",
       "     'url': 'https://i.scdn.co/image/3acec828b5dc973e9a655ffa0f13fddadd552c9f',\n",
       "     'width': 640},\n",
       "    {'height': 320,\n",
       "     'url': 'https://i.scdn.co/image/4e2418546e328c0799202854b6934c385cdba71b',\n",
       "     'width': 320},\n",
       "    {'height': 160,\n",
       "     'url': 'https://i.scdn.co/image/f8ea146779ec862206669d112bbc3c20ec45230f',\n",
       "     'width': 160}],\n",
       "   'name': 'Favorite Kids Stories',\n",
       "   'popularity': 38,\n",
       "   'type': 'artist',\n",
       "   'uri': 'spotify:artist:4xWMewm6CYMstu0sPgd9jJ'},\n",
       "  {'external_urls': {'spotify': 'https://open.spotify.com/artist/4J6UXkUpIArZbKXhh0cOC2'},\n",
       "   'followers': {'href': None, 'total': 110512},\n",
       "   'genres': ['antiviral pop', 'comic'],\n",
       "   'href': 'https://api.spotify.com/v1/artists/4J6UXkUpIArZbKXhh0cOC2',\n",
       "   'id': '4J6UXkUpIArZbKXhh0cOC2',\n",
       "   'images': [{'height': 640,\n",
       "     'url': 'https://i.scdn.co/image/a60ef415087ea49443127b054a45fa8fb44bcfb2',\n",
       "     'width': 640},\n",
       "    {'height': 320,\n",
       "     'url': 'https://i.scdn.co/image/dcf2ae75e9e2c95646cd59ceed70336fc6f43136',\n",
       "     'width': 320},\n",
       "    {'height': 160,\n",
       "     'url': 'https://i.scdn.co/image/ebd29aad8f7f23cc38305774d330b47b70da9df5',\n",
       "     'width': 160}],\n",
       "   'name': 'Your Favorite Martian',\n",
       "   'popularity': 49,\n",
       "   'type': 'artist',\n",
       "   'uri': 'spotify:artist:4J6UXkUpIArZbKXhh0cOC2'},\n",
       "  {'external_urls': {'spotify': 'https://open.spotify.com/artist/3o0wQ9s18mlYobc9ZqOs8i'},\n",
       "   'followers': {'href': None, 'total': 33993},\n",
       "   'genres': ['k-pop girl group'],\n",
       "   'href': 'https://api.spotify.com/v1/artists/3o0wQ9s18mlYobc9ZqOs8i',\n",
       "   'id': '3o0wQ9s18mlYobc9ZqOs8i',\n",
       "   'images': [{'height': 640,\n",
       "     'url': 'https://i.scdn.co/image/ab67616d0000b273055085b69b84a2b119678aca',\n",
       "     'width': 640},\n",
       "    {'height': 300,\n",
       "     'url': 'https://i.scdn.co/image/ab67616d00001e02055085b69b84a2b119678aca',\n",
       "     'width': 300},\n",
       "    {'height': 64,\n",
       "     'url': 'https://i.scdn.co/image/ab67616d00004851055085b69b84a2b119678aca',\n",
       "     'width': 64}],\n",
       "   'name': 'FAVORITE',\n",
       "   'popularity': 35,\n",
       "   'type': 'artist',\n",
       "   'uri': 'spotify:artist:3o0wQ9s18mlYobc9ZqOs8i'},\n",
       "  {'external_urls': {'spotify': 'https://open.spotify.com/artist/1xN2qWPRezQuTyI3SMSPuD'},\n",
       "   'followers': {'href': None, 'total': 1202},\n",
       "   'genres': ['pittsburgh rap'],\n",
       "   'href': 'https://api.spotify.com/v1/artists/1xN2qWPRezQuTyI3SMSPuD',\n",
       "   'id': '1xN2qWPRezQuTyI3SMSPuD',\n",
       "   'images': [{'height': 640,\n",
       "     'url': 'https://i.scdn.co/image/7e602eab6da111d90b985a476720ca5082c4fb23',\n",
       "     'width': 640},\n",
       "    {'height': 320,\n",
       "     'url': 'https://i.scdn.co/image/cf77d86d81ed191715cc9b14e6601bfee5b38333',\n",
       "     'width': 320},\n",
       "    {'height': 160,\n",
       "     'url': 'https://i.scdn.co/image/2d7de7e9e2ba7cf028607c8996294d552bfd40e3',\n",
       "     'width': 160}],\n",
       "   'name': 'My Favorite Color',\n",
       "   'popularity': 39,\n",
       "   'type': 'artist',\n",
       "   'uri': 'spotify:artist:1xN2qWPRezQuTyI3SMSPuD'},\n",
       "  {'external_urls': {'spotify': 'https://open.spotify.com/artist/50y74NsHxvDgZnfF38P2Uv'},\n",
       "   'followers': {'href': None, 'total': 0},\n",
       "   'genres': [],\n",
       "   'href': 'https://api.spotify.com/v1/artists/50y74NsHxvDgZnfF38P2Uv',\n",
       "   'id': '50y74NsHxvDgZnfF38P2Uv',\n",
       "   'images': [{'height': 640,\n",
       "     'url': 'https://i.scdn.co/image/ab67616d0000b273a1273abddc2da6504a48dcd3',\n",
       "     'width': 640},\n",
       "    {'height': 300,\n",
       "     'url': 'https://i.scdn.co/image/ab67616d00001e02a1273abddc2da6504a48dcd3',\n",
       "     'width': 300},\n",
       "    {'height': 64,\n",
       "     'url': 'https://i.scdn.co/image/ab67616d00004851a1273abddc2da6504a48dcd3',\n",
       "     'width': 64}],\n",
       "   'name': 'Favorite Cairn',\n",
       "   'popularity': 28,\n",
       "   'type': 'artist',\n",
       "   'uri': 'spotify:artist:50y74NsHxvDgZnfF38P2Uv'},\n",
       "  {'external_urls': {'spotify': 'https://open.spotify.com/artist/2uPpQE8b7RRNlrXaa09a8I'},\n",
       "   'followers': {'href': None, 'total': 35},\n",
       "   'genres': [],\n",
       "   'href': 'https://api.spotify.com/v1/artists/2uPpQE8b7RRNlrXaa09a8I',\n",
       "   'id': '2uPpQE8b7RRNlrXaa09a8I',\n",
       "   'images': [{'height': 640,\n",
       "     'url': 'https://i.scdn.co/image/ab67616d0000b2737bc946184687c5588e8d4475',\n",
       "     'width': 640},\n",
       "    {'height': 300,\n",
       "     'url': 'https://i.scdn.co/image/ab67616d00001e027bc946184687c5588e8d4475',\n",
       "     'width': 300},\n",
       "    {'height': 64,\n",
       "     'url': 'https://i.scdn.co/image/ab67616d000048517bc946184687c5588e8d4475',\n",
       "     'width': 64}],\n",
       "   'name': 'Favorite Derek',\n",
       "   'popularity': 26,\n",
       "   'type': 'artist',\n",
       "   'uri': 'spotify:artist:2uPpQE8b7RRNlrXaa09a8I'},\n",
       "  {'external_urls': {'spotify': 'https://open.spotify.com/artist/09VbllcPqGQJMeI4ATkq1G'},\n",
       "   'followers': {'href': None, 'total': 17252},\n",
       "   'genres': [],\n",
       "   'href': 'https://api.spotify.com/v1/artists/09VbllcPqGQJMeI4ATkq1G',\n",
       "   'id': '09VbllcPqGQJMeI4ATkq1G',\n",
       "   'images': [{'height': 640,\n",
       "     'url': 'https://i.scdn.co/image/84a6818e073f4d8b5fc4752d7dee6914a33fcb33',\n",
       "     'width': 640},\n",
       "    {'height': 320,\n",
       "     'url': 'https://i.scdn.co/image/a422c48dacdbddf2b61c770cc692f42b2a90c995',\n",
       "     'width': 320},\n",
       "    {'height': 160,\n",
       "     'url': 'https://i.scdn.co/image/8912b0e38683db65bd490afb2268461da2f4441c',\n",
       "     'width': 160}],\n",
       "   'name': 'The Other Favorites',\n",
       "   'popularity': 35,\n",
       "   'type': 'artist',\n",
       "   'uri': 'spotify:artist:09VbllcPqGQJMeI4ATkq1G'},\n",
       "  {'external_urls': {'spotify': 'https://open.spotify.com/artist/1TvLTxpsaafzeoZM8BHl8G'},\n",
       "   'followers': {'href': None, 'total': 65},\n",
       "   'genres': [],\n",
       "   'href': 'https://api.spotify.com/v1/artists/1TvLTxpsaafzeoZM8BHl8G',\n",
       "   'id': '1TvLTxpsaafzeoZM8BHl8G',\n",
       "   'images': [{'height': 640,\n",
       "     'url': 'https://i.scdn.co/image/72cbf43991a05b387ade5f6463eddd1f8737a269',\n",
       "     'width': 640},\n",
       "    {'height': 320,\n",
       "     'url': 'https://i.scdn.co/image/8cf933f003746dfe7063d5d58fff940b06b30edb',\n",
       "     'width': 320},\n",
       "    {'height': 160,\n",
       "     'url': 'https://i.scdn.co/image/55eb346d857bf6ed2e0374489b94973127ef443e',\n",
       "     'width': 160}],\n",
       "   'name': 'Favorite',\n",
       "   'popularity': 21,\n",
       "   'type': 'artist',\n",
       "   'uri': 'spotify:artist:1TvLTxpsaafzeoZM8BHl8G'},\n",
       "  {'external_urls': {'spotify': 'https://open.spotify.com/artist/4S64k2dNR0Ctp2Z2YJxdOH'},\n",
       "   'followers': {'href': None, 'total': 4367},\n",
       "   'genres': ['post-screamo'],\n",
       "   'href': 'https://api.spotify.com/v1/artists/4S64k2dNR0Ctp2Z2YJxdOH',\n",
       "   'id': '4S64k2dNR0Ctp2Z2YJxdOH',\n",
       "   'images': [{'height': 640,\n",
       "     'url': 'https://i.scdn.co/image/ab67616d0000b27324347756707fa4d4f2ed581f',\n",
       "     'width': 640},\n",
       "    {'height': 300,\n",
       "     'url': 'https://i.scdn.co/image/ab67616d00001e0224347756707fa4d4f2ed581f',\n",
       "     'width': 300},\n",
       "    {'height': 64,\n",
       "     'url': 'https://i.scdn.co/image/ab67616d0000485124347756707fa4d4f2ed581f',\n",
       "     'width': 64}],\n",
       "   'name': 'Favorite Weapon',\n",
       "   'popularity': 18,\n",
       "   'type': 'artist',\n",
       "   'uri': 'spotify:artist:4S64k2dNR0Ctp2Z2YJxdOH'},\n",
       "  {'external_urls': {'spotify': 'https://open.spotify.com/artist/6iHHxsJtBAUzLXbqUr0bbK'},\n",
       "   'followers': {'href': None, 'total': 84201},\n",
       "   'genres': ['deep german hip hop',\n",
       "    'german hip hop',\n",
       "    'german underground rap'],\n",
       "   'href': 'https://api.spotify.com/v1/artists/6iHHxsJtBAUzLXbqUr0bbK',\n",
       "   'id': '6iHHxsJtBAUzLXbqUr0bbK',\n",
       "   'images': [{'height': 640,\n",
       "     'url': 'https://i.scdn.co/image/ab67616d0000b273934a218cfbca2129464c826c',\n",
       "     'width': 640},\n",
       "    {'height': 300,\n",
       "     'url': 'https://i.scdn.co/image/ab67616d00001e02934a218cfbca2129464c826c',\n",
       "     'width': 300},\n",
       "    {'height': 64,\n",
       "     'url': 'https://i.scdn.co/image/ab67616d00004851934a218cfbca2129464c826c',\n",
       "     'width': 64}],\n",
       "   'name': 'Favorite',\n",
       "   'popularity': 49,\n",
       "   'type': 'artist',\n",
       "   'uri': 'spotify:artist:6iHHxsJtBAUzLXbqUr0bbK'},\n",
       "  {'external_urls': {'spotify': 'https://open.spotify.com/artist/1hUu9kCZgPEnhpKQCB2Mts'},\n",
       "   'followers': {'href': None, 'total': 15206},\n",
       "   'genres': ['alternative pop rock', 'neon pop punk', 'pop emo'],\n",
       "   'href': 'https://api.spotify.com/v1/artists/1hUu9kCZgPEnhpKQCB2Mts',\n",
       "   'id': '1hUu9kCZgPEnhpKQCB2Mts',\n",
       "   'images': [{'height': 667,\n",
       "     'url': 'https://i.scdn.co/image/693608bc129fed486bda0cf91487c4aa74519740',\n",
       "     'width': 1000},\n",
       "    {'height': 427,\n",
       "     'url': 'https://i.scdn.co/image/88b2a930f120f4520fa427957d225681f6ef4942',\n",
       "     'width': 640},\n",
       "    {'height': 133,\n",
       "     'url': 'https://i.scdn.co/image/504ba78e040fb906acfa827a8f589d0dcdd885a9',\n",
       "     'width': 200},\n",
       "    {'height': 43,\n",
       "     'url': 'https://i.scdn.co/image/42d908ca960c32eb5e390a992b990a5b19af673a',\n",
       "     'width': 64}],\n",
       "   'name': 'My Favorite Highway',\n",
       "   'popularity': 28,\n",
       "   'type': 'artist',\n",
       "   'uri': 'spotify:artist:1hUu9kCZgPEnhpKQCB2Mts'},\n",
       "  {'external_urls': {'spotify': 'https://open.spotify.com/artist/4mDQSZLj6UpcoQLgeOfplh'},\n",
       "   'followers': {'href': None, 'total': 2318},\n",
       "   'genres': ['baptist gospel'],\n",
       "   'href': 'https://api.spotify.com/v1/artists/4mDQSZLj6UpcoQLgeOfplh',\n",
       "   'id': '4mDQSZLj6UpcoQLgeOfplh',\n",
       "   'images': [{'height': 640,\n",
       "     'url': 'https://i.scdn.co/image/ab67616d0000b2731278e5c5274f30dcc44fae61',\n",
       "     'width': 640},\n",
       "    {'height': 300,\n",
       "     'url': 'https://i.scdn.co/image/ab67616d00001e021278e5c5274f30dcc44fae61',\n",
       "     'width': 300},\n",
       "    {'height': 64,\n",
       "     'url': 'https://i.scdn.co/image/ab67616d000048511278e5c5274f30dcc44fae61',\n",
       "     'width': 64}],\n",
       "   'name': 'Blessed Assurance Favorite Hymns Of Inspiration And Hope Performers',\n",
       "   'popularity': 25,\n",
       "   'type': 'artist',\n",
       "   'uri': 'spotify:artist:4mDQSZLj6UpcoQLgeOfplh'},\n",
       "  {'external_urls': {'spotify': 'https://open.spotify.com/artist/16MLECTbnHHx0Oy9E2zPJC'},\n",
       "   'followers': {'href': None, 'total': 1780},\n",
       "   'genres': [],\n",
       "   'href': 'https://api.spotify.com/v1/artists/16MLECTbnHHx0Oy9E2zPJC',\n",
       "   'id': '16MLECTbnHHx0Oy9E2zPJC',\n",
       "   'images': [{'height': 640,\n",
       "     'url': 'https://i.scdn.co/image/ab67616d0000b2738179a52fb3fac052ffb35d26',\n",
       "     'width': 640},\n",
       "    {'height': 300,\n",
       "     'url': 'https://i.scdn.co/image/ab67616d00001e028179a52fb3fac052ffb35d26',\n",
       "     'width': 300},\n",
       "    {'height': 64,\n",
       "     'url': 'https://i.scdn.co/image/ab67616d000048518179a52fb3fac052ffb35d26',\n",
       "     'width': 64}],\n",
       "   'name': 'Your Favorite Down South Supplier',\n",
       "   'popularity': 25,\n",
       "   'type': 'artist',\n",
       "   'uri': 'spotify:artist:16MLECTbnHHx0Oy9E2zPJC'},\n",
       "  {'external_urls': {'spotify': 'https://open.spotify.com/artist/0svp2p0UowZkieevH4358o'},\n",
       "   'followers': {'href': None, 'total': 1697},\n",
       "   'genres': ['oc indie', 'socal indie'],\n",
       "   'href': 'https://api.spotify.com/v1/artists/0svp2p0UowZkieevH4358o',\n",
       "   'id': '0svp2p0UowZkieevH4358o',\n",
       "   'images': [{'height': 640,\n",
       "     'url': 'https://i.scdn.co/image/77c77d293ba890909d0c96740591d4779c5b3430',\n",
       "     'width': 640},\n",
       "    {'height': 320,\n",
       "     'url': 'https://i.scdn.co/image/6376f4ee7100d2e1f4c4e2c50dbd30b4d5f4ce11',\n",
       "     'width': 320},\n",
       "    {'height': 160,\n",
       "     'url': 'https://i.scdn.co/image/3cb6d30248d6b8b5034e09c826657e58e75df4f6',\n",
       "     'width': 160}],\n",
       "   'name': 'Your Favorite Color',\n",
       "   'popularity': 20,\n",
       "   'type': 'artist',\n",
       "   'uri': 'spotify:artist:0svp2p0UowZkieevH4358o'},\n",
       "  {'external_urls': {'spotify': 'https://open.spotify.com/artist/6yc2QIJS8ggMlvdEZwNQk8'},\n",
       "   'followers': {'href': None, 'total': 8},\n",
       "   'genres': [],\n",
       "   'href': 'https://api.spotify.com/v1/artists/6yc2QIJS8ggMlvdEZwNQk8',\n",
       "   'id': '6yc2QIJS8ggMlvdEZwNQk8',\n",
       "   'images': [],\n",
       "   'name': 'Favorites, Les',\n",
       "   'popularity': 16,\n",
       "   'type': 'artist',\n",
       "   'uri': 'spotify:artist:6yc2QIJS8ggMlvdEZwNQk8'},\n",
       "  {'external_urls': {'spotify': 'https://open.spotify.com/artist/7uFKjNp91YjtXbNQTdNQlW'},\n",
       "   'followers': {'href': None, 'total': 6415},\n",
       "   'genres': ['barnmusik'],\n",
       "   'href': 'https://api.spotify.com/v1/artists/7uFKjNp91YjtXbNQTdNQlW',\n",
       "   'id': '7uFKjNp91YjtXbNQTdNQlW',\n",
       "   'images': [{'height': 640,\n",
       "     'url': 'https://i.scdn.co/image/fbf2639f14ecc80daa856a203355c709753c3ad9',\n",
       "     'width': 640},\n",
       "    {'height': 320,\n",
       "     'url': 'https://i.scdn.co/image/7a510794220eb2d544012e5a582b984b1a82ca12',\n",
       "     'width': 320},\n",
       "    {'height': 160,\n",
       "     'url': 'https://i.scdn.co/image/ed336a30d8309234b0cc037e53daba64ca4ce208',\n",
       "     'width': 160}],\n",
       "   'name': 'Barnens favoriter',\n",
       "   'popularity': 56,\n",
       "   'type': 'artist',\n",
       "   'uri': 'spotify:artist:7uFKjNp91YjtXbNQTdNQlW'},\n",
       "  {'external_urls': {'spotify': 'https://open.spotify.com/artist/2JMLMt7Cr0PdJyrMrvNaZz'},\n",
       "   'followers': {'href': None, 'total': 4270},\n",
       "   'genres': ['baptist gospel'],\n",
       "   'href': 'https://api.spotify.com/v1/artists/2JMLMt7Cr0PdJyrMrvNaZz',\n",
       "   'id': '2JMLMt7Cr0PdJyrMrvNaZz',\n",
       "   'images': [],\n",
       "   'name': 'Victory In Jesus! 32 Favorite Hymns And Gospel Songs Performers',\n",
       "   'popularity': 23,\n",
       "   'type': 'artist',\n",
       "   'uri': 'spotify:artist:2JMLMt7Cr0PdJyrMrvNaZz'},\n",
       "  {'external_urls': {'spotify': 'https://open.spotify.com/artist/1F3AxNIIccfck4Om138WFM'},\n",
       "   'followers': {'href': None, 'total': 14342},\n",
       "   'genres': ['city pop', 'japanese indie pop'],\n",
       "   'href': 'https://api.spotify.com/v1/artists/1F3AxNIIccfck4Om138WFM',\n",
       "   'id': '1F3AxNIIccfck4Om138WFM',\n",
       "   'images': [{'height': 640,\n",
       "     'url': 'https://i.scdn.co/image/59a970b7a0af5f4827e729bea23990942686b91c',\n",
       "     'width': 640},\n",
       "    {'height': 320,\n",
       "     'url': 'https://i.scdn.co/image/a55086de6725289daf4120e3cf348012d85bf7a1',\n",
       "     'width': 320},\n",
       "    {'height': 160,\n",
       "     'url': 'https://i.scdn.co/image/879af30e2d3121d5ce986bea8c9861c40bc2cba4',\n",
       "     'width': 160}],\n",
       "   'name': 'Special Favorite Music',\n",
       "   'popularity': 32,\n",
       "   'type': 'artist',\n",
       "   'uri': 'spotify:artist:1F3AxNIIccfck4Om138WFM'},\n",
       "  {'external_urls': {'spotify': 'https://open.spotify.com/artist/6yhZQhJJbrMFn6jies6mN6'},\n",
       "   'followers': {'href': None, 'total': 96},\n",
       "   'genres': [],\n",
       "   'href': 'https://api.spotify.com/v1/artists/6yhZQhJJbrMFn6jies6mN6',\n",
       "   'id': '6yhZQhJJbrMFn6jies6mN6',\n",
       "   'images': [{'height': 640,\n",
       "     'url': 'https://i.scdn.co/image/931fe658bff1011022f3c3da26132398473d5fa2',\n",
       "     'width': 640},\n",
       "    {'height': 320,\n",
       "     'url': 'https://i.scdn.co/image/cff8a4d309a3680ac2fa6f048215e9aa900b62fb',\n",
       "     'width': 320},\n",
       "    {'height': 160,\n",
       "     'url': 'https://i.scdn.co/image/9cb2e699a1f2b239785d4779f3c84740689a3a0d',\n",
       "     'width': 160}],\n",
       "   'name': 'Favorite Child',\n",
       "   'popularity': 9,\n",
       "   'type': 'artist',\n",
       "   'uri': 'spotify:artist:6yhZQhJJbrMFn6jies6mN6'},\n",
       "  {'external_urls': {'spotify': 'https://open.spotify.com/artist/3J6WH15p4MKXT5xVR4g2Eo'},\n",
       "   'followers': {'href': None, 'total': 692},\n",
       "   'genres': [],\n",
       "   'href': 'https://api.spotify.com/v1/artists/3J6WH15p4MKXT5xVR4g2Eo',\n",
       "   'id': '3J6WH15p4MKXT5xVR4g2Eo',\n",
       "   'images': [{'height': 640,\n",
       "     'url': 'https://i.scdn.co/image/ab67616d0000b2733150e9052820d425766cb8a7',\n",
       "     'width': 640},\n",
       "    {'height': 300,\n",
       "     'url': 'https://i.scdn.co/image/ab67616d00001e023150e9052820d425766cb8a7',\n",
       "     'width': 300},\n",
       "    {'height': 64,\n",
       "     'url': 'https://i.scdn.co/image/ab67616d000048513150e9052820d425766cb8a7',\n",
       "     'width': 64}],\n",
       "   'name': 'Kids Christmas Favorites',\n",
       "   'popularity': 15,\n",
       "   'type': 'artist',\n",
       "   'uri': 'spotify:artist:3J6WH15p4MKXT5xVR4g2Eo'}],\n",
       " 'limit': 20,\n",
       " 'next': 'https://api.spotify.com/v1/search?query=favorite&type=artist&offset=20&limit=20',\n",
       " 'offset': 0,\n",
       " 'previous': None,\n",
       " 'total': 272}"
      ]
     },
     "execution_count": 12,
     "metadata": {},
     "output_type": "execute_result"
    }
   ],
   "source": [
    "def artist_to_json(artists):\n",
    "    return {name_artist: name for name in result[artist][item][i] for i in result[artist][item] for item in result[artist] for artist in result['artists']}\n",
    "\n",
    "artist_to_json"
   ]
  }
 ],
 "metadata": {
  "kernelspec": {
   "display_name": "Python 3",
   "language": "python",
   "name": "python3"
  },
  "language_info": {
   "codemirror_mode": {
    "name": "ipython",
    "version": 3
   },
   "file_extension": ".py",
   "mimetype": "text/x-python",
   "name": "python",
   "nbconvert_exporter": "python",
   "pygments_lexer": "ipython3",
   "version": "3.8.5"
  }
 },
 "nbformat": 4,
 "nbformat_minor": 4
}
