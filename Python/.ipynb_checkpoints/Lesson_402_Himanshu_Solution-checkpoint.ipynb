{
 "cells": [
  {
   "cell_type": "code",
   "execution_count": null,
   "metadata": {},
   "outputs": [],
   "source": [
    "# Use map, filter and reduce to get the sum of the square root of the odd numbers between 0 and 100.nums = [i for i in range(101)]\n",
    "odds = list(filter(lambda x: x%2==1, nums)) \n",
    "num_list = list(map(lambda x: x**0.5, odds))\n",
    "np.sum(num_list)\n",
    "\n",
    "#LAB\n",
    "\n",
    "customer_df = pd.read_csv('/Users/himanshuaggarwal/Downloads/we_fn_use_c_marketing_customer_value_analysis.csv')\n",
    "customer_df.head()\n",
    "customer_df.info()\n",
    "customer_df.shape\n",
    "customer_df.columns = list(map(lambda x: x.lower().replace(\" \", \"_\"), customer_df.columns))\n",
    "customer_df['effective_to_date'] = pd.to_datetime(customer_df['effective_to_date'])\n",
    "customer_df.isna().sum()\n",
    "categoricals = customer_df.select_dtypes(np.object)\n",
    "numericals = customer_df.select_dtypes(np.number)\n",
    "customer_df = customer_df.drop(['customer'], axis =1)# Cleaning column GENDERdef clean_gender_col(x):\n",
    "    if x in ['',' ' ,'U', 'C', 'J', 'A']:\n",
    "        return 'other'\n",
    "    else:\n",
    "        return xcategoricals['GENDER'] = list(map(clean_gender_col, categoricals['GENDER']))# Visually analyzing categorical data with Target variable\n",
    "sns.boxplot(x=\"GENDER\", y=\"AVGGIFT\", data=data)\n",
    "plt.show()sns.barplot(x=\"GENDER\", y=\"AVGGIFT\", data=data)\n",
    "plt.show()"
   ]
  }
 ],
 "metadata": {
  "kernelspec": {
   "display_name": "Python 3",
   "language": "python",
   "name": "python3"
  },
  "language_info": {
   "codemirror_mode": {
    "name": "ipython",
    "version": 3
   },
   "file_extension": ".py",
   "mimetype": "text/x-python",
   "name": "python",
   "nbconvert_exporter": "python",
   "pygments_lexer": "ipython3",
   "version": "3.8.5"
  }
 },
 "nbformat": 4,
 "nbformat_minor": 4
}
