{
 "cells": [
  {
   "cell_type": "code",
   "execution_count": 83,
   "metadata": {},
   "outputs": [
    {
     "data": {
      "text/html": [
       "<div>\n",
       "<style scoped>\n",
       "    .dataframe tbody tr th:only-of-type {\n",
       "        vertical-align: middle;\n",
       "    }\n",
       "\n",
       "    .dataframe tbody tr th {\n",
       "        vertical-align: top;\n",
       "    }\n",
       "\n",
       "    .dataframe thead th {\n",
       "        text-align: right;\n",
       "    }\n",
       "</style>\n",
       "<table border=\"1\" class=\"dataframe\">\n",
       "  <thead>\n",
       "    <tr style=\"text-align: right;\">\n",
       "      <th></th>\n",
       "      <th>date</th>\n",
       "      <th>Temperature</th>\n",
       "      <th>Humidity</th>\n",
       "      <th>Light</th>\n",
       "      <th>CO2</th>\n",
       "      <th>HumidityRatio</th>\n",
       "      <th>Occupancy</th>\n",
       "    </tr>\n",
       "  </thead>\n",
       "  <tbody>\n",
       "    <tr>\n",
       "      <th>0</th>\n",
       "      <td>2/2/2015 14:00</td>\n",
       "      <td>23.700000</td>\n",
       "      <td>26.272000</td>\n",
       "      <td>585.200000</td>\n",
       "      <td>749.200000</td>\n",
       "      <td>0.004764</td>\n",
       "      <td>1</td>\n",
       "    </tr>\n",
       "    <tr>\n",
       "      <th>1</th>\n",
       "      <td>2/2/2015 15:00</td>\n",
       "      <td>23.718000</td>\n",
       "      <td>26.290000</td>\n",
       "      <td>578.400000</td>\n",
       "      <td>760.400000</td>\n",
       "      <td>0.004773</td>\n",
       "      <td>1</td>\n",
       "    </tr>\n",
       "    <tr>\n",
       "      <th>2</th>\n",
       "      <td>2/2/2015 16:00</td>\n",
       "      <td>23.730000</td>\n",
       "      <td>26.230000</td>\n",
       "      <td>572.666667</td>\n",
       "      <td>769.666667</td>\n",
       "      <td>0.004765</td>\n",
       "      <td>1</td>\n",
       "    </tr>\n",
       "    <tr>\n",
       "      <th>3</th>\n",
       "      <td>2/2/2015 17:00</td>\n",
       "      <td>23.722500</td>\n",
       "      <td>26.125000</td>\n",
       "      <td>493.750000</td>\n",
       "      <td>774.750000</td>\n",
       "      <td>0.004744</td>\n",
       "      <td>1</td>\n",
       "    </tr>\n",
       "    <tr>\n",
       "      <th>4</th>\n",
       "      <td>2/2/2015 18:00</td>\n",
       "      <td>23.754000</td>\n",
       "      <td>26.200000</td>\n",
       "      <td>488.600000</td>\n",
       "      <td>779.000000</td>\n",
       "      <td>0.004767</td>\n",
       "      <td>1</td>\n",
       "    </tr>\n",
       "    <tr>\n",
       "      <th>...</th>\n",
       "      <td>...</td>\n",
       "      <td>...</td>\n",
       "      <td>...</td>\n",
       "      <td>...</td>\n",
       "      <td>...</td>\n",
       "      <td>...</td>\n",
       "      <td>...</td>\n",
       "    </tr>\n",
       "    <tr>\n",
       "      <th>245</th>\n",
       "      <td>2/12/2015 19:00</td>\n",
       "      <td>22.133333</td>\n",
       "      <td>24.700000</td>\n",
       "      <td>0.000000</td>\n",
       "      <td>732.666667</td>\n",
       "      <td>0.004069</td>\n",
       "      <td>0</td>\n",
       "    </tr>\n",
       "    <tr>\n",
       "      <th>246</th>\n",
       "      <td>2/12/2015 20:00</td>\n",
       "      <td>22.100000</td>\n",
       "      <td>24.700000</td>\n",
       "      <td>0.000000</td>\n",
       "      <td>727.000000</td>\n",
       "      <td>0.004061</td>\n",
       "      <td>0</td>\n",
       "    </tr>\n",
       "    <tr>\n",
       "      <th>247</th>\n",
       "      <td>2/12/2015 21:00</td>\n",
       "      <td>22.100000</td>\n",
       "      <td>24.675000</td>\n",
       "      <td>0.000000</td>\n",
       "      <td>716.000000</td>\n",
       "      <td>0.004057</td>\n",
       "      <td>0</td>\n",
       "    </tr>\n",
       "    <tr>\n",
       "      <th>248</th>\n",
       "      <td>2/12/2015 22:00</td>\n",
       "      <td>22.066667</td>\n",
       "      <td>24.666667</td>\n",
       "      <td>0.000000</td>\n",
       "      <td>723.250000</td>\n",
       "      <td>0.004047</td>\n",
       "      <td>0</td>\n",
       "    </tr>\n",
       "    <tr>\n",
       "      <th>249</th>\n",
       "      <td>2/12/2015 23:00</td>\n",
       "      <td>22.066667</td>\n",
       "      <td>24.666667</td>\n",
       "      <td>0.000000</td>\n",
       "      <td>718.333333</td>\n",
       "      <td>0.004047</td>\n",
       "      <td>0</td>\n",
       "    </tr>\n",
       "  </tbody>\n",
       "</table>\n",
       "<p>250 rows × 7 columns</p>\n",
       "</div>"
      ],
      "text/plain": [
       "                date  Temperature   Humidity       Light         CO2  \\\n",
       "0     2/2/2015 14:00    23.700000  26.272000  585.200000  749.200000   \n",
       "1     2/2/2015 15:00    23.718000  26.290000  578.400000  760.400000   \n",
       "2     2/2/2015 16:00    23.730000  26.230000  572.666667  769.666667   \n",
       "3     2/2/2015 17:00    23.722500  26.125000  493.750000  774.750000   \n",
       "4     2/2/2015 18:00    23.754000  26.200000  488.600000  779.000000   \n",
       "..               ...          ...        ...         ...         ...   \n",
       "245  2/12/2015 19:00    22.133333  24.700000    0.000000  732.666667   \n",
       "246  2/12/2015 20:00    22.100000  24.700000    0.000000  727.000000   \n",
       "247  2/12/2015 21:00    22.100000  24.675000    0.000000  716.000000   \n",
       "248  2/12/2015 22:00    22.066667  24.666667    0.000000  723.250000   \n",
       "249  2/12/2015 23:00    22.066667  24.666667    0.000000  718.333333   \n",
       "\n",
       "     HumidityRatio  Occupancy  \n",
       "0         0.004764          1  \n",
       "1         0.004773          1  \n",
       "2         0.004765          1  \n",
       "3         0.004744          1  \n",
       "4         0.004767          1  \n",
       "..             ...        ...  \n",
       "245       0.004069          0  \n",
       "246       0.004061          0  \n",
       "247       0.004057          0  \n",
       "248       0.004047          0  \n",
       "249       0.004047          0  \n",
       "\n",
       "[250 rows x 7 columns]"
      ]
     },
     "execution_count": 83,
     "metadata": {},
     "output_type": "execute_result"
    }
   ],
   "source": [
    "import pandas as pd\n",
    "\n",
    "occupancy = pd.read_csv('occupancy.csv')\n",
    "occupancy.head(250)"
   ]
  },
  {
   "cell_type": "code",
   "execution_count": 84,
   "metadata": {},
   "outputs": [
    {
     "data": {
      "text/plain": [
       "date              object\n",
       "Temperature      float64\n",
       "Humidity         float64\n",
       "Light            float64\n",
       "CO2              float64\n",
       "HumidityRatio    float64\n",
       "Occupancy          int64\n",
       "dtype: object"
      ]
     },
     "execution_count": 84,
     "metadata": {},
     "output_type": "execute_result"
    }
   ],
   "source": [
    "occupancy.dtypes"
   ]
  },
  {
   "cell_type": "code",
   "execution_count": 87,
   "metadata": {},
   "outputs": [
    {
     "data": {
      "text/html": [
       "<div>\n",
       "<style scoped>\n",
       "    .dataframe tbody tr th:only-of-type {\n",
       "        vertical-align: middle;\n",
       "    }\n",
       "\n",
       "    .dataframe tbody tr th {\n",
       "        vertical-align: top;\n",
       "    }\n",
       "\n",
       "    .dataframe thead th {\n",
       "        text-align: right;\n",
       "    }\n",
       "</style>\n",
       "<table border=\"1\" class=\"dataframe\">\n",
       "  <thead>\n",
       "    <tr style=\"text-align: right;\">\n",
       "      <th></th>\n",
       "      <th>date</th>\n",
       "      <th>Temperature</th>\n",
       "      <th>Humidity</th>\n",
       "      <th>Light</th>\n",
       "      <th>CO2</th>\n",
       "      <th>HumidityRatio</th>\n",
       "      <th>Occupancy</th>\n",
       "    </tr>\n",
       "    <tr>\n",
       "      <th>date</th>\n",
       "      <th></th>\n",
       "      <th></th>\n",
       "      <th></th>\n",
       "      <th></th>\n",
       "      <th></th>\n",
       "      <th></th>\n",
       "      <th></th>\n",
       "    </tr>\n",
       "  </thead>\n",
       "  <tbody>\n",
       "    <tr>\n",
       "      <th>2015-02-02 14:00:00</th>\n",
       "      <td>2015-02-02 14:00:00</td>\n",
       "      <td>23.700000</td>\n",
       "      <td>26.272000</td>\n",
       "      <td>585.200000</td>\n",
       "      <td>749.200000</td>\n",
       "      <td>0.004764</td>\n",
       "      <td>1</td>\n",
       "    </tr>\n",
       "    <tr>\n",
       "      <th>2015-02-02 15:00:00</th>\n",
       "      <td>2015-02-02 15:00:00</td>\n",
       "      <td>23.718000</td>\n",
       "      <td>26.290000</td>\n",
       "      <td>578.400000</td>\n",
       "      <td>760.400000</td>\n",
       "      <td>0.004773</td>\n",
       "      <td>1</td>\n",
       "    </tr>\n",
       "    <tr>\n",
       "      <th>2015-02-02 16:00:00</th>\n",
       "      <td>2015-02-02 16:00:00</td>\n",
       "      <td>23.730000</td>\n",
       "      <td>26.230000</td>\n",
       "      <td>572.666667</td>\n",
       "      <td>769.666667</td>\n",
       "      <td>0.004765</td>\n",
       "      <td>1</td>\n",
       "    </tr>\n",
       "    <tr>\n",
       "      <th>2015-02-02 17:00:00</th>\n",
       "      <td>2015-02-02 17:00:00</td>\n",
       "      <td>23.722500</td>\n",
       "      <td>26.125000</td>\n",
       "      <td>493.750000</td>\n",
       "      <td>774.750000</td>\n",
       "      <td>0.004744</td>\n",
       "      <td>1</td>\n",
       "    </tr>\n",
       "    <tr>\n",
       "      <th>2015-02-02 18:00:00</th>\n",
       "      <td>2015-02-02 18:00:00</td>\n",
       "      <td>23.754000</td>\n",
       "      <td>26.200000</td>\n",
       "      <td>488.600000</td>\n",
       "      <td>779.000000</td>\n",
       "      <td>0.004767</td>\n",
       "      <td>1</td>\n",
       "    </tr>\n",
       "    <tr>\n",
       "      <th>...</th>\n",
       "      <td>...</td>\n",
       "      <td>...</td>\n",
       "      <td>...</td>\n",
       "      <td>...</td>\n",
       "      <td>...</td>\n",
       "      <td>...</td>\n",
       "      <td>...</td>\n",
       "    </tr>\n",
       "    <tr>\n",
       "      <th>2015-05-24 09:00:00</th>\n",
       "      <td>2015-05-24 09:00:00</td>\n",
       "      <td>24.290000</td>\n",
       "      <td>25.700000</td>\n",
       "      <td>808.000000</td>\n",
       "      <td>1150.250000</td>\n",
       "      <td>0.004829</td>\n",
       "      <td>1</td>\n",
       "    </tr>\n",
       "    <tr>\n",
       "      <th>2015-05-24 10:00:00</th>\n",
       "      <td>2015-05-24 10:00:00</td>\n",
       "      <td>24.330000</td>\n",
       "      <td>25.736000</td>\n",
       "      <td>809.800000</td>\n",
       "      <td>1129.200000</td>\n",
       "      <td>0.004848</td>\n",
       "      <td>1</td>\n",
       "    </tr>\n",
       "    <tr>\n",
       "      <th>2015-05-24 11:00:00</th>\n",
       "      <td>2015-05-24 11:00:00</td>\n",
       "      <td>24.330000</td>\n",
       "      <td>25.700000</td>\n",
       "      <td>817.000000</td>\n",
       "      <td>1125.800000</td>\n",
       "      <td>0.004841</td>\n",
       "      <td>1</td>\n",
       "    </tr>\n",
       "    <tr>\n",
       "      <th>2015-05-24 12:00:00</th>\n",
       "      <td>2015-05-24 12:00:00</td>\n",
       "      <td>24.356667</td>\n",
       "      <td>25.700000</td>\n",
       "      <td>813.000000</td>\n",
       "      <td>1123.000000</td>\n",
       "      <td>0.004849</td>\n",
       "      <td>1</td>\n",
       "    </tr>\n",
       "    <tr>\n",
       "      <th>2015-05-24 13:00:00</th>\n",
       "      <td>2015-05-24 13:00:00</td>\n",
       "      <td>24.408333</td>\n",
       "      <td>25.681667</td>\n",
       "      <td>798.000000</td>\n",
       "      <td>1124.000000</td>\n",
       "      <td>0.004860</td>\n",
       "      <td>1</td>\n",
       "    </tr>\n",
       "  </tbody>\n",
       "</table>\n",
       "<p>2664 rows × 7 columns</p>\n",
       "</div>"
      ],
      "text/plain": [
       "                                   date  Temperature   Humidity       Light  \\\n",
       "date                                                                          \n",
       "2015-02-02 14:00:00 2015-02-02 14:00:00    23.700000  26.272000  585.200000   \n",
       "2015-02-02 15:00:00 2015-02-02 15:00:00    23.718000  26.290000  578.400000   \n",
       "2015-02-02 16:00:00 2015-02-02 16:00:00    23.730000  26.230000  572.666667   \n",
       "2015-02-02 17:00:00 2015-02-02 17:00:00    23.722500  26.125000  493.750000   \n",
       "2015-02-02 18:00:00 2015-02-02 18:00:00    23.754000  26.200000  488.600000   \n",
       "...                                 ...          ...        ...         ...   \n",
       "2015-05-24 09:00:00 2015-05-24 09:00:00    24.290000  25.700000  808.000000   \n",
       "2015-05-24 10:00:00 2015-05-24 10:00:00    24.330000  25.736000  809.800000   \n",
       "2015-05-24 11:00:00 2015-05-24 11:00:00    24.330000  25.700000  817.000000   \n",
       "2015-05-24 12:00:00 2015-05-24 12:00:00    24.356667  25.700000  813.000000   \n",
       "2015-05-24 13:00:00 2015-05-24 13:00:00    24.408333  25.681667  798.000000   \n",
       "\n",
       "                             CO2  HumidityRatio  Occupancy  \n",
       "date                                                        \n",
       "2015-02-02 14:00:00   749.200000       0.004764          1  \n",
       "2015-02-02 15:00:00   760.400000       0.004773          1  \n",
       "2015-02-02 16:00:00   769.666667       0.004765          1  \n",
       "2015-02-02 17:00:00   774.750000       0.004744          1  \n",
       "2015-02-02 18:00:00   779.000000       0.004767          1  \n",
       "...                          ...            ...        ...  \n",
       "2015-05-24 09:00:00  1150.250000       0.004829          1  \n",
       "2015-05-24 10:00:00  1129.200000       0.004848          1  \n",
       "2015-05-24 11:00:00  1125.800000       0.004841          1  \n",
       "2015-05-24 12:00:00  1123.000000       0.004849          1  \n",
       "2015-05-24 13:00:00  1124.000000       0.004860          1  \n",
       "\n",
       "[2664 rows x 7 columns]"
      ]
     },
     "execution_count": 87,
     "metadata": {},
     "output_type": "execute_result"
    }
   ],
   "source": [
    "# change date column type to datetime\n",
    "occupancy.date = pd.to_datetime(occupancy.date)\n",
    "occupancy.head()\n",
    "# use date dolumn as index\n",
    "occupancy.index = pd.DatetimeIndex(occupancy.date, freq='H')\n",
    "occupancy"
   ]
  },
  {
   "cell_type": "code",
   "execution_count": 88,
   "metadata": {},
   "outputs": [
    {
     "data": {
      "text/plain": [
       "111.0"
      ]
     },
     "execution_count": 88,
     "metadata": {},
     "output_type": "execute_result"
    }
   ],
   "source": [
    "2664/24"
   ]
  },
  {
   "cell_type": "code",
   "execution_count": 109,
   "metadata": {},
   "outputs": [
    {
     "name": "stdout",
     "output_type": "stream",
     "text": [
      "mean : 717.7813974686562\n"
     ]
    },
    {
     "data": {
      "image/png": "[encoded data removed]",
      "text/plain": [
       "<Figure size 864x864 with 4 Axes>"
      ]
     },
     "metadata": {
      "needs_background": "light"
     },
     "output_type": "display_data"
    }
   ],
   "source": [
    "import statsmodels.api as sm\n",
    "\n",
    "# import matplotlib.pyplot as plt\n",
    "%matplotlib inline\n",
    "print('mean :' , occupancy.CO2.mean())\n",
    "#res = sm.tsa.seasonal_decompose(occupancy.CO2)\n",
    "res = sm.tsa.seasonal_decompose(occupancy.CO2, period=24*7)\n",
    "\n",
    "with plt.rc_context():\n",
    "    plt.rc(\"figure\", figsize=(12,12))\n",
    "    res.plot()"
   ]
  },
  {
   "cell_type": "code",
   "execution_count": 96,
   "metadata": {},
   "outputs": [
    {
     "data": {
      "text/plain": [
       "<AxesSubplot:xlabel='y(t)', ylabel='y(t + 1)'>"
      ]
     },
     "execution_count": 96,
     "metadata": {},
     "output_type": "execute_result"
    },
    {
     "data": {
      "image/png": "[encoded data removed]",
      "text/plain": [
       "<Figure size 432x288 with 1 Axes>"
      ]
     },
     "metadata": {
      "needs_background": "light"
     },
     "output_type": "display_data"
    }
   ],
   "source": [
    "from pandas.plotting import lag_plot\n",
    "\n",
    "\n",
    "lag_plot(occupancy.CO2)\n",
    "# import matplotlib.pyplot as plt\n",
    "# occupancy.plot(x=occupancy.CO2, y=occupancy.CO2)"
   ]
  },
  {
   "cell_type": "markdown",
   "metadata": {},
   "source": [
    "p is the auto-regressive part of the model. It allows us to incorporate the effect of past values into our model. Intuitively, this would be similar to stating that it is likely to be warm tomorrow if it has been warm the past 3 days.\n"
   ]
  },
  {
   "cell_type": "code",
   "execution_count": 97,
   "metadata": {},
   "outputs": [],
   "source": [
    "from statsmodels.tsa.arima.model import ARIMA"
   ]
  },
  {
   "cell_type": "code",
   "execution_count": 98,
   "metadata": {},
   "outputs": [
    {
     "name": "stderr",
     "output_type": "stream",
     "text": [
      "/Library/Frameworks/Python.framework/Versions/3.7/lib/python3.7/site-packages/statsmodels/tsa/statespace/sarimax.py:966: UserWarning: Non-stationary starting autoregressive parameters found. Using zeros as starting parameters.\n",
      "  warn('Non-stationary starting autoregressive parameters'\n"
     ]
    },
    {
     "data": {
      "text/plain": [
       "2015-05-24 04:00:00    1153.288267\n",
       "2015-05-24 05:00:00    1153.414694\n",
       "2015-05-24 06:00:00    1153.363200\n",
       "2015-05-24 07:00:00    1153.263893\n",
       "2015-05-24 08:00:00    1153.151754\n",
       "2015-05-24 09:00:00    1153.036187\n",
       "2015-05-24 10:00:00    1152.919722\n",
       "2015-05-24 11:00:00    1152.803039\n",
       "2015-05-24 12:00:00    1152.686319\n",
       "2015-05-24 13:00:00    1152.569612\n",
       "Freq: H, Name: predicted_mean, dtype: float64"
      ]
     },
     "execution_count": 98,
     "metadata": {},
     "output_type": "execute_result"
    }
   ],
   "source": [
    "train, test = occupancy.CO2[:-10], occupancy.CO2[-10:]\n",
    "#                                  Reserve last 10 datapoints for test\n",
    "# autoregression model, look back 2 steps\n",
    "#model = ARIMA(train, order=[p,d,q])\n",
    "model = ARIMA(train, order=[2,0,0])\n",
    "#model = ARIMA(occupancy.CO2, order=[2,0,0])\n",
    "model_fit = model.fit()\n",
    "\n",
    "predictions = model_fit.predict(start=len(train), end=len(train)+len(test)-1)\n",
    "predictions\n",
    "\n"
   ]
  },
  {
   "cell_type": "code",
   "execution_count": 99,
   "metadata": {},
   "outputs": [
    {
     "data": {
      "text/plain": [
       "date\n",
       "2015-05-24 04:00:00    1153.250000\n",
       "2015-05-24 05:00:00    1152.400000\n",
       "2015-05-24 06:00:00    1146.166667\n",
       "2015-05-24 07:00:00    1145.400000\n",
       "2015-05-24 08:00:00    1140.800000\n",
       "2015-05-24 09:00:00    1150.250000\n",
       "2015-05-24 10:00:00    1129.200000\n",
       "2015-05-24 11:00:00    1125.800000\n",
       "2015-05-24 12:00:00    1123.000000\n",
       "2015-05-24 13:00:00    1124.000000\n",
       "Freq: H, Name: CO2, dtype: float64"
      ]
     },
     "execution_count": 99,
     "metadata": {},
     "output_type": "execute_result"
    }
   ],
   "source": [
    "occupancy.CO2[-10:]"
   ]
  },
  {
   "cell_type": "code",
   "execution_count": null,
   "metadata": {},
   "outputs": [],
   "source": [
    "print(model_fit.params)"
   ]
  },
  {
   "cell_type": "code",
   "execution_count": 100,
   "metadata": {},
   "outputs": [
    {
     "data": {
      "text/html": [
       "<div>\n",
       "<style scoped>\n",
       "    .dataframe tbody tr th:only-of-type {\n",
       "        vertical-align: middle;\n",
       "    }\n",
       "\n",
       "    .dataframe tbody tr th {\n",
       "        vertical-align: top;\n",
       "    }\n",
       "\n",
       "    .dataframe thead th {\n",
       "        text-align: right;\n",
       "    }\n",
       "</style>\n",
       "<table border=\"1\" class=\"dataframe\">\n",
       "  <thead>\n",
       "    <tr style=\"text-align: right;\">\n",
       "      <th></th>\n",
       "      <th>observed</th>\n",
       "      <th>predicted</th>\n",
       "    </tr>\n",
       "    <tr>\n",
       "      <th>date</th>\n",
       "      <th></th>\n",
       "      <th></th>\n",
       "    </tr>\n",
       "  </thead>\n",
       "  <tbody>\n",
       "    <tr>\n",
       "      <th>2015-05-24 04:00:00</th>\n",
       "      <td>1153.250000</td>\n",
       "      <td>1153.288267</td>\n",
       "    </tr>\n",
       "    <tr>\n",
       "      <th>2015-05-24 05:00:00</th>\n",
       "      <td>1152.400000</td>\n",
       "      <td>1153.414694</td>\n",
       "    </tr>\n",
       "    <tr>\n",
       "      <th>2015-05-24 06:00:00</th>\n",
       "      <td>1146.166667</td>\n",
       "      <td>1153.363200</td>\n",
       "    </tr>\n",
       "    <tr>\n",
       "      <th>2015-05-24 07:00:00</th>\n",
       "      <td>1145.400000</td>\n",
       "      <td>1153.263893</td>\n",
       "    </tr>\n",
       "    <tr>\n",
       "      <th>2015-05-24 08:00:00</th>\n",
       "      <td>1140.800000</td>\n",
       "      <td>1153.151754</td>\n",
       "    </tr>\n",
       "    <tr>\n",
       "      <th>2015-05-24 09:00:00</th>\n",
       "      <td>1150.250000</td>\n",
       "      <td>1153.036187</td>\n",
       "    </tr>\n",
       "    <tr>\n",
       "      <th>2015-05-24 10:00:00</th>\n",
       "      <td>1129.200000</td>\n",
       "      <td>1152.919722</td>\n",
       "    </tr>\n",
       "    <tr>\n",
       "      <th>2015-05-24 11:00:00</th>\n",
       "      <td>1125.800000</td>\n",
       "      <td>1152.803039</td>\n",
       "    </tr>\n",
       "    <tr>\n",
       "      <th>2015-05-24 12:00:00</th>\n",
       "      <td>1123.000000</td>\n",
       "      <td>1152.686319</td>\n",
       "    </tr>\n",
       "    <tr>\n",
       "      <th>2015-05-24 13:00:00</th>\n",
       "      <td>1124.000000</td>\n",
       "      <td>1152.569612</td>\n",
       "    </tr>\n",
       "  </tbody>\n",
       "</table>\n",
       "</div>"
      ],
      "text/plain": [
       "                        observed    predicted\n",
       "date                                         \n",
       "2015-05-24 04:00:00  1153.250000  1153.288267\n",
       "2015-05-24 05:00:00  1152.400000  1153.414694\n",
       "2015-05-24 06:00:00  1146.166667  1153.363200\n",
       "2015-05-24 07:00:00  1145.400000  1153.263893\n",
       "2015-05-24 08:00:00  1140.800000  1153.151754\n",
       "2015-05-24 09:00:00  1150.250000  1153.036187\n",
       "2015-05-24 10:00:00  1129.200000  1152.919722\n",
       "2015-05-24 11:00:00  1125.800000  1152.803039\n",
       "2015-05-24 12:00:00  1123.000000  1152.686319\n",
       "2015-05-24 13:00:00  1124.000000  1152.569612"
      ]
     },
     "execution_count": 100,
     "metadata": {},
     "output_type": "execute_result"
    }
   ],
   "source": [
    "pd.DataFrame({'observed':occupancy.CO2, 'predicted':predictions})[-10:]"
   ]
  },
  {
   "cell_type": "code",
   "execution_count": 101,
   "metadata": {},
   "outputs": [
    {
     "data": {
      "text/plain": [
       "0.06822624483241069"
      ]
     },
     "execution_count": 101,
     "metadata": {},
     "output_type": "execute_result"
    }
   ],
   "source": [
    "# but: for AR model to work, the series should be stationary, which means that there is no long range trend\n",
    "from statsmodels.tsa.stattools import adfuller\n",
    "# H0: series is not stationary\n",
    "# H1: series is stationary\n",
    "adfuller(occupancy.CO2)[1]\n"
   ]
  },
  {
   "cell_type": "code",
   "execution_count": 103,
   "metadata": {},
   "outputs": [],
   "source": [
    "# p is low, H0 must go? p > 0.05, we do not reject the null-hypothesis\n",
    "# so the data is not stationary"
   ]
  },
  {
   "cell_type": "markdown",
   "metadata": {},
   "source": [
    "q is the moving average part of the model. This allows us to set the error of our model as a linear combination of the error values observed at previous time points in the past."
   ]
  },
  {
   "cell_type": "code",
   "execution_count": 104,
   "metadata": {},
   "outputs": [
    {
     "name": "stderr",
     "output_type": "stream",
     "text": [
      "/Library/Frameworks/Python.framework/Versions/3.7/lib/python3.7/site-packages/statsmodels/tsa/statespace/sarimax.py:966: UserWarning: Non-stationary starting autoregressive parameters found. Using zeros as starting parameters.\n",
      "  warn('Non-stationary starting autoregressive parameters'\n"
     ]
    },
    {
     "data": {
      "text/plain": [
       "2015-05-24 04:00:00    1153.390744\n",
       "2015-05-24 05:00:00    1154.245643\n",
       "2015-05-24 06:00:00    1155.064895\n",
       "2015-05-24 07:00:00    1155.848703\n",
       "2015-05-24 08:00:00    1156.597267\n",
       "2015-05-24 09:00:00    1157.310791\n",
       "2015-05-24 10:00:00    1157.989478\n",
       "2015-05-24 11:00:00    1158.633533\n",
       "2015-05-24 12:00:00    1159.243160\n",
       "2015-05-24 13:00:00    1159.818567\n",
       "Freq: H, Name: predicted_mean, dtype: float64"
      ]
     },
     "execution_count": 104,
     "metadata": {},
     "output_type": "execute_result"
    }
   ],
   "source": [
    "# combined AutoRegression, Moving Average model\n",
    "# Let's try a moving average model:\n",
    "# Not to be confused with the concept of 'moving average'\n",
    "# Note: Moving Average of the error term, not of the base values\n",
    "# X(t) = mu + e(t) + phi(1)*e(t-1) + phi(2)*e(t-2) + ... phi(q)e(t-q)\n",
    "\n",
    "model = ARIMA(train, order=[2,0,1])\n",
    "model_fit = model.fit()\n",
    "\n",
    "predictions = model_fit.predict(start=len(train), end=len(train)+len(test)-1)\n",
    "predictions"
   ]
  },
  {
   "cell_type": "code",
   "execution_count": null,
   "metadata": {},
   "outputs": [],
   "source": [
    "print(model_fit.params)"
   ]
  },
  {
   "cell_type": "code",
   "execution_count": 105,
   "metadata": {},
   "outputs": [
    {
     "data": {
      "text/html": [
       "<div>\n",
       "<style scoped>\n",
       "    .dataframe tbody tr th:only-of-type {\n",
       "        vertical-align: middle;\n",
       "    }\n",
       "\n",
       "    .dataframe tbody tr th {\n",
       "        vertical-align: top;\n",
       "    }\n",
       "\n",
       "    .dataframe thead th {\n",
       "        text-align: right;\n",
       "    }\n",
       "</style>\n",
       "<table border=\"1\" class=\"dataframe\">\n",
       "  <thead>\n",
       "    <tr style=\"text-align: right;\">\n",
       "      <th></th>\n",
       "      <th>observed</th>\n",
       "      <th>predicted</th>\n",
       "    </tr>\n",
       "    <tr>\n",
       "      <th>date</th>\n",
       "      <th></th>\n",
       "      <th></th>\n",
       "    </tr>\n",
       "  </thead>\n",
       "  <tbody>\n",
       "    <tr>\n",
       "      <th>2015-05-24 04:00:00</th>\n",
       "      <td>1153.250000</td>\n",
       "      <td>1153.390744</td>\n",
       "    </tr>\n",
       "    <tr>\n",
       "      <th>2015-05-24 05:00:00</th>\n",
       "      <td>1152.400000</td>\n",
       "      <td>1154.245643</td>\n",
       "    </tr>\n",
       "    <tr>\n",
       "      <th>2015-05-24 06:00:00</th>\n",
       "      <td>1146.166667</td>\n",
       "      <td>1155.064895</td>\n",
       "    </tr>\n",
       "    <tr>\n",
       "      <th>2015-05-24 07:00:00</th>\n",
       "      <td>1145.400000</td>\n",
       "      <td>1155.848703</td>\n",
       "    </tr>\n",
       "    <tr>\n",
       "      <th>2015-05-24 08:00:00</th>\n",
       "      <td>1140.800000</td>\n",
       "      <td>1156.597267</td>\n",
       "    </tr>\n",
       "    <tr>\n",
       "      <th>2015-05-24 09:00:00</th>\n",
       "      <td>1150.250000</td>\n",
       "      <td>1157.310791</td>\n",
       "    </tr>\n",
       "    <tr>\n",
       "      <th>2015-05-24 10:00:00</th>\n",
       "      <td>1129.200000</td>\n",
       "      <td>1157.989478</td>\n",
       "    </tr>\n",
       "    <tr>\n",
       "      <th>2015-05-24 11:00:00</th>\n",
       "      <td>1125.800000</td>\n",
       "      <td>1158.633533</td>\n",
       "    </tr>\n",
       "    <tr>\n",
       "      <th>2015-05-24 12:00:00</th>\n",
       "      <td>1123.000000</td>\n",
       "      <td>1159.243160</td>\n",
       "    </tr>\n",
       "    <tr>\n",
       "      <th>2015-05-24 13:00:00</th>\n",
       "      <td>1124.000000</td>\n",
       "      <td>1159.818567</td>\n",
       "    </tr>\n",
       "  </tbody>\n",
       "</table>\n",
       "</div>"
      ],
      "text/plain": [
       "                        observed    predicted\n",
       "date                                         \n",
       "2015-05-24 04:00:00  1153.250000  1153.390744\n",
       "2015-05-24 05:00:00  1152.400000  1154.245643\n",
       "2015-05-24 06:00:00  1146.166667  1155.064895\n",
       "2015-05-24 07:00:00  1145.400000  1155.848703\n",
       "2015-05-24 08:00:00  1140.800000  1156.597267\n",
       "2015-05-24 09:00:00  1150.250000  1157.310791\n",
       "2015-05-24 10:00:00  1129.200000  1157.989478\n",
       "2015-05-24 11:00:00  1125.800000  1158.633533\n",
       "2015-05-24 12:00:00  1123.000000  1159.243160\n",
       "2015-05-24 13:00:00  1124.000000  1159.818567"
      ]
     },
     "execution_count": 105,
     "metadata": {},
     "output_type": "execute_result"
    }
   ],
   "source": [
    "pd.DataFrame({'observed':occupancy.CO2, 'predicted':predictions})[-10:]"
   ]
  },
  {
   "cell_type": "markdown",
   "metadata": {},
   "source": [
    "d is the integrated part of the model. This includes terms in the model that incorporate the amount of differencing (i.e. the number of past time points to subtract from the current value) to apply to the time series. Intuitively, this would be similar to stating that it is likely to be same temperature tomorrow if the difference in temperature in the last three days has been very small.\n"
   ]
  },
  {
   "cell_type": "code",
   "execution_count": 106,
   "metadata": {},
   "outputs": [
    {
     "name": "stderr",
     "output_type": "stream",
     "text": [
      "/Library/Frameworks/Python.framework/Versions/3.7/lib/python3.7/site-packages/statsmodels/tsa/statespace/sarimax.py:966: UserWarning: Non-stationary starting autoregressive parameters found. Using zeros as starting parameters.\n",
      "  warn('Non-stationary starting autoregressive parameters'\n",
      "/Library/Frameworks/Python.framework/Versions/3.7/lib/python3.7/site-packages/statsmodels/tsa/statespace/sarimax.py:978: UserWarning: Non-invertible starting MA parameters found. Using zeros as starting parameters.\n",
      "  warn('Non-invertible starting MA parameters found.'\n"
     ]
    },
    {
     "data": {
      "text/plain": [
       "2015-05-24 04:00:00    1154.135052\n",
       "2015-05-24 05:00:00    1155.611004\n",
       "2015-05-24 06:00:00    1157.062004\n",
       "2015-05-24 07:00:00    1158.500485\n",
       "2015-05-24 08:00:00    1159.927671\n",
       "2015-05-24 09:00:00    1161.343756\n",
       "2015-05-24 10:00:00    1162.748834\n",
       "2015-05-24 11:00:00    1164.142991\n",
       "2015-05-24 12:00:00    1165.526313\n",
       "2015-05-24 13:00:00    1166.898885\n",
       "Freq: H, Name: predicted_mean, dtype: float64"
      ]
     },
     "execution_count": 106,
     "metadata": {},
     "output_type": "execute_result"
    }
   ],
   "source": [
    "train, test = occupancy.CO2[:-10], occupancy.CO2[-10:]\n",
    "#                                  Reserve last 10 datapoints for test\n",
    "# Now we introduce an I (integration) term\n",
    "model = ARIMA(train, order=[2,1,1])\n",
    "model_fit = model.fit()\n",
    "\n",
    "predictions = model_fit.predict(start=len(train), end=len(train)+len(test)-1)\n",
    "predictions"
   ]
  },
  {
   "cell_type": "code",
   "execution_count": null,
   "metadata": {},
   "outputs": [],
   "source": [
    "print(model_fit.params)"
   ]
  },
  {
   "cell_type": "code",
   "execution_count": 107,
   "metadata": {},
   "outputs": [
    {
     "data": {
      "text/html": [
       "<div>\n",
       "<style scoped>\n",
       "    .dataframe tbody tr th:only-of-type {\n",
       "        vertical-align: middle;\n",
       "    }\n",
       "\n",
       "    .dataframe tbody tr th {\n",
       "        vertical-align: top;\n",
       "    }\n",
       "\n",
       "    .dataframe thead th {\n",
       "        text-align: right;\n",
       "    }\n",
       "</style>\n",
       "<table border=\"1\" class=\"dataframe\">\n",
       "  <thead>\n",
       "    <tr style=\"text-align: right;\">\n",
       "      <th></th>\n",
       "      <th>observed</th>\n",
       "      <th>predicted</th>\n",
       "    </tr>\n",
       "    <tr>\n",
       "      <th>date</th>\n",
       "      <th></th>\n",
       "      <th></th>\n",
       "    </tr>\n",
       "  </thead>\n",
       "  <tbody>\n",
       "    <tr>\n",
       "      <th>2015-05-24 04:00:00</th>\n",
       "      <td>1153.250000</td>\n",
       "      <td>1154.135052</td>\n",
       "    </tr>\n",
       "    <tr>\n",
       "      <th>2015-05-24 05:00:00</th>\n",
       "      <td>1152.400000</td>\n",
       "      <td>1155.611004</td>\n",
       "    </tr>\n",
       "    <tr>\n",
       "      <th>2015-05-24 06:00:00</th>\n",
       "      <td>1146.166667</td>\n",
       "      <td>1157.062004</td>\n",
       "    </tr>\n",
       "    <tr>\n",
       "      <th>2015-05-24 07:00:00</th>\n",
       "      <td>1145.400000</td>\n",
       "      <td>1158.500485</td>\n",
       "    </tr>\n",
       "    <tr>\n",
       "      <th>2015-05-24 08:00:00</th>\n",
       "      <td>1140.800000</td>\n",
       "      <td>1159.927671</td>\n",
       "    </tr>\n",
       "    <tr>\n",
       "      <th>2015-05-24 09:00:00</th>\n",
       "      <td>1150.250000</td>\n",
       "      <td>1161.343756</td>\n",
       "    </tr>\n",
       "    <tr>\n",
       "      <th>2015-05-24 10:00:00</th>\n",
       "      <td>1129.200000</td>\n",
       "      <td>1162.748834</td>\n",
       "    </tr>\n",
       "    <tr>\n",
       "      <th>2015-05-24 11:00:00</th>\n",
       "      <td>1125.800000</td>\n",
       "      <td>1164.142991</td>\n",
       "    </tr>\n",
       "    <tr>\n",
       "      <th>2015-05-24 12:00:00</th>\n",
       "      <td>1123.000000</td>\n",
       "      <td>1165.526313</td>\n",
       "    </tr>\n",
       "    <tr>\n",
       "      <th>2015-05-24 13:00:00</th>\n",
       "      <td>1124.000000</td>\n",
       "      <td>1166.898885</td>\n",
       "    </tr>\n",
       "  </tbody>\n",
       "</table>\n",
       "</div>"
      ],
      "text/plain": [
       "                        observed    predicted\n",
       "date                                         \n",
       "2015-05-24 04:00:00  1153.250000  1154.135052\n",
       "2015-05-24 05:00:00  1152.400000  1155.611004\n",
       "2015-05-24 06:00:00  1146.166667  1157.062004\n",
       "2015-05-24 07:00:00  1145.400000  1158.500485\n",
       "2015-05-24 08:00:00  1140.800000  1159.927671\n",
       "2015-05-24 09:00:00  1150.250000  1161.343756\n",
       "2015-05-24 10:00:00  1129.200000  1162.748834\n",
       "2015-05-24 11:00:00  1125.800000  1164.142991\n",
       "2015-05-24 12:00:00  1123.000000  1165.526313\n",
       "2015-05-24 13:00:00  1124.000000  1166.898885"
      ]
     },
     "execution_count": 107,
     "metadata": {},
     "output_type": "execute_result"
    }
   ],
   "source": [
    "pd.DataFrame({'observed':occupancy.CO2, 'predicted':predictions})[-10:]"
   ]
  },
  {
   "cell_type": "code",
   "execution_count": null,
   "metadata": {},
   "outputs": [],
   "source": []
  },
  {
   "cell_type": "code",
   "execution_count": null,
   "metadata": {},
   "outputs": [],
   "source": []
  },
  {
   "cell_type": "code",
   "execution_count": null,
   "metadata": {},
   "outputs": [],
   "source": [
    "# why is model not improving?"
   ]
  },
  {
   "cell_type": "code",
   "execution_count": null,
   "metadata": {},
   "outputs": [],
   "source": []
  },
  {
   "cell_type": "code",
   "execution_count": null,
   "metadata": {},
   "outputs": [],
   "source": []
  },
  {
   "cell_type": "code",
   "execution_count": null,
   "metadata": {},
   "outputs": [],
   "source": []
  },
  {
   "cell_type": "code",
   "execution_count": null,
   "metadata": {},
   "outputs": [],
   "source": []
  },
  {
   "cell_type": "code",
   "execution_count": null,
   "metadata": {},
   "outputs": [],
   "source": []
  },
  {
   "cell_type": "code",
   "execution_count": null,
   "metadata": {},
   "outputs": [],
   "source": []
  },
  {
   "cell_type": "code",
   "execution_count": null,
   "metadata": {},
   "outputs": [],
   "source": []
  },
  {
   "cell_type": "code",
   "execution_count": null,
   "metadata": {},
   "outputs": [],
   "source": []
  },
  {
   "cell_type": "code",
   "execution_count": null,
   "metadata": {},
   "outputs": [],
   "source": [
    "# need to incluse seasonality : use SARIMAX: S stands for seasonal\n",
    "# in addition to the order of AR, I, MA, also needs information about seasonal patterns"
   ]
  },
  {
   "cell_type": "code",
   "execution_count": null,
   "metadata": {},
   "outputs": [],
   "source": [
    "# for those who need time series in their final projects:\n",
    "# https://www.digitalocean.com/community/tutorials/a-guide-to-time-series-forecasting-with-arima-in-python-3"
   ]
  },
  {
   "cell_type": "code",
   "execution_count": null,
   "metadata": {},
   "outputs": [],
   "source": []
  },
  {
   "cell_type": "code",
   "execution_count": null,
   "metadata": {},
   "outputs": [],
   "source": []
  }
 ],
 "metadata": {
  "kernelspec": {
   "display_name": "Python 3",
   "language": "python",
   "name": "python3"
  },
  "language_info": {
   "codemirror_mode": {
    "name": "ipython",
    "version": 3
   },
   "file_extension": ".py",
   "mimetype": "text/x-python",
   "name": "python",
   "nbconvert_exporter": "python",
   "pygments_lexer": "ipython3",
   "version": "3.7.9"
  }
 },
 "nbformat": 4,
 "nbformat_minor": 2
}
