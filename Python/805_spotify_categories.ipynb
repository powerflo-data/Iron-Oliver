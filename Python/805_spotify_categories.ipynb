# to get a list all the "Meta" categories that spotify works with
# check the 'country' or the 'locale' keyword in categories() to customize your playlist selection 

categories = sp.categories()   # this is a Spotipy function!

# these you can loop over to get all the names of these categories
[cat['name'] for cat in categories['categories']['items']]

# replace cat['name'] with cat['id'] in there and use these id's to get all the playlists
# in those categories (again, build a loop)
sp.category_playlists(cat_id)   # this is a Spotipy function!

# From here on, you can drill deeper and get all the songs per playlist, etc...
# I would write functions for all of these parts. and in the end pass values from functions to functions

# Try to also define a function, which gets a song ID and returns a dictionary with the song features and their values

# because this is what you can use to easily build a dataframe of (the song feature names being the column names), and append it to a dataframe in a loop
# this function is sort of one of the "nucleus" functions of your code
