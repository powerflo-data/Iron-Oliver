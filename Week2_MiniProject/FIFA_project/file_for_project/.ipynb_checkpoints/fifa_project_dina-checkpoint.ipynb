{
 "cells": [
  {
   "cell_type": "code",
   "execution_count": 1509,
   "metadata": {},
   "outputs": [],
   "source": [
    "import pandas as pd\n",
    "import numpy as np\n",
    "import warnings\n",
    "warnings.filterwarnings('ignore')\n",
    "import matplotlib.pyplot as plt\n",
    "import seaborn as sns\n",
    "%matplotlib inline\n",
    "\n",
    "# import sys\n",
    "# import statistics\n",
    "import math\n",
    "\n",
    "pd.set_option('display.max_columns', None)\n",
    "pd.set_option('display.max_rows', None)"
   ]
  },
  {
   "cell_type": "code",
   "execution_count": 1510,
   "metadata": {},
   "outputs": [
    {
     "data": {
      "text/html": [
       "<div>\n",
       "<style scoped>\n",
       "    .dataframe tbody tr th:only-of-type {\n",
       "        vertical-align: middle;\n",
       "    }\n",
       "\n",
       "    .dataframe tbody tr th {\n",
       "        vertical-align: top;\n",
       "    }\n",
       "\n",
       "    .dataframe thead th {\n",
       "        text-align: right;\n",
       "    }\n",
       "</style>\n",
       "<table border=\"1\" class=\"dataframe\">\n",
       "  <thead>\n",
       "    <tr style=\"text-align: right;\">\n",
       "      <th></th>\n",
       "      <th>Unnamed: 0</th>\n",
       "      <th>ID</th>\n",
       "      <th>Name</th>\n",
       "      <th>Age</th>\n",
       "      <th>Nationality</th>\n",
       "      <th>Club</th>\n",
       "      <th>BP</th>\n",
       "      <th>Position</th>\n",
       "      <th>Team &amp; Contract</th>\n",
       "      <th>Height</th>\n",
       "      <th>Weight</th>\n",
       "      <th>foot</th>\n",
       "      <th>Growth</th>\n",
       "      <th>Joined</th>\n",
       "      <th>Loan Date End</th>\n",
       "      <th>Value</th>\n",
       "      <th>Wage</th>\n",
       "      <th>Release Clause</th>\n",
       "      <th>Contract</th>\n",
       "      <th>Attacking</th>\n",
       "      <th>Crossing</th>\n",
       "      <th>Finishing</th>\n",
       "      <th>Heading Accuracy</th>\n",
       "      <th>Short Passing</th>\n",
       "      <th>Volleys</th>\n",
       "      <th>Skill</th>\n",
       "      <th>Dribbling</th>\n",
       "      <th>Curve</th>\n",
       "      <th>FK Accuracy</th>\n",
       "      <th>Long Passing</th>\n",
       "      <th>Ball Control</th>\n",
       "      <th>Movement</th>\n",
       "      <th>Acceleration</th>\n",
       "      <th>Sprint Speed</th>\n",
       "      <th>Agility</th>\n",
       "      <th>Reactions</th>\n",
       "      <th>Balance</th>\n",
       "      <th>Power</th>\n",
       "      <th>Shot Power</th>\n",
       "      <th>Jumping</th>\n",
       "      <th>Stamina</th>\n",
       "      <th>Strength</th>\n",
       "      <th>Long Shots</th>\n",
       "      <th>Mentality</th>\n",
       "      <th>Aggression</th>\n",
       "      <th>Interceptions</th>\n",
       "      <th>Positioning</th>\n",
       "      <th>Vision</th>\n",
       "      <th>Penalties</th>\n",
       "      <th>Composure</th>\n",
       "      <th>Defending</th>\n",
       "      <th>Marking</th>\n",
       "      <th>Standing Tackle</th>\n",
       "      <th>Sliding Tackle</th>\n",
       "      <th>Goalkeeping</th>\n",
       "      <th>GK Diving</th>\n",
       "      <th>GK Handling</th>\n",
       "      <th>GK Kicking</th>\n",
       "      <th>GK Positioning</th>\n",
       "      <th>GK Reflexes</th>\n",
       "      <th>Total Stats</th>\n",
       "      <th>Base Stats</th>\n",
       "      <th>W/F</th>\n",
       "      <th>SM</th>\n",
       "      <th>A/W</th>\n",
       "      <th>D/W</th>\n",
       "      <th>IR</th>\n",
       "      <th>PAC</th>\n",
       "      <th>SHO</th>\n",
       "      <th>PAS</th>\n",
       "      <th>DRI</th>\n",
       "      <th>DEF</th>\n",
       "      <th>PHY</th>\n",
       "      <th>Hits</th>\n",
       "      <th>LS</th>\n",
       "      <th>ST</th>\n",
       "      <th>RS</th>\n",
       "      <th>LW</th>\n",
       "      <th>LF</th>\n",
       "      <th>CF</th>\n",
       "      <th>RF</th>\n",
       "      <th>RW</th>\n",
       "      <th>LAM</th>\n",
       "      <th>CAM</th>\n",
       "      <th>RAM</th>\n",
       "      <th>LM</th>\n",
       "      <th>LCM</th>\n",
       "      <th>CM</th>\n",
       "      <th>RCM</th>\n",
       "      <th>RM</th>\n",
       "      <th>LWB</th>\n",
       "      <th>LDM</th>\n",
       "      <th>CDM</th>\n",
       "      <th>RDM</th>\n",
       "      <th>RWB</th>\n",
       "      <th>LB</th>\n",
       "      <th>LCB</th>\n",
       "      <th>CB</th>\n",
       "      <th>RCB</th>\n",
       "      <th>RB</th>\n",
       "      <th>GK</th>\n",
       "      <th>OVA</th>\n",
       "    </tr>\n",
       "  </thead>\n",
       "  <tbody>\n",
       "    <tr>\n",
       "      <th>0</th>\n",
       "      <td>1954</td>\n",
       "      <td>184383</td>\n",
       "      <td>A. Pasche</td>\n",
       "      <td>26</td>\n",
       "      <td>Switzerland</td>\n",
       "      <td>FC Lausanne-Sport</td>\n",
       "      <td>CM</td>\n",
       "      <td>CM CDM</td>\n",
       "      <td>FC Lausanne-Sport 2015 ~ 2020</td>\n",
       "      <td>5'9\"</td>\n",
       "      <td>161lbs</td>\n",
       "      <td>Right</td>\n",
       "      <td>1</td>\n",
       "      <td>Jul 1, 2015</td>\n",
       "      <td>NaN</td>\n",
       "      <td>€525K</td>\n",
       "      <td>€4K</td>\n",
       "      <td>€801K</td>\n",
       "      <td>2015 ~ 2020</td>\n",
       "      <td>258</td>\n",
       "      <td>54</td>\n",
       "      <td>47</td>\n",
       "      <td>43</td>\n",
       "      <td>70</td>\n",
       "      <td>44.0</td>\n",
       "      <td>286</td>\n",
       "      <td>61</td>\n",
       "      <td>44.0</td>\n",
       "      <td>55</td>\n",
       "      <td>63</td>\n",
       "      <td>63</td>\n",
       "      <td>346</td>\n",
       "      <td>64</td>\n",
       "      <td>73</td>\n",
       "      <td>61.0</td>\n",
       "      <td>66</td>\n",
       "      <td>82.0</td>\n",
       "      <td>306</td>\n",
       "      <td>62</td>\n",
       "      <td>73.0</td>\n",
       "      <td>71</td>\n",
       "      <td>55</td>\n",
       "      <td>45</td>\n",
       "      <td>290</td>\n",
       "      <td>54</td>\n",
       "      <td>52.0</td>\n",
       "      <td>62.0</td>\n",
       "      <td>68.0</td>\n",
       "      <td>54</td>\n",
       "      <td>54.0</td>\n",
       "      <td>148</td>\n",
       "      <td>49</td>\n",
       "      <td>56</td>\n",
       "      <td>43.0</td>\n",
       "      <td>48</td>\n",
       "      <td>7</td>\n",
       "      <td>12</td>\n",
       "      <td>14</td>\n",
       "      <td>9</td>\n",
       "      <td>6</td>\n",
       "      <td>1682</td>\n",
       "      <td>357</td>\n",
       "      <td>4 ★</td>\n",
       "      <td>2★</td>\n",
       "      <td>High</td>\n",
       "      <td>Medium</td>\n",
       "      <td>1 ★</td>\n",
       "      <td>69</td>\n",
       "      <td>51</td>\n",
       "      <td>63</td>\n",
       "      <td>63</td>\n",
       "      <td>51</td>\n",
       "      <td>60</td>\n",
       "      <td>3</td>\n",
       "      <td>58+1</td>\n",
       "      <td>58+1</td>\n",
       "      <td>58+1</td>\n",
       "      <td>61+0</td>\n",
       "      <td>62+0</td>\n",
       "      <td>62+0</td>\n",
       "      <td>62+0</td>\n",
       "      <td>61+0</td>\n",
       "      <td>63+1</td>\n",
       "      <td>63+1</td>\n",
       "      <td>63+1</td>\n",
       "      <td>63+1</td>\n",
       "      <td>63+1</td>\n",
       "      <td>63+1</td>\n",
       "      <td>63+1</td>\n",
       "      <td>63+1</td>\n",
       "      <td>59+1</td>\n",
       "      <td>59+1</td>\n",
       "      <td>59+1</td>\n",
       "      <td>59+1</td>\n",
       "      <td>59+1</td>\n",
       "      <td>58+1</td>\n",
       "      <td>54+1</td>\n",
       "      <td>54+1</td>\n",
       "      <td>54+1</td>\n",
       "      <td>58+1</td>\n",
       "      <td>15+1</td>\n",
       "      <td>64</td>\n",
       "    </tr>\n",
       "    <tr>\n",
       "      <th>1</th>\n",
       "      <td>2225</td>\n",
       "      <td>188044</td>\n",
       "      <td>Alan Carvalho</td>\n",
       "      <td>30</td>\n",
       "      <td>China PR</td>\n",
       "      <td>Beijing Sinobo Guoan FC</td>\n",
       "      <td>ST</td>\n",
       "      <td>ST LW LM</td>\n",
       "      <td>Beijing Sinobo Guoan FC Dec 31, 2020 On Loan</td>\n",
       "      <td>6'0\"</td>\n",
       "      <td>159lbs</td>\n",
       "      <td>Right</td>\n",
       "      <td>0</td>\n",
       "      <td>Jan 16, 2015</td>\n",
       "      <td>Dec 31, 2020</td>\n",
       "      <td>€8.5M</td>\n",
       "      <td>€23K</td>\n",
       "      <td>€0</td>\n",
       "      <td>Dec 31, 2020 On Loan</td>\n",
       "      <td>365</td>\n",
       "      <td>66</td>\n",
       "      <td>79</td>\n",
       "      <td>76</td>\n",
       "      <td>68</td>\n",
       "      <td>76.0</td>\n",
       "      <td>375</td>\n",
       "      <td>83</td>\n",
       "      <td>78.0</td>\n",
       "      <td>72</td>\n",
       "      <td>63</td>\n",
       "      <td>79</td>\n",
       "      <td>404</td>\n",
       "      <td>83</td>\n",
       "      <td>83</td>\n",
       "      <td>88.0</td>\n",
       "      <td>75</td>\n",
       "      <td>75.0</td>\n",
       "      <td>372</td>\n",
       "      <td>74</td>\n",
       "      <td>81.0</td>\n",
       "      <td>75</td>\n",
       "      <td>74</td>\n",
       "      <td>68</td>\n",
       "      <td>313</td>\n",
       "      <td>54</td>\n",
       "      <td>33.0</td>\n",
       "      <td>78.0</td>\n",
       "      <td>72.0</td>\n",
       "      <td>76</td>\n",
       "      <td>70.0</td>\n",
       "      <td>77</td>\n",
       "      <td>35</td>\n",
       "      <td>20</td>\n",
       "      <td>22.0</td>\n",
       "      <td>55</td>\n",
       "      <td>11</td>\n",
       "      <td>7</td>\n",
       "      <td>14</td>\n",
       "      <td>7</td>\n",
       "      <td>16</td>\n",
       "      <td>1961</td>\n",
       "      <td>412</td>\n",
       "      <td>3 ★</td>\n",
       "      <td>4★</td>\n",
       "      <td>High</td>\n",
       "      <td>Low</td>\n",
       "      <td>2 ★</td>\n",
       "      <td>83</td>\n",
       "      <td>75</td>\n",
       "      <td>68</td>\n",
       "      <td>82</td>\n",
       "      <td>33</td>\n",
       "      <td>71</td>\n",
       "      <td>44</td>\n",
       "      <td>77+0</td>\n",
       "      <td>77+0</td>\n",
       "      <td>77+0</td>\n",
       "      <td>77+0</td>\n",
       "      <td>77+0</td>\n",
       "      <td>77+0</td>\n",
       "      <td>77+0</td>\n",
       "      <td>77+0</td>\n",
       "      <td>76+1</td>\n",
       "      <td>76+1</td>\n",
       "      <td>76+1</td>\n",
       "      <td>76+1</td>\n",
       "      <td>68+2</td>\n",
       "      <td>68+2</td>\n",
       "      <td>68+2</td>\n",
       "      <td>76+1</td>\n",
       "      <td>57+2</td>\n",
       "      <td>53+2</td>\n",
       "      <td>53+2</td>\n",
       "      <td>53+2</td>\n",
       "      <td>57+2</td>\n",
       "      <td>53+2</td>\n",
       "      <td>48+2</td>\n",
       "      <td>48+2</td>\n",
       "      <td>48+2</td>\n",
       "      <td>53+2</td>\n",
       "      <td>18+2</td>\n",
       "      <td>77</td>\n",
       "    </tr>\n",
       "    <tr>\n",
       "      <th>2</th>\n",
       "      <td>1959</td>\n",
       "      <td>184431</td>\n",
       "      <td>S. Giovinco</td>\n",
       "      <td>33</td>\n",
       "      <td>Italy</td>\n",
       "      <td>Al Hilal</td>\n",
       "      <td>CAM</td>\n",
       "      <td>CAM CF</td>\n",
       "      <td>Al Hilal 2019 ~ 2022</td>\n",
       "      <td>5'4\"</td>\n",
       "      <td>134lbs</td>\n",
       "      <td>Right</td>\n",
       "      <td>0</td>\n",
       "      <td>Jan 31, 2019</td>\n",
       "      <td>NaN</td>\n",
       "      <td>€9M</td>\n",
       "      <td>€49K</td>\n",
       "      <td>€15.3M</td>\n",
       "      <td>2019 ~ 2022</td>\n",
       "      <td>336</td>\n",
       "      <td>73</td>\n",
       "      <td>76</td>\n",
       "      <td>34</td>\n",
       "      <td>78</td>\n",
       "      <td>75.0</td>\n",
       "      <td>424</td>\n",
       "      <td>85</td>\n",
       "      <td>89.0</td>\n",
       "      <td>91</td>\n",
       "      <td>74</td>\n",
       "      <td>85</td>\n",
       "      <td>424</td>\n",
       "      <td>84</td>\n",
       "      <td>76</td>\n",
       "      <td>93.0</td>\n",
       "      <td>78</td>\n",
       "      <td>93.0</td>\n",
       "      <td>308</td>\n",
       "      <td>79</td>\n",
       "      <td>34.0</td>\n",
       "      <td>75</td>\n",
       "      <td>42</td>\n",
       "      <td>78</td>\n",
       "      <td>332</td>\n",
       "      <td>75</td>\n",
       "      <td>26.0</td>\n",
       "      <td>80.0</td>\n",
       "      <td>78.0</td>\n",
       "      <td>73</td>\n",
       "      <td>82.0</td>\n",
       "      <td>80</td>\n",
       "      <td>23</td>\n",
       "      <td>29</td>\n",
       "      <td>28.0</td>\n",
       "      <td>21</td>\n",
       "      <td>6</td>\n",
       "      <td>3</td>\n",
       "      <td>6</td>\n",
       "      <td>3</td>\n",
       "      <td>3</td>\n",
       "      <td>1925</td>\n",
       "      <td>404</td>\n",
       "      <td>4 ★</td>\n",
       "      <td>4★</td>\n",
       "      <td>High</td>\n",
       "      <td>Medium</td>\n",
       "      <td>2 ★</td>\n",
       "      <td>80</td>\n",
       "      <td>77</td>\n",
       "      <td>78</td>\n",
       "      <td>86</td>\n",
       "      <td>27</td>\n",
       "      <td>56</td>\n",
       "      <td>73</td>\n",
       "      <td>73+2</td>\n",
       "      <td>73+2</td>\n",
       "      <td>73+2</td>\n",
       "      <td>80+0</td>\n",
       "      <td>79+0</td>\n",
       "      <td>79+0</td>\n",
       "      <td>79+0</td>\n",
       "      <td>80+0</td>\n",
       "      <td>80+0</td>\n",
       "      <td>80+0</td>\n",
       "      <td>80+0</td>\n",
       "      <td>79+1</td>\n",
       "      <td>74+2</td>\n",
       "      <td>74+2</td>\n",
       "      <td>74+2</td>\n",
       "      <td>79+1</td>\n",
       "      <td>59+2</td>\n",
       "      <td>56+2</td>\n",
       "      <td>56+2</td>\n",
       "      <td>56+2</td>\n",
       "      <td>59+2</td>\n",
       "      <td>53+2</td>\n",
       "      <td>41+2</td>\n",
       "      <td>41+2</td>\n",
       "      <td>41+2</td>\n",
       "      <td>53+2</td>\n",
       "      <td>12+2</td>\n",
       "      <td>80</td>\n",
       "    </tr>\n",
       "    <tr>\n",
       "      <th>3</th>\n",
       "      <td>9815</td>\n",
       "      <td>233796</td>\n",
       "      <td>J. Evans</td>\n",
       "      <td>22</td>\n",
       "      <td>Wales</td>\n",
       "      <td>Swansea City</td>\n",
       "      <td>CDM</td>\n",
       "      <td>CDM CM</td>\n",
       "      <td>Swansea City 2016 ~ 2021</td>\n",
       "      <td>5'10\"</td>\n",
       "      <td>152lbs</td>\n",
       "      <td>Right</td>\n",
       "      <td>13</td>\n",
       "      <td>Jul 1, 2016</td>\n",
       "      <td>NaN</td>\n",
       "      <td>€275K</td>\n",
       "      <td>€4K</td>\n",
       "      <td>€694K</td>\n",
       "      <td>2016 ~ 2021</td>\n",
       "      <td>242</td>\n",
       "      <td>44</td>\n",
       "      <td>42</td>\n",
       "      <td>58</td>\n",
       "      <td>62</td>\n",
       "      <td>36.0</td>\n",
       "      <td>259</td>\n",
       "      <td>54</td>\n",
       "      <td>41.0</td>\n",
       "      <td>46</td>\n",
       "      <td>57</td>\n",
       "      <td>61</td>\n",
       "      <td>282</td>\n",
       "      <td>54</td>\n",
       "      <td>59</td>\n",
       "      <td>59.0</td>\n",
       "      <td>55</td>\n",
       "      <td>55.0</td>\n",
       "      <td>277</td>\n",
       "      <td>57</td>\n",
       "      <td>60.0</td>\n",
       "      <td>64</td>\n",
       "      <td>58</td>\n",
       "      <td>38</td>\n",
       "      <td>257</td>\n",
       "      <td>61</td>\n",
       "      <td>57.0</td>\n",
       "      <td>31.0</td>\n",
       "      <td>54.0</td>\n",
       "      <td>54</td>\n",
       "      <td>48.0</td>\n",
       "      <td>168</td>\n",
       "      <td>55</td>\n",
       "      <td>58</td>\n",
       "      <td>55.0</td>\n",
       "      <td>42</td>\n",
       "      <td>8</td>\n",
       "      <td>9</td>\n",
       "      <td>6</td>\n",
       "      <td>7</td>\n",
       "      <td>12</td>\n",
       "      <td>1527</td>\n",
       "      <td>329</td>\n",
       "      <td>2 ★</td>\n",
       "      <td>2★</td>\n",
       "      <td>Medium</td>\n",
       "      <td>Medium</td>\n",
       "      <td>1 ★</td>\n",
       "      <td>57</td>\n",
       "      <td>44</td>\n",
       "      <td>54</td>\n",
       "      <td>57</td>\n",
       "      <td>57</td>\n",
       "      <td>60</td>\n",
       "      <td>7</td>\n",
       "      <td>50+2</td>\n",
       "      <td>50+2</td>\n",
       "      <td>50+2</td>\n",
       "      <td>51+0</td>\n",
       "      <td>51+0</td>\n",
       "      <td>51+0</td>\n",
       "      <td>51+0</td>\n",
       "      <td>51+0</td>\n",
       "      <td>53+2</td>\n",
       "      <td>53+2</td>\n",
       "      <td>53+2</td>\n",
       "      <td>53+2</td>\n",
       "      <td>56+2</td>\n",
       "      <td>56+2</td>\n",
       "      <td>56+2</td>\n",
       "      <td>53+2</td>\n",
       "      <td>56+2</td>\n",
       "      <td>58+2</td>\n",
       "      <td>58+2</td>\n",
       "      <td>58+2</td>\n",
       "      <td>56+2</td>\n",
       "      <td>57+2</td>\n",
       "      <td>58+2</td>\n",
       "      <td>58+2</td>\n",
       "      <td>58+2</td>\n",
       "      <td>57+2</td>\n",
       "      <td>14+2</td>\n",
       "      <td>59</td>\n",
       "    </tr>\n",
       "    <tr>\n",
       "      <th>4</th>\n",
       "      <td>10074</td>\n",
       "      <td>234799</td>\n",
       "      <td>Y. Demoncy</td>\n",
       "      <td>23</td>\n",
       "      <td>France</td>\n",
       "      <td>US Orléans Loiret Football</td>\n",
       "      <td>CDM</td>\n",
       "      <td>CDM CM</td>\n",
       "      <td>US Orléans Loiret Football 2018 ~ 2021</td>\n",
       "      <td>5'11\"</td>\n",
       "      <td>150lbs</td>\n",
       "      <td>Right</td>\n",
       "      <td>8</td>\n",
       "      <td>Jul 1, 2018</td>\n",
       "      <td>NaN</td>\n",
       "      <td>€725K</td>\n",
       "      <td>€2K</td>\n",
       "      <td>€1.4M</td>\n",
       "      <td>2018 ~ 2021</td>\n",
       "      <td>249</td>\n",
       "      <td>49</td>\n",
       "      <td>37</td>\n",
       "      <td>61</td>\n",
       "      <td>68</td>\n",
       "      <td>34.0</td>\n",
       "      <td>280</td>\n",
       "      <td>64</td>\n",
       "      <td>44.0</td>\n",
       "      <td>45</td>\n",
       "      <td>61</td>\n",
       "      <td>66</td>\n",
       "      <td>324</td>\n",
       "      <td>66</td>\n",
       "      <td>66</td>\n",
       "      <td>61.0</td>\n",
       "      <td>62</td>\n",
       "      <td>69.0</td>\n",
       "      <td>280</td>\n",
       "      <td>61</td>\n",
       "      <td>34.0</td>\n",
       "      <td>81</td>\n",
       "      <td>61</td>\n",
       "      <td>43</td>\n",
       "      <td>294</td>\n",
       "      <td>66</td>\n",
       "      <td>60.0</td>\n",
       "      <td>55.0</td>\n",
       "      <td>64.0</td>\n",
       "      <td>49</td>\n",
       "      <td>58.0</td>\n",
       "      <td>185</td>\n",
       "      <td>58</td>\n",
       "      <td>61</td>\n",
       "      <td>66.0</td>\n",
       "      <td>52</td>\n",
       "      <td>8</td>\n",
       "      <td>9</td>\n",
       "      <td>15</td>\n",
       "      <td>5</td>\n",
       "      <td>15</td>\n",
       "      <td>1664</td>\n",
       "      <td>360</td>\n",
       "      <td>2 ★</td>\n",
       "      <td>3★</td>\n",
       "      <td>Low</td>\n",
       "      <td>Medium</td>\n",
       "      <td>1 ★</td>\n",
       "      <td>66</td>\n",
       "      <td>44</td>\n",
       "      <td>60</td>\n",
       "      <td>64</td>\n",
       "      <td>60</td>\n",
       "      <td>66</td>\n",
       "      <td>4</td>\n",
       "      <td>56+2</td>\n",
       "      <td>56+2</td>\n",
       "      <td>56+2</td>\n",
       "      <td>59+0</td>\n",
       "      <td>59+0</td>\n",
       "      <td>59+0</td>\n",
       "      <td>59+0</td>\n",
       "      <td>59+0</td>\n",
       "      <td>61+2</td>\n",
       "      <td>61+2</td>\n",
       "      <td>61+2</td>\n",
       "      <td>62+2</td>\n",
       "      <td>63+2</td>\n",
       "      <td>63+2</td>\n",
       "      <td>63+2</td>\n",
       "      <td>62+2</td>\n",
       "      <td>64+2</td>\n",
       "      <td>64+2</td>\n",
       "      <td>64+2</td>\n",
       "      <td>64+2</td>\n",
       "      <td>64+2</td>\n",
       "      <td>63+2</td>\n",
       "      <td>61+2</td>\n",
       "      <td>61+2</td>\n",
       "      <td>61+2</td>\n",
       "      <td>63+2</td>\n",
       "      <td>15+2</td>\n",
       "      <td>65</td>\n",
       "    </tr>\n",
       "  </tbody>\n",
       "</table>\n",
       "</div>"
      ],
      "text/plain": [
       "   Unnamed: 0      ID           Name  Age  Nationality  \\\n",
       "0        1954  184383      A. Pasche   26  Switzerland   \n",
       "1        2225  188044  Alan Carvalho   30     China PR   \n",
       "2        1959  184431    S. Giovinco   33        Italy   \n",
       "3        9815  233796       J. Evans   22        Wales   \n",
       "4       10074  234799     Y. Demoncy   23       France   \n",
       "\n",
       "                         Club   BP  Position  \\\n",
       "0           FC Lausanne-Sport   CM    CM CDM   \n",
       "1     Beijing Sinobo Guoan FC   ST  ST LW LM   \n",
       "2                    Al Hilal  CAM    CAM CF   \n",
       "3                Swansea City  CDM    CDM CM   \n",
       "4  US Orléans Loiret Football  CDM    CDM CM   \n",
       "\n",
       "                                Team & Contract Height  Weight   foot  Growth  \\\n",
       "0                 FC Lausanne-Sport 2015 ~ 2020   5'9\"  161lbs  Right       1   \n",
       "1  Beijing Sinobo Guoan FC Dec 31, 2020 On Loan   6'0\"  159lbs  Right       0   \n",
       "2                          Al Hilal 2019 ~ 2022   5'4\"  134lbs  Right       0   \n",
       "3                      Swansea City 2016 ~ 2021  5'10\"  152lbs  Right      13   \n",
       "4        US Orléans Loiret Football 2018 ~ 2021  5'11\"  150lbs  Right       8   \n",
       "\n",
       "         Joined Loan Date End  Value  Wage Release Clause  \\\n",
       "0   Jul 1, 2015           NaN  €525K   €4K          €801K   \n",
       "1  Jan 16, 2015  Dec 31, 2020  €8.5M  €23K             €0   \n",
       "2  Jan 31, 2019           NaN    €9M  €49K         €15.3M   \n",
       "3   Jul 1, 2016           NaN  €275K   €4K          €694K   \n",
       "4   Jul 1, 2018           NaN  €725K   €2K          €1.4M   \n",
       "\n",
       "               Contract  Attacking  Crossing  Finishing  Heading Accuracy  \\\n",
       "0           2015 ~ 2020        258        54         47                43   \n",
       "1  Dec 31, 2020 On Loan        365        66         79                76   \n",
       "2           2019 ~ 2022        336        73         76                34   \n",
       "3           2016 ~ 2021        242        44         42                58   \n",
       "4           2018 ~ 2021        249        49         37                61   \n",
       "\n",
       "   Short Passing  Volleys  Skill  Dribbling  Curve  FK Accuracy  Long Passing  \\\n",
       "0             70     44.0    286         61   44.0           55            63   \n",
       "1             68     76.0    375         83   78.0           72            63   \n",
       "2             78     75.0    424         85   89.0           91            74   \n",
       "3             62     36.0    259         54   41.0           46            57   \n",
       "4             68     34.0    280         64   44.0           45            61   \n",
       "\n",
       "   Ball Control  Movement  Acceleration  Sprint Speed  Agility  Reactions  \\\n",
       "0            63       346            64            73     61.0         66   \n",
       "1            79       404            83            83     88.0         75   \n",
       "2            85       424            84            76     93.0         78   \n",
       "3            61       282            54            59     59.0         55   \n",
       "4            66       324            66            66     61.0         62   \n",
       "\n",
       "   Balance  Power  Shot Power  Jumping  Stamina  Strength  Long Shots  \\\n",
       "0     82.0    306          62     73.0       71        55          45   \n",
       "1     75.0    372          74     81.0       75        74          68   \n",
       "2     93.0    308          79     34.0       75        42          78   \n",
       "3     55.0    277          57     60.0       64        58          38   \n",
       "4     69.0    280          61     34.0       81        61          43   \n",
       "\n",
       "   Mentality  Aggression  Interceptions  Positioning  Vision  Penalties  \\\n",
       "0        290          54           52.0         62.0    68.0         54   \n",
       "1        313          54           33.0         78.0    72.0         76   \n",
       "2        332          75           26.0         80.0    78.0         73   \n",
       "3        257          61           57.0         31.0    54.0         54   \n",
       "4        294          66           60.0         55.0    64.0         49   \n",
       "\n",
       "   Composure  Defending  Marking  Standing Tackle  Sliding Tackle  \\\n",
       "0       54.0        148       49               56            43.0   \n",
       "1       70.0         77       35               20            22.0   \n",
       "2       82.0         80       23               29            28.0   \n",
       "3       48.0        168       55               58            55.0   \n",
       "4       58.0        185       58               61            66.0   \n",
       "\n",
       "   Goalkeeping  GK Diving  GK Handling  GK Kicking  GK Positioning  \\\n",
       "0           48          7           12          14               9   \n",
       "1           55         11            7          14               7   \n",
       "2           21          6            3           6               3   \n",
       "3           42          8            9           6               7   \n",
       "4           52          8            9          15               5   \n",
       "\n",
       "   GK Reflexes  Total Stats  Base Stats  W/F  SM     A/W     D/W   IR  PAC  \\\n",
       "0            6         1682         357  4 ★  2★    High  Medium  1 ★   69   \n",
       "1           16         1961         412  3 ★  4★    High     Low  2 ★   83   \n",
       "2            3         1925         404  4 ★  4★    High  Medium  2 ★   80   \n",
       "3           12         1527         329  2 ★  2★  Medium  Medium  1 ★   57   \n",
       "4           15         1664         360  2 ★  3★     Low  Medium  1 ★   66   \n",
       "\n",
       "   SHO  PAS  DRI  DEF  PHY Hits    LS    ST    RS    LW    LF    CF    RF  \\\n",
       "0   51   63   63   51   60    3  58+1  58+1  58+1  61+0  62+0  62+0  62+0   \n",
       "1   75   68   82   33   71   44  77+0  77+0  77+0  77+0  77+0  77+0  77+0   \n",
       "2   77   78   86   27   56   73  73+2  73+2  73+2  80+0  79+0  79+0  79+0   \n",
       "3   44   54   57   57   60    7  50+2  50+2  50+2  51+0  51+0  51+0  51+0   \n",
       "4   44   60   64   60   66    4  56+2  56+2  56+2  59+0  59+0  59+0  59+0   \n",
       "\n",
       "     RW   LAM   CAM   RAM    LM   LCM    CM   RCM    RM   LWB   LDM   CDM  \\\n",
       "0  61+0  63+1  63+1  63+1  63+1  63+1  63+1  63+1  63+1  59+1  59+1  59+1   \n",
       "1  77+0  76+1  76+1  76+1  76+1  68+2  68+2  68+2  76+1  57+2  53+2  53+2   \n",
       "2  80+0  80+0  80+0  80+0  79+1  74+2  74+2  74+2  79+1  59+2  56+2  56+2   \n",
       "3  51+0  53+2  53+2  53+2  53+2  56+2  56+2  56+2  53+2  56+2  58+2  58+2   \n",
       "4  59+0  61+2  61+2  61+2  62+2  63+2  63+2  63+2  62+2  64+2  64+2  64+2   \n",
       "\n",
       "    RDM   RWB    LB   LCB    CB   RCB    RB    GK  OVA  \n",
       "0  59+1  59+1  58+1  54+1  54+1  54+1  58+1  15+1   64  \n",
       "1  53+2  57+2  53+2  48+2  48+2  48+2  53+2  18+2   77  \n",
       "2  56+2  59+2  53+2  41+2  41+2  41+2  53+2  12+2   80  \n",
       "3  58+2  56+2  57+2  58+2  58+2  58+2  57+2  14+2   59  \n",
       "4  64+2  64+2  63+2  61+2  61+2  61+2  63+2  15+2   65  "
      ]
     },
     "execution_count": 1510,
     "metadata": {},
     "output_type": "execute_result"
    }
   ],
   "source": [
    "data = pd.read_csv('fifa21_trainning.csv')\n",
    "data.head()"
   ]
  },
  {
   "cell_type": "code",
   "execution_count": 1511,
   "metadata": {},
   "outputs": [
    {
     "data": {
      "text/plain": [
       "(13700, 102)"
      ]
     },
     "execution_count": 1511,
     "metadata": {},
     "output_type": "execute_result"
    }
   ],
   "source": [
    "data.shape"
   ]
  },
  {
   "cell_type": "markdown",
   "metadata": {},
   "source": [
    "**Dropping duplicated columns**"
   ]
  },
  {
   "cell_type": "code",
   "execution_count": 1513,
   "metadata": {
    "scrolled": true
   },
   "outputs": [
    {
     "data": {
      "text/html": [
       "<div>\n",
       "<style scoped>\n",
       "    .dataframe tbody tr th:only-of-type {\n",
       "        vertical-align: middle;\n",
       "    }\n",
       "\n",
       "    .dataframe tbody tr th {\n",
       "        vertical-align: top;\n",
       "    }\n",
       "\n",
       "    .dataframe thead th {\n",
       "        text-align: right;\n",
       "    }\n",
       "</style>\n",
       "<table border=\"1\" class=\"dataframe\">\n",
       "  <thead>\n",
       "    <tr style=\"text-align: right;\">\n",
       "      <th></th>\n",
       "      <th>LS</th>\n",
       "      <th>ST</th>\n",
       "      <th>RS</th>\n",
       "      <th>LW</th>\n",
       "      <th>LF</th>\n",
       "      <th>CF</th>\n",
       "      <th>RF</th>\n",
       "      <th>RW</th>\n",
       "      <th>LAM</th>\n",
       "      <th>CAM</th>\n",
       "      <th>RAM</th>\n",
       "      <th>LM</th>\n",
       "      <th>LCM</th>\n",
       "      <th>CM</th>\n",
       "      <th>RCM</th>\n",
       "      <th>RM</th>\n",
       "      <th>LWB</th>\n",
       "      <th>LDM</th>\n",
       "      <th>CDM</th>\n",
       "      <th>RDM</th>\n",
       "      <th>RWB</th>\n",
       "      <th>LB</th>\n",
       "      <th>LCB</th>\n",
       "      <th>CB</th>\n",
       "      <th>RCB</th>\n",
       "      <th>RB</th>\n",
       "      <th>GK</th>\n",
       "      <th>OVA</th>\n",
       "    </tr>\n",
       "  </thead>\n",
       "  <tbody>\n",
       "    <tr>\n",
       "      <th>0</th>\n",
       "      <td>58+1</td>\n",
       "      <td>58+1</td>\n",
       "      <td>58+1</td>\n",
       "      <td>61+0</td>\n",
       "      <td>62+0</td>\n",
       "      <td>62+0</td>\n",
       "      <td>62+0</td>\n",
       "      <td>61+0</td>\n",
       "      <td>63+1</td>\n",
       "      <td>63+1</td>\n",
       "      <td>63+1</td>\n",
       "      <td>63+1</td>\n",
       "      <td>63+1</td>\n",
       "      <td>63+1</td>\n",
       "      <td>63+1</td>\n",
       "      <td>63+1</td>\n",
       "      <td>59+1</td>\n",
       "      <td>59+1</td>\n",
       "      <td>59+1</td>\n",
       "      <td>59+1</td>\n",
       "      <td>59+1</td>\n",
       "      <td>58+1</td>\n",
       "      <td>54+1</td>\n",
       "      <td>54+1</td>\n",
       "      <td>54+1</td>\n",
       "      <td>58+1</td>\n",
       "      <td>15+1</td>\n",
       "      <td>64</td>\n",
       "    </tr>\n",
       "    <tr>\n",
       "      <th>1</th>\n",
       "      <td>77+0</td>\n",
       "      <td>77+0</td>\n",
       "      <td>77+0</td>\n",
       "      <td>77+0</td>\n",
       "      <td>77+0</td>\n",
       "      <td>77+0</td>\n",
       "      <td>77+0</td>\n",
       "      <td>77+0</td>\n",
       "      <td>76+1</td>\n",
       "      <td>76+1</td>\n",
       "      <td>76+1</td>\n",
       "      <td>76+1</td>\n",
       "      <td>68+2</td>\n",
       "      <td>68+2</td>\n",
       "      <td>68+2</td>\n",
       "      <td>76+1</td>\n",
       "      <td>57+2</td>\n",
       "      <td>53+2</td>\n",
       "      <td>53+2</td>\n",
       "      <td>53+2</td>\n",
       "      <td>57+2</td>\n",
       "      <td>53+2</td>\n",
       "      <td>48+2</td>\n",
       "      <td>48+2</td>\n",
       "      <td>48+2</td>\n",
       "      <td>53+2</td>\n",
       "      <td>18+2</td>\n",
       "      <td>77</td>\n",
       "    </tr>\n",
       "    <tr>\n",
       "      <th>2</th>\n",
       "      <td>73+2</td>\n",
       "      <td>73+2</td>\n",
       "      <td>73+2</td>\n",
       "      <td>80+0</td>\n",
       "      <td>79+0</td>\n",
       "      <td>79+0</td>\n",
       "      <td>79+0</td>\n",
       "      <td>80+0</td>\n",
       "      <td>80+0</td>\n",
       "      <td>80+0</td>\n",
       "      <td>80+0</td>\n",
       "      <td>79+1</td>\n",
       "      <td>74+2</td>\n",
       "      <td>74+2</td>\n",
       "      <td>74+2</td>\n",
       "      <td>79+1</td>\n",
       "      <td>59+2</td>\n",
       "      <td>56+2</td>\n",
       "      <td>56+2</td>\n",
       "      <td>56+2</td>\n",
       "      <td>59+2</td>\n",
       "      <td>53+2</td>\n",
       "      <td>41+2</td>\n",
       "      <td>41+2</td>\n",
       "      <td>41+2</td>\n",
       "      <td>53+2</td>\n",
       "      <td>12+2</td>\n",
       "      <td>80</td>\n",
       "    </tr>\n",
       "    <tr>\n",
       "      <th>3</th>\n",
       "      <td>50+2</td>\n",
       "      <td>50+2</td>\n",
       "      <td>50+2</td>\n",
       "      <td>51+0</td>\n",
       "      <td>51+0</td>\n",
       "      <td>51+0</td>\n",
       "      <td>51+0</td>\n",
       "      <td>51+0</td>\n",
       "      <td>53+2</td>\n",
       "      <td>53+2</td>\n",
       "      <td>53+2</td>\n",
       "      <td>53+2</td>\n",
       "      <td>56+2</td>\n",
       "      <td>56+2</td>\n",
       "      <td>56+2</td>\n",
       "      <td>53+2</td>\n",
       "      <td>56+2</td>\n",
       "      <td>58+2</td>\n",
       "      <td>58+2</td>\n",
       "      <td>58+2</td>\n",
       "      <td>56+2</td>\n",
       "      <td>57+2</td>\n",
       "      <td>58+2</td>\n",
       "      <td>58+2</td>\n",
       "      <td>58+2</td>\n",
       "      <td>57+2</td>\n",
       "      <td>14+2</td>\n",
       "      <td>59</td>\n",
       "    </tr>\n",
       "    <tr>\n",
       "      <th>4</th>\n",
       "      <td>56+2</td>\n",
       "      <td>56+2</td>\n",
       "      <td>56+2</td>\n",
       "      <td>59+0</td>\n",
       "      <td>59+0</td>\n",
       "      <td>59+0</td>\n",
       "      <td>59+0</td>\n",
       "      <td>59+0</td>\n",
       "      <td>61+2</td>\n",
       "      <td>61+2</td>\n",
       "      <td>61+2</td>\n",
       "      <td>62+2</td>\n",
       "      <td>63+2</td>\n",
       "      <td>63+2</td>\n",
       "      <td>63+2</td>\n",
       "      <td>62+2</td>\n",
       "      <td>64+2</td>\n",
       "      <td>64+2</td>\n",
       "      <td>64+2</td>\n",
       "      <td>64+2</td>\n",
       "      <td>64+2</td>\n",
       "      <td>63+2</td>\n",
       "      <td>61+2</td>\n",
       "      <td>61+2</td>\n",
       "      <td>61+2</td>\n",
       "      <td>63+2</td>\n",
       "      <td>15+2</td>\n",
       "      <td>65</td>\n",
       "    </tr>\n",
       "  </tbody>\n",
       "</table>\n",
       "</div>"
      ],
      "text/plain": [
       "     LS    ST    RS    LW    LF    CF    RF    RW   LAM   CAM   RAM    LM  \\\n",
       "0  58+1  58+1  58+1  61+0  62+0  62+0  62+0  61+0  63+1  63+1  63+1  63+1   \n",
       "1  77+0  77+0  77+0  77+0  77+0  77+0  77+0  77+0  76+1  76+1  76+1  76+1   \n",
       "2  73+2  73+2  73+2  80+0  79+0  79+0  79+0  80+0  80+0  80+0  80+0  79+1   \n",
       "3  50+2  50+2  50+2  51+0  51+0  51+0  51+0  51+0  53+2  53+2  53+2  53+2   \n",
       "4  56+2  56+2  56+2  59+0  59+0  59+0  59+0  59+0  61+2  61+2  61+2  62+2   \n",
       "\n",
       "    LCM    CM   RCM    RM   LWB   LDM   CDM   RDM   RWB    LB   LCB    CB  \\\n",
       "0  63+1  63+1  63+1  63+1  59+1  59+1  59+1  59+1  59+1  58+1  54+1  54+1   \n",
       "1  68+2  68+2  68+2  76+1  57+2  53+2  53+2  53+2  57+2  53+2  48+2  48+2   \n",
       "2  74+2  74+2  74+2  79+1  59+2  56+2  56+2  56+2  59+2  53+2  41+2  41+2   \n",
       "3  56+2  56+2  56+2  53+2  56+2  58+2  58+2  58+2  56+2  57+2  58+2  58+2   \n",
       "4  63+2  63+2  63+2  62+2  64+2  64+2  64+2  64+2  64+2  63+2  61+2  61+2   \n",
       "\n",
       "    RCB    RB    GK  OVA  \n",
       "0  54+1  58+1  15+1   64  \n",
       "1  48+2  53+2  18+2   77  \n",
       "2  41+2  53+2  12+2   80  \n",
       "3  58+2  57+2  14+2   59  \n",
       "4  61+2  63+2  15+2   65  "
      ]
     },
     "execution_count": 1513,
     "metadata": {},
     "output_type": "execute_result"
    }
   ],
   "source": [
    "data_subset = data.iloc[:,74:102]\n",
    "data_subset.head()"
   ]
  },
  {
   "cell_type": "code",
   "execution_count": 1514,
   "metadata": {},
   "outputs": [
    {
     "data": {
      "text/plain": [
       "(13700, 28)"
      ]
     },
     "execution_count": 1514,
     "metadata": {},
     "output_type": "execute_result"
    }
   ],
   "source": [
    "data_subset.shape"
   ]
  },
  {
   "cell_type": "code",
   "execution_count": 1515,
   "metadata": {},
   "outputs": [],
   "source": [
    "data_subset_tr = data_subset.T"
   ]
  },
  {
   "cell_type": "code",
   "execution_count": 1516,
   "metadata": {},
   "outputs": [],
   "source": [
    "data_subset_drop = data_subset_tr.drop_duplicates()"
   ]
  },
  {
   "cell_type": "code",
   "execution_count": 1517,
   "metadata": {},
   "outputs": [
    {
     "data": {
      "text/plain": [
       "(12, 13700)"
      ]
     },
     "execution_count": 1517,
     "metadata": {},
     "output_type": "execute_result"
    }
   ],
   "source": [
    "data_subset_drop.shape"
   ]
  },
  {
   "cell_type": "code",
   "execution_count": 1518,
   "metadata": {},
   "outputs": [],
   "source": [
    "data_subset2 = data_subset_drop.T"
   ]
  },
  {
   "cell_type": "code",
   "execution_count": 1519,
   "metadata": {},
   "outputs": [
    {
     "data": {
      "text/html": [
       "<div>\n",
       "<style scoped>\n",
       "    .dataframe tbody tr th:only-of-type {\n",
       "        vertical-align: middle;\n",
       "    }\n",
       "\n",
       "    .dataframe tbody tr th {\n",
       "        vertical-align: top;\n",
       "    }\n",
       "\n",
       "    .dataframe thead th {\n",
       "        text-align: right;\n",
       "    }\n",
       "</style>\n",
       "<table border=\"1\" class=\"dataframe\">\n",
       "  <thead>\n",
       "    <tr style=\"text-align: right;\">\n",
       "      <th></th>\n",
       "      <th>LS</th>\n",
       "      <th>LW</th>\n",
       "      <th>LF</th>\n",
       "      <th>LAM</th>\n",
       "      <th>LM</th>\n",
       "      <th>LCM</th>\n",
       "      <th>LWB</th>\n",
       "      <th>LDM</th>\n",
       "      <th>LB</th>\n",
       "      <th>LCB</th>\n",
       "      <th>GK</th>\n",
       "      <th>OVA</th>\n",
       "    </tr>\n",
       "  </thead>\n",
       "  <tbody>\n",
       "    <tr>\n",
       "      <th>0</th>\n",
       "      <td>58+1</td>\n",
       "      <td>61+0</td>\n",
       "      <td>62+0</td>\n",
       "      <td>63+1</td>\n",
       "      <td>63+1</td>\n",
       "      <td>63+1</td>\n",
       "      <td>59+1</td>\n",
       "      <td>59+1</td>\n",
       "      <td>58+1</td>\n",
       "      <td>54+1</td>\n",
       "      <td>15+1</td>\n",
       "      <td>64</td>\n",
       "    </tr>\n",
       "    <tr>\n",
       "      <th>1</th>\n",
       "      <td>77+0</td>\n",
       "      <td>77+0</td>\n",
       "      <td>77+0</td>\n",
       "      <td>76+1</td>\n",
       "      <td>76+1</td>\n",
       "      <td>68+2</td>\n",
       "      <td>57+2</td>\n",
       "      <td>53+2</td>\n",
       "      <td>53+2</td>\n",
       "      <td>48+2</td>\n",
       "      <td>18+2</td>\n",
       "      <td>77</td>\n",
       "    </tr>\n",
       "    <tr>\n",
       "      <th>2</th>\n",
       "      <td>73+2</td>\n",
       "      <td>80+0</td>\n",
       "      <td>79+0</td>\n",
       "      <td>80+0</td>\n",
       "      <td>79+1</td>\n",
       "      <td>74+2</td>\n",
       "      <td>59+2</td>\n",
       "      <td>56+2</td>\n",
       "      <td>53+2</td>\n",
       "      <td>41+2</td>\n",
       "      <td>12+2</td>\n",
       "      <td>80</td>\n",
       "    </tr>\n",
       "    <tr>\n",
       "      <th>3</th>\n",
       "      <td>50+2</td>\n",
       "      <td>51+0</td>\n",
       "      <td>51+0</td>\n",
       "      <td>53+2</td>\n",
       "      <td>53+2</td>\n",
       "      <td>56+2</td>\n",
       "      <td>56+2</td>\n",
       "      <td>58+2</td>\n",
       "      <td>57+2</td>\n",
       "      <td>58+2</td>\n",
       "      <td>14+2</td>\n",
       "      <td>59</td>\n",
       "    </tr>\n",
       "    <tr>\n",
       "      <th>4</th>\n",
       "      <td>56+2</td>\n",
       "      <td>59+0</td>\n",
       "      <td>59+0</td>\n",
       "      <td>61+2</td>\n",
       "      <td>62+2</td>\n",
       "      <td>63+2</td>\n",
       "      <td>64+2</td>\n",
       "      <td>64+2</td>\n",
       "      <td>63+2</td>\n",
       "      <td>61+2</td>\n",
       "      <td>15+2</td>\n",
       "      <td>65</td>\n",
       "    </tr>\n",
       "  </tbody>\n",
       "</table>\n",
       "</div>"
      ],
      "text/plain": [
       "     LS    LW    LF   LAM    LM   LCM   LWB   LDM    LB   LCB    GK OVA\n",
       "0  58+1  61+0  62+0  63+1  63+1  63+1  59+1  59+1  58+1  54+1  15+1  64\n",
       "1  77+0  77+0  77+0  76+1  76+1  68+2  57+2  53+2  53+2  48+2  18+2  77\n",
       "2  73+2  80+0  79+0  80+0  79+1  74+2  59+2  56+2  53+2  41+2  12+2  80\n",
       "3  50+2  51+0  51+0  53+2  53+2  56+2  56+2  58+2  57+2  58+2  14+2  59\n",
       "4  56+2  59+0  59+0  61+2  62+2  63+2  64+2  64+2  63+2  61+2  15+2  65"
      ]
     },
     "execution_count": 1519,
     "metadata": {},
     "output_type": "execute_result"
    }
   ],
   "source": [
    "data_subset2.head()"
   ]
  },
  {
   "cell_type": "code",
   "execution_count": 1520,
   "metadata": {},
   "outputs": [],
   "source": [
    "data2 = pd.concat([data.iloc[:,0:74], data_subset2], axis=1)"
   ]
  },
  {
   "cell_type": "code",
   "execution_count": 1521,
   "metadata": {},
   "outputs": [
    {
     "data": {
      "text/plain": [
       "(13700, 86)"
      ]
     },
     "execution_count": 1521,
     "metadata": {},
     "output_type": "execute_result"
    }
   ],
   "source": [
    "data2.shape"
   ]
  },
  {
   "cell_type": "markdown",
   "metadata": {},
   "source": [
    "**Dropping non-predictive columns**"
   ]
  },
  {
   "cell_type": "code",
   "execution_count": 1523,
   "metadata": {},
   "outputs": [],
   "source": [
    "data3 = data2.drop(['Unnamed: 0', 'ID',  'Nationality', 'Name', 'Position','Team & Contract', 'Loan Date End', 'Joined', 'Contract'], axis=1)"
   ]
  },
  {
   "cell_type": "code",
   "execution_count": 1524,
   "metadata": {},
   "outputs": [
    {
     "data": {
      "text/plain": [
       "(13700, 77)"
      ]
     },
     "execution_count": 1524,
     "metadata": {},
     "output_type": "execute_result"
    }
   ],
   "source": [
    "data3.shape"
   ]
  },
  {
   "cell_type": "code",
   "execution_count": 1525,
   "metadata": {},
   "outputs": [
    {
     "data": {
      "text/html": [
       "<div>\n",
       "<style scoped>\n",
       "    .dataframe tbody tr th:only-of-type {\n",
       "        vertical-align: middle;\n",
       "    }\n",
       "\n",
       "    .dataframe tbody tr th {\n",
       "        vertical-align: top;\n",
       "    }\n",
       "\n",
       "    .dataframe thead th {\n",
       "        text-align: right;\n",
       "    }\n",
       "</style>\n",
       "<table border=\"1\" class=\"dataframe\">\n",
       "  <thead>\n",
       "    <tr style=\"text-align: right;\">\n",
       "      <th></th>\n",
       "      <th>Attacking</th>\n",
       "      <th>Crossing</th>\n",
       "      <th>Finishing</th>\n",
       "      <th>Heading Accuracy</th>\n",
       "      <th>Short Passing</th>\n",
       "      <th>Volleys</th>\n",
       "      <th>Skill</th>\n",
       "      <th>Dribbling</th>\n",
       "      <th>Curve</th>\n",
       "      <th>FK Accuracy</th>\n",
       "      <th>Long Passing</th>\n",
       "      <th>Ball Control</th>\n",
       "      <th>Movement</th>\n",
       "      <th>Acceleration</th>\n",
       "      <th>Sprint Speed</th>\n",
       "      <th>Agility</th>\n",
       "      <th>Reactions</th>\n",
       "      <th>Balance</th>\n",
       "      <th>Power</th>\n",
       "      <th>Shot Power</th>\n",
       "      <th>Jumping</th>\n",
       "      <th>Stamina</th>\n",
       "      <th>Strength</th>\n",
       "      <th>Long Shots</th>\n",
       "      <th>Mentality</th>\n",
       "      <th>Aggression</th>\n",
       "      <th>Interceptions</th>\n",
       "      <th>Positioning</th>\n",
       "      <th>Vision</th>\n",
       "      <th>Penalties</th>\n",
       "      <th>Composure</th>\n",
       "      <th>Defending</th>\n",
       "      <th>Marking</th>\n",
       "      <th>Standing Tackle</th>\n",
       "      <th>Sliding Tackle</th>\n",
       "      <th>Goalkeeping</th>\n",
       "      <th>GK Diving</th>\n",
       "      <th>GK Handling</th>\n",
       "      <th>GK Kicking</th>\n",
       "      <th>GK Positioning</th>\n",
       "      <th>GK Reflexes</th>\n",
       "    </tr>\n",
       "  </thead>\n",
       "  <tbody>\n",
       "    <tr>\n",
       "      <th>0</th>\n",
       "      <td>258</td>\n",
       "      <td>54</td>\n",
       "      <td>47</td>\n",
       "      <td>43</td>\n",
       "      <td>70</td>\n",
       "      <td>44.0</td>\n",
       "      <td>286</td>\n",
       "      <td>61</td>\n",
       "      <td>44.0</td>\n",
       "      <td>55</td>\n",
       "      <td>63</td>\n",
       "      <td>63</td>\n",
       "      <td>346</td>\n",
       "      <td>64</td>\n",
       "      <td>73</td>\n",
       "      <td>61.0</td>\n",
       "      <td>66</td>\n",
       "      <td>82.0</td>\n",
       "      <td>306</td>\n",
       "      <td>62</td>\n",
       "      <td>73.0</td>\n",
       "      <td>71</td>\n",
       "      <td>55</td>\n",
       "      <td>45</td>\n",
       "      <td>290</td>\n",
       "      <td>54</td>\n",
       "      <td>52.0</td>\n",
       "      <td>62.0</td>\n",
       "      <td>68.0</td>\n",
       "      <td>54</td>\n",
       "      <td>54.0</td>\n",
       "      <td>148</td>\n",
       "      <td>49</td>\n",
       "      <td>56</td>\n",
       "      <td>43.0</td>\n",
       "      <td>48</td>\n",
       "      <td>7</td>\n",
       "      <td>12</td>\n",
       "      <td>14</td>\n",
       "      <td>9</td>\n",
       "      <td>6</td>\n",
       "    </tr>\n",
       "    <tr>\n",
       "      <th>1</th>\n",
       "      <td>365</td>\n",
       "      <td>66</td>\n",
       "      <td>79</td>\n",
       "      <td>76</td>\n",
       "      <td>68</td>\n",
       "      <td>76.0</td>\n",
       "      <td>375</td>\n",
       "      <td>83</td>\n",
       "      <td>78.0</td>\n",
       "      <td>72</td>\n",
       "      <td>63</td>\n",
       "      <td>79</td>\n",
       "      <td>404</td>\n",
       "      <td>83</td>\n",
       "      <td>83</td>\n",
       "      <td>88.0</td>\n",
       "      <td>75</td>\n",
       "      <td>75.0</td>\n",
       "      <td>372</td>\n",
       "      <td>74</td>\n",
       "      <td>81.0</td>\n",
       "      <td>75</td>\n",
       "      <td>74</td>\n",
       "      <td>68</td>\n",
       "      <td>313</td>\n",
       "      <td>54</td>\n",
       "      <td>33.0</td>\n",
       "      <td>78.0</td>\n",
       "      <td>72.0</td>\n",
       "      <td>76</td>\n",
       "      <td>70.0</td>\n",
       "      <td>77</td>\n",
       "      <td>35</td>\n",
       "      <td>20</td>\n",
       "      <td>22.0</td>\n",
       "      <td>55</td>\n",
       "      <td>11</td>\n",
       "      <td>7</td>\n",
       "      <td>14</td>\n",
       "      <td>7</td>\n",
       "      <td>16</td>\n",
       "    </tr>\n",
       "    <tr>\n",
       "      <th>2</th>\n",
       "      <td>336</td>\n",
       "      <td>73</td>\n",
       "      <td>76</td>\n",
       "      <td>34</td>\n",
       "      <td>78</td>\n",
       "      <td>75.0</td>\n",
       "      <td>424</td>\n",
       "      <td>85</td>\n",
       "      <td>89.0</td>\n",
       "      <td>91</td>\n",
       "      <td>74</td>\n",
       "      <td>85</td>\n",
       "      <td>424</td>\n",
       "      <td>84</td>\n",
       "      <td>76</td>\n",
       "      <td>93.0</td>\n",
       "      <td>78</td>\n",
       "      <td>93.0</td>\n",
       "      <td>308</td>\n",
       "      <td>79</td>\n",
       "      <td>34.0</td>\n",
       "      <td>75</td>\n",
       "      <td>42</td>\n",
       "      <td>78</td>\n",
       "      <td>332</td>\n",
       "      <td>75</td>\n",
       "      <td>26.0</td>\n",
       "      <td>80.0</td>\n",
       "      <td>78.0</td>\n",
       "      <td>73</td>\n",
       "      <td>82.0</td>\n",
       "      <td>80</td>\n",
       "      <td>23</td>\n",
       "      <td>29</td>\n",
       "      <td>28.0</td>\n",
       "      <td>21</td>\n",
       "      <td>6</td>\n",
       "      <td>3</td>\n",
       "      <td>6</td>\n",
       "      <td>3</td>\n",
       "      <td>3</td>\n",
       "    </tr>\n",
       "    <tr>\n",
       "      <th>3</th>\n",
       "      <td>242</td>\n",
       "      <td>44</td>\n",
       "      <td>42</td>\n",
       "      <td>58</td>\n",
       "      <td>62</td>\n",
       "      <td>36.0</td>\n",
       "      <td>259</td>\n",
       "      <td>54</td>\n",
       "      <td>41.0</td>\n",
       "      <td>46</td>\n",
       "      <td>57</td>\n",
       "      <td>61</td>\n",
       "      <td>282</td>\n",
       "      <td>54</td>\n",
       "      <td>59</td>\n",
       "      <td>59.0</td>\n",
       "      <td>55</td>\n",
       "      <td>55.0</td>\n",
       "      <td>277</td>\n",
       "      <td>57</td>\n",
       "      <td>60.0</td>\n",
       "      <td>64</td>\n",
       "      <td>58</td>\n",
       "      <td>38</td>\n",
       "      <td>257</td>\n",
       "      <td>61</td>\n",
       "      <td>57.0</td>\n",
       "      <td>31.0</td>\n",
       "      <td>54.0</td>\n",
       "      <td>54</td>\n",
       "      <td>48.0</td>\n",
       "      <td>168</td>\n",
       "      <td>55</td>\n",
       "      <td>58</td>\n",
       "      <td>55.0</td>\n",
       "      <td>42</td>\n",
       "      <td>8</td>\n",
       "      <td>9</td>\n",
       "      <td>6</td>\n",
       "      <td>7</td>\n",
       "      <td>12</td>\n",
       "    </tr>\n",
       "    <tr>\n",
       "      <th>4</th>\n",
       "      <td>249</td>\n",
       "      <td>49</td>\n",
       "      <td>37</td>\n",
       "      <td>61</td>\n",
       "      <td>68</td>\n",
       "      <td>34.0</td>\n",
       "      <td>280</td>\n",
       "      <td>64</td>\n",
       "      <td>44.0</td>\n",
       "      <td>45</td>\n",
       "      <td>61</td>\n",
       "      <td>66</td>\n",
       "      <td>324</td>\n",
       "      <td>66</td>\n",
       "      <td>66</td>\n",
       "      <td>61.0</td>\n",
       "      <td>62</td>\n",
       "      <td>69.0</td>\n",
       "      <td>280</td>\n",
       "      <td>61</td>\n",
       "      <td>34.0</td>\n",
       "      <td>81</td>\n",
       "      <td>61</td>\n",
       "      <td>43</td>\n",
       "      <td>294</td>\n",
       "      <td>66</td>\n",
       "      <td>60.0</td>\n",
       "      <td>55.0</td>\n",
       "      <td>64.0</td>\n",
       "      <td>49</td>\n",
       "      <td>58.0</td>\n",
       "      <td>185</td>\n",
       "      <td>58</td>\n",
       "      <td>61</td>\n",
       "      <td>66.0</td>\n",
       "      <td>52</td>\n",
       "      <td>8</td>\n",
       "      <td>9</td>\n",
       "      <td>15</td>\n",
       "      <td>5</td>\n",
       "      <td>15</td>\n",
       "    </tr>\n",
       "  </tbody>\n",
       "</table>\n",
       "</div>"
      ],
      "text/plain": [
       "   Attacking  Crossing  Finishing  Heading Accuracy  Short Passing  Volleys  \\\n",
       "0        258        54         47                43             70     44.0   \n",
       "1        365        66         79                76             68     76.0   \n",
       "2        336        73         76                34             78     75.0   \n",
       "3        242        44         42                58             62     36.0   \n",
       "4        249        49         37                61             68     34.0   \n",
       "\n",
       "   Skill  Dribbling  Curve  FK Accuracy  Long Passing  Ball Control  Movement  \\\n",
       "0    286         61   44.0           55            63            63       346   \n",
       "1    375         83   78.0           72            63            79       404   \n",
       "2    424         85   89.0           91            74            85       424   \n",
       "3    259         54   41.0           46            57            61       282   \n",
       "4    280         64   44.0           45            61            66       324   \n",
       "\n",
       "   Acceleration  Sprint Speed  Agility  Reactions  Balance  Power  Shot Power  \\\n",
       "0            64            73     61.0         66     82.0    306          62   \n",
       "1            83            83     88.0         75     75.0    372          74   \n",
       "2            84            76     93.0         78     93.0    308          79   \n",
       "3            54            59     59.0         55     55.0    277          57   \n",
       "4            66            66     61.0         62     69.0    280          61   \n",
       "\n",
       "   Jumping  Stamina  Strength  Long Shots  Mentality  Aggression  \\\n",
       "0     73.0       71        55          45        290          54   \n",
       "1     81.0       75        74          68        313          54   \n",
       "2     34.0       75        42          78        332          75   \n",
       "3     60.0       64        58          38        257          61   \n",
       "4     34.0       81        61          43        294          66   \n",
       "\n",
       "   Interceptions  Positioning  Vision  Penalties  Composure  Defending  \\\n",
       "0           52.0         62.0    68.0         54       54.0        148   \n",
       "1           33.0         78.0    72.0         76       70.0         77   \n",
       "2           26.0         80.0    78.0         73       82.0         80   \n",
       "3           57.0         31.0    54.0         54       48.0        168   \n",
       "4           60.0         55.0    64.0         49       58.0        185   \n",
       "\n",
       "   Marking  Standing Tackle  Sliding Tackle  Goalkeeping  GK Diving  \\\n",
       "0       49               56            43.0           48          7   \n",
       "1       35               20            22.0           55         11   \n",
       "2       23               29            28.0           21          6   \n",
       "3       55               58            55.0           42          8   \n",
       "4       58               61            66.0           52          8   \n",
       "\n",
       "   GK Handling  GK Kicking  GK Positioning  GK Reflexes  \n",
       "0           12          14               9            6  \n",
       "1            7          14               7           16  \n",
       "2            3           6               3            3  \n",
       "3            9           6               7           12  \n",
       "4            9          15               5           15  "
      ]
     },
     "execution_count": 1525,
     "metadata": {},
     "output_type": "execute_result"
    }
   ],
   "source": [
    "data3.iloc[:,10:51].head()"
   ]
  },
  {
   "cell_type": "code",
   "execution_count": 1526,
   "metadata": {},
   "outputs": [
    {
     "data": {
      "text/html": [
       "<div>\n",
       "<style scoped>\n",
       "    .dataframe tbody tr th:only-of-type {\n",
       "        vertical-align: middle;\n",
       "    }\n",
       "\n",
       "    .dataframe tbody tr th {\n",
       "        vertical-align: top;\n",
       "    }\n",
       "\n",
       "    .dataframe thead th {\n",
       "        text-align: right;\n",
       "    }\n",
       "</style>\n",
       "<table border=\"1\" class=\"dataframe\">\n",
       "  <thead>\n",
       "    <tr style=\"text-align: right;\">\n",
       "      <th></th>\n",
       "      <th>W/F</th>\n",
       "      <th>SM</th>\n",
       "      <th>IR</th>\n",
       "      <th>LS</th>\n",
       "      <th>LW</th>\n",
       "      <th>LF</th>\n",
       "      <th>LAM</th>\n",
       "      <th>LM</th>\n",
       "      <th>LCM</th>\n",
       "      <th>LWB</th>\n",
       "      <th>LDM</th>\n",
       "      <th>LB</th>\n",
       "      <th>LCB</th>\n",
       "      <th>GK</th>\n",
       "      <th>OVA</th>\n",
       "    </tr>\n",
       "  </thead>\n",
       "  <tbody>\n",
       "    <tr>\n",
       "      <th>0</th>\n",
       "      <td>4 ★</td>\n",
       "      <td>2★</td>\n",
       "      <td>1 ★</td>\n",
       "      <td>58+1</td>\n",
       "      <td>61+0</td>\n",
       "      <td>62+0</td>\n",
       "      <td>63+1</td>\n",
       "      <td>63+1</td>\n",
       "      <td>63+1</td>\n",
       "      <td>59+1</td>\n",
       "      <td>59+1</td>\n",
       "      <td>58+1</td>\n",
       "      <td>54+1</td>\n",
       "      <td>15+1</td>\n",
       "      <td>64</td>\n",
       "    </tr>\n",
       "    <tr>\n",
       "      <th>1</th>\n",
       "      <td>3 ★</td>\n",
       "      <td>4★</td>\n",
       "      <td>2 ★</td>\n",
       "      <td>77+0</td>\n",
       "      <td>77+0</td>\n",
       "      <td>77+0</td>\n",
       "      <td>76+1</td>\n",
       "      <td>76+1</td>\n",
       "      <td>68+2</td>\n",
       "      <td>57+2</td>\n",
       "      <td>53+2</td>\n",
       "      <td>53+2</td>\n",
       "      <td>48+2</td>\n",
       "      <td>18+2</td>\n",
       "      <td>77</td>\n",
       "    </tr>\n",
       "    <tr>\n",
       "      <th>2</th>\n",
       "      <td>4 ★</td>\n",
       "      <td>4★</td>\n",
       "      <td>2 ★</td>\n",
       "      <td>73+2</td>\n",
       "      <td>80+0</td>\n",
       "      <td>79+0</td>\n",
       "      <td>80+0</td>\n",
       "      <td>79+1</td>\n",
       "      <td>74+2</td>\n",
       "      <td>59+2</td>\n",
       "      <td>56+2</td>\n",
       "      <td>53+2</td>\n",
       "      <td>41+2</td>\n",
       "      <td>12+2</td>\n",
       "      <td>80</td>\n",
       "    </tr>\n",
       "    <tr>\n",
       "      <th>3</th>\n",
       "      <td>2 ★</td>\n",
       "      <td>2★</td>\n",
       "      <td>1 ★</td>\n",
       "      <td>50+2</td>\n",
       "      <td>51+0</td>\n",
       "      <td>51+0</td>\n",
       "      <td>53+2</td>\n",
       "      <td>53+2</td>\n",
       "      <td>56+2</td>\n",
       "      <td>56+2</td>\n",
       "      <td>58+2</td>\n",
       "      <td>57+2</td>\n",
       "      <td>58+2</td>\n",
       "      <td>14+2</td>\n",
       "      <td>59</td>\n",
       "    </tr>\n",
       "    <tr>\n",
       "      <th>4</th>\n",
       "      <td>2 ★</td>\n",
       "      <td>3★</td>\n",
       "      <td>1 ★</td>\n",
       "      <td>56+2</td>\n",
       "      <td>59+0</td>\n",
       "      <td>59+0</td>\n",
       "      <td>61+2</td>\n",
       "      <td>62+2</td>\n",
       "      <td>63+2</td>\n",
       "      <td>64+2</td>\n",
       "      <td>64+2</td>\n",
       "      <td>63+2</td>\n",
       "      <td>61+2</td>\n",
       "      <td>15+2</td>\n",
       "      <td>65</td>\n",
       "    </tr>\n",
       "    <tr>\n",
       "      <th>5</th>\n",
       "      <td>4 ★</td>\n",
       "      <td>3★</td>\n",
       "      <td>1 ★</td>\n",
       "      <td>67+2</td>\n",
       "      <td>70+0</td>\n",
       "      <td>69+0</td>\n",
       "      <td>70+1</td>\n",
       "      <td>70+1</td>\n",
       "      <td>66+2</td>\n",
       "      <td>58+2</td>\n",
       "      <td>55+2</td>\n",
       "      <td>55+2</td>\n",
       "      <td>49+2</td>\n",
       "      <td>19+2</td>\n",
       "      <td>71</td>\n",
       "    </tr>\n",
       "    <tr>\n",
       "      <th>6</th>\n",
       "      <td>5 ★</td>\n",
       "      <td>3★</td>\n",
       "      <td>2 ★</td>\n",
       "      <td>66+2</td>\n",
       "      <td>68+0</td>\n",
       "      <td>67+0</td>\n",
       "      <td>68+2</td>\n",
       "      <td>69+2</td>\n",
       "      <td>70+2</td>\n",
       "      <td>74+2</td>\n",
       "      <td>74+2</td>\n",
       "      <td>74+2</td>\n",
       "      <td>74+2</td>\n",
       "      <td>15+2</td>\n",
       "      <td>76</td>\n",
       "    </tr>\n",
       "    <tr>\n",
       "      <th>7</th>\n",
       "      <td>2 ★</td>\n",
       "      <td>2★</td>\n",
       "      <td>1 ★</td>\n",
       "      <td>55+2</td>\n",
       "      <td>59+0</td>\n",
       "      <td>58+0</td>\n",
       "      <td>60+2</td>\n",
       "      <td>61+2</td>\n",
       "      <td>59+2</td>\n",
       "      <td>52+2</td>\n",
       "      <td>52+2</td>\n",
       "      <td>50+2</td>\n",
       "      <td>46+2</td>\n",
       "      <td>15+2</td>\n",
       "      <td>60</td>\n",
       "    </tr>\n",
       "    <tr>\n",
       "      <th>8</th>\n",
       "      <td>2 ★</td>\n",
       "      <td>2★</td>\n",
       "      <td>1 ★</td>\n",
       "      <td>57+2</td>\n",
       "      <td>54+0</td>\n",
       "      <td>56+0</td>\n",
       "      <td>56+2</td>\n",
       "      <td>55+2</td>\n",
       "      <td>61+2</td>\n",
       "      <td>59+2</td>\n",
       "      <td>64+1</td>\n",
       "      <td>60+2</td>\n",
       "      <td>68+-3</td>\n",
       "      <td>16+2</td>\n",
       "      <td>65</td>\n",
       "    </tr>\n",
       "    <tr>\n",
       "      <th>9</th>\n",
       "      <td>3 ★</td>\n",
       "      <td>3★</td>\n",
       "      <td>1 ★</td>\n",
       "      <td>62+2</td>\n",
       "      <td>63+0</td>\n",
       "      <td>62+0</td>\n",
       "      <td>63+2</td>\n",
       "      <td>62+2</td>\n",
       "      <td>64+2</td>\n",
       "      <td>65+2</td>\n",
       "      <td>66+1</td>\n",
       "      <td>65+2</td>\n",
       "      <td>68+-1</td>\n",
       "      <td>16+2</td>\n",
       "      <td>67</td>\n",
       "    </tr>\n",
       "  </tbody>\n",
       "</table>\n",
       "</div>"
      ],
      "text/plain": [
       "   W/F  SM   IR    LS    LW    LF   LAM    LM   LCM   LWB   LDM    LB    LCB  \\\n",
       "0  4 ★  2★  1 ★  58+1  61+0  62+0  63+1  63+1  63+1  59+1  59+1  58+1   54+1   \n",
       "1  3 ★  4★  2 ★  77+0  77+0  77+0  76+1  76+1  68+2  57+2  53+2  53+2   48+2   \n",
       "2  4 ★  4★  2 ★  73+2  80+0  79+0  80+0  79+1  74+2  59+2  56+2  53+2   41+2   \n",
       "3  2 ★  2★  1 ★  50+2  51+0  51+0  53+2  53+2  56+2  56+2  58+2  57+2   58+2   \n",
       "4  2 ★  3★  1 ★  56+2  59+0  59+0  61+2  62+2  63+2  64+2  64+2  63+2   61+2   \n",
       "5  4 ★  3★  1 ★  67+2  70+0  69+0  70+1  70+1  66+2  58+2  55+2  55+2   49+2   \n",
       "6  5 ★  3★  2 ★  66+2  68+0  67+0  68+2  69+2  70+2  74+2  74+2  74+2   74+2   \n",
       "7  2 ★  2★  1 ★  55+2  59+0  58+0  60+2  61+2  59+2  52+2  52+2  50+2   46+2   \n",
       "8  2 ★  2★  1 ★  57+2  54+0  56+0  56+2  55+2  61+2  59+2  64+1  60+2  68+-3   \n",
       "9  3 ★  3★  1 ★  62+2  63+0  62+0  63+2  62+2  64+2  65+2  66+1  65+2  68+-1   \n",
       "\n",
       "     GK OVA  \n",
       "0  15+1  64  \n",
       "1  18+2  77  \n",
       "2  12+2  80  \n",
       "3  14+2  59  \n",
       "4  15+2  65  \n",
       "5  19+2  71  \n",
       "6  15+2  76  \n",
       "7  15+2  60  \n",
       "8  16+2  65  \n",
       "9  16+2  67  "
      ]
     },
     "execution_count": 1526,
     "metadata": {},
     "output_type": "execute_result"
    }
   ],
   "source": [
    "data4 = data3.drop(columns=data3.iloc[:,10:51], axis=1)\n",
    "data4 = pd.DataFrame(data4)\n",
    "data5 = data4.drop(columns = data4.iloc[:,0:12], axis=1)\n",
    "data6 = data5.drop(columns = data5.iloc[:,2:4], axis=1)\n",
    "data7 = data6.drop(columns = data6.iloc[:,3:10], axis=1)\n",
    "data7.head(10)"
   ]
  },
  {
   "cell_type": "code",
   "execution_count": 1527,
   "metadata": {},
   "outputs": [
    {
     "data": {
      "text/plain": [
       "(13700, 15)"
      ]
     },
     "execution_count": 1527,
     "metadata": {},
     "output_type": "execute_result"
    }
   ],
   "source": [
    "data7.shape"
   ]
  },
  {
   "cell_type": "markdown",
   "metadata": {},
   "source": [
    "**Explore columns / perform cleanup operations**"
   ]
  },
  {
   "cell_type": "code",
   "execution_count": 1529,
   "metadata": {},
   "outputs": [
    {
     "data": {
      "text/plain": [
       "W/F    object\n",
       "SM     object\n",
       "IR     object\n",
       "LS     object\n",
       "LW     object\n",
       "LF     object\n",
       "LAM    object\n",
       "LM     object\n",
       "LCM    object\n",
       "LWB    object\n",
       "LDM    object\n",
       "LB     object\n",
       "LCB    object\n",
       "GK     object\n",
       "OVA    object\n",
       "dtype: object"
      ]
     },
     "execution_count": 1529,
     "metadata": {},
     "output_type": "execute_result"
    }
   ],
   "source": [
    "data7.dtypes"
   ]
  },
  {
   "cell_type": "code",
   "execution_count": 1531,
   "metadata": {},
   "outputs": [],
   "source": [
    "def col_names (df):\n",
    "    df.columns = [col.lower().strip().replace(' ','_') for col in df.columns]\n",
    "\n",
    "    \n",
    "# def col_names (df):\n",
    "#     \"\"\"standardizes columns names: lowercase, removes spaces \n",
    "#     at the beginning and at the end, replaces spaces with underscore\"\"\"\n",
    "#     cols = df.columns\n",
    "#     new_cols =[]\n",
    "#     for col in cols:\n",
    "#         new_col = col.lower().strip().replace(\" \", \"_\")\n",
    "#         new_cols.append(new_col)\n",
    "#     df.columns = new_cols\n",
    "#     return\n",
    "\n",
    "\n",
    "def clean_stars (df):\n",
    "    for col in ['w/f','sm','ir']:\n",
    "        df[col] = (df[col].str.strip('★').astype(int))\n",
    "    return\n",
    "\n",
    "def clean_plusminus (df):\n",
    "    for col in df.columns[3:14]:\n",
    "        TF_plusmins = df[col].str.match(pat = '.+-.')\n",
    "        for i in range(df.shape[0]):\n",
    "            if TF_plusmins[i]==True:\n",
    "                df[col].loc[i] = int(df[col].loc[i].split('+-')[0])\n",
    "            else:\n",
    "                df[col].loc[i] = int(df[col].loc[i].split('+')[0])+int(df[col].loc[i].split('+')[1])\n",
    "        df[col] = pd.to_numeric(df[col], errors='coerce')\n",
    "        \n",
    "        \n",
    "# for col in data7.iloc[:,3:14]:\n",
    "#     new = data7[col].str.split(\"+\", n = 1, expand = True)\n",
    "#     x = str(new) + '1'\n",
    "#     y = str(new) + '2'\n",
    "#     data7[x] = new[0]\n",
    "#     data7[y] = new[1]\n",
    "#     data7[x] = pd.to_numeric(data7[x], errors='coerce')\n",
    "#     data7[y] = pd.to_numeric(data7[y], errors='coerce')\n",
    "#     column = []\n",
    "#     for s in data7[y]:\n",
    "#         if s < 0:\n",
    "#             s = 0\n",
    "#             column.append(s)\n",
    "#         else:\n",
    "#             column.append(s)\n",
    "#     data7[y] = column\n",
    "#     data7[col] = data7[x] + data7[y]\n",
    "#     data7 = data7.drop([x,y], axis = 1)"
   ]
  },
  {
   "cell_type": "code",
   "execution_count": 1532,
   "metadata": {},
   "outputs": [],
   "source": [
    "col_names (data7)"
   ]
  },
  {
   "cell_type": "code",
   "execution_count": 1533,
   "metadata": {},
   "outputs": [],
   "source": [
    "clean_stars (data7)"
   ]
  },
  {
   "cell_type": "code",
   "execution_count": 1543,
   "metadata": {},
   "outputs": [],
   "source": [
    "clean_plusminus (data7)"
   ]
  },
  {
   "cell_type": "code",
   "execution_count": 1564,
   "metadata": {},
   "outputs": [
    {
     "data": {
      "text/plain": [
       "Index(['w/f', 'sm', 'ir', 'ls', 'lw', 'lf', 'lam', 'lm', 'lcm', 'lwb', 'ldm',\n",
       "       'lb', 'lcb', 'gk', 'ova', 'gk_log', 'gk_cox'],\n",
       "      dtype='object')"
      ]
     },
     "execution_count": 1564,
     "metadata": {},
     "output_type": "execute_result"
    }
   ],
   "source": [
    "data7.columns"
   ]
  },
  {
   "cell_type": "code",
   "execution_count": 1546,
   "metadata": {},
   "outputs": [],
   "source": [
    "data7['ova'] = pd.to_numeric(data7['ova'], errors='coerce')"
   ]
  },
  {
   "cell_type": "code",
   "execution_count": 1548,
   "metadata": {},
   "outputs": [
    {
     "data": {
      "text/plain": [
       "(13700, 15)"
      ]
     },
     "execution_count": 1548,
     "metadata": {},
     "output_type": "execute_result"
    }
   ],
   "source": [
    "data7.shape"
   ]
  },
  {
   "cell_type": "code",
   "execution_count": 1631,
   "metadata": {},
   "outputs": [
    {
     "data": {
      "text/html": [
       "<div>\n",
       "<style scoped>\n",
       "    .dataframe tbody tr th:only-of-type {\n",
       "        vertical-align: middle;\n",
       "    }\n",
       "\n",
       "    .dataframe tbody tr th {\n",
       "        vertical-align: top;\n",
       "    }\n",
       "\n",
       "    .dataframe thead th {\n",
       "        text-align: right;\n",
       "    }\n",
       "</style>\n",
       "<table border=\"1\" class=\"dataframe\">\n",
       "  <thead>\n",
       "    <tr style=\"text-align: right;\">\n",
       "      <th></th>\n",
       "      <th>w/f</th>\n",
       "      <th>sm</th>\n",
       "      <th>ir</th>\n",
       "      <th>ls</th>\n",
       "      <th>lw</th>\n",
       "      <th>lf</th>\n",
       "      <th>lam</th>\n",
       "      <th>lm</th>\n",
       "      <th>lcm</th>\n",
       "      <th>lwb</th>\n",
       "      <th>ldm</th>\n",
       "      <th>lb</th>\n",
       "      <th>lcb</th>\n",
       "      <th>gk</th>\n",
       "      <th>ova</th>\n",
       "      <th>gk_log</th>\n",
       "      <th>gk_cox</th>\n",
       "    </tr>\n",
       "  </thead>\n",
       "  <tbody>\n",
       "    <tr>\n",
       "      <th>count</th>\n",
       "      <td>13700.000000</td>\n",
       "      <td>13700.000000</td>\n",
       "      <td>13700.000000</td>\n",
       "      <td>13700.000000</td>\n",
       "      <td>13700.000000</td>\n",
       "      <td>13700.000000</td>\n",
       "      <td>13700.000000</td>\n",
       "      <td>13700.000000</td>\n",
       "      <td>13700.000000</td>\n",
       "      <td>13700.000000</td>\n",
       "      <td>13700.000000</td>\n",
       "      <td>13700.000000</td>\n",
       "      <td>13700.000000</td>\n",
       "      <td>13700.000000</td>\n",
       "      <td>13700.000000</td>\n",
       "      <td>13700.000000</td>\n",
       "      <td>13700.000000</td>\n",
       "    </tr>\n",
       "    <tr>\n",
       "      <th>mean</th>\n",
       "      <td>2.984234</td>\n",
       "      <td>2.449927</td>\n",
       "      <td>1.149781</td>\n",
       "      <td>58.240365</td>\n",
       "      <td>57.476715</td>\n",
       "      <td>57.370876</td>\n",
       "      <td>59.446934</td>\n",
       "      <td>59.891314</td>\n",
       "      <td>58.560511</td>\n",
       "      <td>56.986058</td>\n",
       "      <td>56.557226</td>\n",
       "      <td>56.205693</td>\n",
       "      <td>54.937299</td>\n",
       "      <td>22.725547</td>\n",
       "      <td>66.945912</td>\n",
       "      <td>3.014036</td>\n",
       "      <td>0.430756</td>\n",
       "    </tr>\n",
       "    <tr>\n",
       "      <th>std</th>\n",
       "      <td>0.675486</td>\n",
       "      <td>0.781784</td>\n",
       "      <td>0.455049</td>\n",
       "      <td>12.962178</td>\n",
       "      <td>14.087656</td>\n",
       "      <td>13.718384</td>\n",
       "      <td>13.449075</td>\n",
       "      <td>13.436718</td>\n",
       "      <td>12.694795</td>\n",
       "      <td>13.253425</td>\n",
       "      <td>13.447000</td>\n",
       "      <td>13.565387</td>\n",
       "      <td>14.454424</td>\n",
       "      <td>14.627037</td>\n",
       "      <td>6.860189</td>\n",
       "      <td>0.397492</td>\n",
       "      <td>0.000212</td>\n",
       "    </tr>\n",
       "    <tr>\n",
       "      <th>min</th>\n",
       "      <td>1.000000</td>\n",
       "      <td>1.000000</td>\n",
       "      <td>1.000000</td>\n",
       "      <td>16.000000</td>\n",
       "      <td>14.000000</td>\n",
       "      <td>15.000000</td>\n",
       "      <td>17.000000</td>\n",
       "      <td>17.000000</td>\n",
       "      <td>17.000000</td>\n",
       "      <td>16.000000</td>\n",
       "      <td>18.000000</td>\n",
       "      <td>15.000000</td>\n",
       "      <td>18.000000</td>\n",
       "      <td>10.000000</td>\n",
       "      <td>38.000000</td>\n",
       "      <td>2.302585</td>\n",
       "      <td>0.429185</td>\n",
       "    </tr>\n",
       "    <tr>\n",
       "      <th>25%</th>\n",
       "      <td>3.000000</td>\n",
       "      <td>2.000000</td>\n",
       "      <td>1.000000</td>\n",
       "      <td>53.000000</td>\n",
       "      <td>52.000000</td>\n",
       "      <td>51.000000</td>\n",
       "      <td>54.000000</td>\n",
       "      <td>55.000000</td>\n",
       "      <td>53.000000</td>\n",
       "      <td>51.000000</td>\n",
       "      <td>49.000000</td>\n",
       "      <td>49.000000</td>\n",
       "      <td>45.000000</td>\n",
       "      <td>17.000000</td>\n",
       "      <td>62.000000</td>\n",
       "      <td>2.833213</td>\n",
       "      <td>0.430650</td>\n",
       "    </tr>\n",
       "    <tr>\n",
       "      <th>50%</th>\n",
       "      <td>3.000000</td>\n",
       "      <td>2.000000</td>\n",
       "      <td>1.000000</td>\n",
       "      <td>61.000000</td>\n",
       "      <td>61.000000</td>\n",
       "      <td>60.000000</td>\n",
       "      <td>62.000000</td>\n",
       "      <td>63.000000</td>\n",
       "      <td>61.000000</td>\n",
       "      <td>59.000000</td>\n",
       "      <td>59.000000</td>\n",
       "      <td>59.000000</td>\n",
       "      <td>57.000000</td>\n",
       "      <td>18.000000</td>\n",
       "      <td>67.000000</td>\n",
       "      <td>2.890372</td>\n",
       "      <td>0.430725</td>\n",
       "    </tr>\n",
       "    <tr>\n",
       "      <th>75%</th>\n",
       "      <td>3.000000</td>\n",
       "      <td>3.000000</td>\n",
       "      <td>1.000000</td>\n",
       "      <td>67.000000</td>\n",
       "      <td>67.000000</td>\n",
       "      <td>67.000000</td>\n",
       "      <td>68.000000</td>\n",
       "      <td>69.000000</td>\n",
       "      <td>67.000000</td>\n",
       "      <td>66.000000</td>\n",
       "      <td>67.000000</td>\n",
       "      <td>66.000000</td>\n",
       "      <td>67.000000</td>\n",
       "      <td>20.000000</td>\n",
       "      <td>72.000000</td>\n",
       "      <td>2.995732</td>\n",
       "      <td>0.430839</td>\n",
       "    </tr>\n",
       "    <tr>\n",
       "      <th>max</th>\n",
       "      <td>5.000000</td>\n",
       "      <td>5.000000</td>\n",
       "      <td>5.000000</td>\n",
       "      <td>92.000000</td>\n",
       "      <td>92.000000</td>\n",
       "      <td>93.000000</td>\n",
       "      <td>93.000000</td>\n",
       "      <td>93.000000</td>\n",
       "      <td>91.000000</td>\n",
       "      <td>87.000000</td>\n",
       "      <td>89.000000</td>\n",
       "      <td>86.000000</td>\n",
       "      <td>89.000000</td>\n",
       "      <td>92.000000</td>\n",
       "      <td>93.000000</td>\n",
       "      <td>4.521789</td>\n",
       "      <td>0.431242</td>\n",
       "    </tr>\n",
       "  </tbody>\n",
       "</table>\n",
       "</div>"
      ],
      "text/plain": [
       "                w/f            sm            ir            ls            lw  \\\n",
       "count  13700.000000  13700.000000  13700.000000  13700.000000  13700.000000   \n",
       "mean       2.984234      2.449927      1.149781     58.240365     57.476715   \n",
       "std        0.675486      0.781784      0.455049     12.962178     14.087656   \n",
       "min        1.000000      1.000000      1.000000     16.000000     14.000000   \n",
       "25%        3.000000      2.000000      1.000000     53.000000     52.000000   \n",
       "50%        3.000000      2.000000      1.000000     61.000000     61.000000   \n",
       "75%        3.000000      3.000000      1.000000     67.000000     67.000000   \n",
       "max        5.000000      5.000000      5.000000     92.000000     92.000000   \n",
       "\n",
       "                 lf           lam            lm           lcm           lwb  \\\n",
       "count  13700.000000  13700.000000  13700.000000  13700.000000  13700.000000   \n",
       "mean      57.370876     59.446934     59.891314     58.560511     56.986058   \n",
       "std       13.718384     13.449075     13.436718     12.694795     13.253425   \n",
       "min       15.000000     17.000000     17.000000     17.000000     16.000000   \n",
       "25%       51.000000     54.000000     55.000000     53.000000     51.000000   \n",
       "50%       60.000000     62.000000     63.000000     61.000000     59.000000   \n",
       "75%       67.000000     68.000000     69.000000     67.000000     66.000000   \n",
       "max       93.000000     93.000000     93.000000     91.000000     87.000000   \n",
       "\n",
       "                ldm            lb           lcb            gk           ova  \\\n",
       "count  13700.000000  13700.000000  13700.000000  13700.000000  13700.000000   \n",
       "mean      56.557226     56.205693     54.937299     22.725547     66.945912   \n",
       "std       13.447000     13.565387     14.454424     14.627037      6.860189   \n",
       "min       18.000000     15.000000     18.000000     10.000000     38.000000   \n",
       "25%       49.000000     49.000000     45.000000     17.000000     62.000000   \n",
       "50%       59.000000     59.000000     57.000000     18.000000     67.000000   \n",
       "75%       67.000000     66.000000     67.000000     20.000000     72.000000   \n",
       "max       89.000000     86.000000     89.000000     92.000000     93.000000   \n",
       "\n",
       "             gk_log        gk_cox  \n",
       "count  13700.000000  13700.000000  \n",
       "mean       3.014036      0.430756  \n",
       "std        0.397492      0.000212  \n",
       "min        2.302585      0.429185  \n",
       "25%        2.833213      0.430650  \n",
       "50%        2.890372      0.430725  \n",
       "75%        2.995732      0.430839  \n",
       "max        4.521789      0.431242  "
      ]
     },
     "execution_count": 1631,
     "metadata": {},
     "output_type": "execute_result"
    }
   ],
   "source": [
    "data7.describe()"
   ]
  },
  {
   "cell_type": "markdown",
   "metadata": {},
   "source": [
    "**Checking and replacing NaNs**"
   ]
  },
  {
   "cell_type": "code",
   "execution_count": 1549,
   "metadata": {},
   "outputs": [
    {
     "data": {
      "text/html": [
       "<div>\n",
       "<style scoped>\n",
       "    .dataframe tbody tr th:only-of-type {\n",
       "        vertical-align: middle;\n",
       "    }\n",
       "\n",
       "    .dataframe tbody tr th {\n",
       "        vertical-align: top;\n",
       "    }\n",
       "\n",
       "    .dataframe thead th {\n",
       "        text-align: right;\n",
       "    }\n",
       "</style>\n",
       "<table border=\"1\" class=\"dataframe\">\n",
       "  <thead>\n",
       "    <tr style=\"text-align: right;\">\n",
       "      <th></th>\n",
       "      <th>0</th>\n",
       "    </tr>\n",
       "  </thead>\n",
       "  <tbody>\n",
       "    <tr>\n",
       "      <th>w/f</th>\n",
       "      <td>0.0</td>\n",
       "    </tr>\n",
       "    <tr>\n",
       "      <th>sm</th>\n",
       "      <td>0.0</td>\n",
       "    </tr>\n",
       "    <tr>\n",
       "      <th>ir</th>\n",
       "      <td>0.0</td>\n",
       "    </tr>\n",
       "    <tr>\n",
       "      <th>ls</th>\n",
       "      <td>0.0</td>\n",
       "    </tr>\n",
       "    <tr>\n",
       "      <th>lw</th>\n",
       "      <td>0.0</td>\n",
       "    </tr>\n",
       "    <tr>\n",
       "      <th>lf</th>\n",
       "      <td>0.0</td>\n",
       "    </tr>\n",
       "    <tr>\n",
       "      <th>lam</th>\n",
       "      <td>0.0</td>\n",
       "    </tr>\n",
       "    <tr>\n",
       "      <th>lm</th>\n",
       "      <td>0.0</td>\n",
       "    </tr>\n",
       "    <tr>\n",
       "      <th>lcm</th>\n",
       "      <td>0.0</td>\n",
       "    </tr>\n",
       "    <tr>\n",
       "      <th>lwb</th>\n",
       "      <td>0.0</td>\n",
       "    </tr>\n",
       "    <tr>\n",
       "      <th>ldm</th>\n",
       "      <td>0.0</td>\n",
       "    </tr>\n",
       "    <tr>\n",
       "      <th>lb</th>\n",
       "      <td>0.0</td>\n",
       "    </tr>\n",
       "    <tr>\n",
       "      <th>lcb</th>\n",
       "      <td>0.0</td>\n",
       "    </tr>\n",
       "    <tr>\n",
       "      <th>gk</th>\n",
       "      <td>0.0</td>\n",
       "    </tr>\n",
       "    <tr>\n",
       "      <th>ova</th>\n",
       "      <td>0.0</td>\n",
       "    </tr>\n",
       "  </tbody>\n",
       "</table>\n",
       "</div>"
      ],
      "text/plain": [
       "       0\n",
       "w/f  0.0\n",
       "sm   0.0\n",
       "ir   0.0\n",
       "ls   0.0\n",
       "lw   0.0\n",
       "lf   0.0\n",
       "lam  0.0\n",
       "lm   0.0\n",
       "lcm  0.0\n",
       "lwb  0.0\n",
       "ldm  0.0\n",
       "lb   0.0\n",
       "lcb  0.0\n",
       "gk   0.0\n",
       "ova  0.0"
      ]
     },
     "execution_count": 1549,
     "metadata": {},
     "output_type": "execute_result"
    }
   ],
   "source": [
    "pd.DataFrame(round(data7.isna().sum()/len(data7),4)*100)"
   ]
  },
  {
   "cell_type": "markdown",
   "metadata": {},
   "source": [
    "**Check multicollinearity in the features**"
   ]
  },
  {
   "cell_type": "code",
   "execution_count": 1563,
   "metadata": {},
   "outputs": [
    {
     "data": {
      "image/png": "[encoded data removed]",
      "text/plain": [
       "<Figure size 648x648 with 2 Axes>"
      ]
     },
     "metadata": {
      "needs_background": "light"
     },
     "output_type": "display_data"
    }
   ],
   "source": [
    "plt.figure(figsize=(9,9))\n",
    "sns.heatmap(data7.corr().round(2),vmin=-1, vmax=1, center=0, annot = True,square=True, cmap='seismic')\n",
    "plt.show()"
   ]
  },
  {
   "cell_type": "code",
   "execution_count": 1565,
   "metadata": {},
   "outputs": [],
   "source": [
    "data8 = data7.drop(['ls', 'lw',  'lf', 'lam', 'lm','lwb', 'lb', 'lcb'], axis=1)"
   ]
  },
  {
   "cell_type": "code",
   "execution_count": 1566,
   "metadata": {},
   "outputs": [
    {
     "data": {
      "text/html": [
       "<div>\n",
       "<style scoped>\n",
       "    .dataframe tbody tr th:only-of-type {\n",
       "        vertical-align: middle;\n",
       "    }\n",
       "\n",
       "    .dataframe tbody tr th {\n",
       "        vertical-align: top;\n",
       "    }\n",
       "\n",
       "    .dataframe thead th {\n",
       "        text-align: right;\n",
       "    }\n",
       "</style>\n",
       "<table border=\"1\" class=\"dataframe\">\n",
       "  <thead>\n",
       "    <tr style=\"text-align: right;\">\n",
       "      <th></th>\n",
       "      <th>w/f</th>\n",
       "      <th>sm</th>\n",
       "      <th>ir</th>\n",
       "      <th>lcm</th>\n",
       "      <th>ldm</th>\n",
       "      <th>gk</th>\n",
       "      <th>ova</th>\n",
       "      <th>gk_log</th>\n",
       "      <th>gk_cox</th>\n",
       "    </tr>\n",
       "  </thead>\n",
       "  <tbody>\n",
       "    <tr>\n",
       "      <th>0</th>\n",
       "      <td>4</td>\n",
       "      <td>2</td>\n",
       "      <td>1</td>\n",
       "      <td>64</td>\n",
       "      <td>60</td>\n",
       "      <td>16</td>\n",
       "      <td>64</td>\n",
       "      <td>2.772589</td>\n",
       "      <td>0.430558</td>\n",
       "    </tr>\n",
       "    <tr>\n",
       "      <th>1</th>\n",
       "      <td>3</td>\n",
       "      <td>4</td>\n",
       "      <td>2</td>\n",
       "      <td>70</td>\n",
       "      <td>55</td>\n",
       "      <td>20</td>\n",
       "      <td>77</td>\n",
       "      <td>2.995732</td>\n",
       "      <td>0.430839</td>\n",
       "    </tr>\n",
       "    <tr>\n",
       "      <th>2</th>\n",
       "      <td>4</td>\n",
       "      <td>4</td>\n",
       "      <td>2</td>\n",
       "      <td>76</td>\n",
       "      <td>58</td>\n",
       "      <td>14</td>\n",
       "      <td>80</td>\n",
       "      <td>2.639057</td>\n",
       "      <td>0.430306</td>\n",
       "    </tr>\n",
       "    <tr>\n",
       "      <th>3</th>\n",
       "      <td>2</td>\n",
       "      <td>2</td>\n",
       "      <td>1</td>\n",
       "      <td>58</td>\n",
       "      <td>60</td>\n",
       "      <td>16</td>\n",
       "      <td>59</td>\n",
       "      <td>2.772589</td>\n",
       "      <td>0.430558</td>\n",
       "    </tr>\n",
       "    <tr>\n",
       "      <th>4</th>\n",
       "      <td>2</td>\n",
       "      <td>3</td>\n",
       "      <td>1</td>\n",
       "      <td>65</td>\n",
       "      <td>66</td>\n",
       "      <td>17</td>\n",
       "      <td>65</td>\n",
       "      <td>2.833213</td>\n",
       "      <td>0.430650</td>\n",
       "    </tr>\n",
       "  </tbody>\n",
       "</table>\n",
       "</div>"
      ],
      "text/plain": [
       "   w/f  sm  ir  lcm  ldm  gk  ova    gk_log    gk_cox\n",
       "0    4   2   1   64   60  16   64  2.772589  0.430558\n",
       "1    3   4   2   70   55  20   77  2.995732  0.430839\n",
       "2    4   4   2   76   58  14   80  2.639057  0.430306\n",
       "3    2   2   1   58   60  16   59  2.772589  0.430558\n",
       "4    2   3   1   65   66  17   65  2.833213  0.430650"
      ]
     },
     "execution_count": 1566,
     "metadata": {},
     "output_type": "execute_result"
    }
   ],
   "source": [
    "data8.head()"
   ]
  },
  {
   "cell_type": "markdown",
   "metadata": {},
   "source": [
    "**Checking and removing outliers / transformation (log, boxcox)**"
   ]
  },
  {
   "cell_type": "code",
   "execution_count": 1567,
   "metadata": {},
   "outputs": [
    {
     "data": {
      "image/png": "[encoded data removed]",
      "text/plain": [
       "<Figure size 432x288 with 1 Axes>"
      ]
     },
     "metadata": {
      "needs_background": "light"
     },
     "output_type": "display_data"
    },
    {
     "data": {
      "image/png": "[encoded data removed]",
      "text/plain": [
       "<Figure size 432x288 with 1 Axes>"
      ]
     },
     "metadata": {
      "needs_background": "light"
     },
     "output_type": "display_data"
    },
    {
     "data": {
      "image/png": "[encoded data removed]",
      "text/plain": [
       "<Figure size 432x288 with 1 Axes>"
      ]
     },
     "metadata": {
      "needs_background": "light"
     },
     "output_type": "display_data"
    },
    {
     "data": {
      "image/png": "[encoded data removed]",
      "text/plain": [
       "<Figure size 432x288 with 1 Axes>"
      ]
     },
     "metadata": {
      "needs_background": "light"
     },
     "output_type": "display_data"
    },
    {
     "data": {
      "image/png": "[encoded data removed]",
      "text/plain": [
       "<Figure size 432x288 with 1 Axes>"
      ]
     },
     "metadata": {
      "needs_background": "light"
     },
     "output_type": "display_data"
    },
    {
     "data": {
      "image/png": "[encoded data removed]",
      "text/plain": [
       "<Figure size 432x288 with 1 Axes>"
      ]
     },
     "metadata": {
      "needs_background": "light"
     },
     "output_type": "display_data"
    },
    {
     "data": {
      "image/png": "[encoded data removed]",
      "text/plain": [
       "<Figure size 432x288 with 1 Axes>"
      ]
     },
     "metadata": {
      "needs_background": "light"
     },
     "output_type": "display_data"
    },
    {
     "data": {
      "image/png": "[encoded data removed]",
      "text/plain": [
       "<Figure size 432x288 with 1 Axes>"
      ]
     },
     "metadata": {
      "needs_background": "light"
     },
     "output_type": "display_data"
    },
    {
     "data": {
      "image/png": "[encoded data removed]",
      "text/plain": [
       "<Figure size 432x288 with 1 Axes>"
      ]
     },
     "metadata": {
      "needs_background": "light"
     },
     "output_type": "display_data"
    }
   ],
   "source": [
    "for feature in data8.columns:\n",
    "    sns.distplot(data8[feature], bins=40)\n",
    "    plt.show()"
   ]
  },
  {
   "cell_type": "code",
   "execution_count": 1569,
   "metadata": {},
   "outputs": [],
   "source": [
    "def log_transfom_clean(x):\n",
    "    x = np.log(x)\n",
    "    if np.isfinite(x):\n",
    "        return x\n",
    "    else:\n",
    "        return NaN"
   ]
  },
  {
   "cell_type": "code",
   "execution_count": 1570,
   "metadata": {},
   "outputs": [],
   "source": [
    "data8['gk_log'] = list(map(log_transfom_clean, data8['gk']))"
   ]
  },
  {
   "cell_type": "code",
   "execution_count": 1571,
   "metadata": {},
   "outputs": [
    {
     "data": {
      "image/png": "[encoded data removed]",
      "text/plain": [
       "<Figure size 432x288 with 1 Axes>"
      ]
     },
     "metadata": {
      "needs_background": "light"
     },
     "output_type": "display_data"
    }
   ],
   "source": [
    "sns.distplot(data8['gk_log'], bins=40)\n",
    "plt.show()"
   ]
  },
  {
   "cell_type": "code",
   "execution_count": 1572,
   "metadata": {},
   "outputs": [],
   "source": [
    "from scipy import stats\n",
    "xt, lmbda = stats.boxcox(data8['gk'])\n",
    "data7[\"gk_cox\"] = xt"
   ]
  },
  {
   "cell_type": "code",
   "execution_count": 1583,
   "metadata": {},
   "outputs": [
    {
     "data": {
      "image/png": "[encoded data removed]",
      "text/plain": [
       "<Figure size 432x288 with 1 Axes>"
      ]
     },
     "metadata": {
      "needs_background": "light"
     },
     "output_type": "display_data"
    }
   ],
   "source": [
    "sns.distplot(data8['gk_cox'], bins=40)\n",
    "plt.show()"
   ]
  },
  {
   "cell_type": "code",
   "execution_count": 1574,
   "metadata": {},
   "outputs": [
    {
     "data": {
      "image/png": "[encoded data removed]",
      "text/plain": [
       "<Figure size 432x288 with 1 Axes>"
      ]
     },
     "metadata": {
      "needs_background": "light"
     },
     "output_type": "display_data"
    },
    {
     "data": {
      "image/png": "[encoded data removed]",
      "text/plain": [
       "<Figure size 432x288 with 1 Axes>"
      ]
     },
     "metadata": {
      "needs_background": "light"
     },
     "output_type": "display_data"
    },
    {
     "data": {
      "image/png": "[encoded data removed]",
      "text/plain": [
       "<Figure size 432x288 with 1 Axes>"
      ]
     },
     "metadata": {
      "needs_background": "light"
     },
     "output_type": "display_data"
    },
    {
     "data": {
      "image/png": "[encoded data removed]",
      "text/plain": [
       "<Figure size 432x288 with 1 Axes>"
      ]
     },
     "metadata": {
      "needs_background": "light"
     },
     "output_type": "display_data"
    },
    {
     "data": {
      "image/png": "[encoded data removed]",
      "text/plain": [
       "<Figure size 432x288 with 1 Axes>"
      ]
     },
     "metadata": {
      "needs_background": "light"
     },
     "output_type": "display_data"
    },
    {
     "data": {
      "image/png": "[encoded data removed]",
      "text/plain": [
       "<Figure size 432x288 with 1 Axes>"
      ]
     },
     "metadata": {
      "needs_background": "light"
     },
     "output_type": "display_data"
    },
    {
     "data": {
      "image/png": "[encoded data removed]",
      "text/plain": [
       "<Figure size 432x288 with 1 Axes>"
      ]
     },
     "metadata": {
      "needs_background": "light"
     },
     "output_type": "display_data"
    },
    {
     "data": {
      "image/png": "[encoded data removed]",
      "text/plain": [
       "<Figure size 432x288 with 1 Axes>"
      ]
     },
     "metadata": {
      "needs_background": "light"
     },
     "output_type": "display_data"
    },
    {
     "data": {
      "image/png": "[encoded data removed]",
      "text/plain": [
       "<Figure size 432x288 with 1 Axes>"
      ]
     },
     "metadata": {
      "needs_background": "light"
     },
     "output_type": "display_data"
    }
   ],
   "source": [
    "for feature in data8.columns:\n",
    "    sns.boxplot(data8[feature])\n",
    "    plt.show()"
   ]
  },
  {
   "cell_type": "code",
   "execution_count": 1577,
   "metadata": {},
   "outputs": [],
   "source": [
    "data8 = data8.drop(['gk','gk_log'], axis = 1)"
   ]
  },
  {
   "cell_type": "code",
   "execution_count": 1579,
   "metadata": {},
   "outputs": [
    {
     "data": {
      "text/plain": [
       "(13700, 7)"
      ]
     },
     "execution_count": 1579,
     "metadata": {},
     "output_type": "execute_result"
    }
   ],
   "source": [
    "data8.shape"
   ]
  },
  {
   "cell_type": "code",
   "execution_count": 1580,
   "metadata": {},
   "outputs": [],
   "source": [
    "iqr = np.percentile(data8['gk_cox'],75) - np.percentile(data8['gk_cox'],25)\n",
    "upper_limit = np.percentile(data8['gk_cox'],75) + 1.5*iqr\n",
    "lower_limit = np.percentile(data8['gk_cox'],25) - 1.5*iqr\n",
    "\n",
    "data9 = data8[(data8['gk_cox']>lower_limit) & (data8['gk_cox']<upper_limit)]"
   ]
  },
  {
   "cell_type": "code",
   "execution_count": 1581,
   "metadata": {},
   "outputs": [
    {
     "data": {
      "text/plain": [
       "(12032, 7)"
      ]
     },
     "execution_count": 1581,
     "metadata": {},
     "output_type": "execute_result"
    }
   ],
   "source": [
    "data9.shape"
   ]
  },
  {
   "cell_type": "code",
   "execution_count": 1584,
   "metadata": {},
   "outputs": [
    {
     "data": {
      "image/png": "[encoded data removed]",
      "text/plain": [
       "<Figure size 432x288 with 1 Axes>"
      ]
     },
     "metadata": {
      "needs_background": "light"
     },
     "output_type": "display_data"
    }
   ],
   "source": [
    "sns.distplot(data9['gk_cox'], bins=40)\n",
    "plt.show()"
   ]
  },
  {
   "cell_type": "code",
   "execution_count": 1585,
   "metadata": {},
   "outputs": [
    {
     "data": {
      "image/png": "[encoded data removed]",
      "text/plain": [
       "<Figure size 432x288 with 1 Axes>"
      ]
     },
     "metadata": {
      "needs_background": "light"
     },
     "output_type": "display_data"
    },
    {
     "data": {
      "image/png": "[encoded data removed]",
      "text/plain": [
       "<Figure size 432x288 with 1 Axes>"
      ]
     },
     "metadata": {
      "needs_background": "light"
     },
     "output_type": "display_data"
    },
    {
     "data": {
      "image/png": "[encoded data removed]",
      "text/plain": [
       "<Figure size 432x288 with 1 Axes>"
      ]
     },
     "metadata": {
      "needs_background": "light"
     },
     "output_type": "display_data"
    },
    {
     "data": {
      "image/png": "[encoded data removed]",
      "text/plain": [
       "<Figure size 432x288 with 1 Axes>"
      ]
     },
     "metadata": {
      "needs_background": "light"
     },
     "output_type": "display_data"
    },
    {
     "data": {
      "image/png": "[encoded data removed]",
      "text/plain": [
       "<Figure size 432x288 with 1 Axes>"
      ]
     },
     "metadata": {
      "needs_background": "light"
     },
     "output_type": "display_data"
    },
    {
     "data": {
      "image/png": "[encoded data removed]",
      "text/plain": [
       "<Figure size 432x288 with 1 Axes>"
      ]
     },
     "metadata": {
      "needs_background": "light"
     },
     "output_type": "display_data"
    },
    {
     "data": {
      "image/png": "[encoded data removed]",
      "text/plain": [
       "<Figure size 432x288 with 1 Axes>"
      ]
     },
     "metadata": {
      "needs_background": "light"
     },
     "output_type": "display_data"
    }
   ],
   "source": [
    "for feature in data9.columns:\n",
    "    sns.boxplot(data9[feature])\n",
    "    plt.show()"
   ]
  },
  {
   "cell_type": "code",
   "execution_count": 1588,
   "metadata": {},
   "outputs": [],
   "source": [
    "data10 = data9[(data9['ir']==1) | (data9['ir']==2) |  (data9['ir']==3)]"
   ]
  },
  {
   "cell_type": "code",
   "execution_count": 1589,
   "metadata": {},
   "outputs": [
    {
     "data": {
      "text/plain": [
       "(11979, 7)"
      ]
     },
     "execution_count": 1589,
     "metadata": {},
     "output_type": "execute_result"
    }
   ],
   "source": [
    "data10.shape"
   ]
  },
  {
   "cell_type": "markdown",
   "metadata": {},
   "source": [
    "**Normalizing / Scaling**"
   ]
  },
  {
   "cell_type": "code",
   "execution_count": 1590,
   "metadata": {},
   "outputs": [
    {
     "data": {
      "text/html": [
       "<div>\n",
       "<style scoped>\n",
       "    .dataframe tbody tr th:only-of-type {\n",
       "        vertical-align: middle;\n",
       "    }\n",
       "\n",
       "    .dataframe tbody tr th {\n",
       "        vertical-align: top;\n",
       "    }\n",
       "\n",
       "    .dataframe thead th {\n",
       "        text-align: right;\n",
       "    }\n",
       "</style>\n",
       "<table border=\"1\" class=\"dataframe\">\n",
       "  <thead>\n",
       "    <tr style=\"text-align: right;\">\n",
       "      <th></th>\n",
       "      <th>w/f</th>\n",
       "      <th>sm</th>\n",
       "      <th>ir</th>\n",
       "      <th>lcm</th>\n",
       "      <th>ldm</th>\n",
       "      <th>ova</th>\n",
       "      <th>gk_cox</th>\n",
       "    </tr>\n",
       "  </thead>\n",
       "  <tbody>\n",
       "    <tr>\n",
       "      <th>0</th>\n",
       "      <td>4</td>\n",
       "      <td>2</td>\n",
       "      <td>1</td>\n",
       "      <td>64</td>\n",
       "      <td>60</td>\n",
       "      <td>64</td>\n",
       "      <td>0.430558</td>\n",
       "    </tr>\n",
       "    <tr>\n",
       "      <th>1</th>\n",
       "      <td>3</td>\n",
       "      <td>4</td>\n",
       "      <td>2</td>\n",
       "      <td>70</td>\n",
       "      <td>55</td>\n",
       "      <td>77</td>\n",
       "      <td>0.430839</td>\n",
       "    </tr>\n",
       "    <tr>\n",
       "      <th>3</th>\n",
       "      <td>2</td>\n",
       "      <td>2</td>\n",
       "      <td>1</td>\n",
       "      <td>58</td>\n",
       "      <td>60</td>\n",
       "      <td>59</td>\n",
       "      <td>0.430558</td>\n",
       "    </tr>\n",
       "    <tr>\n",
       "      <th>4</th>\n",
       "      <td>2</td>\n",
       "      <td>3</td>\n",
       "      <td>1</td>\n",
       "      <td>65</td>\n",
       "      <td>66</td>\n",
       "      <td>65</td>\n",
       "      <td>0.430650</td>\n",
       "    </tr>\n",
       "    <tr>\n",
       "      <th>5</th>\n",
       "      <td>4</td>\n",
       "      <td>3</td>\n",
       "      <td>1</td>\n",
       "      <td>68</td>\n",
       "      <td>57</td>\n",
       "      <td>71</td>\n",
       "      <td>0.430884</td>\n",
       "    </tr>\n",
       "  </tbody>\n",
       "</table>\n",
       "</div>"
      ],
      "text/plain": [
       "   w/f  sm  ir  lcm  ldm  ova    gk_cox\n",
       "0    4   2   1   64   60   64  0.430558\n",
       "1    3   4   2   70   55   77  0.430839\n",
       "3    2   2   1   58   60   59  0.430558\n",
       "4    2   3   1   65   66   65  0.430650\n",
       "5    4   3   1   68   57   71  0.430884"
      ]
     },
     "execution_count": 1590,
     "metadata": {},
     "output_type": "execute_result"
    }
   ],
   "source": [
    "data10.head()"
   ]
  },
  {
   "cell_type": "code",
   "execution_count": 1605,
   "metadata": {},
   "outputs": [],
   "source": [
    "X = data10.drop(['ova'], axis = 1)\n",
    "y = data10['ova']"
   ]
  },
  {
   "cell_type": "code",
   "execution_count": 1606,
   "metadata": {},
   "outputs": [
    {
     "data": {
      "text/html": [
       "<div>\n",
       "<style scoped>\n",
       "    .dataframe tbody tr th:only-of-type {\n",
       "        vertical-align: middle;\n",
       "    }\n",
       "\n",
       "    .dataframe tbody tr th {\n",
       "        vertical-align: top;\n",
       "    }\n",
       "\n",
       "    .dataframe thead th {\n",
       "        text-align: right;\n",
       "    }\n",
       "</style>\n",
       "<table border=\"1\" class=\"dataframe\">\n",
       "  <thead>\n",
       "    <tr style=\"text-align: right;\">\n",
       "      <th></th>\n",
       "      <th>w/f</th>\n",
       "      <th>sm</th>\n",
       "      <th>ir</th>\n",
       "      <th>lcm</th>\n",
       "      <th>ldm</th>\n",
       "      <th>gk_cox</th>\n",
       "    </tr>\n",
       "  </thead>\n",
       "  <tbody>\n",
       "    <tr>\n",
       "      <th>0</th>\n",
       "      <td>4</td>\n",
       "      <td>2</td>\n",
       "      <td>1</td>\n",
       "      <td>64</td>\n",
       "      <td>60</td>\n",
       "      <td>0.430558</td>\n",
       "    </tr>\n",
       "    <tr>\n",
       "      <th>1</th>\n",
       "      <td>3</td>\n",
       "      <td>4</td>\n",
       "      <td>2</td>\n",
       "      <td>70</td>\n",
       "      <td>55</td>\n",
       "      <td>0.430839</td>\n",
       "    </tr>\n",
       "    <tr>\n",
       "      <th>3</th>\n",
       "      <td>2</td>\n",
       "      <td>2</td>\n",
       "      <td>1</td>\n",
       "      <td>58</td>\n",
       "      <td>60</td>\n",
       "      <td>0.430558</td>\n",
       "    </tr>\n",
       "    <tr>\n",
       "      <th>4</th>\n",
       "      <td>2</td>\n",
       "      <td>3</td>\n",
       "      <td>1</td>\n",
       "      <td>65</td>\n",
       "      <td>66</td>\n",
       "      <td>0.430650</td>\n",
       "    </tr>\n",
       "    <tr>\n",
       "      <th>5</th>\n",
       "      <td>4</td>\n",
       "      <td>3</td>\n",
       "      <td>1</td>\n",
       "      <td>68</td>\n",
       "      <td>57</td>\n",
       "      <td>0.430884</td>\n",
       "    </tr>\n",
       "  </tbody>\n",
       "</table>\n",
       "</div>"
      ],
      "text/plain": [
       "   w/f  sm  ir  lcm  ldm    gk_cox\n",
       "0    4   2   1   64   60  0.430558\n",
       "1    3   4   2   70   55  0.430839\n",
       "3    2   2   1   58   60  0.430558\n",
       "4    2   3   1   65   66  0.430650\n",
       "5    4   3   1   68   57  0.430884"
      ]
     },
     "execution_count": 1606,
     "metadata": {},
     "output_type": "execute_result"
    }
   ],
   "source": [
    "X.head()"
   ]
  },
  {
   "cell_type": "code",
   "execution_count": 1619,
   "metadata": {},
   "outputs": [],
   "source": [
    "# from sklearn.preprocessing import StandardScaler\n",
    "# transformer = StandardScaler().fit(X)\n",
    "# X_standardized = transformer.transform(X)\n",
    "# print(X_standardized.shape)"
   ]
  },
  {
   "cell_type": "code",
   "execution_count": 1620,
   "metadata": {},
   "outputs": [
    {
     "data": {
      "text/plain": [
       "(11979, 6)"
      ]
     },
     "execution_count": 1620,
     "metadata": {},
     "output_type": "execute_result"
    }
   ],
   "source": [
    "from sklearn.preprocessing import Normalizer\n",
    "transformer = Normalizer().fit(X)\n",
    "X_normalized = transformer.transform(X)\n",
    "X_normalized = pd.DataFrame(X_normalized)\n",
    "\n",
    "X_normalized.shape"
   ]
  },
  {
   "cell_type": "code",
   "execution_count": 1621,
   "metadata": {},
   "outputs": [
    {
     "data": {
      "text/html": [
       "<div>\n",
       "<style scoped>\n",
       "    .dataframe tbody tr th:only-of-type {\n",
       "        vertical-align: middle;\n",
       "    }\n",
       "\n",
       "    .dataframe tbody tr th {\n",
       "        vertical-align: top;\n",
       "    }\n",
       "\n",
       "    .dataframe thead th {\n",
       "        text-align: right;\n",
       "    }\n",
       "</style>\n",
       "<table border=\"1\" class=\"dataframe\">\n",
       "  <thead>\n",
       "    <tr style=\"text-align: right;\">\n",
       "      <th></th>\n",
       "      <th>0</th>\n",
       "      <th>1</th>\n",
       "      <th>2</th>\n",
       "      <th>3</th>\n",
       "      <th>4</th>\n",
       "      <th>5</th>\n",
       "    </tr>\n",
       "  </thead>\n",
       "  <tbody>\n",
       "    <tr>\n",
       "      <th>0</th>\n",
       "      <td>0.045533</td>\n",
       "      <td>0.022767</td>\n",
       "      <td>0.011383</td>\n",
       "      <td>0.728535</td>\n",
       "      <td>0.683002</td>\n",
       "      <td>0.004901</td>\n",
       "    </tr>\n",
       "    <tr>\n",
       "      <th>1</th>\n",
       "      <td>0.033637</td>\n",
       "      <td>0.044850</td>\n",
       "      <td>0.022425</td>\n",
       "      <td>0.784874</td>\n",
       "      <td>0.616687</td>\n",
       "      <td>0.004831</td>\n",
       "    </tr>\n",
       "    <tr>\n",
       "      <th>2</th>\n",
       "      <td>0.023950</td>\n",
       "      <td>0.023950</td>\n",
       "      <td>0.011975</td>\n",
       "      <td>0.694564</td>\n",
       "      <td>0.718515</td>\n",
       "      <td>0.005156</td>\n",
       "    </tr>\n",
       "    <tr>\n",
       "      <th>3</th>\n",
       "      <td>0.021573</td>\n",
       "      <td>0.032359</td>\n",
       "      <td>0.010786</td>\n",
       "      <td>0.701109</td>\n",
       "      <td>0.711896</td>\n",
       "      <td>0.004645</td>\n",
       "    </tr>\n",
       "    <tr>\n",
       "      <th>4</th>\n",
       "      <td>0.045006</td>\n",
       "      <td>0.033754</td>\n",
       "      <td>0.011251</td>\n",
       "      <td>0.765099</td>\n",
       "      <td>0.641333</td>\n",
       "      <td>0.004848</td>\n",
       "    </tr>\n",
       "  </tbody>\n",
       "</table>\n",
       "</div>"
      ],
      "text/plain": [
       "          0         1         2         3         4         5\n",
       "0  0.045533  0.022767  0.011383  0.728535  0.683002  0.004901\n",
       "1  0.033637  0.044850  0.022425  0.784874  0.616687  0.004831\n",
       "2  0.023950  0.023950  0.011975  0.694564  0.718515  0.005156\n",
       "3  0.021573  0.032359  0.010786  0.701109  0.711896  0.004645\n",
       "4  0.045006  0.033754  0.011251  0.765099  0.641333  0.004848"
      ]
     },
     "execution_count": 1621,
     "metadata": {},
     "output_type": "execute_result"
    }
   ],
   "source": [
    "X_normalized.head()"
   ]
  },
  {
   "cell_type": "markdown",
   "metadata": {},
   "source": [
    "**Model**"
   ]
  },
  {
   "cell_type": "code",
   "execution_count": 1623,
   "metadata": {},
   "outputs": [],
   "source": [
    "from sklearn.model_selection import train_test_split\n",
    "X_train, X_test, y_train, y_test = train_test_split(X_normalized, y, test_size=0.4, random_state=100)"
   ]
  },
  {
   "cell_type": "code",
   "execution_count": 1624,
   "metadata": {},
   "outputs": [],
   "source": [
    "from sklearn.linear_model import LinearRegression \n",
    "lm=LinearRegression()\n",
    "lm.fit(X_train, y_train)\n",
    "predictions=lm.predict(X_test) "
   ]
  },
  {
   "cell_type": "code",
   "execution_count": 1625,
   "metadata": {},
   "outputs": [
    {
     "data": {
      "text/plain": [
       "0.8146312628645176"
      ]
     },
     "execution_count": 1625,
     "metadata": {},
     "output_type": "execute_result"
    }
   ],
   "source": [
    "from sklearn.metrics import r2_score, mean_squared_error\n",
    "\n",
    "r2 = r2_score(y_test, predictions)\n",
    "r2"
   ]
  },
  {
   "cell_type": "code",
   "execution_count": 1626,
   "metadata": {},
   "outputs": [
    {
     "data": {
      "text/plain": [
       "8.159537404943991"
      ]
     },
     "execution_count": 1626,
     "metadata": {},
     "output_type": "execute_result"
    }
   ],
   "source": [
    "mse = mean_squared_error(y_test, predictions)\n",
    "mse"
   ]
  },
  {
   "cell_type": "code",
   "execution_count": 1627,
   "metadata": {},
   "outputs": [
    {
     "data": {
      "text/plain": [
       "2.8564903999390565"
      ]
     },
     "execution_count": 1627,
     "metadata": {},
     "output_type": "execute_result"
    }
   ],
   "source": [
    "rmse = mse**0.5\n",
    "rmse"
   ]
  },
  {
   "cell_type": "code",
   "execution_count": 1628,
   "metadata": {},
   "outputs": [
    {
     "data": {
      "text/plain": [
       "0.8143988255765734"
      ]
     },
     "execution_count": 1628,
     "metadata": {},
     "output_type": "execute_result"
    }
   ],
   "source": [
    "n = len(X_test)  \n",
    "p = X_test.shape[1]\n",
    "\n",
    "adj_r2 = 1-((1-r2)*(n-1)/(n-p-1))\n",
    "adj_r2"
   ]
  }
 ],
 "metadata": {
  "kernelspec": {
   "display_name": "Python 3",
   "language": "python",
   "name": "python3"
  },
  "language_info": {
   "codemirror_mode": {
    "name": "ipython",
    "version": 3
   },
   "file_extension": ".py",
   "mimetype": "text/x-python",
   "name": "python",
   "nbconvert_exporter": "python",
   "pygments_lexer": "ipython3",
   "version": "3.8.5"
  }
 },
 "nbformat": 4,
 "nbformat_minor": 4
}
